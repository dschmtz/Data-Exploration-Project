{
 "cells": [
  {
   "cell_type": "markdown",
   "metadata": {},
   "source": [
    "## Vorwort\n",
    "Musik ist ein wichtiger Bestandteil unserer Kultur und der Identität eines jeden Menschens. Man ist in der heutigen Zeit fast ständig von Musik umgeben, man kann ihr kaum aus dem Weg gehen.\n", 
    "\n",
    "Dass Musik eine Gesellschaftlich so zentrale Rolle spielt hat mehrere Gründe. Sie fördert oder erzeugt ein Gemeinschaftsgefühl in einer Gruppe, durch gemeinsames Tanzen und musikalische Rituale. Gleichzeitig zeigt sie Zusammenhalt: man zeigt anderen Gruppierungen, wir halten zusammen, wir sind stark. Diese Eigenschaften wurden auch zum Beispiel in Ausnahmesituationen wie Kriegen genutzt um ein Nationalbewusstsein zu förden. Musik wird vor Allem genutzt um Gefühle auszudrücken. Ein berühmtes Beispiel, auch aus dem Musikunterricht... Smiley!, ist dabei der Blues, mit dem die schwarze Bevölkerung in den USA ihr Leid in der Sklaverei ausdrückte.\n",
    "\n",
    "Spotify hat die Musikindustrie grundsätzlich verändert. Um 2010 polarisierten hauptsächlich illegale Streamingdienste oder illegale Youtube-Downloader im Internet. Dann kam Spotify und hat die Musikbranche in gewisser Weise gerettet. Diese hatten massive Probleme damit, illegales Streaming zu unterbinden. 2011 gabe es dann durch Spotify endlich einen legalen Streamingdienst, der auch kostenlos zur Verfügung steht und dabei trotzdem den Künstlern Provisionen zukommen lässt. In 2017 wurde durch Musiklabels dann zum ersten Mal mehr Geld mit Streaming als mit dem Verkauf von CDs verdient. Heutzutage hat Spotify unter den Anbietern von Musikstreamingdiensten einen Marktanteil von 38 %. Damit ist Spotify fast doppelt so groß wie sein nächster Konkurrent Apple Musik. Eigentlich jedes Musiklabel und alle großen und auch kleinen Musiker arbeiten mit Spotify zusammen. Damit bilden die Spotify Charts zusätzlich sehr gut die Beliebtheit von Musik ab.\n",
   ]
  },
  {
   "cell_type": "markdown",
   "metadata": {},
   "source": [
    "## 1 Importierung benötigter Bibliotheken und des Datensatzes\n",
    "In diesem Kapitel werden zuerst die benötigten Bibliotheken importiert. Danach wird der Basisdatensatz eingelesen, um mit der Bearbeitung zu beginnen.\n",
    "\n",
    "### 1.1 Laden der Bibliotheken\n",
    "Innerhalb des Datenexplorationsprojektes werden die folgenden Bibliotheken benötigt:"
   ]
  },
  {
   "cell_type": "code",
   "execution_count": 1,
   "metadata": {},
   "outputs": [],
   "source": [
    "import os\n",
    "import time\n",
    "import random\n",
    "import pandas as pd\n",
    "import numpy as np\n",
    "import seaborn as sns\n",
    "\n",
    "import spotipy\n",
    "from spotipy.oauth2 import SpotifyClientCredentials\n",
    "\n",
    "import tensorflow as tf\n",
    "from tensorflow import keras\n",
    "from tensorflow.keras import layers\n",
    "\n",
    "from sklearn.linear_model import LinearRegression, LogisticRegression, Lasso, LassoCV\n",
    "from sklearn.ensemble import RandomForestRegressor, RandomForestClassifier, GradientBoostingRegressor\n",
    "from sklearn.preprocessing import StandardScaler, RobustScaler\n",
    "from sklearn.model_selection import train_test_split, RandomizedSearchCV\n",
    "from sklearn.metrics import accuracy_score, confusion_matrix, classification_report, mean_squared_error, r2_score\n",
    "from sklearn.compose import ColumnTransformer\n",
    "from sklearn.svm import SVR\n",
    "from sklearn.utils import resample\n",
    "\n",
    "from matplotlib import pyplot as plt"
   ]
  },
  {
   "cell_type": "markdown",
   "metadata": {},
   "source": [
    "### 1.2 Laden des Basis-Datensatzes"
   ]
  },
  {
   "cell_type": "code",
   "execution_count": 2,
   "metadata": {},
   "outputs": [
    {
     "name": "stdout",
     "output_type": "stream",
     "text": [
      "<class 'pandas.core.frame.DataFrame'>\n",
      "RangeIndex: 18835 entries, 0 to 18834\n",
      "Data columns (total 15 columns):\n",
      " #   Column            Non-Null Count  Dtype  \n",
      "---  ------            --------------  -----  \n",
      " 0   song_name         18835 non-null  object \n",
      " 1   song_popularity   18835 non-null  int64  \n",
      " 2   song_duration_ms  18835 non-null  int64  \n",
      " 3   acousticness      18835 non-null  float64\n",
      " 4   danceability      18835 non-null  float64\n",
      " 5   energy            18835 non-null  float64\n",
      " 6   instrumentalness  18835 non-null  float64\n",
      " 7   key               18835 non-null  int64  \n",
      " 8   liveness          18835 non-null  float64\n",
      " 9   loudness          18835 non-null  float64\n",
      " 10  audio_mode        18835 non-null  int64  \n",
      " 11  speechiness       18835 non-null  float64\n",
      " 12  tempo             18835 non-null  float64\n",
      " 13  time_signature    18835 non-null  int64  \n",
      " 14  audio_valence     18835 non-null  float64\n",
      "dtypes: float64(9), int64(5), object(1)\n",
      "memory usage: 2.2+ MB\n"
     ]
    }
   ],
   "source": [
    "base_data = pd.read_csv(\"song_data.csv\")\n",
    "base_data.info()"
   ]
  },
  {
   "cell_type": "markdown",
   "metadata": {},
   "source": [
    "Der Basisdatensatz besteht aus 18.835 Einträgen mit je 15 Attributen. Der Datensatz besitzt keine Lücken bzw. keine Null-Werte, sodass alle Zellen ausgefüllt sind. Von den 15 Attributen liegen neun als float64, fünf als int64 und eins als Object vor. Das \"Object\"-Attribut ist der Bezeichnung entsprechend der Name des Songs, die einzige Textzelle im Datensatz."
   ]
  },
  {
   "cell_type": "code",
   "execution_count": 3,
   "metadata": {},
   "outputs": [
    {
     "data": {
      "text/html": [
       "<div>\n",
       "<style scoped>\n",
       "    .dataframe tbody tr th:only-of-type {\n",
       "        vertical-align: middle;\n",
       "    }\n",
       "\n",
       "    .dataframe tbody tr th {\n",
       "        vertical-align: top;\n",
       "    }\n",
       "\n",
       "    .dataframe thead th {\n",
       "        text-align: right;\n",
       "    }\n",
       "</style>\n",
       "<table border=\"1\" class=\"dataframe\">\n",
       "  <thead>\n",
       "    <tr style=\"text-align: right;\">\n",
       "      <th></th>\n",
       "      <th>song_name</th>\n",
       "      <th>song_popularity</th>\n",
       "      <th>song_duration_ms</th>\n",
       "      <th>acousticness</th>\n",
       "      <th>danceability</th>\n",
       "      <th>energy</th>\n",
       "      <th>instrumentalness</th>\n",
       "      <th>key</th>\n",
       "      <th>liveness</th>\n",
       "      <th>loudness</th>\n",
       "      <th>audio_mode</th>\n",
       "      <th>speechiness</th>\n",
       "      <th>tempo</th>\n",
       "      <th>time_signature</th>\n",
       "      <th>audio_valence</th>\n",
       "    </tr>\n",
       "  </thead>\n",
       "  <tbody>\n",
       "    <tr>\n",
       "      <th>0</th>\n",
       "      <td>Boulevard of Broken Dreams</td>\n",
       "      <td>73</td>\n",
       "      <td>262333</td>\n",
       "      <td>0.005520</td>\n",
       "      <td>0.496</td>\n",
       "      <td>0.682</td>\n",
       "      <td>0.000029</td>\n",
       "      <td>8</td>\n",
       "      <td>0.0589</td>\n",
       "      <td>-4.095</td>\n",
       "      <td>1</td>\n",
       "      <td>0.0294</td>\n",
       "      <td>167.060</td>\n",
       "      <td>4</td>\n",
       "      <td>0.474</td>\n",
       "    </tr>\n",
       "    <tr>\n",
       "      <th>1</th>\n",
       "      <td>In The End</td>\n",
       "      <td>66</td>\n",
       "      <td>216933</td>\n",
       "      <td>0.010300</td>\n",
       "      <td>0.542</td>\n",
       "      <td>0.853</td>\n",
       "      <td>0.000000</td>\n",
       "      <td>3</td>\n",
       "      <td>0.1080</td>\n",
       "      <td>-6.407</td>\n",
       "      <td>0</td>\n",
       "      <td>0.0498</td>\n",
       "      <td>105.256</td>\n",
       "      <td>4</td>\n",
       "      <td>0.370</td>\n",
       "    </tr>\n",
       "    <tr>\n",
       "      <th>2</th>\n",
       "      <td>Seven Nation Army</td>\n",
       "      <td>76</td>\n",
       "      <td>231733</td>\n",
       "      <td>0.008170</td>\n",
       "      <td>0.737</td>\n",
       "      <td>0.463</td>\n",
       "      <td>0.447000</td>\n",
       "      <td>0</td>\n",
       "      <td>0.2550</td>\n",
       "      <td>-7.828</td>\n",
       "      <td>1</td>\n",
       "      <td>0.0792</td>\n",
       "      <td>123.881</td>\n",
       "      <td>4</td>\n",
       "      <td>0.324</td>\n",
       "    </tr>\n",
       "    <tr>\n",
       "      <th>3</th>\n",
       "      <td>By The Way</td>\n",
       "      <td>74</td>\n",
       "      <td>216933</td>\n",
       "      <td>0.026400</td>\n",
       "      <td>0.451</td>\n",
       "      <td>0.970</td>\n",
       "      <td>0.003550</td>\n",
       "      <td>0</td>\n",
       "      <td>0.1020</td>\n",
       "      <td>-4.938</td>\n",
       "      <td>1</td>\n",
       "      <td>0.1070</td>\n",
       "      <td>122.444</td>\n",
       "      <td>4</td>\n",
       "      <td>0.198</td>\n",
       "    </tr>\n",
       "    <tr>\n",
       "      <th>4</th>\n",
       "      <td>How You Remind Me</td>\n",
       "      <td>56</td>\n",
       "      <td>223826</td>\n",
       "      <td>0.000954</td>\n",
       "      <td>0.447</td>\n",
       "      <td>0.766</td>\n",
       "      <td>0.000000</td>\n",
       "      <td>10</td>\n",
       "      <td>0.1130</td>\n",
       "      <td>-5.065</td>\n",
       "      <td>1</td>\n",
       "      <td>0.0313</td>\n",
       "      <td>172.011</td>\n",
       "      <td>4</td>\n",
       "      <td>0.574</td>\n",
       "    </tr>\n",
       "  </tbody>\n",
       "</table>\n",
       "</div>"
      ],
      "text/plain": [
       "                    song_name  song_popularity  song_duration_ms  \\\n",
       "0  Boulevard of Broken Dreams               73            262333   \n",
       "1                  In The End               66            216933   \n",
       "2           Seven Nation Army               76            231733   \n",
       "3                  By The Way               74            216933   \n",
       "4           How You Remind Me               56            223826   \n",
       "\n",
       "   acousticness  danceability  energy  instrumentalness  key  liveness  \\\n",
       "0      0.005520         0.496   0.682          0.000029    8    0.0589   \n",
       "1      0.010300         0.542   0.853          0.000000    3    0.1080   \n",
       "2      0.008170         0.737   0.463          0.447000    0    0.2550   \n",
       "3      0.026400         0.451   0.970          0.003550    0    0.1020   \n",
       "4      0.000954         0.447   0.766          0.000000   10    0.1130   \n",
       "\n",
       "   loudness  audio_mode  speechiness    tempo  time_signature  audio_valence  \n",
       "0    -4.095           1       0.0294  167.060               4          0.474  \n",
       "1    -6.407           0       0.0498  105.256               4          0.370  \n",
       "2    -7.828           1       0.0792  123.881               4          0.324  \n",
       "3    -4.938           1       0.1070  122.444               4          0.198  \n",
       "4    -5.065           1       0.0313  172.011               4          0.574  "
      ]
     },
     "execution_count": 3,
     "metadata": {},
     "output_type": "execute_result"
    }
   ],
   "source": [
    "base_data.head()"
   ]
  },
  {
   "cell_type": "markdown",
   "metadata": {},
   "source": [
    "## 2 Übersicht und Interpretation der Datenwerte\n",
    "In diesem Kapitel geht es darum, die grundlegenden Eigenschaften der Datenwerte und ihre zulässigen Wertebereiche zu ermitteln. Zunächst soll festgestellt werden, welchem Skalenniveau welcher Datenwert zugeordnet werden kann."
   ]
  },
  {
   "cell_type": "code",
   "execution_count": 17,
   "metadata": {},
   "outputs": [
    {
     "data": {
      "text/plain": [
       "audio_mode              2\n",
       "time_signature          5\n",
       "key                    12\n",
       "song_popularity       101\n",
       "danceability          849\n",
       "energy               1132\n",
       "speechiness          1224\n",
       "audio_valence        1246\n",
       "liveness             1425\n",
       "acousticness         3209\n",
       "instrumentalness     3925\n",
       "loudness             8416\n",
       "song_duration_ms    11771\n",
       "tempo               12112\n",
       "song_name           13070\n",
       "dtype: int64"
      ]
     },
     "execution_count": 17,
     "metadata": {},
     "output_type": "execute_result"
    }
   ],
   "source": [
    "base_data.nunique().sort_values()"
   ]
  },
  {
   "cell_type": "markdown",
   "metadata": {},
   "source": [
    "Über die Anzahl einzigartiger Werte eines Feldes ist ersichtlich, dass kategorische Werte audio_mode, time_signature und key, wobei audio_mode sogar binär ist, und alle weiteren Werte numerisch sind.\n",
    "\n",
    "Nachfolgend sind die 20 beliebtesten Lieder dargestellt, um einen ersten Eindruck vom Datensatz zu bekommen. Hierbei ist erkennbar, dass innerhalb der 20 obersten Werte nur zwei Lieder vertreten sind, die mehrfach vorliegen. Der Umgang mit den Redundanzen wird genauer in Kapitel 2.1 aufgegriffen."
   ]
  },
  {
   "cell_type": "code",
   "execution_count": 4,
   "metadata": {},
   "outputs": [
    {
     "data": {
      "text/html": [
       "<div>\n",
       "<style scoped>\n",
       "    .dataframe tbody tr th:only-of-type {\n",
       "        vertical-align: middle;\n",
       "    }\n",
       "\n",
       "    .dataframe tbody tr th {\n",
       "        vertical-align: top;\n",
       "    }\n",
       "\n",
       "    .dataframe thead th {\n",
       "        text-align: right;\n",
       "    }\n",
       "</style>\n",
       "<table border=\"1\" class=\"dataframe\">\n",
       "  <thead>\n",
       "    <tr style=\"text-align: right;\">\n",
       "      <th></th>\n",
       "      <th>song_name</th>\n",
       "      <th>song_popularity</th>\n",
       "      <th>song_duration_ms</th>\n",
       "      <th>acousticness</th>\n",
       "      <th>danceability</th>\n",
       "      <th>energy</th>\n",
       "      <th>instrumentalness</th>\n",
       "      <th>key</th>\n",
       "      <th>liveness</th>\n",
       "      <th>loudness</th>\n",
       "      <th>audio_mode</th>\n",
       "      <th>speechiness</th>\n",
       "      <th>tempo</th>\n",
       "      <th>time_signature</th>\n",
       "      <th>audio_valence</th>\n",
       "    </tr>\n",
       "  </thead>\n",
       "  <tbody>\n",
       "    <tr>\n",
       "      <th>7568</th>\n",
       "      <td>Happier</td>\n",
       "      <td>100</td>\n",
       "      <td>214289</td>\n",
       "      <td>0.1910</td>\n",
       "      <td>0.687</td>\n",
       "      <td>0.792</td>\n",
       "      <td>0.0</td>\n",
       "      <td>5</td>\n",
       "      <td>0.167</td>\n",
       "      <td>-2.749</td>\n",
       "      <td>1</td>\n",
       "      <td>0.0452</td>\n",
       "      <td>100.015</td>\n",
       "      <td>4</td>\n",
       "      <td>0.671</td>\n",
       "    </tr>\n",
       "    <tr>\n",
       "      <th>15091</th>\n",
       "      <td>Happier</td>\n",
       "      <td>100</td>\n",
       "      <td>214289</td>\n",
       "      <td>0.1910</td>\n",
       "      <td>0.687</td>\n",
       "      <td>0.792</td>\n",
       "      <td>0.0</td>\n",
       "      <td>5</td>\n",
       "      <td>0.167</td>\n",
       "      <td>-2.749</td>\n",
       "      <td>1</td>\n",
       "      <td>0.0452</td>\n",
       "      <td>100.015</td>\n",
       "      <td>4</td>\n",
       "      <td>0.671</td>\n",
       "    </tr>\n",
       "    <tr>\n",
       "      <th>17392</th>\n",
       "      <td>Happier</td>\n",
       "      <td>100</td>\n",
       "      <td>214289</td>\n",
       "      <td>0.1910</td>\n",
       "      <td>0.687</td>\n",
       "      <td>0.792</td>\n",
       "      <td>0.0</td>\n",
       "      <td>5</td>\n",
       "      <td>0.167</td>\n",
       "      <td>-2.749</td>\n",
       "      <td>1</td>\n",
       "      <td>0.0452</td>\n",
       "      <td>100.015</td>\n",
       "      <td>4</td>\n",
       "      <td>0.671</td>\n",
       "    </tr>\n",
       "    <tr>\n",
       "      <th>14176</th>\n",
       "      <td>Happier</td>\n",
       "      <td>100</td>\n",
       "      <td>214289</td>\n",
       "      <td>0.1910</td>\n",
       "      <td>0.687</td>\n",
       "      <td>0.792</td>\n",
       "      <td>0.0</td>\n",
       "      <td>5</td>\n",
       "      <td>0.167</td>\n",
       "      <td>-2.749</td>\n",
       "      <td>1</td>\n",
       "      <td>0.0452</td>\n",
       "      <td>100.015</td>\n",
       "      <td>4</td>\n",
       "      <td>0.671</td>\n",
       "    </tr>\n",
       "    <tr>\n",
       "      <th>11665</th>\n",
       "      <td>Happier</td>\n",
       "      <td>100</td>\n",
       "      <td>214289</td>\n",
       "      <td>0.1910</td>\n",
       "      <td>0.687</td>\n",
       "      <td>0.792</td>\n",
       "      <td>0.0</td>\n",
       "      <td>5</td>\n",
       "      <td>0.167</td>\n",
       "      <td>-2.749</td>\n",
       "      <td>1</td>\n",
       "      <td>0.0452</td>\n",
       "      <td>100.015</td>\n",
       "      <td>4</td>\n",
       "      <td>0.671</td>\n",
       "    </tr>\n",
       "    <tr>\n",
       "      <th>11697</th>\n",
       "      <td>Happier</td>\n",
       "      <td>100</td>\n",
       "      <td>214289</td>\n",
       "      <td>0.1910</td>\n",
       "      <td>0.687</td>\n",
       "      <td>0.792</td>\n",
       "      <td>0.0</td>\n",
       "      <td>5</td>\n",
       "      <td>0.167</td>\n",
       "      <td>-2.749</td>\n",
       "      <td>1</td>\n",
       "      <td>0.0452</td>\n",
       "      <td>100.015</td>\n",
       "      <td>4</td>\n",
       "      <td>0.671</td>\n",
       "    </tr>\n",
       "    <tr>\n",
       "      <th>5593</th>\n",
       "      <td>Happier</td>\n",
       "      <td>100</td>\n",
       "      <td>214289</td>\n",
       "      <td>0.1910</td>\n",
       "      <td>0.687</td>\n",
       "      <td>0.792</td>\n",
       "      <td>0.0</td>\n",
       "      <td>5</td>\n",
       "      <td>0.167</td>\n",
       "      <td>-2.749</td>\n",
       "      <td>1</td>\n",
       "      <td>0.0452</td>\n",
       "      <td>100.015</td>\n",
       "      <td>4</td>\n",
       "      <td>0.671</td>\n",
       "    </tr>\n",
       "    <tr>\n",
       "      <th>4299</th>\n",
       "      <td>Happier</td>\n",
       "      <td>100</td>\n",
       "      <td>214289</td>\n",
       "      <td>0.1910</td>\n",
       "      <td>0.687</td>\n",
       "      <td>0.792</td>\n",
       "      <td>0.0</td>\n",
       "      <td>5</td>\n",
       "      <td>0.167</td>\n",
       "      <td>-2.749</td>\n",
       "      <td>1</td>\n",
       "      <td>0.0452</td>\n",
       "      <td>100.015</td>\n",
       "      <td>4</td>\n",
       "      <td>0.671</td>\n",
       "    </tr>\n",
       "    <tr>\n",
       "      <th>16497</th>\n",
       "      <td>Happier</td>\n",
       "      <td>100</td>\n",
       "      <td>214289</td>\n",
       "      <td>0.1910</td>\n",
       "      <td>0.687</td>\n",
       "      <td>0.792</td>\n",
       "      <td>0.0</td>\n",
       "      <td>5</td>\n",
       "      <td>0.167</td>\n",
       "      <td>-2.749</td>\n",
       "      <td>1</td>\n",
       "      <td>0.0452</td>\n",
       "      <td>100.015</td>\n",
       "      <td>4</td>\n",
       "      <td>0.671</td>\n",
       "    </tr>\n",
       "    <tr>\n",
       "      <th>17590</th>\n",
       "      <td>Happier</td>\n",
       "      <td>100</td>\n",
       "      <td>214289</td>\n",
       "      <td>0.1910</td>\n",
       "      <td>0.687</td>\n",
       "      <td>0.792</td>\n",
       "      <td>0.0</td>\n",
       "      <td>5</td>\n",
       "      <td>0.167</td>\n",
       "      <td>-2.749</td>\n",
       "      <td>1</td>\n",
       "      <td>0.0452</td>\n",
       "      <td>100.015</td>\n",
       "      <td>4</td>\n",
       "      <td>0.671</td>\n",
       "    </tr>\n",
       "    <tr>\n",
       "      <th>7636</th>\n",
       "      <td>Happier</td>\n",
       "      <td>100</td>\n",
       "      <td>214289</td>\n",
       "      <td>0.1910</td>\n",
       "      <td>0.687</td>\n",
       "      <td>0.792</td>\n",
       "      <td>0.0</td>\n",
       "      <td>5</td>\n",
       "      <td>0.167</td>\n",
       "      <td>-2.749</td>\n",
       "      <td>1</td>\n",
       "      <td>0.0452</td>\n",
       "      <td>100.015</td>\n",
       "      <td>4</td>\n",
       "      <td>0.671</td>\n",
       "    </tr>\n",
       "    <tr>\n",
       "      <th>17638</th>\n",
       "      <td>Happier</td>\n",
       "      <td>100</td>\n",
       "      <td>214289</td>\n",
       "      <td>0.1910</td>\n",
       "      <td>0.687</td>\n",
       "      <td>0.792</td>\n",
       "      <td>0.0</td>\n",
       "      <td>5</td>\n",
       "      <td>0.167</td>\n",
       "      <td>-2.749</td>\n",
       "      <td>1</td>\n",
       "      <td>0.0452</td>\n",
       "      <td>100.015</td>\n",
       "      <td>4</td>\n",
       "      <td>0.671</td>\n",
       "    </tr>\n",
       "    <tr>\n",
       "      <th>1229</th>\n",
       "      <td>I Love It (&amp; Lil Pump)</td>\n",
       "      <td>99</td>\n",
       "      <td>127946</td>\n",
       "      <td>0.0114</td>\n",
       "      <td>0.901</td>\n",
       "      <td>0.522</td>\n",
       "      <td>0.0</td>\n",
       "      <td>2</td>\n",
       "      <td>0.259</td>\n",
       "      <td>-8.304</td>\n",
       "      <td>1</td>\n",
       "      <td>0.3300</td>\n",
       "      <td>104.053</td>\n",
       "      <td>4</td>\n",
       "      <td>0.329</td>\n",
       "    </tr>\n",
       "    <tr>\n",
       "      <th>11777</th>\n",
       "      <td>I Love It (&amp; Lil Pump)</td>\n",
       "      <td>99</td>\n",
       "      <td>127946</td>\n",
       "      <td>0.0114</td>\n",
       "      <td>0.901</td>\n",
       "      <td>0.522</td>\n",
       "      <td>0.0</td>\n",
       "      <td>2</td>\n",
       "      <td>0.259</td>\n",
       "      <td>-8.304</td>\n",
       "      <td>1</td>\n",
       "      <td>0.3300</td>\n",
       "      <td>104.053</td>\n",
       "      <td>4</td>\n",
       "      <td>0.329</td>\n",
       "    </tr>\n",
       "    <tr>\n",
       "      <th>17113</th>\n",
       "      <td>I Love It (&amp; Lil Pump)</td>\n",
       "      <td>99</td>\n",
       "      <td>127946</td>\n",
       "      <td>0.0114</td>\n",
       "      <td>0.901</td>\n",
       "      <td>0.522</td>\n",
       "      <td>0.0</td>\n",
       "      <td>2</td>\n",
       "      <td>0.259</td>\n",
       "      <td>-8.304</td>\n",
       "      <td>1</td>\n",
       "      <td>0.3300</td>\n",
       "      <td>104.053</td>\n",
       "      <td>4</td>\n",
       "      <td>0.329</td>\n",
       "    </tr>\n",
       "    <tr>\n",
       "      <th>17603</th>\n",
       "      <td>I Love It (&amp; Lil Pump)</td>\n",
       "      <td>99</td>\n",
       "      <td>127946</td>\n",
       "      <td>0.0114</td>\n",
       "      <td>0.901</td>\n",
       "      <td>0.522</td>\n",
       "      <td>0.0</td>\n",
       "      <td>2</td>\n",
       "      <td>0.259</td>\n",
       "      <td>-8.304</td>\n",
       "      <td>1</td>\n",
       "      <td>0.3300</td>\n",
       "      <td>104.053</td>\n",
       "      <td>4</td>\n",
       "      <td>0.329</td>\n",
       "    </tr>\n",
       "    <tr>\n",
       "      <th>4301</th>\n",
       "      <td>I Love It (&amp; Lil Pump)</td>\n",
       "      <td>99</td>\n",
       "      <td>127946</td>\n",
       "      <td>0.0114</td>\n",
       "      <td>0.901</td>\n",
       "      <td>0.522</td>\n",
       "      <td>0.0</td>\n",
       "      <td>2</td>\n",
       "      <td>0.259</td>\n",
       "      <td>-8.304</td>\n",
       "      <td>1</td>\n",
       "      <td>0.3300</td>\n",
       "      <td>104.053</td>\n",
       "      <td>4</td>\n",
       "      <td>0.329</td>\n",
       "    </tr>\n",
       "    <tr>\n",
       "      <th>17660</th>\n",
       "      <td>I Love It (&amp; Lil Pump)</td>\n",
       "      <td>99</td>\n",
       "      <td>127946</td>\n",
       "      <td>0.0114</td>\n",
       "      <td>0.901</td>\n",
       "      <td>0.522</td>\n",
       "      <td>0.0</td>\n",
       "      <td>2</td>\n",
       "      <td>0.259</td>\n",
       "      <td>-8.304</td>\n",
       "      <td>1</td>\n",
       "      <td>0.3300</td>\n",
       "      <td>104.053</td>\n",
       "      <td>4</td>\n",
       "      <td>0.329</td>\n",
       "    </tr>\n",
       "    <tr>\n",
       "      <th>14314</th>\n",
       "      <td>I Love It (&amp; Lil Pump)</td>\n",
       "      <td>99</td>\n",
       "      <td>127946</td>\n",
       "      <td>0.0114</td>\n",
       "      <td>0.901</td>\n",
       "      <td>0.522</td>\n",
       "      <td>0.0</td>\n",
       "      <td>2</td>\n",
       "      <td>0.259</td>\n",
       "      <td>-8.304</td>\n",
       "      <td>1</td>\n",
       "      <td>0.3300</td>\n",
       "      <td>104.053</td>\n",
       "      <td>4</td>\n",
       "      <td>0.329</td>\n",
       "    </tr>\n",
       "    <tr>\n",
       "      <th>5608</th>\n",
       "      <td>I Love It (&amp; Lil Pump)</td>\n",
       "      <td>99</td>\n",
       "      <td>127946</td>\n",
       "      <td>0.0114</td>\n",
       "      <td>0.901</td>\n",
       "      <td>0.522</td>\n",
       "      <td>0.0</td>\n",
       "      <td>2</td>\n",
       "      <td>0.259</td>\n",
       "      <td>-8.304</td>\n",
       "      <td>1</td>\n",
       "      <td>0.3300</td>\n",
       "      <td>104.053</td>\n",
       "      <td>4</td>\n",
       "      <td>0.329</td>\n",
       "    </tr>\n",
       "  </tbody>\n",
       "</table>\n",
       "</div>"
      ],
      "text/plain": [
       "                    song_name  song_popularity  song_duration_ms  \\\n",
       "7568                  Happier              100            214289   \n",
       "15091                 Happier              100            214289   \n",
       "17392                 Happier              100            214289   \n",
       "14176                 Happier              100            214289   \n",
       "11665                 Happier              100            214289   \n",
       "11697                 Happier              100            214289   \n",
       "5593                  Happier              100            214289   \n",
       "4299                  Happier              100            214289   \n",
       "16497                 Happier              100            214289   \n",
       "17590                 Happier              100            214289   \n",
       "7636                  Happier              100            214289   \n",
       "17638                 Happier              100            214289   \n",
       "1229   I Love It (& Lil Pump)               99            127946   \n",
       "11777  I Love It (& Lil Pump)               99            127946   \n",
       "17113  I Love It (& Lil Pump)               99            127946   \n",
       "17603  I Love It (& Lil Pump)               99            127946   \n",
       "4301   I Love It (& Lil Pump)               99            127946   \n",
       "17660  I Love It (& Lil Pump)               99            127946   \n",
       "14314  I Love It (& Lil Pump)               99            127946   \n",
       "5608   I Love It (& Lil Pump)               99            127946   \n",
       "\n",
       "       acousticness  danceability  energy  instrumentalness  key  liveness  \\\n",
       "7568         0.1910         0.687   0.792               0.0    5     0.167   \n",
       "15091        0.1910         0.687   0.792               0.0    5     0.167   \n",
       "17392        0.1910         0.687   0.792               0.0    5     0.167   \n",
       "14176        0.1910         0.687   0.792               0.0    5     0.167   \n",
       "11665        0.1910         0.687   0.792               0.0    5     0.167   \n",
       "11697        0.1910         0.687   0.792               0.0    5     0.167   \n",
       "5593         0.1910         0.687   0.792               0.0    5     0.167   \n",
       "4299         0.1910         0.687   0.792               0.0    5     0.167   \n",
       "16497        0.1910         0.687   0.792               0.0    5     0.167   \n",
       "17590        0.1910         0.687   0.792               0.0    5     0.167   \n",
       "7636         0.1910         0.687   0.792               0.0    5     0.167   \n",
       "17638        0.1910         0.687   0.792               0.0    5     0.167   \n",
       "1229         0.0114         0.901   0.522               0.0    2     0.259   \n",
       "11777        0.0114         0.901   0.522               0.0    2     0.259   \n",
       "17113        0.0114         0.901   0.522               0.0    2     0.259   \n",
       "17603        0.0114         0.901   0.522               0.0    2     0.259   \n",
       "4301         0.0114         0.901   0.522               0.0    2     0.259   \n",
       "17660        0.0114         0.901   0.522               0.0    2     0.259   \n",
       "14314        0.0114         0.901   0.522               0.0    2     0.259   \n",
       "5608         0.0114         0.901   0.522               0.0    2     0.259   \n",
       "\n",
       "       loudness  audio_mode  speechiness    tempo  time_signature  \\\n",
       "7568     -2.749           1       0.0452  100.015               4   \n",
       "15091    -2.749           1       0.0452  100.015               4   \n",
       "17392    -2.749           1       0.0452  100.015               4   \n",
       "14176    -2.749           1       0.0452  100.015               4   \n",
       "11665    -2.749           1       0.0452  100.015               4   \n",
       "11697    -2.749           1       0.0452  100.015               4   \n",
       "5593     -2.749           1       0.0452  100.015               4   \n",
       "4299     -2.749           1       0.0452  100.015               4   \n",
       "16497    -2.749           1       0.0452  100.015               4   \n",
       "17590    -2.749           1       0.0452  100.015               4   \n",
       "7636     -2.749           1       0.0452  100.015               4   \n",
       "17638    -2.749           1       0.0452  100.015               4   \n",
       "1229     -8.304           1       0.3300  104.053               4   \n",
       "11777    -8.304           1       0.3300  104.053               4   \n",
       "17113    -8.304           1       0.3300  104.053               4   \n",
       "17603    -8.304           1       0.3300  104.053               4   \n",
       "4301     -8.304           1       0.3300  104.053               4   \n",
       "17660    -8.304           1       0.3300  104.053               4   \n",
       "14314    -8.304           1       0.3300  104.053               4   \n",
       "5608     -8.304           1       0.3300  104.053               4   \n",
       "\n",
       "       audio_valence  \n",
       "7568           0.671  \n",
       "15091          0.671  \n",
       "17392          0.671  \n",
       "14176          0.671  \n",
       "11665          0.671  \n",
       "11697          0.671  \n",
       "5593           0.671  \n",
       "4299           0.671  \n",
       "16497          0.671  \n",
       "17590          0.671  \n",
       "7636           0.671  \n",
       "17638          0.671  \n",
       "1229           0.329  \n",
       "11777          0.329  \n",
       "17113          0.329  \n",
       "17603          0.329  \n",
       "4301           0.329  \n",
       "17660          0.329  \n",
       "14314          0.329  \n",
       "5608           0.329  "
      ]
     },
     "execution_count": 4,
     "metadata": {},
     "output_type": "execute_result"
    }
   ],
   "source": [
    "base_data.sort_values(by=[\"song_popularity\"], ascending=False).head(20)"
   ]
  },
  {
   "cell_type": "markdown",
   "metadata": {},
   "source": [
    "- song_name = Name des Liedes (String)\n",
    "- song_popularity = Beliebtheit des Liedes in % (int 0-100) --> WAS WIRD IN PROZENT ANGEGEBEN (STREAMS?`)????? The popularity is calculated by algorithm and is based, in the most part, on the total number of plays the track has had and how recent those plays are.\n",
    "- song_duration = Länge des Liedes in ms (int 12s-30min)\n",
    "- acousticness = Akustik eines Liedes in % (float 0-1) Wert von 1.0 bedeutet, dass es ein akustisches Lied ist (nicht elektronisch verstärkt)\n",
    "- danceability = Tanzbarkeit in % (float 0-1) Wert von 1.0 bedeutet, dass das Lied sehr um Tanzen anregt, basierend auf musikalische Elemente wie unteranderem Tempo, Stabilität des Rhytmik, Stärke des Bass' und weiteren.\n",
    "- energy = Intensität und Aktivität des Liedes in % (float 0-1), basierend auf der Schnelligkeit, Lautstärke und Rauschen des Liedes sowie der generellen Entropie. Wert von 1.0 bedeutet, dass ein Lied sehr energetisch ist, beispielsweise Death Metal\n",
    "- instrumentalness = Instrumentalität in % (float 0-1), gibt an in wie weit Vocals im Lied vorhanden sind. Je näher an 1.0, desto wahrscheinlicher Lied ohne Vocals, ab 0.5 kann davon ausgegangen werden, dass Lied instrumental ist\n",
    "- key = Tonart in dem Lied (int -1-11), -1 wenn keine primäre Tonart erkannt wurde (https://de.wikipedia.org/wiki/Tonklasse)\n",
    "- liveness = Wahrscheinlichkeit, dass das Lied eine Liveversion ist (float 0-1), basierend auf Zuschauer/Zuhörer die im Hintegrund entdeckt werden, ab 0.8 kann davon ausgegangen werden, dass es eine Liveversion ist\n",
    "- loudness = gibt die durchschnittliche Lautstärke des Liedes in Decibel an (float -38.0 - 1.5), Lautstärke ist relativ angegeben\n",
    "- audio_mode = Modalität der Tonleiter (int 0=Moll oder 1=Dur) \n",
    "- speechiness = Exklusiv gesprochen, zum Beispiel Reden oder Gedichte (Racism And Injustice von Martin L. King), alles >0.66 sehr wahrscheinlich, dass nur Gesprochen wird, alles <0.33 wenig/kein gesprochenes Wort\n",
    "- tempo = Schätzung zur Geschwindigkeit des Liedes in Beats per Minute (BPM) (float)\n",
    "- time_signature = Taktangabe (int 3-7), gibt Takt von 3/4 Takt bis 7/4 Takt an\n",
    "- audio_valence = Positivität des Liedes (float 0-1), Eine hohe Wertigkeit deutet auf positive Stimmung hin (fröhlich, euphorisch), ein niedriger Wert von einer negativen (aggresiv, melancholisch)\n",
    "\n",
    "Quelle: https://developer.spotify.com/documentation/web-api/reference/#/operations/get-several-audio-features"
   ]
  },
  {
   "cell_type": "markdown",
   "metadata": {},
   "source": [
    "| Feldname | Datentyp / Wertebereich | Beschreibung |\n",
    "| --- | --- | --- |\n",
    "| song_name| String | Der Name des Liedes |\n",
    "| song_popularity | int [0;100] | Die relative Beliebtheit eines Liedes in Prozent. Die Beliebtheit wird an der Gesamtzahl der Streams eines Liedes gemessen. Das Lied mit dem Wert 100 ist das beliebteste Lied. |\n",
    "| song_duration | int [0;oo[ | Gibt die Länge eines Liedes in Millisekunden an |\n",
    "| acousticness | float [0;1] | Die Akustikt eines Liedes in Prozent. Ein Wert von 1.0 bedeutet, dass ein Lied sehr akustisch ist und nicht elektronisch verstärkt |\n",
    "| danceability | float [0;1] | Die Tanzbarkeit eines Liedes in Prozent. Ein Wert von 1.0 bedeutet, dass dieses Lied zum Tanzen anregt. Der Wert wird über die musikalischen Elementen wie unteranderem dem Tempo, der Stabilität der Rhytmik, der Stärke des Bass's ermittelt. |\n",
    "| energy | float [0;1] | | \n",
    "\n",
    "In der Tabelle ist erkennbar, dass"
   ]
  },
  {
   "cell_type": "markdown",
   "metadata": {},
   "source": [
    "### 2.1 Umgang mit fehlenden Werten, Redundanzen und Inkonsistenzen\n",
    "Um zuverlässige Ergebnisse zu erzielen, ist es wichtig, wie mit Redundanzen umgegangen wird, da sie die Performance von späteren Modellen maßgeblich beeinflussen können. Hierbei kann zwischen zwei Optionen entschieden werden: Einerseits könnten die Redundanzen im Datensatz behalten werden, wobei beim Splitten des Datensatzes in einen Trainings- und Testdatensatz es wichtig wäre, alle gleichen Einträge entweder vollständig in den Trainings- bzw. in den Testdatensatz aufzunehmen, sodass diese disjunkt bleiben und keine Memorisierung gefördert wird. Anderseits können die Redundanzen entfernt werden, mit der Folge, dass der Datensatz kleiner wird und nur eine Instanz übrig bleibt. Im Rahmen dieser Ausarbeitung werden doppelte Einträge entfernt, wenn sie den selben Liednamen und die gleiche Länge haben. "
   ]
  },
  {
   "cell_type": "code",
   "execution_count": 19,
   "metadata": {},
   "outputs": [
    {
     "name": "stdout",
     "output_type": "stream",
     "text": [
      "<class 'pandas.core.frame.DataFrame'>\n",
      "RangeIndex: 14468 entries, 0 to 14467\n",
      "Data columns (total 15 columns):\n",
      " #   Column            Non-Null Count  Dtype  \n",
      "---  ------            --------------  -----  \n",
      " 0   song_name         14468 non-null  object \n",
      " 1   song_popularity   14468 non-null  int64  \n",
      " 2   song_duration_ms  14468 non-null  int64  \n",
      " 3   acousticness      14468 non-null  float64\n",
      " 4   danceability      14468 non-null  float64\n",
      " 5   energy            14468 non-null  float64\n",
      " 6   instrumentalness  14468 non-null  float64\n",
      " 7   key               14468 non-null  int64  \n",
      " 8   liveness          14468 non-null  float64\n",
      " 9   loudness          14468 non-null  float64\n",
      " 10  audio_mode        14468 non-null  int64  \n",
      " 11  speechiness       14468 non-null  float64\n",
      " 12  tempo             14468 non-null  float64\n",
      " 13  time_signature    14468 non-null  int64  \n",
      " 14  audio_valence     14468 non-null  float64\n",
      "dtypes: float64(9), int64(5), object(1)\n",
      "memory usage: 1.7+ MB\n"
     ]
    }
   ],
   "source": [
    "cleared = base_data.drop_duplicates(subset = [\"song_name\", \"song_duration_ms\"], keep = \"last\").reset_index(drop = True)\n",
    "cleared.info()"
   ]
  },
  {
   "cell_type": "markdown",
   "metadata": {},
   "source": [
    "Redundanzen sind vorhanden, diese werden entfernt anhand gleichem Songtitel und gleicher Songlänge. Dadurch 14.468 Songs, somit circa 4.400 Redundanzen entfernt"
   ]
  },
  {
   "cell_type": "code",
   "execution_count": 20,
   "metadata": {},
   "outputs": [
    {
     "data": {
      "text/html": [
       "<div>\n",
       "<style scoped>\n",
       "    .dataframe tbody tr th:only-of-type {\n",
       "        vertical-align: middle;\n",
       "    }\n",
       "\n",
       "    .dataframe tbody tr th {\n",
       "        vertical-align: top;\n",
       "    }\n",
       "\n",
       "    .dataframe thead th {\n",
       "        text-align: right;\n",
       "    }\n",
       "</style>\n",
       "<table border=\"1\" class=\"dataframe\">\n",
       "  <thead>\n",
       "    <tr style=\"text-align: right;\">\n",
       "      <th></th>\n",
       "      <th>song_name</th>\n",
       "      <th>song_popularity</th>\n",
       "      <th>song_duration_ms</th>\n",
       "      <th>acousticness</th>\n",
       "      <th>danceability</th>\n",
       "      <th>energy</th>\n",
       "      <th>instrumentalness</th>\n",
       "      <th>key</th>\n",
       "      <th>liveness</th>\n",
       "      <th>loudness</th>\n",
       "      <th>audio_mode</th>\n",
       "      <th>speechiness</th>\n",
       "      <th>tempo</th>\n",
       "      <th>time_signature</th>\n",
       "      <th>audio_valence</th>\n",
       "    </tr>\n",
       "  </thead>\n",
       "  <tbody>\n",
       "    <tr>\n",
       "      <th>13326</th>\n",
       "      <td>Happier</td>\n",
       "      <td>100</td>\n",
       "      <td>214289</td>\n",
       "      <td>0.19100</td>\n",
       "      <td>0.687</td>\n",
       "      <td>0.792</td>\n",
       "      <td>0.000000</td>\n",
       "      <td>5</td>\n",
       "      <td>0.1670</td>\n",
       "      <td>-2.749</td>\n",
       "      <td>1</td>\n",
       "      <td>0.0452</td>\n",
       "      <td>100.015</td>\n",
       "      <td>4</td>\n",
       "      <td>0.671</td>\n",
       "    </tr>\n",
       "    <tr>\n",
       "      <th>13346</th>\n",
       "      <td>I Love It (&amp; Lil Pump)</td>\n",
       "      <td>99</td>\n",
       "      <td>127946</td>\n",
       "      <td>0.01140</td>\n",
       "      <td>0.901</td>\n",
       "      <td>0.522</td>\n",
       "      <td>0.000000</td>\n",
       "      <td>2</td>\n",
       "      <td>0.2590</td>\n",
       "      <td>-8.304</td>\n",
       "      <td>1</td>\n",
       "      <td>0.3300</td>\n",
       "      <td>104.053</td>\n",
       "      <td>4</td>\n",
       "      <td>0.329</td>\n",
       "    </tr>\n",
       "    <tr>\n",
       "      <th>13490</th>\n",
       "      <td>Taki Taki (with Selena Gomez, Ozuna &amp; Cardi B)</td>\n",
       "      <td>98</td>\n",
       "      <td>212500</td>\n",
       "      <td>0.15300</td>\n",
       "      <td>0.841</td>\n",
       "      <td>0.798</td>\n",
       "      <td>0.000003</td>\n",
       "      <td>1</td>\n",
       "      <td>0.0618</td>\n",
       "      <td>-4.206</td>\n",
       "      <td>0</td>\n",
       "      <td>0.2290</td>\n",
       "      <td>95.948</td>\n",
       "      <td>4</td>\n",
       "      <td>0.591</td>\n",
       "    </tr>\n",
       "    <tr>\n",
       "      <th>13592</th>\n",
       "      <td>Promises (with Sam Smith)</td>\n",
       "      <td>98</td>\n",
       "      <td>213309</td>\n",
       "      <td>0.01190</td>\n",
       "      <td>0.781</td>\n",
       "      <td>0.768</td>\n",
       "      <td>0.000005</td>\n",
       "      <td>11</td>\n",
       "      <td>0.3250</td>\n",
       "      <td>-5.991</td>\n",
       "      <td>1</td>\n",
       "      <td>0.0394</td>\n",
       "      <td>123.070</td>\n",
       "      <td>4</td>\n",
       "      <td>0.486</td>\n",
       "    </tr>\n",
       "    <tr>\n",
       "      <th>13308</th>\n",
       "      <td>In My Feelings</td>\n",
       "      <td>98</td>\n",
       "      <td>217925</td>\n",
       "      <td>0.05890</td>\n",
       "      <td>0.835</td>\n",
       "      <td>0.626</td>\n",
       "      <td>0.000060</td>\n",
       "      <td>1</td>\n",
       "      <td>0.3960</td>\n",
       "      <td>-5.833</td>\n",
       "      <td>1</td>\n",
       "      <td>0.1250</td>\n",
       "      <td>91.030</td>\n",
       "      <td>4</td>\n",
       "      <td>0.350</td>\n",
       "    </tr>\n",
       "    <tr>\n",
       "      <th>13472</th>\n",
       "      <td>Eastside (with Halsey &amp; Khalid)</td>\n",
       "      <td>98</td>\n",
       "      <td>173799</td>\n",
       "      <td>0.55500</td>\n",
       "      <td>0.560</td>\n",
       "      <td>0.680</td>\n",
       "      <td>0.000000</td>\n",
       "      <td>6</td>\n",
       "      <td>0.1160</td>\n",
       "      <td>-7.648</td>\n",
       "      <td>0</td>\n",
       "      <td>0.3210</td>\n",
       "      <td>89.391</td>\n",
       "      <td>4</td>\n",
       "      <td>0.319</td>\n",
       "    </tr>\n",
       "    <tr>\n",
       "      <th>13290</th>\n",
       "      <td>Lucid Dreams</td>\n",
       "      <td>97</td>\n",
       "      <td>239835</td>\n",
       "      <td>0.34900</td>\n",
       "      <td>0.511</td>\n",
       "      <td>0.566</td>\n",
       "      <td>0.000000</td>\n",
       "      <td>6</td>\n",
       "      <td>0.3400</td>\n",
       "      <td>-7.230</td>\n",
       "      <td>0</td>\n",
       "      <td>0.2000</td>\n",
       "      <td>83.903</td>\n",
       "      <td>4</td>\n",
       "      <td>0.218</td>\n",
       "    </tr>\n",
       "    <tr>\n",
       "      <th>11606</th>\n",
       "      <td>In My Mind</td>\n",
       "      <td>97</td>\n",
       "      <td>184560</td>\n",
       "      <td>0.17600</td>\n",
       "      <td>0.694</td>\n",
       "      <td>0.770</td>\n",
       "      <td>0.000011</td>\n",
       "      <td>6</td>\n",
       "      <td>0.1180</td>\n",
       "      <td>-5.335</td>\n",
       "      <td>1</td>\n",
       "      <td>0.1490</td>\n",
       "      <td>125.905</td>\n",
       "      <td>4</td>\n",
       "      <td>0.163</td>\n",
       "    </tr>\n",
       "    <tr>\n",
       "      <th>13319</th>\n",
       "      <td>Falling Down</td>\n",
       "      <td>97</td>\n",
       "      <td>196400</td>\n",
       "      <td>0.01750</td>\n",
       "      <td>0.669</td>\n",
       "      <td>0.574</td>\n",
       "      <td>0.002940</td>\n",
       "      <td>4</td>\n",
       "      <td>0.1460</td>\n",
       "      <td>-6.442</td>\n",
       "      <td>0</td>\n",
       "      <td>0.0286</td>\n",
       "      <td>120.013</td>\n",
       "      <td>4</td>\n",
       "      <td>0.273</td>\n",
       "    </tr>\n",
       "    <tr>\n",
       "      <th>13469</th>\n",
       "      <td>SICKO MODE</td>\n",
       "      <td>97</td>\n",
       "      <td>312820</td>\n",
       "      <td>0.00513</td>\n",
       "      <td>0.834</td>\n",
       "      <td>0.730</td>\n",
       "      <td>0.000000</td>\n",
       "      <td>8</td>\n",
       "      <td>0.1240</td>\n",
       "      <td>-3.714</td>\n",
       "      <td>1</td>\n",
       "      <td>0.2220</td>\n",
       "      <td>155.008</td>\n",
       "      <td>4</td>\n",
       "      <td>0.446</td>\n",
       "    </tr>\n",
       "    <tr>\n",
       "      <th>13476</th>\n",
       "      <td>Be Alright</td>\n",
       "      <td>96</td>\n",
       "      <td>196373</td>\n",
       "      <td>0.69700</td>\n",
       "      <td>0.553</td>\n",
       "      <td>0.586</td>\n",
       "      <td>0.000000</td>\n",
       "      <td>11</td>\n",
       "      <td>0.0813</td>\n",
       "      <td>-6.319</td>\n",
       "      <td>1</td>\n",
       "      <td>0.0362</td>\n",
       "      <td>126.684</td>\n",
       "      <td>4</td>\n",
       "      <td>0.443</td>\n",
       "    </tr>\n",
       "    <tr>\n",
       "      <th>13296</th>\n",
       "      <td>SAD!</td>\n",
       "      <td>96</td>\n",
       "      <td>166605</td>\n",
       "      <td>0.25800</td>\n",
       "      <td>0.740</td>\n",
       "      <td>0.613</td>\n",
       "      <td>0.003720</td>\n",
       "      <td>8</td>\n",
       "      <td>0.1230</td>\n",
       "      <td>-4.880</td>\n",
       "      <td>1</td>\n",
       "      <td>0.1450</td>\n",
       "      <td>75.023</td>\n",
       "      <td>4</td>\n",
       "      <td>0.473</td>\n",
       "    </tr>\n",
       "    <tr>\n",
       "      <th>13294</th>\n",
       "      <td>Moonlight</td>\n",
       "      <td>96</td>\n",
       "      <td>135090</td>\n",
       "      <td>0.55600</td>\n",
       "      <td>0.921</td>\n",
       "      <td>0.537</td>\n",
       "      <td>0.004040</td>\n",
       "      <td>9</td>\n",
       "      <td>0.1020</td>\n",
       "      <td>-5.723</td>\n",
       "      <td>0</td>\n",
       "      <td>0.0804</td>\n",
       "      <td>128.009</td>\n",
       "      <td>4</td>\n",
       "      <td>0.711</td>\n",
       "    </tr>\n",
       "    <tr>\n",
       "      <th>13480</th>\n",
       "      <td>FEFE (feat. Nicki Minaj &amp; Murda Beatz)</td>\n",
       "      <td>96</td>\n",
       "      <td>179404</td>\n",
       "      <td>0.08800</td>\n",
       "      <td>0.931</td>\n",
       "      <td>0.387</td>\n",
       "      <td>0.000000</td>\n",
       "      <td>1</td>\n",
       "      <td>0.1360</td>\n",
       "      <td>-9.127</td>\n",
       "      <td>1</td>\n",
       "      <td>0.4120</td>\n",
       "      <td>125.978</td>\n",
       "      <td>4</td>\n",
       "      <td>0.376</td>\n",
       "    </tr>\n",
       "    <tr>\n",
       "      <th>10609</th>\n",
       "      <td>Lucky You (feat. Joyner Lucas)</td>\n",
       "      <td>96</td>\n",
       "      <td>244679</td>\n",
       "      <td>0.06270</td>\n",
       "      <td>0.876</td>\n",
       "      <td>0.786</td>\n",
       "      <td>0.000000</td>\n",
       "      <td>10</td>\n",
       "      <td>0.1270</td>\n",
       "      <td>-4.884</td>\n",
       "      <td>0</td>\n",
       "      <td>0.3060</td>\n",
       "      <td>153.068</td>\n",
       "      <td>4</td>\n",
       "      <td>0.575</td>\n",
       "    </tr>\n",
       "    <tr>\n",
       "      <th>13500</th>\n",
       "      <td>BEBE</td>\n",
       "      <td>95</td>\n",
       "      <td>217822</td>\n",
       "      <td>0.17200</td>\n",
       "      <td>0.635</td>\n",
       "      <td>0.902</td>\n",
       "      <td>0.000000</td>\n",
       "      <td>0</td>\n",
       "      <td>0.1250</td>\n",
       "      <td>-3.559</td>\n",
       "      <td>1</td>\n",
       "      <td>0.1090</td>\n",
       "      <td>102.063</td>\n",
       "      <td>4</td>\n",
       "      <td>0.286</td>\n",
       "    </tr>\n",
       "    <tr>\n",
       "      <th>13144</th>\n",
       "      <td>Natural</td>\n",
       "      <td>95</td>\n",
       "      <td>189466</td>\n",
       "      <td>0.21600</td>\n",
       "      <td>0.448</td>\n",
       "      <td>0.612</td>\n",
       "      <td>0.000000</td>\n",
       "      <td>2</td>\n",
       "      <td>0.0800</td>\n",
       "      <td>-6.106</td>\n",
       "      <td>1</td>\n",
       "      <td>0.0708</td>\n",
       "      <td>97.773</td>\n",
       "      <td>4</td>\n",
       "      <td>0.213</td>\n",
       "    </tr>\n",
       "    <tr>\n",
       "      <th>14123</th>\n",
       "      <td>Taste (feat. Offset)</td>\n",
       "      <td>95</td>\n",
       "      <td>232959</td>\n",
       "      <td>0.02360</td>\n",
       "      <td>0.884</td>\n",
       "      <td>0.559</td>\n",
       "      <td>0.000000</td>\n",
       "      <td>0</td>\n",
       "      <td>0.1010</td>\n",
       "      <td>-7.442</td>\n",
       "      <td>1</td>\n",
       "      <td>0.1200</td>\n",
       "      <td>97.994</td>\n",
       "      <td>4</td>\n",
       "      <td>0.342</td>\n",
       "    </tr>\n",
       "    <tr>\n",
       "      <th>13298</th>\n",
       "      <td>Better Now</td>\n",
       "      <td>95</td>\n",
       "      <td>231266</td>\n",
       "      <td>0.35400</td>\n",
       "      <td>0.680</td>\n",
       "      <td>0.563</td>\n",
       "      <td>0.000000</td>\n",
       "      <td>10</td>\n",
       "      <td>0.1360</td>\n",
       "      <td>-5.843</td>\n",
       "      <td>1</td>\n",
       "      <td>0.0454</td>\n",
       "      <td>145.028</td>\n",
       "      <td>4</td>\n",
       "      <td>0.374</td>\n",
       "    </tr>\n",
       "    <tr>\n",
       "      <th>13517</th>\n",
       "      <td>I Like It</td>\n",
       "      <td>95</td>\n",
       "      <td>253390</td>\n",
       "      <td>0.09900</td>\n",
       "      <td>0.816</td>\n",
       "      <td>0.726</td>\n",
       "      <td>0.000000</td>\n",
       "      <td>5</td>\n",
       "      <td>0.3720</td>\n",
       "      <td>-3.998</td>\n",
       "      <td>0</td>\n",
       "      <td>0.1290</td>\n",
       "      <td>136.048</td>\n",
       "      <td>4</td>\n",
       "      <td>0.650</td>\n",
       "    </tr>\n",
       "  </tbody>\n",
       "</table>\n",
       "</div>"
      ],
      "text/plain": [
       "                                            song_name  song_popularity  \\\n",
       "13326                                         Happier              100   \n",
       "13346                          I Love It (& Lil Pump)               99   \n",
       "13490  Taki Taki (with Selena Gomez, Ozuna & Cardi B)               98   \n",
       "13592                       Promises (with Sam Smith)               98   \n",
       "13308                                  In My Feelings               98   \n",
       "13472                 Eastside (with Halsey & Khalid)               98   \n",
       "13290                                    Lucid Dreams               97   \n",
       "11606                                      In My Mind               97   \n",
       "13319                                    Falling Down               97   \n",
       "13469                                      SICKO MODE               97   \n",
       "13476                                      Be Alright               96   \n",
       "13296                                            SAD!               96   \n",
       "13294                                       Moonlight               96   \n",
       "13480          FEFE (feat. Nicki Minaj & Murda Beatz)               96   \n",
       "10609                  Lucky You (feat. Joyner Lucas)               96   \n",
       "13500                                            BEBE               95   \n",
       "13144                                         Natural               95   \n",
       "14123                            Taste (feat. Offset)               95   \n",
       "13298                                      Better Now               95   \n",
       "13517                                       I Like It               95   \n",
       "\n",
       "       song_duration_ms  acousticness  danceability  energy  instrumentalness  \\\n",
       "13326            214289       0.19100         0.687   0.792          0.000000   \n",
       "13346            127946       0.01140         0.901   0.522          0.000000   \n",
       "13490            212500       0.15300         0.841   0.798          0.000003   \n",
       "13592            213309       0.01190         0.781   0.768          0.000005   \n",
       "13308            217925       0.05890         0.835   0.626          0.000060   \n",
       "13472            173799       0.55500         0.560   0.680          0.000000   \n",
       "13290            239835       0.34900         0.511   0.566          0.000000   \n",
       "11606            184560       0.17600         0.694   0.770          0.000011   \n",
       "13319            196400       0.01750         0.669   0.574          0.002940   \n",
       "13469            312820       0.00513         0.834   0.730          0.000000   \n",
       "13476            196373       0.69700         0.553   0.586          0.000000   \n",
       "13296            166605       0.25800         0.740   0.613          0.003720   \n",
       "13294            135090       0.55600         0.921   0.537          0.004040   \n",
       "13480            179404       0.08800         0.931   0.387          0.000000   \n",
       "10609            244679       0.06270         0.876   0.786          0.000000   \n",
       "13500            217822       0.17200         0.635   0.902          0.000000   \n",
       "13144            189466       0.21600         0.448   0.612          0.000000   \n",
       "14123            232959       0.02360         0.884   0.559          0.000000   \n",
       "13298            231266       0.35400         0.680   0.563          0.000000   \n",
       "13517            253390       0.09900         0.816   0.726          0.000000   \n",
       "\n",
       "       key  liveness  loudness  audio_mode  speechiness    tempo  \\\n",
       "13326    5    0.1670    -2.749           1       0.0452  100.015   \n",
       "13346    2    0.2590    -8.304           1       0.3300  104.053   \n",
       "13490    1    0.0618    -4.206           0       0.2290   95.948   \n",
       "13592   11    0.3250    -5.991           1       0.0394  123.070   \n",
       "13308    1    0.3960    -5.833           1       0.1250   91.030   \n",
       "13472    6    0.1160    -7.648           0       0.3210   89.391   \n",
       "13290    6    0.3400    -7.230           0       0.2000   83.903   \n",
       "11606    6    0.1180    -5.335           1       0.1490  125.905   \n",
       "13319    4    0.1460    -6.442           0       0.0286  120.013   \n",
       "13469    8    0.1240    -3.714           1       0.2220  155.008   \n",
       "13476   11    0.0813    -6.319           1       0.0362  126.684   \n",
       "13296    8    0.1230    -4.880           1       0.1450   75.023   \n",
       "13294    9    0.1020    -5.723           0       0.0804  128.009   \n",
       "13480    1    0.1360    -9.127           1       0.4120  125.978   \n",
       "10609   10    0.1270    -4.884           0       0.3060  153.068   \n",
       "13500    0    0.1250    -3.559           1       0.1090  102.063   \n",
       "13144    2    0.0800    -6.106           1       0.0708   97.773   \n",
       "14123    0    0.1010    -7.442           1       0.1200   97.994   \n",
       "13298   10    0.1360    -5.843           1       0.0454  145.028   \n",
       "13517    5    0.3720    -3.998           0       0.1290  136.048   \n",
       "\n",
       "       time_signature  audio_valence  \n",
       "13326               4          0.671  \n",
       "13346               4          0.329  \n",
       "13490               4          0.591  \n",
       "13592               4          0.486  \n",
       "13308               4          0.350  \n",
       "13472               4          0.319  \n",
       "13290               4          0.218  \n",
       "11606               4          0.163  \n",
       "13319               4          0.273  \n",
       "13469               4          0.446  \n",
       "13476               4          0.443  \n",
       "13296               4          0.473  \n",
       "13294               4          0.711  \n",
       "13480               4          0.376  \n",
       "10609               4          0.575  \n",
       "13500               4          0.286  \n",
       "13144               4          0.213  \n",
       "14123               4          0.342  \n",
       "13298               4          0.374  \n",
       "13517               4          0.650  "
      ]
     },
     "execution_count": 20,
     "metadata": {},
     "output_type": "execute_result"
    }
   ],
   "source": [
    "cleared.sort_values(by=[\"song_popularity\"], ascending=False).head(20)"
   ]
  },
  {
   "cell_type": "markdown",
   "metadata": {},
   "source": [
    "Zur Gegenprobe kann die Anzahl einzigartiger Liednamen ermittelt werden."
   ]
  },
  {
   "cell_type": "code",
   "execution_count": 21,
   "metadata": {},
   "outputs": [
    {
     "data": {
      "text/plain": [
       "Heaven                      8\n",
       "Fire                        8\n",
       "You                         7\n",
       "Fall                        7\n",
       "Stay                        7\n",
       "                           ..\n",
       "Hallelujah I Love Her So    1\n",
       "Punches (with LP)           1\n",
       "Vibrate                     1\n",
       "3's & 7's                   1\n",
       "Est                         1\n",
       "Name: song_name, Length: 13070, dtype: int64"
      ]
     },
     "execution_count": 21,
     "metadata": {},
     "output_type": "execute_result"
    }
   ],
   "source": [
    "cleared[\"song_name\"].value_counts()"
   ]
  },
  {
   "cell_type": "markdown",
   "metadata": {},
   "source": [
    "Es ist erkennbar, dass weiterhin Lieder mit dem selben Titel mehrfach vorhanden sind. Jedoch ist es fraglich, ob sie vom selben Künstler stammen oder ob es auch die selbe Version eines Liedes ist, weil sie eine unterschiedliche Länge haben. Auffällig ist auch, dass sich unter den mehrfachvorkommenden Songtiteln vorallem generische Wörte wie \"Heaven\", \"Fire\", \"Fall\", \"Gone\" oder \"Stay\" befinden, was ein Indiz dafür sein kann, dass diese Lieder von unterschiedlichen Künstlern kommen könnten. Da es keine konkreten Anhaltspunkte gibt, werden keine weiteren Einträge entfernt."
   ]
  },
  {
   "cell_type": "markdown",
   "metadata": {},
   "source": [
    "### 2.2 Erweiterung des Datensatzes\n",
    "Zur Erweiterung des Basis-Datensatzes wird die Spotify Web API (https://developer.spotify.com/documentation/web-api/) verwendet. Dazu werden eine Client-ID und ein Client-Secret benötigt, die im Rahmen von ... erstellt werden können. "
   ]
  },
  {
   "cell_type": "code",
   "execution_count": 22,
   "metadata": {},
   "outputs": [],
   "source": [
    "CLIENT_ID = \"28f2619d8a6242ceae8160c565174771\"\n",
    "CLIENT_SECRET = \"5f6cb53e2614428380966f0e93e72c16\"\n",
    "\n",
    "sp = spotipy.Spotify(auth_manager=SpotifyClientCredentials(client_id=CLIENT_ID, client_secret=CLIENT_SECRET))\n",
    "\n",
    "expanded = cleared.copy()\n",
    "\n",
    "def expand_row(row):\n",
    "    time.sleep(0.1) # Sleep 100ms (=600 requests per min)\n",
    "    results = sp.search(q=row.song_name, limit=50, type=\"track\")\n",
    "\n",
    "    for _, track in enumerate(results[\"tracks\"][\"items\"]):\n",
    "        if track[\"duration_ms\"] == row.song_duration_ms:\n",
    "            row[\"artist\"] = track[\"artists\"][0][\"name\"]\n",
    "            row[\"explicit\"] = track[\"explicit\"]\n",
    "            return row\n",
    "    return row\n",
    "\n",
    "expanded = expanded.apply(expand_row, axis=1)"
   ]
  },
  {
   "cell_type": "markdown",
   "metadata": {},
   "source": [
    "Ausführung der Zelle hat circa 79 Minuten gedauert. Im Verlauf davon wurden 14.468 Anfragen an Spotify gesendet. Insgesamt wurden in vorherigen Tests circa 20.000 Anfragen an Spotify gesendet."
   ]
  },
  {
   "cell_type": "code",
   "execution_count": 46,
   "metadata": {},
   "outputs": [
    {
     "name": "stdout",
     "output_type": "stream",
     "text": [
      "<class 'pandas.core.frame.DataFrame'>\n",
      "RangeIndex: 14468 entries, 0 to 14467\n",
      "Data columns (total 18 columns):\n",
      " #   Column            Non-Null Count  Dtype  \n",
      "---  ------            --------------  -----  \n",
      " 0   Unnamed: 0        14468 non-null  int64  \n",
      " 1   acousticness      14468 non-null  float64\n",
      " 2   artist            10503 non-null  object \n",
      " 3   audio_mode        14468 non-null  int64  \n",
      " 4   audio_valence     14468 non-null  float64\n",
      " 5   danceability      14468 non-null  float64\n",
      " 6   energy            14468 non-null  float64\n",
      " 7   explicit          10503 non-null  object \n",
      " 8   instrumentalness  14468 non-null  float64\n",
      " 9   key               14468 non-null  int64  \n",
      " 10  liveness          14468 non-null  float64\n",
      " 11  loudness          14468 non-null  float64\n",
      " 12  song_duration_ms  14468 non-null  int64  \n",
      " 13  song_name         14468 non-null  object \n",
      " 14  song_popularity   14468 non-null  int64  \n",
      " 15  speechiness       14468 non-null  float64\n",
      " 16  tempo             14468 non-null  float64\n",
      " 17  time_signature    14468 non-null  int64  \n",
      "dtypes: float64(9), int64(6), object(3)\n",
      "memory usage: 2.0+ MB\n"
     ]
    }
   ],
   "source": [
    "expanded.info()\n",
    "expanded.to_csv(\"song_data_expanded.csv\")"
   ]
  },
  {
   "cell_type": "markdown",
   "metadata": {},
   "source": [
    "Leider können bei circa 3900 Zeilen nicht zweifelsfrei Artist bzw. Explizit ermittelt werden. Würde man jeweils auf das erste Ergebnis zurück greifen, wenn mit gleicher Songlänge kein Lied gefunden würde, könnten alle Zeilen gefüllt werden. Aber es ist fraglich, ob das jeweilige Ergebnis richtig ist. Daher davon abgesehen"
   ]
  },
  {
   "cell_type": "markdown",
   "metadata": {},
   "source": [
    "Wurde als eigene csv gecachet um weitere Anfragen zu vermeiden. Die CSV enthält sowohl die bereinigten Daten als auch die Erweiterungen."
   ]
  },
  {
   "cell_type": "code",
   "execution_count": 2,
   "metadata": {},
   "outputs": [],
   "source": [
    "cleared = pd.read_csv(\"song_data_expanded.csv\")"
   ]
  },
  {
   "cell_type": "markdown",
   "metadata": {},
   "source": [
    "## 3 Visualisierung und Korrelationen zwischen den Features\n",
    "\n",
    "\n",
    "- Clustern nach Künstler, haben wenige Künstler viel Popularität oder eher One-Hit-Wunder? --> Z.b. Top 100 nur, da Künstler fehlen\n",
    "- NLP vom Songtitel ?\n",
    "- Genre in Bezug zum Zeitraum"
   ]
  },
  {
   "cell_type": "markdown",
   "metadata": {},
   "source": [
    "### 3.1 Popularität eines Liedes"
   ]
  },
  {
   "cell_type": "code",
   "execution_count": 3,
   "metadata": {},
   "outputs": [
    {
     "data": {
      "text/plain": [
       "<AxesSubplot:>"
      ]
     },
     "execution_count": 3,
     "metadata": {},
     "output_type": "execute_result"
    },
    {
     "data": {
      "image/png": "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",
      "text/plain": [
       "<Figure size 432x288 with 1 Axes>"
      ]
     },
     "metadata": {
      "needs_background": "light"
     },
     "output_type": "display_data"
    }
   ],
   "source": [
    "cleared[\"song_popularity\"].hist(bins=14)"
   ]
  },
  {
   "cell_type": "markdown",
   "metadata": {},
   "source": [
    "Die Popularität eines Liedes ist mit Ausnahe des Intervalls [0;10] normalverteilt.  --> Ist das dann noch normalverteilt???"
   ]
  },
  {
   "cell_type": "code",
   "execution_count": 7,
   "metadata": {},
   "outputs": [
    {
     "data": {
      "text/plain": [
       "count    14468.000000\n",
       "mean        48.593655\n",
       "std         20.282872\n",
       "min          0.000000\n",
       "25%         37.000000\n",
       "50%         52.000000\n",
       "75%         63.000000\n",
       "max        100.000000\n",
       "Name: song_popularity, dtype: float64"
      ]
     },
     "execution_count": 7,
     "metadata": {},
     "output_type": "execute_result"
    }
   ],
   "source": [
    "cleared[\"song_popularity\"].describe()"
   ]
  },
  {
   "cell_type": "markdown",
   "metadata": {},
   "source": [
    "### 3.2 Länge eines Liedes"
   ]
  },
  {
   "cell_type": "code",
   "execution_count": 8,
   "metadata": {},
   "outputs": [
    {
     "name": "stdout",
     "output_type": "stream",
     "text": [
      "count    1.446800e+04\n",
      "mean     2.189403e+05\n",
      "std      6.287834e+04\n",
      "min      1.200000e+04\n",
      "25%      1.836518e+05\n",
      "50%      2.117835e+05\n",
      "75%      2.448130e+05\n",
      "max      1.799346e+06\n",
      "Name: song_duration_ms, dtype: float64\n",
      "median: 211783.5\n"
     ]
    },
    {
     "data": {
      "image/png": "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",
      "text/plain": [
       "<Figure size 432x288 with 1 Axes>"
      ]
     },
     "metadata": {
      "needs_background": "light"
     },
     "output_type": "display_data"
    }
   ],
   "source": [
    "cleared[\"song_duration_ms\"].hist(range=[0, 500000], bins=15)\n",
    "\n",
    "print(cleared[\"song_duration_ms\"].describe())\n",
    "print(\"median:\", cleared[\"song_duration_ms\"].median())"
   ]
  },
  {
   "cell_type": "markdown",
   "metadata": {},
   "source": [
    "Die Länge der Lieder ist normalverteilt, zeichnet sich durch Ausreißer auf der rechten Seite aus. \n",
    "Das arithmetische Mittel liegt bei X, der Median bei Y. Die Abweichung zwischen diesen beiden Maßen bedingt durch Ausreißer, Median robuster gegenüber Ausreißern (QUELLE)"
   ]
  },
  {
   "cell_type": "code",
   "execution_count": 9,
   "metadata": {},
   "outputs": [
    {
     "data": {
      "text/plain": [
       "<AxesSubplot:>"
      ]
     },
     "execution_count": 9,
     "metadata": {},
     "output_type": "execute_result"
    },
    {
     "data": {
      "image/png": "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",
      "text/plain": [
       "<Figure size 432x288 with 1 Axes>"
      ]
     },
     "metadata": {
      "needs_background": "light"
     },
     "output_type": "display_data"
    }
   ],
   "source": [
    "cleared[\"song_duration_ms\"].plot.box()"
   ]
  },
  {
   "cell_type": "markdown",
   "metadata": {},
   "source": [
    "Boxplot stellt dar, wie deutliche Ausreißer besonders nach oben hin auftreten. Evtl. Indikator welches Intervall betrachtet werden sollte - gerade wenn Filtering nötig wird, um bessere Ergebnisse zu erzielen"
   ]
  },
  {
   "cell_type": "markdown",
   "metadata": {},
   "source": [
    "### 3.3 Musikalische Eigenschaften (numerisch) eines Liedes"
   ]
  },
  {
   "cell_type": "code",
   "execution_count": 10,
   "metadata": {},
   "outputs": [
    {
     "data": {
      "text/plain": [
       "<AxesSubplot:>"
      ]
     },
     "execution_count": 10,
     "metadata": {},
     "output_type": "execute_result"
    },
    {
     "data": {
      "image/png": "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",
      "text/plain": [
       "<Figure size 1080x1080 with 9 Axes>"
      ]
     },
     "metadata": {
      "needs_background": "light"
     },
     "output_type": "display_data"
    }
   ],
   "source": [
    "fig, axes = plt.subplots(nrows=3, ncols=3)\n",
    "fig.set_figheight(15)\n",
    "fig.set_figwidth(15)\n",
    "\n",
    "cleared[\"acousticness\"].hist(ax=axes[0,0])\n",
    "cleared[\"danceability\"].hist(ax=axes[0,1])\n",
    "cleared[\"energy\"].hist(ax=axes[0,2])\n",
    "\n",
    "cleared[\"instrumentalness\"].hist(ax=axes[1,0])\n",
    "cleared[\"liveness\"].hist(ax=axes[1,1])\n",
    "cleared[\"loudness\"].hist(ax=axes[1,2])\n",
    "\n",
    "cleared[\"speechiness\"].hist(ax=axes[2,0])\n",
    "cleared[\"tempo\"].hist(ax=axes[2,1])\n",
    "cleared[\"audio_valence\"].hist(ax=axes[2,2])"
   ]
  },
  {
   "cell_type": "markdown",
   "metadata": {},
   "source": [
    "#### 3.3.1 Acousticness"
   ]
  },
  {
   "cell_type": "code",
   "execution_count": 11,
   "metadata": {},
   "outputs": [
    {
     "data": {
      "text/plain": [
       "<AxesSubplot:>"
      ]
     },
     "execution_count": 11,
     "metadata": {},
     "output_type": "execute_result"
    },
    {
     "data": {
      "image/png": "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",
      "text/plain": [
       "<Figure size 432x288 with 1 Axes>"
      ]
     },
     "metadata": {
      "needs_background": "light"
     },
     "output_type": "display_data"
    }
   ],
   "source": [
    "cleared[\"acousticness\"].hist()"
   ]
  },
  {
   "cell_type": "markdown",
   "metadata": {},
   "source": [
    "Die Akustik der Lieder ist mit Ausnahme des Intervalls [0.0;0.1] nahezu gleichverteilt"
   ]
  },
  {
   "cell_type": "code",
   "execution_count": 12,
   "metadata": {},
   "outputs": [
    {
     "data": {
      "text/plain": [
       "count    14468.000000\n",
       "mean         0.273181\n",
       "std          0.299414\n",
       "min          0.000001\n",
       "25%          0.024300\n",
       "50%          0.142000\n",
       "75%          0.466000\n",
       "max          0.996000\n",
       "Name: acousticness, dtype: float64"
      ]
     },
     "execution_count": 12,
     "metadata": {},
     "output_type": "execute_result"
    }
   ],
   "source": [
    "cleared[\"acousticness\"].describe()"
   ]
  },
  {
   "cell_type": "markdown",
   "metadata": {},
   "source": [
    "#### 3.3.2 Danceability"
   ]
  },
  {
   "cell_type": "code",
   "execution_count": 13,
   "metadata": {},
   "outputs": [
    {
     "data": {
      "text/plain": [
       "<AxesSubplot:>"
      ]
     },
     "execution_count": 13,
     "metadata": {},
     "output_type": "execute_result"
    },
    {
     "data": {
      "image/png": "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",
      "text/plain": [
       "<Figure size 432x288 with 1 Axes>"
      ]
     },
     "metadata": {
      "needs_background": "light"
     },
     "output_type": "display_data"
    }
   ],
   "source": [
    "cleared[\"danceability\"].hist(bins=14)"
   ]
  },
  {
   "cell_type": "markdown",
   "metadata": {},
   "source": [
    "Normalverteilt?"
   ]
  },
  {
   "cell_type": "code",
   "execution_count": 14,
   "metadata": {},
   "outputs": [
    {
     "data": {
      "text/plain": [
       "count    14468.000000\n",
       "mean         0.624570\n",
       "std          0.158247\n",
       "min          0.000000\n",
       "25%          0.524000\n",
       "50%          0.636000\n",
       "75%          0.740000\n",
       "max          0.987000\n",
       "Name: danceability, dtype: float64"
      ]
     },
     "execution_count": 14,
     "metadata": {},
     "output_type": "execute_result"
    }
   ],
   "source": [
    "cleared[\"danceability\"].describe()"
   ]
  },
  {
   "cell_type": "markdown",
   "metadata": {},
   "source": [
    "#### 3.3.3 Energy"
   ]
  },
  {
   "cell_type": "code",
   "execution_count": 15,
   "metadata": {},
   "outputs": [
    {
     "data": {
      "text/plain": [
       "<AxesSubplot:>"
      ]
     },
     "execution_count": 15,
     "metadata": {},
     "output_type": "execute_result"
    },
    {
     "data": {
      "image/png": "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",
      "text/plain": [
       "<Figure size 432x288 with 1 Axes>"
      ]
     },
     "metadata": {
      "needs_background": "light"
     },
     "output_type": "display_data"
    }
   ],
   "source": [
    "cleared[\"energy\"].hist(bins=12)"
   ]
  },
  {
   "cell_type": "markdown",
   "metadata": {},
   "source": []
  },
  {
   "cell_type": "code",
   "execution_count": 16,
   "metadata": {},
   "outputs": [
    {
     "data": {
      "text/plain": [
       "count    14468.000000\n",
       "mean         0.638505\n",
       "std          0.222621\n",
       "min          0.001070\n",
       "25%          0.494000\n",
       "50%          0.671000\n",
       "75%          0.817000\n",
       "max          0.999000\n",
       "Name: energy, dtype: float64"
      ]
     },
     "execution_count": 16,
     "metadata": {},
     "output_type": "execute_result"
    }
   ],
   "source": [
    "cleared[\"energy\"].describe()"
   ]
  },
  {
   "cell_type": "markdown",
   "metadata": {},
   "source": [
    "#### 3.3.4 Instrumentalness"
   ]
  },
  {
   "cell_type": "code",
   "execution_count": 17,
   "metadata": {},
   "outputs": [
    {
     "data": {
      "text/plain": [
       "<AxesSubplot:>"
      ]
     },
     "execution_count": 17,
     "metadata": {},
     "output_type": "execute_result"
    },
    {
     "data": {
      "image/png": "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",
      "text/plain": [
       "<Figure size 432x288 with 1 Axes>"
      ]
     },
     "metadata": {
      "needs_background": "light"
     },
     "output_type": "display_data"
    }
   ],
   "source": [
    "cleared[\"instrumentalness\"].hist()"
   ]
  },
  {
   "cell_type": "markdown",
   "metadata": {},
   "source": [
    "Großteil der Werte Liegen in dem Intervall [0;0.1]. Deswegen dort genauere Betrachtung"
   ]
  },
  {
   "cell_type": "code",
   "execution_count": 18,
   "metadata": {},
   "outputs": [
    {
     "data": {
      "text/plain": [
       "0.000000    5057\n",
       "0.001050      13\n",
       "0.000001      13\n",
       "0.001030      12\n",
       "0.000011      11\n",
       "            ... \n",
       "0.000009       1\n",
       "0.623000       1\n",
       "0.008280       1\n",
       "0.000008       1\n",
       "0.989000       1\n",
       "Name: instrumentalness, Length: 3903, dtype: int64"
      ]
     },
     "execution_count": 18,
     "metadata": {},
     "output_type": "execute_result"
    },
    {
     "data": {
      "image/png": "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",
      "text/plain": [
       "<Figure size 432x288 with 1 Axes>"
      ]
     },
     "metadata": {
      "needs_background": "light"
     },
     "output_type": "display_data"
    }
   ],
   "source": [
    "cleared[\"instrumentalness\"].hist(range=[0, 0.1], bins=20)\n",
    "cleared[\"instrumentalness\"].value_counts()"
   ]
  },
  {
   "cell_type": "code",
   "execution_count": 19,
   "metadata": {},
   "outputs": [
    {
     "data": {
      "text/plain": [
       "count    14468.000000\n",
       "mean         0.093888\n",
       "std          0.242796\n",
       "min          0.000000\n",
       "25%          0.000000\n",
       "50%          0.000022\n",
       "75%          0.005482\n",
       "max          0.997000\n",
       "Name: instrumentalness, dtype: float64"
      ]
     },
     "execution_count": 19,
     "metadata": {},
     "output_type": "execute_result"
    }
   ],
   "source": [
    "cleared[\"instrumentalness\"].describe()"
   ]
  },
  {
   "cell_type": "markdown",
   "metadata": {},
   "source": [
    "#### 3.3.5 Liveness"
   ]
  },
  {
   "cell_type": "code",
   "execution_count": 20,
   "metadata": {},
   "outputs": [
    {
     "data": {
      "text/plain": [
       "<AxesSubplot:>"
      ]
     },
     "execution_count": 20,
     "metadata": {},
     "output_type": "execute_result"
    },
    {
     "data": {
      "image/png": "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",
      "text/plain": [
       "<Figure size 432x288 with 1 Axes>"
      ]
     },
     "metadata": {
      "needs_background": "light"
     },
     "output_type": "display_data"
    }
   ],
   "source": [
    "cleared[\"liveness\"].hist(bins=12)"
   ]
  },
  {
   "cell_type": "code",
   "execution_count": 21,
   "metadata": {},
   "outputs": [
    {
     "data": {
      "text/plain": [
       "count    14468.000000\n",
       "mean         0.180578\n",
       "std          0.145397\n",
       "min          0.010900\n",
       "25%          0.093100\n",
       "50%          0.121000\n",
       "75%          0.224000\n",
       "max          0.986000\n",
       "Name: liveness, dtype: float64"
      ]
     },
     "execution_count": 21,
     "metadata": {},
     "output_type": "execute_result"
    }
   ],
   "source": [
    "cleared[\"liveness\"].describe()"
   ]
  },
  {
   "cell_type": "markdown",
   "metadata": {},
   "source": [
    "#### 3.3.6 Loudness"
   ]
  },
  {
   "cell_type": "code",
   "execution_count": 22,
   "metadata": {},
   "outputs": [
    {
     "data": {
      "text/plain": [
       "<AxesSubplot:>"
      ]
     },
     "execution_count": 22,
     "metadata": {},
     "output_type": "execute_result"
    },
    {
     "data": {
      "image/png": "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",
      "text/plain": [
       "<Figure size 432x288 with 1 Axes>"
      ]
     },
     "metadata": {
      "needs_background": "light"
     },
     "output_type": "display_data"
    }
   ],
   "source": [
    "cleared[\"loudness\"].hist(bins=16)"
   ]
  },
  {
   "cell_type": "code",
   "execution_count": 23,
   "metadata": {},
   "outputs": [
    {
     "data": {
      "text/plain": [
       "count    14468.000000\n",
       "mean        -7.718469\n",
       "std          4.046014\n",
       "min        -38.768000\n",
       "25%         -9.439250\n",
       "50%         -6.787500\n",
       "75%         -5.017750\n",
       "max          1.585000\n",
       "Name: loudness, dtype: float64"
      ]
     },
     "execution_count": 23,
     "metadata": {},
     "output_type": "execute_result"
    }
   ],
   "source": [
    "cleared[\"loudness\"].describe()"
   ]
  },
  {
   "cell_type": "markdown",
   "metadata": {},
   "source": [
    "#### 3.3.7 Speechiness"
   ]
  },
  {
   "cell_type": "code",
   "execution_count": 24,
   "metadata": {},
   "outputs": [
    {
     "data": {
      "text/plain": [
       "<AxesSubplot:>"
      ]
     },
     "execution_count": 24,
     "metadata": {},
     "output_type": "execute_result"
    },
    {
     "data": {
      "image/png": "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",
      "text/plain": [
       "<Figure size 432x288 with 1 Axes>"
      ]
     },
     "metadata": {
      "needs_background": "light"
     },
     "output_type": "display_data"
    }
   ],
   "source": [
    "cleared[\"speechiness\"].hist(bins=16)"
   ]
  },
  {
   "cell_type": "code",
   "execution_count": 25,
   "metadata": {},
   "outputs": [
    {
     "data": {
      "text/plain": [
       "count    14468.000000\n",
       "mean         0.099633\n",
       "std          0.103932\n",
       "min          0.000000\n",
       "25%          0.037200\n",
       "50%          0.054100\n",
       "75%          0.113000\n",
       "max          0.941000\n",
       "Name: speechiness, dtype: float64"
      ]
     },
     "execution_count": 25,
     "metadata": {},
     "output_type": "execute_result"
    }
   ],
   "source": [
    "cleared[\"speechiness\"].describe()"
   ]
  },
  {
   "cell_type": "markdown",
   "metadata": {},
   "source": [
    "#### 3.3.8 Tempo"
   ]
  },
  {
   "cell_type": "code",
   "execution_count": 26,
   "metadata": {},
   "outputs": [
    {
     "data": {
      "text/plain": [
       "<AxesSubplot:>"
      ]
     },
     "execution_count": 26,
     "metadata": {},
     "output_type": "execute_result"
    },
    {
     "data": {
      "image/png": "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",
      "text/plain": [
       "<Figure size 432x288 with 1 Axes>"
      ]
     },
     "metadata": {
      "needs_background": "light"
     },
     "output_type": "display_data"
    }
   ],
   "source": [
    "cleared[\"tempo\"].hist(range=[40, 240], bins=11)"
   ]
  },
  {
   "cell_type": "code",
   "execution_count": 27,
   "metadata": {},
   "outputs": [
    {
     "data": {
      "text/plain": [
       "count    14468.000000\n",
       "mean       121.191691\n",
       "std         29.079174\n",
       "min          0.000000\n",
       "25%         98.227250\n",
       "50%        120.023500\n",
       "75%        139.956000\n",
       "max        242.318000\n",
       "Name: tempo, dtype: float64"
      ]
     },
     "execution_count": 27,
     "metadata": {},
     "output_type": "execute_result"
    }
   ],
   "source": [
    "cleared[\"tempo\"].describe()"
   ]
  },
  {
   "cell_type": "markdown",
   "metadata": {},
   "source": [
    "#### 3.3.9 Audio Valence"
   ]
  },
  {
   "cell_type": "code",
   "execution_count": 28,
   "metadata": {},
   "outputs": [
    {
     "data": {
      "text/plain": [
       "<AxesSubplot:>"
      ]
     },
     "execution_count": 28,
     "metadata": {},
     "output_type": "execute_result"
    },
    {
     "data": {
      "image/png": "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",
      "text/plain": [
       "<Figure size 432x288 with 1 Axes>"
      ]
     },
     "metadata": {
      "needs_background": "light"
     },
     "output_type": "display_data"
    }
   ],
   "source": [
    "cleared[\"audio_valence\"].hist()"
   ]
  },
  {
   "cell_type": "code",
   "execution_count": 29,
   "metadata": {},
   "outputs": [
    {
     "data": {
      "text/plain": [
       "count    14468.000000\n",
       "mean         0.527793\n",
       "std          0.248473\n",
       "min          0.000000\n",
       "25%          0.332000\n",
       "50%          0.528000\n",
       "75%          0.730000\n",
       "max          0.984000\n",
       "Name: audio_valence, dtype: float64"
      ]
     },
     "execution_count": 29,
     "metadata": {},
     "output_type": "execute_result"
    }
   ],
   "source": [
    "cleared[\"audio_valence\"].describe()"
   ]
  },
  {
   "cell_type": "markdown",
   "metadata": {},
   "source": [
    "## 3.4 Musikalische Eigenschaften (kategorisch) eines Liedes"
   ]
  },
  {
   "cell_type": "markdown",
   "metadata": {},
   "source": [
    "### 3.4.1 key (Tonart)"
   ]
  },
  {
   "cell_type": "code",
   "execution_count": 30,
   "metadata": {},
   "outputs": [
    {
     "data": {
      "text/plain": [
       "([<matplotlib.axis.XTick at 0x15b03a254c0>,\n",
       "  <matplotlib.axis.XTick at 0x15b03a25490>,\n",
       "  <matplotlib.axis.XTick at 0x15b03a42b80>,\n",
       "  <matplotlib.axis.XTick at 0x15b03a77340>,\n",
       "  <matplotlib.axis.XTick at 0x15b03a77850>,\n",
       "  <matplotlib.axis.XTick at 0x15b03a77d60>,\n",
       "  <matplotlib.axis.XTick at 0x15b03a822b0>,\n",
       "  <matplotlib.axis.XTick at 0x15b03a827c0>,\n",
       "  <matplotlib.axis.XTick at 0x15b03a21070>,\n",
       "  <matplotlib.axis.XTick at 0x15b03a824f0>,\n",
       "  <matplotlib.axis.XTick at 0x15b03a77580>,\n",
       "  <matplotlib.axis.XTick at 0x15b03a88280>],\n",
       " [Text(0, 0, 'C'),\n",
       "  Text(1, 0, 'C#'),\n",
       "  Text(2, 0, 'D'),\n",
       "  Text(3, 0, 'D#'),\n",
       "  Text(4, 0, 'E'),\n",
       "  Text(5, 0, 'F'),\n",
       "  Text(6, 0, 'F#'),\n",
       "  Text(7, 0, 'G'),\n",
       "  Text(8, 0, 'G#'),\n",
       "  Text(9, 0, 'A'),\n",
       "  Text(10, 0, 'A#'),\n",
       "  Text(11, 0, 'B')])"
      ]
     },
     "execution_count": 30,
     "metadata": {},
     "output_type": "execute_result"
    },
    {
     "data": {
      "image/png": "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",
      "text/plain": [
       "<Figure size 864x432 with 1 Axes>"
      ]
     },
     "metadata": {
      "needs_background": "light"
     },
     "output_type": "display_data"
    }
   ],
   "source": [
    "fig, ax = plt.subplots(figsize=(12, 6))\n",
    "cleared[\"key\"].value_counts().sort_index().plot.bar()\n",
    "\n",
    "plt.xticks(range(0, 12), labels=[\"C\", \"C#\", \"D\", \"D#\", \"E\", \"F\", \"F#\", \"G\", \"G#\", \"A\", \"A#\", \"B\"], rotation=0)"
   ]
  },
  {
   "cell_type": "code",
   "execution_count": 31,
   "metadata": {},
   "outputs": [
    {
     "data": {
      "text/plain": [
       "0     1674\n",
       "7     1601\n",
       "1     1540\n",
       "9     1373\n",
       "2     1359\n",
       "5     1214\n",
       "11    1180\n",
       "4     1058\n",
       "6     1024\n",
       "8     1017\n",
       "10    1001\n",
       "3      427\n",
       "Name: key, dtype: int64"
      ]
     },
     "execution_count": 31,
     "metadata": {},
     "output_type": "execute_result"
    }
   ],
   "source": [
    "cleared[\"key\"].value_counts()"
   ]
  },
  {
   "cell_type": "markdown",
   "metadata": {},
   "source": [
    "### 3.4.2 audio_mode (Modalität der Tonleiter)"
   ]
  },
  {
   "cell_type": "code",
   "execution_count": 32,
   "metadata": {},
   "outputs": [
    {
     "data": {
      "text/plain": [
       "([<matplotlib.axis.XTick at 0x15b03abc6a0>,\n",
       "  <matplotlib.axis.XTick at 0x15b03abc670>],\n",
       " [Text(0, 0, 'Moll'), Text(1, 0, 'Dur')])"
      ]
     },
     "execution_count": 32,
     "metadata": {},
     "output_type": "execute_result"
    },
    {
     "data": {
      "image/png": "iVBORw0KGgoAAAANSUhEUgAAAX0AAAD4CAYAAAAAczaOAAAAOXRFWHRTb2Z0d2FyZQBNYXRwbG90bGliIHZlcnNpb24zLjMuMywgaHR0cHM6Ly9tYXRwbG90bGliLm9yZy/Il7ecAAAACXBIWXMAAAsTAAALEwEAmpwYAAANNUlEQVR4nO3cbYxmZX3H8e/PXRG1UZ5GYnc3nW3ctEHjUzaAsWmMtIDSdEmqBmPq1pDsG2xtY9Oib9YnEk2sVGO12cg2aK1I0JSNkhoCmtQmri6CWKCECajsBmRwEav40KX/vpgLOpKZnXtl9h6c//eTkDnnOte55zrJ5nsfzt73pqqQJPXwtLVegCRpeoy+JDVi9CWpEaMvSY0YfUlqZONaL+BoTjvttJqdnV3rZUjSr5WbbrrpwaqaWerYUzr6s7OzHDhwYK2XIUm/VpJ8d7ljPt6RpEaMviQ1YvQlqRGjL0mNGH1JasToS1IjRl+SGjH6ktSI0ZekRp7S38iV9OTNXvrFtV7CuvGd91+w1kt40rzTl6RGjL4kNWL0JakRoy9JjRh9SWrE6EtSI0Zfkhox+pLUiNGXpEaMviQ1YvQlqRGjL0mNGH1JasToS1IjRl+SGjH6ktSI0ZekRoy+JDVi9CWpEaMvSY0YfUlqZKLoJ/mrJLcl+c8kn0lyYpKtSfYnmUvy2SQnjLnPGPtz4/jsotd5xxi/M8l5x+maJEnLWDH6STYBfwFsr6oXARuAi4APAJdX1QuAh4CLxykXAw+N8cvHPJKcMc57IXA+8LEkG1b3ciRJRzPp452NwDOTbASeBdwHvBq4Zhy/ErhwbO8Y+4zj5yTJGL+qqn5eVfcAc8CZT/oKJEkTWzH6VXUI+CDwPRZi/zBwE/DDqjoyph0ENo3tTcC949wjY/6pi8eXOOdxSXYlOZDkwPz8/K9yTZKkZUzyeOdkFu7StwK/CTybhcczx0VV7amq7VW1fWZm5nj9GklqaZLHO38A3FNV81X1P8DngVcCJ43HPQCbgUNj+xCwBWAcfy7wg8XjS5wjSZqCSaL/PeDsJM8az+bPAW4Hvgy8bszZCVw7tveNfcbxG6uqxvhF49M9W4FtwNdX5zIkSZPYuNKEqtqf5Brgm8AR4GZgD/BF4Kok7xtjV4xTrgA+lWQOOMzCJ3aoqtuSXM3CG8YR4JKqenSVr0eSdBQrRh+gqnYDu58wfDdLfPqmqn4GvH6Z17kMuOwY1yhJWiV+I1eSGjH6ktSI0ZekRoy+JDVi9CWpEaMvSY0YfUlqxOhLUiNGX5IaMfqS1IjRl6RGjL4kNWL0JakRoy9JjRh9SWrE6EtSI0Zfkhox+pLUiNGXpEaMviQ1YvQlqRGjL0mNGH1JasToS1IjRl+SGjH6ktSI0ZekRoy+JDVi9CWpEaMvSY0YfUlqxOhLUiNGX5IaMfqS1IjRl6RGjL4kNWL0JamRiaKf5KQk1yT5ryR3JHlFklOSXJ/krvHz5DE3ST6SZC7JrUlevuh1do75dyXZebwuSpK0tEnv9D8M/FtV/S7wEuAO4FLghqraBtww9gFeA2wb/+0CPg6Q5BRgN3AWcCaw+7E3CknSdKwY/STPBX4fuAKgqn5RVT8EdgBXjmlXAheO7R3AJ2vB14CTkjwfOA+4vqoOV9VDwPXA+at4LZKkFUxyp78VmAf+KcnNST6R5NnA6VV135hzP3D62N4E3Lvo/INjbLnxX5JkV5IDSQ7Mz88f29VIko5qkuhvBF4OfLyqXgb8hP9/lANAVRVQq7GgqtpTVduravvMzMxqvKQkaZgk+geBg1W1f+xfw8KbwPfHYxvGzwfG8UPAlkXnbx5jy41LkqZkxehX1f3AvUl+ZwydA9wO7AMe+wTOTuDasb0PePP4FM/ZwMPjMdCXgHOTnDz+AvfcMSZJmpKNE877c+DTSU4A7gbewsIbxtVJLga+C7xhzL0OeC0wBzwy5lJVh5O8F/jGmPeeqjq8KlchSZrIRNGvqluA7UscOmeJuQVcsszr7AX2HsP6JEmryG/kSlIjRl+SGjH6ktSI0ZekRoy+JDVi9CWpEaMvSY0YfUlqxOhLUiOT/jMMOorZS7+41ktYV77z/gvWegnSuuWdviQ1YvQlqRGjL0mNGH1JasToS1IjRl+SGjH6ktSI0ZekRoy+JDVi9CWpEaMvSY0YfUlqxOhLUiNGX5IaMfqS1IjRl6RGjL4kNWL0JakRoy9JjRh9SWrE6EtSI0Zfkhox+pLUiNGXpEaMviQ1YvQlqZGJo59kQ5Kbk3xh7G9Nsj/JXJLPJjlhjD9j7M+N47OLXuMdY/zOJOet+tVIko7qWO703wbcsWj/A8DlVfUC4CHg4jF+MfDQGL98zCPJGcBFwAuB84GPJdnw5JYvSToWE0U/yWbgAuATYz/Aq4FrxpQrgQvH9o6xzzh+zpi/A7iqqn5eVfcAc8CZq3ANkqQJTXqn//fA3wD/O/ZPBX5YVUfG/kFg09jeBNwLMI4/POY/Pr7EOY9LsivJgSQH5ufnJ78SSdKKVox+kj8CHqiqm6awHqpqT1Vtr6rtMzMz0/iVktTGxgnmvBL44ySvBU4EngN8GDgpycZxN78ZODTmHwK2AAeTbASeC/xg0fhjFp8jSZqCFe/0q+odVbW5qmZZ+IvYG6vqTcCXgdeNaTuBa8f2vrHPOH5jVdUYv2h8umcrsA34+qpdiSRpRZPc6S/nb4GrkrwPuBm4YoxfAXwqyRxwmIU3CqrqtiRXA7cDR4BLqurRJ/H7JUnH6JiiX1VfAb4ytu9miU/fVNXPgNcvc/5lwGXHukhJ0urwG7mS1IjRl6RGjL4kNWL0JakRoy9JjRh9SWrE6EtSI0Zfkhox+pLUiNGXpEaMviQ1YvQlqRGjL0mNGH1JasToS1IjRl+SGjH6ktSI0ZekRoy+JDVi9CWpEaMvSY0YfUlqxOhLUiNGX5IaMfqS1IjRl6RGjL4kNWL0JakRoy9JjRh9SWrE6EtSI0Zfkhox+pLUiNGXpEaMviQ1YvQlqZEVo59kS5IvJ7k9yW1J3jbGT0lyfZK7xs+Tx3iSfCTJXJJbk7x80WvtHPPvSrLz+F2WJGkpk9zpHwHeXlVnAGcDlyQ5A7gUuKGqtgE3jH2A1wDbxn+7gI/DwpsEsBs4CzgT2P3YG4UkaTpWjH5V3VdV3xzb/w3cAWwCdgBXjmlXAheO7R3AJ2vB14CTkjwfOA+4vqoOV9VDwPXA+at5MZKkozumZ/pJZoGXAfuB06vqvnHofuD0sb0JuHfRaQfH2HLjT/wdu5IcSHJgfn7+WJYnSVrBxNFP8hvA54C/rKofLT5WVQXUaiyoqvZU1faq2j4zM7MaLylJGiaKfpKnsxD8T1fV58fw98djG8bPB8b4IWDLotM3j7HlxiVJUzLJp3cCXAHcUVUfWnRoH/DYJ3B2AtcuGn/z+BTP2cDD4zHQl4Bzk5w8/gL33DEmSZqSjRPMeSXwp8C3k9wyxt4JvB+4OsnFwHeBN4xj1wGvBeaAR4C3AFTV4STvBb4x5r2nqg6vxkVIkiazYvSr6qtAljl8zhLzC7hkmdfaC+w9lgVKklaP38iVpEaMviQ1YvQlqRGjL0mNGH1JasToS1IjRl+SGjH6ktSI0ZekRoy+JDVi9CWpEaMvSY0YfUlqxOhLUiNGX5IaMfqS1IjRl6RGjL4kNWL0JakRoy9JjRh9SWrE6EtSI0Zfkhox+pLUiNGXpEaMviQ1YvQlqRGjL0mNGH1JasToS1IjRl+SGjH6ktSI0ZekRoy+JDVi9CWpEaMvSY0YfUlqZOrRT3J+kjuTzCW5dNq/X5I6m2r0k2wA/gF4DXAG8MYkZ0xzDZLU2bTv9M8E5qrq7qr6BXAVsGPKa5CktjZO+fdtAu5dtH8QOGvxhCS7gF1j98dJ7pzS2jo4DXhwrRexknxgrVegNeCfzdX1W8sdmHb0V1RVe4A9a72O9SjJgaravtbrkJ7IP5vTM+3HO4eALYv2N48xSdIUTDv63wC2Jdma5ATgImDflNcgSW1N9fFOVR1J8lbgS8AGYG9V3TbNNTTnYzM9Vflnc0pSVWu9BknSlPiNXElqxOhLUiNGf51IUkn+edH+xiTzSb6wwnl/luSjY/tdSf76eK9V/SR5NMktSW5L8q0kb09if9bAU+5z+vqV/QR4UZJnVtVPgT/Ej8PqqeOnVfVSgCTPA/4FeA6we9IXSLKhqh49Psvrw3fa9eU64IKx/UbgM48dSHJKkn9NcmuSryV58ZqsUO1V1QMsfOv+rVnw+P9tAiT5QpJXje0fJ/m7JN8CXrEmC15njP76chVwUZITgRcD+xcdezdwc1W9GHgn8Mk1WJ8EQFXdzcLHtp+3wtRnA/ur6iVV9dXjv7L1z8c760hV3ZpkloW7/OuecPj3gD8Z825McmqS50x5idKxehT43FovYj0x+uvPPuCDwKuAU9d2KdLSkvw2C0F/ADjCLz91OHHR9s98jr+6fLyz/uwF3l1V337C+L8DbwIYz0sfrKofTXdpEiSZAf4R+GgtfDv0O8BLkzwtyRYW/gl2HSfe6a8zVXUQ+MgSh94F7E1yK/AIsHOa61J7z0xyC/B0Fu7sPwV8aBz7D+Ae4HbgDuCba7HALvxnGCSpER/vSFIjRl+SGjH6ktSI0ZekRoy+JDVi9CWpEaMvSY38H3ekDC2uzOJOAAAAAElFTkSuQmCC",
      "text/plain": [
       "<Figure size 432x288 with 1 Axes>"
      ]
     },
     "metadata": {
      "needs_background": "light"
     },
     "output_type": "display_data"
    }
   ],
   "source": [
    "cleared[\"audio_mode\"].value_counts().sort_index().plot.bar()\n",
    "plt.xticks([0, 1], labels=[\"Moll\", \"Dur\"], rotation=0)"
   ]
  },
  {
   "cell_type": "markdown",
   "metadata": {},
   "source": [
    "### 3.4.3 time_signature (Taktangabe)\n",
    "\n",
    "Taktangabe (int 3-7), gibt Takt von 3/4 Takt bis 7/4 Takt an"
   ]
  },
  {
   "cell_type": "code",
   "execution_count": 77,
   "metadata": {},
   "outputs": [
    {
     "data": {
      "text/plain": [
       "([<matplotlib.axis.XTick at 0x1e18640f850>,\n",
       "  <matplotlib.axis.XTick at 0x1e18640f820>,\n",
       "  <matplotlib.axis.XTick at 0x1e186429cd0>,\n",
       "  <matplotlib.axis.XTick at 0x1e186439f10>,\n",
       "  <matplotlib.axis.XTick at 0x1e186446460>],\n",
       " [Text(0, 0, '7/4'),\n",
       "  Text(1, 0, '6/4'),\n",
       "  Text(2, 0, '5/4'),\n",
       "  Text(3, 0, '4/4'),\n",
       "  Text(4, 0, '3/4')])"
      ]
     },
     "execution_count": 77,
     "metadata": {},
     "output_type": "execute_result"
    },
    {
     "data": {
      "image/png": "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",
      "text/plain": [
       "<Figure size 432x288 with 1 Axes>"
      ]
     },
     "metadata": {
      "needs_background": "light"
     },
     "output_type": "display_data"
    }
   ],
   "source": [
    "cleared[\"time_signature\"].value_counts().sort_index().plot.bar()\n",
    "plt.xticks(range(0, 5), labels=[\"7/4\", \"6/4\", \"5/4\", \"4/4\", \"3/4\"], rotation=0)"
   ]
  },
  {
   "cell_type": "code",
   "execution_count": 35,
   "metadata": {},
   "outputs": [
    {
     "data": {
      "text/plain": [
       "count    14468.000000\n",
       "mean         3.953000\n",
       "std          0.316593\n",
       "min          0.000000\n",
       "25%          4.000000\n",
       "50%          4.000000\n",
       "75%          4.000000\n",
       "max          5.000000\n",
       "Name: time_signature, dtype: float64"
      ]
     },
     "execution_count": 35,
     "metadata": {},
     "output_type": "execute_result"
    }
   ],
   "source": [
    "cleared[\"time_signature\"].describe()"
   ]
  },
  {
   "cell_type": "markdown",
   "metadata": {},
   "source": [
    "## 3.5 Korrelationen zwischen den Datenwerten"
   ]
  },
  {
   "cell_type": "code",
   "execution_count": 79,
   "metadata": {},
   "outputs": [
    {
     "data": {
      "image/png": "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",
      "text/plain": [
       "<Figure size 864x864 with 2 Axes>"
      ]
     },
     "metadata": {
      "needs_background": "light"
     },
     "output_type": "display_data"
    }
   ],
   "source": [
    "# Instrumentalness mit accousticness\n",
    "matrix = cleared.corr()\n",
    "fig, ax = plt.subplots(figsize=(12, 12))\n",
    "sns.heatmap(matrix, annot=True, cmap=plt.cm.Greens)\n",
    "plt.show()"
   ]
  },
  {
   "cell_type": "markdown",
   "metadata": {},
   "source": [
    "### 3.6 Deskriptive Analyse des erweiterten Datensatzes"
   ]
  },
  {
   "cell_type": "code",
   "execution_count": 15,
   "metadata": {},
   "outputs": [
    {
     "data": {
      "text/html": [
       "<div>\n",
       "<style scoped>\n",
       "    .dataframe tbody tr th:only-of-type {\n",
       "        vertical-align: middle;\n",
       "    }\n",
       "\n",
       "    .dataframe tbody tr th {\n",
       "        vertical-align: top;\n",
       "    }\n",
       "\n",
       "    .dataframe thead th {\n",
       "        text-align: right;\n",
       "    }\n",
       "</style>\n",
       "<table border=\"1\" class=\"dataframe\">\n",
       "  <thead>\n",
       "    <tr style=\"text-align: right;\">\n",
       "      <th></th>\n",
       "      <th>Unnamed: 0</th>\n",
       "      <th>acousticness</th>\n",
       "      <th>artist</th>\n",
       "      <th>audio_mode</th>\n",
       "      <th>audio_valence</th>\n",
       "      <th>danceability</th>\n",
       "      <th>energy</th>\n",
       "      <th>instrumentalness</th>\n",
       "      <th>key</th>\n",
       "      <th>liveness</th>\n",
       "      <th>loudness</th>\n",
       "      <th>song_duration_ms</th>\n",
       "      <th>song_name</th>\n",
       "      <th>song_popularity</th>\n",
       "      <th>speechiness</th>\n",
       "      <th>tempo</th>\n",
       "      <th>time_signature</th>\n",
       "    </tr>\n",
       "    <tr>\n",
       "      <th>explicit</th>\n",
       "      <th></th>\n",
       "      <th></th>\n",
       "      <th></th>\n",
       "      <th></th>\n",
       "      <th></th>\n",
       "      <th></th>\n",
       "      <th></th>\n",
       "      <th></th>\n",
       "      <th></th>\n",
       "      <th></th>\n",
       "      <th></th>\n",
       "      <th></th>\n",
       "      <th></th>\n",
       "      <th></th>\n",
       "      <th></th>\n",
       "      <th></th>\n",
       "      <th></th>\n",
       "    </tr>\n",
       "  </thead>\n",
       "  <tbody>\n",
       "    <tr>\n",
       "      <th>False</th>\n",
       "      <td>8404</td>\n",
       "      <td>8404</td>\n",
       "      <td>8404</td>\n",
       "      <td>8404</td>\n",
       "      <td>8404</td>\n",
       "      <td>8404</td>\n",
       "      <td>8404</td>\n",
       "      <td>8404</td>\n",
       "      <td>8404</td>\n",
       "      <td>8404</td>\n",
       "      <td>8404</td>\n",
       "      <td>8404</td>\n",
       "      <td>8404</td>\n",
       "      <td>8404</td>\n",
       "      <td>8404</td>\n",
       "      <td>8404</td>\n",
       "      <td>8404</td>\n",
       "    </tr>\n",
       "    <tr>\n",
       "      <th>True</th>\n",
       "      <td>2099</td>\n",
       "      <td>2099</td>\n",
       "      <td>2099</td>\n",
       "      <td>2099</td>\n",
       "      <td>2099</td>\n",
       "      <td>2099</td>\n",
       "      <td>2099</td>\n",
       "      <td>2099</td>\n",
       "      <td>2099</td>\n",
       "      <td>2099</td>\n",
       "      <td>2099</td>\n",
       "      <td>2099</td>\n",
       "      <td>2099</td>\n",
       "      <td>2099</td>\n",
       "      <td>2099</td>\n",
       "      <td>2099</td>\n",
       "      <td>2099</td>\n",
       "    </tr>\n",
       "  </tbody>\n",
       "</table>\n",
       "</div>"
      ],
      "text/plain": [
       "          Unnamed: 0  acousticness  artist  audio_mode  audio_valence  \\\n",
       "explicit                                                                \n",
       "False           8404          8404    8404        8404           8404   \n",
       "True            2099          2099    2099        2099           2099   \n",
       "\n",
       "          danceability  energy  instrumentalness   key  liveness  loudness  \\\n",
       "explicit                                                                     \n",
       "False             8404    8404              8404  8404      8404      8404   \n",
       "True              2099    2099              2099  2099      2099      2099   \n",
       "\n",
       "          song_duration_ms  song_name  song_popularity  speechiness  tempo  \\\n",
       "explicit                                                                     \n",
       "False                 8404       8404             8404         8404   8404   \n",
       "True                  2099       2099             2099         2099   2099   \n",
       "\n",
       "          time_signature  \n",
       "explicit                  \n",
       "False               8404  \n",
       "True                2099  "
      ]
     },
     "execution_count": 15,
     "metadata": {},
     "output_type": "execute_result"
    }
   ],
   "source": [
    "explicit = cleared.groupby(\"explicit\")\n",
    "explicit.count().head()"
   ]
  },
  {
   "cell_type": "code",
   "execution_count": 16,
   "metadata": {},
   "outputs": [
    {
     "data": {
      "text/plain": [
       "<AxesSubplot:xlabel='explicit'>"
      ]
     },
     "execution_count": 16,
     "metadata": {},
     "output_type": "execute_result"
    },
    {
     "data": {
      "image/png": "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",
      "text/plain": [
       "<Figure size 432x288 with 1 Axes>"
      ]
     },
     "metadata": {
      "needs_background": "light"
     },
     "output_type": "display_data"
    }
   ],
   "source": [
    "explicit.count()[\"Unnamed: 0\"].plot.bar()"
   ]
  },
  {
   "cell_type": "code",
   "execution_count": 18,
   "metadata": {},
   "outputs": [
    {
     "data": {
      "text/html": [
       "<div>\n",
       "<style scoped>\n",
       "    .dataframe tbody tr th:only-of-type {\n",
       "        vertical-align: middle;\n",
       "    }\n",
       "\n",
       "    .dataframe tbody tr th {\n",
       "        vertical-align: top;\n",
       "    }\n",
       "\n",
       "    .dataframe thead th {\n",
       "        text-align: right;\n",
       "    }\n",
       "</style>\n",
       "<table border=\"1\" class=\"dataframe\">\n",
       "  <thead>\n",
       "    <tr style=\"text-align: right;\">\n",
       "      <th></th>\n",
       "      <th>count</th>\n",
       "      <th>mean</th>\n",
       "      <th>std</th>\n",
       "      <th>min</th>\n",
       "      <th>25%</th>\n",
       "      <th>50%</th>\n",
       "      <th>75%</th>\n",
       "      <th>max</th>\n",
       "    </tr>\n",
       "    <tr>\n",
       "      <th>explicit</th>\n",
       "      <th></th>\n",
       "      <th></th>\n",
       "      <th></th>\n",
       "      <th></th>\n",
       "      <th></th>\n",
       "      <th></th>\n",
       "      <th></th>\n",
       "      <th></th>\n",
       "    </tr>\n",
       "  </thead>\n",
       "  <tbody>\n",
       "    <tr>\n",
       "      <th>False</th>\n",
       "      <td>8404.0</td>\n",
       "      <td>50.524988</td>\n",
       "      <td>18.812325</td>\n",
       "      <td>0.0</td>\n",
       "      <td>40.0</td>\n",
       "      <td>53.0</td>\n",
       "      <td>64.0</td>\n",
       "      <td>100.0</td>\n",
       "    </tr>\n",
       "    <tr>\n",
       "      <th>True</th>\n",
       "      <td>2099.0</td>\n",
       "      <td>55.801810</td>\n",
       "      <td>19.874674</td>\n",
       "      <td>0.0</td>\n",
       "      <td>46.0</td>\n",
       "      <td>59.0</td>\n",
       "      <td>70.0</td>\n",
       "      <td>99.0</td>\n",
       "    </tr>\n",
       "  </tbody>\n",
       "</table>\n",
       "</div>"
      ],
      "text/plain": [
       "           count       mean        std  min   25%   50%   75%    max\n",
       "explicit                                                            \n",
       "False     8404.0  50.524988  18.812325  0.0  40.0  53.0  64.0  100.0\n",
       "True      2099.0  55.801810  19.874674  0.0  46.0  59.0  70.0   99.0"
      ]
     },
     "execution_count": 18,
     "metadata": {},
     "output_type": "execute_result"
    }
   ],
   "source": [
    "explicit[\"song_popularity\"].describe().head()"
   ]
  },
  {
   "cell_type": "markdown",
   "metadata": {},
   "source": [
    "Im Radio werden selten Lieder mit unangemessenen Inhalten (explizit) gespielt\n",
    "Versionen, wo Schimpfwörter weggeschnitten wurden\n",
    "Weniger Werbefreundlich, allgemein in der Regel altersbeschränkt"
   ]
  },
  {
   "cell_type": "code",
   "execution_count": 21,
   "metadata": {},
   "outputs": [
    {
     "data": {
      "text/plain": [
       "<AxesSubplot:xlabel='explicit'>"
      ]
     },
     "execution_count": 21,
     "metadata": {},
     "output_type": "execute_result"
    },
    {
     "data": {
      "image/png": "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",
      "text/plain": [
       "<Figure size 432x288 with 1 Axes>"
      ]
     },
     "metadata": {
      "needs_background": "light"
     },
     "output_type": "display_data"
    }
   ],
   "source": [
    "explicit_song_popularity = explicit[\"song_popularity\"]\n",
    "explicit_song_popularity.mean().plot(kind=\"bar\", yerr=explicit_song_popularity.std(), capsize=6)"
   ]
  },
  {
   "cell_type": "code",
   "execution_count": 22,
   "metadata": {},
   "outputs": [],
   "source": [
    "# Evtl. statistische signifikanztests"
   ]
  },
  {
   "cell_type": "markdown",
   "metadata": {},
   "source": [
    "#### Künstler"
   ]
  },
  {
   "cell_type": "code",
   "execution_count": 14,
   "metadata": {},
   "outputs": [
    {
     "data": {
      "text/plain": [
       "artist\n",
       "Lady Gaga      40\n",
       "Kanye West     38\n",
       "Drake          31\n",
       "Gucci Mane     21\n",
       "Eminem         20\n",
       "Ed Sheeran     19\n",
       "Khalid         19\n",
       "The Beatles    19\n",
       "Future         17\n",
       "The Weeknd     17\n",
       "Name: song_name, dtype: int64"
      ]
     },
     "execution_count": 14,
     "metadata": {},
     "output_type": "execute_result"
    }
   ],
   "source": [
    "artists = cleared.groupby(\"artist\")\n",
    "artists[\"song_name\"].count().sort_values(ascending=False).head(10)"
   ]
  },
  {
   "cell_type": "code",
   "execution_count": 39,
   "metadata": {},
   "outputs": [
    {
     "name": "stderr",
     "output_type": "stream",
     "text": [
      "<ipython-input-39-318b7715cf18>:1: FutureWarning: Indexing with multiple keys (implicitly converted to a tuple of keys) will be deprecated, use a list instead.\n",
      "  artists[\"song_popularity\", \"song_name\"].agg({\"song_name\":\"size\", \"song_popularity\":\"mean\"}).sort_values(by=\"song_popularity\", ascending=False).head(10)\n"
     ]
    },
    {
     "data": {
      "text/html": [
       "<div>\n",
       "<style scoped>\n",
       "    .dataframe tbody tr th:only-of-type {\n",
       "        vertical-align: middle;\n",
       "    }\n",
       "\n",
       "    .dataframe tbody tr th {\n",
       "        vertical-align: top;\n",
       "    }\n",
       "\n",
       "    .dataframe thead th {\n",
       "        text-align: right;\n",
       "    }\n",
       "</style>\n",
       "<table border=\"1\" class=\"dataframe\">\n",
       "  <thead>\n",
       "    <tr style=\"text-align: right;\">\n",
       "      <th></th>\n",
       "      <th>song_name</th>\n",
       "      <th>song_popularity</th>\n",
       "    </tr>\n",
       "    <tr>\n",
       "      <th>artist</th>\n",
       "      <th></th>\n",
       "      <th></th>\n",
       "    </tr>\n",
       "  </thead>\n",
       "  <tbody>\n",
       "    <tr>\n",
       "      <th>Dynoro</th>\n",
       "      <td>1</td>\n",
       "      <td>97.0</td>\n",
       "    </tr>\n",
       "    <tr>\n",
       "      <th>Nio Garcia</th>\n",
       "      <td>1</td>\n",
       "      <td>94.0</td>\n",
       "    </tr>\n",
       "    <tr>\n",
       "      <th>XXXTENTACION</th>\n",
       "      <td>5</td>\n",
       "      <td>90.8</td>\n",
       "    </tr>\n",
       "    <tr>\n",
       "      <th>Brytiago</th>\n",
       "      <td>1</td>\n",
       "      <td>90.0</td>\n",
       "    </tr>\n",
       "    <tr>\n",
       "      <th>Dennis Lloyd</th>\n",
       "      <td>1</td>\n",
       "      <td>90.0</td>\n",
       "    </tr>\n",
       "    <tr>\n",
       "      <th>Cassa Jackson</th>\n",
       "      <td>1</td>\n",
       "      <td>90.0</td>\n",
       "    </tr>\n",
       "    <tr>\n",
       "      <th>Alex Rose</th>\n",
       "      <td>1</td>\n",
       "      <td>89.0</td>\n",
       "    </tr>\n",
       "    <tr>\n",
       "      <th>BlocBoy JB</th>\n",
       "      <td>1</td>\n",
       "      <td>89.0</td>\n",
       "    </tr>\n",
       "    <tr>\n",
       "      <th>Kris Kross Amsterdam</th>\n",
       "      <td>1</td>\n",
       "      <td>89.0</td>\n",
       "    </tr>\n",
       "    <tr>\n",
       "      <th>Ava Max</th>\n",
       "      <td>1</td>\n",
       "      <td>89.0</td>\n",
       "    </tr>\n",
       "  </tbody>\n",
       "</table>\n",
       "</div>"
      ],
      "text/plain": [
       "                      song_name  song_popularity\n",
       "artist                                          \n",
       "Dynoro                        1             97.0\n",
       "Nio Garcia                    1             94.0\n",
       "XXXTENTACION                  5             90.8\n",
       "Brytiago                      1             90.0\n",
       "Dennis Lloyd                  1             90.0\n",
       "Cassa Jackson                 1             90.0\n",
       "Alex Rose                     1             89.0\n",
       "BlocBoy JB                    1             89.0\n",
       "Kris Kross Amsterdam          1             89.0\n",
       "Ava Max                       1             89.0"
      ]
     },
     "execution_count": 39,
     "metadata": {},
     "output_type": "execute_result"
    }
   ],
   "source": [
    "artists[\"song_popularity\", \"song_name\"].agg({\"song_name\":\"size\", \"song_popularity\":\"mean\"}) \\\n",
    "    .sort_values(by=\"song_popularity\", ascending=False).head(10)"
   ]
  },
  {
   "cell_type": "code",
   "execution_count": 115,
   "metadata": {},
   "outputs": [
    {
     "name": "stderr",
     "output_type": "stream",
     "text": [
      "<ipython-input-115-c24b59aa09e1>:1: FutureWarning: Indexing with multiple keys (implicitly converted to a tuple of keys) will be deprecated, use a list instead.\n",
      "  artists[\"song_popularity\", \"song_name\"].agg({\"song_name\":\"size\", \"song_popularity\":\"max\"}) \\\n"
     ]
    },
    {
     "data": {
      "text/html": [
       "<div>\n",
       "<style scoped>\n",
       "    .dataframe tbody tr th:only-of-type {\n",
       "        vertical-align: middle;\n",
       "    }\n",
       "\n",
       "    .dataframe tbody tr th {\n",
       "        vertical-align: top;\n",
       "    }\n",
       "\n",
       "    .dataframe thead th {\n",
       "        text-align: right;\n",
       "    }\n",
       "</style>\n",
       "<table border=\"1\" class=\"dataframe\">\n",
       "  <thead>\n",
       "    <tr style=\"text-align: right;\">\n",
       "      <th></th>\n",
       "      <th>song_name</th>\n",
       "      <th>song_popularity</th>\n",
       "    </tr>\n",
       "    <tr>\n",
       "      <th>artist</th>\n",
       "      <th></th>\n",
       "      <th></th>\n",
       "    </tr>\n",
       "  </thead>\n",
       "  <tbody>\n",
       "    <tr>\n",
       "      <th>Marshmello</th>\n",
       "      <td>10</td>\n",
       "      <td>100</td>\n",
       "    </tr>\n",
       "    <tr>\n",
       "      <th>Kanye West</th>\n",
       "      <td>38</td>\n",
       "      <td>99</td>\n",
       "    </tr>\n",
       "    <tr>\n",
       "      <th>benny blanco</th>\n",
       "      <td>2</td>\n",
       "      <td>98</td>\n",
       "    </tr>\n",
       "    <tr>\n",
       "      <th>Drake</th>\n",
       "      <td>31</td>\n",
       "      <td>98</td>\n",
       "    </tr>\n",
       "    <tr>\n",
       "      <th>Calvin Harris</th>\n",
       "      <td>14</td>\n",
       "      <td>98</td>\n",
       "    </tr>\n",
       "    <tr>\n",
       "      <th>DJ Snake</th>\n",
       "      <td>10</td>\n",
       "      <td>98</td>\n",
       "    </tr>\n",
       "    <tr>\n",
       "      <th>Lil Peep</th>\n",
       "      <td>9</td>\n",
       "      <td>97</td>\n",
       "    </tr>\n",
       "    <tr>\n",
       "      <th>Juice WRLD</th>\n",
       "      <td>4</td>\n",
       "      <td>97</td>\n",
       "    </tr>\n",
       "    <tr>\n",
       "      <th>Travis Scott</th>\n",
       "      <td>11</td>\n",
       "      <td>97</td>\n",
       "    </tr>\n",
       "    <tr>\n",
       "      <th>Dynoro</th>\n",
       "      <td>1</td>\n",
       "      <td>97</td>\n",
       "    </tr>\n",
       "  </tbody>\n",
       "</table>\n",
       "</div>"
      ],
      "text/plain": [
       "               song_name  song_popularity\n",
       "artist                                   \n",
       "Marshmello            10              100\n",
       "Kanye West            38               99\n",
       "benny blanco           2               98\n",
       "Drake                 31               98\n",
       "Calvin Harris         14               98\n",
       "DJ Snake              10               98\n",
       "Lil Peep               9               97\n",
       "Juice WRLD             4               97\n",
       "Travis Scott          11               97\n",
       "Dynoro                 1               97"
      ]
     },
     "execution_count": 115,
     "metadata": {},
     "output_type": "execute_result"
    }
   ],
   "source": [
    "artists[\"song_popularity\", \"song_name\"].agg({\"song_name\":\"size\", \"song_popularity\":\"max\"}) \\\n",
    "    .sort_values(by=\"song_popularity\", ascending=False).head(10)"
   ]
  },
  {
   "cell_type": "code",
   "execution_count": 40,
   "metadata": {},
   "outputs": [
    {
     "name": "stderr",
     "output_type": "stream",
     "text": [
      "<ipython-input-40-66ed74aed6cc>:1: FutureWarning: Indexing with multiple keys (implicitly converted to a tuple of keys) will be deprecated, use a list instead.\n",
      "  artists[\"song_popularity\", \"song_name\"].agg({\"song_name\":\"size\", \"song_popularity\":\"sum\"}) \\\n"
     ]
    },
    {
     "data": {
      "text/html": [
       "<div>\n",
       "<style scoped>\n",
       "    .dataframe tbody tr th:only-of-type {\n",
       "        vertical-align: middle;\n",
       "    }\n",
       "\n",
       "    .dataframe tbody tr th {\n",
       "        vertical-align: top;\n",
       "    }\n",
       "\n",
       "    .dataframe thead th {\n",
       "        text-align: right;\n",
       "    }\n",
       "</style>\n",
       "<table border=\"1\" class=\"dataframe\">\n",
       "  <thead>\n",
       "    <tr style=\"text-align: right;\">\n",
       "      <th></th>\n",
       "      <th>song_name</th>\n",
       "      <th>song_popularity</th>\n",
       "    </tr>\n",
       "    <tr>\n",
       "      <th>artist</th>\n",
       "      <th></th>\n",
       "      <th></th>\n",
       "    </tr>\n",
       "  </thead>\n",
       "  <tbody>\n",
       "    <tr>\n",
       "      <th>Kanye West</th>\n",
       "      <td>38</td>\n",
       "      <td>2464</td>\n",
       "    </tr>\n",
       "    <tr>\n",
       "      <th>Drake</th>\n",
       "      <td>31</td>\n",
       "      <td>1931</td>\n",
       "    </tr>\n",
       "    <tr>\n",
       "      <th>Lady Gaga</th>\n",
       "      <td>40</td>\n",
       "      <td>1873</td>\n",
       "    </tr>\n",
       "    <tr>\n",
       "      <th>Ed Sheeran</th>\n",
       "      <td>19</td>\n",
       "      <td>1472</td>\n",
       "    </tr>\n",
       "    <tr>\n",
       "      <th>Eminem</th>\n",
       "      <td>20</td>\n",
       "      <td>1321</td>\n",
       "    </tr>\n",
       "    <tr>\n",
       "      <th>Gucci Mane</th>\n",
       "      <td>21</td>\n",
       "      <td>1224</td>\n",
       "    </tr>\n",
       "    <tr>\n",
       "      <th>The Weeknd</th>\n",
       "      <td>17</td>\n",
       "      <td>1204</td>\n",
       "    </tr>\n",
       "    <tr>\n",
       "      <th>Lil Wayne</th>\n",
       "      <td>15</td>\n",
       "      <td>1136</td>\n",
       "    </tr>\n",
       "    <tr>\n",
       "      <th>Khalid</th>\n",
       "      <td>19</td>\n",
       "      <td>1132</td>\n",
       "    </tr>\n",
       "    <tr>\n",
       "      <th>The Beatles</th>\n",
       "      <td>19</td>\n",
       "      <td>1123</td>\n",
       "    </tr>\n",
       "  </tbody>\n",
       "</table>\n",
       "</div>"
      ],
      "text/plain": [
       "             song_name  song_popularity\n",
       "artist                                 \n",
       "Kanye West          38             2464\n",
       "Drake               31             1931\n",
       "Lady Gaga           40             1873\n",
       "Ed Sheeran          19             1472\n",
       "Eminem              20             1321\n",
       "Gucci Mane          21             1224\n",
       "The Weeknd          17             1204\n",
       "Lil Wayne           15             1136\n",
       "Khalid              19             1132\n",
       "The Beatles         19             1123"
      ]
     },
     "execution_count": 40,
     "metadata": {},
     "output_type": "execute_result"
    }
   ],
   "source": [
    "artists[\"song_popularity\", \"song_name\"].agg({\"song_name\":\"size\", \"song_popularity\":\"sum\"}) \\\n",
    "    .sort_values(by=\"song_popularity\", ascending=False).head(10)"
   ]
  },
  {
   "cell_type": "code",
   "execution_count": 27,
   "metadata": {},
   "outputs": [
    {
     "name": "stderr",
     "output_type": "stream",
     "text": [
      "<ipython-input-27-b8eb99767d2c>:1: FutureWarning: Indexing with multiple keys (implicitly converted to a tuple of keys) will be deprecated, use a list instead.\n",
      "  artists[\"song_popularity\", \"song_name\"] \\\n"
     ]
    },
    {
     "data": {
      "text/plain": [
       "song_name        size     7.590000\n",
       "song_popularity  mean    72.076428\n",
       "                 amax    90.710000\n",
       "dtype: float64"
      ]
     },
     "execution_count": 27,
     "metadata": {},
     "output_type": "execute_result"
    }
   ],
   "source": [
    "artists[\"song_popularity\", \"song_name\"] \\\n",
    "    .agg({\"song_name\":\"size\", \"song_popularity\":[np.mean, np.max]}) \\\n",
    "    .sort_values(by=(\"song_popularity\", \"amax\"), ascending=False).head(100).mean()"
   ]
  },
  {
   "cell_type": "code",
   "execution_count": 28,
   "metadata": {},
   "outputs": [
    {
     "name": "stderr",
     "output_type": "stream",
     "text": [
      "<ipython-input-28-24525b998a97>:1: FutureWarning: Indexing with multiple keys (implicitly converted to a tuple of keys) will be deprecated, use a list instead.\n",
      "  artists[\"song_popularity\", \"song_name\"] \\\n"
     ]
    },
    {
     "data": {
      "text/plain": [
       "song_name        size     4.590000\n",
       "song_popularity  mean    68.768154\n",
       "                 amax    81.320000\n",
       "dtype: float64"
      ]
     },
     "execution_count": 28,
     "metadata": {},
     "output_type": "execute_result"
    }
   ],
   "source": [
    "artists[\"song_popularity\", \"song_name\"] \\\n",
    "    .agg({\"song_name\":\"size\", \"song_popularity\":[np.mean, np.max]}) \\\n",
    "    .sort_values(by=(\"song_popularity\", \"amax\"), ascending=False).head(500).mean()"
   ]
  },
  {
   "cell_type": "markdown",
   "metadata": {},
   "source": [
    "## 4 Datentransformation und Preprocessing"
   ]
  },
  {
   "cell_type": "markdown",
   "metadata": {},
   "source": [
    "Erste Ergebnisse waren sehr schlecht. R² Werte von 0.02 erhalten\n",
    "\n",
    "Normalisierung wird verwendet um Werte in ein festes Intervall zu überführen. Die meisten Werten nicht notwendig, da sie bereits in dem Intervall [0, 1] liegen."
   ]
  },
  {
   "cell_type": "markdown",
   "metadata": {},
   "source": [
    "### 4.1 Auswahl der Features\n",
    "Beim Ausprobieren unwichtigere Features wegzulassen waren keine besseren Ergebnisse erkennbar. Random Forest priorisiert Features?\n",
    "\n",
    "Abhängige Variable ist die Popularität eines Songs, die durch die Modelle angenährt werden sollen."
   ]
  },
  {
   "cell_type": "code",
   "execution_count": 3,
   "metadata": {},
   "outputs": [],
   "source": [
    "X = cleared[[\"song_duration_ms\", \"acousticness\", \"danceability\", \"energy\", \"instrumentalness\", \"key\", \"liveness\", \"loudness\", \"audio_mode\", \"speechiness\", \"tempo\", \"time_signature\", \"audio_valence\"]]\n",
    "y = cleared[\"song_popularity\"]"
   ]
  },
  {
   "cell_type": "markdown",
   "metadata": {},
   "source": [
    "### 4.2 Trainings- und Testdatensatz Split\n",
    "Anschließend werden die beiden Datensätze in je disjunkte Trainings- und Testdatensätze unterteilt."
   ]
  },
  {
   "cell_type": "code",
   "execution_count": 4,
   "metadata": {},
   "outputs": [
    {
     "name": "stdout",
     "output_type": "stream",
     "text": [
      "Trainingsdatensatz: 11574 Testdatensatz: 2894\n"
     ]
    },
    {
     "data": {
      "text/html": [
       "<div>\n",
       "<style scoped>\n",
       "    .dataframe tbody tr th:only-of-type {\n",
       "        vertical-align: middle;\n",
       "    }\n",
       "\n",
       "    .dataframe tbody tr th {\n",
       "        vertical-align: top;\n",
       "    }\n",
       "\n",
       "    .dataframe thead th {\n",
       "        text-align: right;\n",
       "    }\n",
       "</style>\n",
       "<table border=\"1\" class=\"dataframe\">\n",
       "  <thead>\n",
       "    <tr style=\"text-align: right;\">\n",
       "      <th></th>\n",
       "      <th>song_duration_ms</th>\n",
       "      <th>acousticness</th>\n",
       "      <th>danceability</th>\n",
       "      <th>energy</th>\n",
       "      <th>instrumentalness</th>\n",
       "      <th>key</th>\n",
       "      <th>liveness</th>\n",
       "      <th>loudness</th>\n",
       "      <th>audio_mode</th>\n",
       "      <th>speechiness</th>\n",
       "      <th>tempo</th>\n",
       "      <th>time_signature</th>\n",
       "      <th>audio_valence</th>\n",
       "    </tr>\n",
       "  </thead>\n",
       "  <tbody>\n",
       "    <tr>\n",
       "      <th>8299</th>\n",
       "      <td>141093</td>\n",
       "      <td>0.13000</td>\n",
       "      <td>0.710</td>\n",
       "      <td>0.5080</td>\n",
       "      <td>0.0487</td>\n",
       "      <td>1</td>\n",
       "      <td>0.119</td>\n",
       "      <td>-10.663</td>\n",
       "      <td>1</td>\n",
       "      <td>0.0665</td>\n",
       "      <td>138.999</td>\n",
       "      <td>4</td>\n",
       "      <td>0.748</td>\n",
       "    </tr>\n",
       "    <tr>\n",
       "      <th>14414</th>\n",
       "      <td>228013</td>\n",
       "      <td>0.92400</td>\n",
       "      <td>0.502</td>\n",
       "      <td>0.0548</td>\n",
       "      <td>0.0418</td>\n",
       "      <td>1</td>\n",
       "      <td>0.108</td>\n",
       "      <td>-23.684</td>\n",
       "      <td>1</td>\n",
       "      <td>0.0356</td>\n",
       "      <td>78.455</td>\n",
       "      <td>4</td>\n",
       "      <td>0.506</td>\n",
       "    </tr>\n",
       "    <tr>\n",
       "      <th>7823</th>\n",
       "      <td>92250</td>\n",
       "      <td>0.83800</td>\n",
       "      <td>0.857</td>\n",
       "      <td>0.1460</td>\n",
       "      <td>0.9540</td>\n",
       "      <td>4</td>\n",
       "      <td>0.109</td>\n",
       "      <td>-10.946</td>\n",
       "      <td>1</td>\n",
       "      <td>0.3300</td>\n",
       "      <td>82.900</td>\n",
       "      <td>4</td>\n",
       "      <td>0.776</td>\n",
       "    </tr>\n",
       "    <tr>\n",
       "      <th>6754</th>\n",
       "      <td>302840</td>\n",
       "      <td>0.00076</td>\n",
       "      <td>0.451</td>\n",
       "      <td>0.9310</td>\n",
       "      <td>0.0049</td>\n",
       "      <td>9</td>\n",
       "      <td>0.361</td>\n",
       "      <td>-3.871</td>\n",
       "      <td>1</td>\n",
       "      <td>0.0719</td>\n",
       "      <td>122.961</td>\n",
       "      <td>4</td>\n",
       "      <td>0.172</td>\n",
       "    </tr>\n",
       "    <tr>\n",
       "      <th>2334</th>\n",
       "      <td>138701</td>\n",
       "      <td>0.00663</td>\n",
       "      <td>0.815</td>\n",
       "      <td>0.4920</td>\n",
       "      <td>0.0000</td>\n",
       "      <td>2</td>\n",
       "      <td>0.166</td>\n",
       "      <td>-9.289</td>\n",
       "      <td>1</td>\n",
       "      <td>0.3270</td>\n",
       "      <td>77.005</td>\n",
       "      <td>4</td>\n",
       "      <td>0.499</td>\n",
       "    </tr>\n",
       "  </tbody>\n",
       "</table>\n",
       "</div>"
      ],
      "text/plain": [
       "       song_duration_ms  acousticness  danceability  energy  instrumentalness  \\\n",
       "8299             141093       0.13000         0.710  0.5080            0.0487   \n",
       "14414            228013       0.92400         0.502  0.0548            0.0418   \n",
       "7823              92250       0.83800         0.857  0.1460            0.9540   \n",
       "6754             302840       0.00076         0.451  0.9310            0.0049   \n",
       "2334             138701       0.00663         0.815  0.4920            0.0000   \n",
       "\n",
       "       key  liveness  loudness  audio_mode  speechiness    tempo  \\\n",
       "8299     1     0.119   -10.663           1       0.0665  138.999   \n",
       "14414    1     0.108   -23.684           1       0.0356   78.455   \n",
       "7823     4     0.109   -10.946           1       0.3300   82.900   \n",
       "6754     9     0.361    -3.871           1       0.0719  122.961   \n",
       "2334     2     0.166    -9.289           1       0.3270   77.005   \n",
       "\n",
       "       time_signature  audio_valence  \n",
       "8299                4          0.748  \n",
       "14414               4          0.506  \n",
       "7823                4          0.776  \n",
       "6754                4          0.172  \n",
       "2334                4          0.499  "
      ]
     },
     "execution_count": 4,
     "metadata": {},
     "output_type": "execute_result"
    }
   ],
   "source": [
    "X_train, X_test, y_train, y_test = train_test_split(X, y, random_state=7, test_size=0.2)\n",
    "\n",
    "print(\"Trainingsdatensatz:\", len(X_train), \"Testdatensatz:\", len(X_test))\n",
    "X_train.head()"
   ]
  },
  {
   "cell_type": "markdown",
   "metadata": {},
   "source": [
    "### 4.3 Normalisierung und Standardisierung der Features"
   ]
  },
  {
   "cell_type": "code",
   "execution_count": 5,
   "metadata": {},
   "outputs": [],
   "source": [
    "scaler = RobustScaler()\n",
    "scaler.fit(X_train)\n",
    "\n",
    "X_train = pd.DataFrame(scaler.transform(X_train), columns = X_train.columns, index = X_train.index) # diskrete Werte nicht skalieren\n",
    "X_test = pd.DataFrame(scaler.transform(X_test), columns = X_test.columns, index = X_test.index)"
   ]
  },
  {
   "cell_type": "code",
   "execution_count": 31,
   "metadata": {},
   "outputs": [
    {
     "data": {
      "text/html": [
       "<div>\n",
       "<style scoped>\n",
       "    .dataframe tbody tr th:only-of-type {\n",
       "        vertical-align: middle;\n",
       "    }\n",
       "\n",
       "    .dataframe tbody tr th {\n",
       "        vertical-align: top;\n",
       "    }\n",
       "\n",
       "    .dataframe thead th {\n",
       "        text-align: right;\n",
       "    }\n",
       "</style>\n",
       "<table border=\"1\" class=\"dataframe\">\n",
       "  <thead>\n",
       "    <tr style=\"text-align: right;\">\n",
       "      <th></th>\n",
       "      <th>song_duration_ms</th>\n",
       "      <th>acousticness</th>\n",
       "      <th>danceability</th>\n",
       "      <th>energy</th>\n",
       "      <th>instrumentalness</th>\n",
       "      <th>key</th>\n",
       "      <th>liveness</th>\n",
       "      <th>loudness</th>\n",
       "      <th>audio_mode</th>\n",
       "      <th>speechiness</th>\n",
       "      <th>tempo</th>\n",
       "      <th>time_signature</th>\n",
       "      <th>audio_valence</th>\n",
       "    </tr>\n",
       "  </thead>\n",
       "  <tbody>\n",
       "    <tr>\n",
       "      <th>8299</th>\n",
       "      <td>-1.153702</td>\n",
       "      <td>-0.027223</td>\n",
       "      <td>0.355140</td>\n",
       "      <td>-0.507740</td>\n",
       "      <td>8.818351</td>\n",
       "      <td>-0.666667</td>\n",
       "      <td>-0.023292</td>\n",
       "      <td>-0.870165</td>\n",
       "      <td>0.0</td>\n",
       "      <td>0.165997</td>\n",
       "      <td>0.453859</td>\n",
       "      <td>0.0</td>\n",
       "      <td>0.560606</td>\n",
       "    </tr>\n",
       "    <tr>\n",
       "      <th>14414</th>\n",
       "      <td>0.264873</td>\n",
       "      <td>1.774047</td>\n",
       "      <td>-0.616822</td>\n",
       "      <td>-1.910836</td>\n",
       "      <td>7.568351</td>\n",
       "      <td>-0.666667</td>\n",
       "      <td>-0.108696</td>\n",
       "      <td>-3.815426</td>\n",
       "      <td>0.0</td>\n",
       "      <td>-0.247657</td>\n",
       "      <td>-0.993670</td>\n",
       "      <td>0.0</td>\n",
       "      <td>-0.050505</td>\n",
       "    </tr>\n",
       "    <tr>\n",
       "      <th>7823</th>\n",
       "      <td>-1.950843</td>\n",
       "      <td>1.578947</td>\n",
       "      <td>1.042056</td>\n",
       "      <td>-1.628483</td>\n",
       "      <td>172.821975</td>\n",
       "      <td>-0.166667</td>\n",
       "      <td>-0.100932</td>\n",
       "      <td>-0.934178</td>\n",
       "      <td>0.0</td>\n",
       "      <td>3.693440</td>\n",
       "      <td>-0.887396</td>\n",
       "      <td>0.0</td>\n",
       "      <td>0.631313</td>\n",
       "    </tr>\n",
       "    <tr>\n",
       "      <th>6754</th>\n",
       "      <td>1.486085</td>\n",
       "      <td>-0.320417</td>\n",
       "      <td>-0.855140</td>\n",
       "      <td>0.801858</td>\n",
       "      <td>0.883569</td>\n",
       "      <td>0.666667</td>\n",
       "      <td>1.855590</td>\n",
       "      <td>0.666139</td>\n",
       "      <td>0.0</td>\n",
       "      <td>0.238286</td>\n",
       "      <td>0.070411</td>\n",
       "      <td>0.0</td>\n",
       "      <td>-0.893939</td>\n",
       "    </tr>\n",
       "    <tr>\n",
       "      <th>2334</th>\n",
       "      <td>-1.192741</td>\n",
       "      <td>-0.307101</td>\n",
       "      <td>0.845794</td>\n",
       "      <td>-0.557276</td>\n",
       "      <td>-0.004112</td>\n",
       "      <td>-0.500000</td>\n",
       "      <td>0.341615</td>\n",
       "      <td>-0.559376</td>\n",
       "      <td>0.0</td>\n",
       "      <td>3.653280</td>\n",
       "      <td>-1.028338</td>\n",
       "      <td>0.0</td>\n",
       "      <td>-0.068182</td>\n",
       "    </tr>\n",
       "  </tbody>\n",
       "</table>\n",
       "</div>"
      ],
      "text/plain": [
       "       song_duration_ms  acousticness  danceability    energy  \\\n",
       "8299          -1.153702     -0.027223      0.355140 -0.507740   \n",
       "14414          0.264873      1.774047     -0.616822 -1.910836   \n",
       "7823          -1.950843      1.578947      1.042056 -1.628483   \n",
       "6754           1.486085     -0.320417     -0.855140  0.801858   \n",
       "2334          -1.192741     -0.307101      0.845794 -0.557276   \n",
       "\n",
       "       instrumentalness       key  liveness  loudness  audio_mode  \\\n",
       "8299           8.818351 -0.666667 -0.023292 -0.870165         0.0   \n",
       "14414          7.568351 -0.666667 -0.108696 -3.815426         0.0   \n",
       "7823         172.821975 -0.166667 -0.100932 -0.934178         0.0   \n",
       "6754           0.883569  0.666667  1.855590  0.666139         0.0   \n",
       "2334          -0.004112 -0.500000  0.341615 -0.559376         0.0   \n",
       "\n",
       "       speechiness     tempo  time_signature  audio_valence  \n",
       "8299      0.165997  0.453859             0.0       0.560606  \n",
       "14414    -0.247657 -0.993670             0.0      -0.050505  \n",
       "7823      3.693440 -0.887396             0.0       0.631313  \n",
       "6754      0.238286  0.070411             0.0      -0.893939  \n",
       "2334      3.653280 -1.028338             0.0      -0.068182  "
      ]
     },
     "execution_count": 31,
     "metadata": {},
     "output_type": "execute_result"
    }
   ],
   "source": [
    "X_train.head()"
   ]
  },
  {
   "cell_type": "markdown",
   "metadata": {},
   "source": [
    "Standardisierung der unabhängigen Features, zentriert Werte um 0 herum\n",
    "\n",
    "Dabei werden nicht alle skaliert, da bei manchen Werten die Skalierung zu schlechten Ergebnissen geführt hat (?), diskrete Werte werden allgemein nicht skaliert"
   ]
  },
  {
   "cell_type": "code",
   "execution_count": 5,
   "metadata": {},
   "outputs": [],
   "source": [
    "scaler = StandardScaler()\n",
    "scaler.fit(X_train)\n",
    "\n",
    "scaled_columns = [\n",
    "    \"acousticness\", \n",
    "    \"danceability\", \n",
    "    \"energy\", \n",
    "    \"instrumentalness\", \n",
    "    \"liveness\", \n",
    "    \"speechiness\", \n",
    "    \"tempo\", \n",
    "    \"audio_valence\"\n",
    "]\n",
    "\n",
    "ct = ColumnTransformer([\n",
    "    (\"scaler\", scaler, scaled_columns)\n",
    "], remainder=\"passthrough\")\n",
    "\n",
    "ct.fit_transform(X_train)\n",
    "\n",
    "column_names = scaled_columns\n",
    "for col in X_test: # Fehlende Spaltennamen hinzufügen\n",
    "    if col not in column_names:\n",
    "        column_names.append(col)\n",
    "\n",
    "X_train = pd.DataFrame(ct.transform(X_train), index = X_train.index, columns = column_names)\n",
    "X_test = pd.DataFrame(ct.transform(X_test), index = X_test.index, columns = column_names)\n",
    "\n",
    "#X_train = pd.DataFrame(scaler.transform(X_train), columns = X_train.columns, index = X_train.index) # diskrete Werte nicht skalieren\n",
    "#X_test = pd.DataFrame(scaler.transform(X_test), columns = X_test.columns, index = X_test.index)"
   ]
  },
  {
   "cell_type": "code",
   "execution_count": 6,
   "metadata": {},
   "outputs": [
    {
     "data": {
      "text/html": [
       "<div>\n",
       "<style scoped>\n",
       "    .dataframe tbody tr th:only-of-type {\n",
       "        vertical-align: middle;\n",
       "    }\n",
       "\n",
       "    .dataframe tbody tr th {\n",
       "        vertical-align: top;\n",
       "    }\n",
       "\n",
       "    .dataframe thead th {\n",
       "        text-align: right;\n",
       "    }\n",
       "</style>\n",
       "<table border=\"1\" class=\"dataframe\">\n",
       "  <thead>\n",
       "    <tr style=\"text-align: right;\">\n",
       "      <th></th>\n",
       "      <th>acousticness</th>\n",
       "      <th>danceability</th>\n",
       "      <th>energy</th>\n",
       "      <th>instrumentalness</th>\n",
       "      <th>liveness</th>\n",
       "      <th>speechiness</th>\n",
       "      <th>tempo</th>\n",
       "      <th>audio_valence</th>\n",
       "      <th>song_duration_ms</th>\n",
       "      <th>key</th>\n",
       "      <th>loudness</th>\n",
       "      <th>audio_mode</th>\n",
       "      <th>time_signature</th>\n",
       "    </tr>\n",
       "  </thead>\n",
       "  <tbody>\n",
       "    <tr>\n",
       "      <th>8299</th>\n",
       "      <td>-0.476747</td>\n",
       "      <td>0.550390</td>\n",
       "      <td>-0.589291</td>\n",
       "      <td>-0.188043</td>\n",
       "      <td>-0.424744</td>\n",
       "      <td>-0.318291</td>\n",
       "      <td>0.608465</td>\n",
       "      <td>0.888722</td>\n",
       "      <td>141093.0</td>\n",
       "      <td>1.0</td>\n",
       "      <td>-10.663</td>\n",
       "      <td>1.0</td>\n",
       "      <td>4.0</td>\n",
       "    </tr>\n",
       "    <tr>\n",
       "      <th>14414</th>\n",
       "      <td>2.179352</td>\n",
       "      <td>-0.768994</td>\n",
       "      <td>-2.625220</td>\n",
       "      <td>-0.216334</td>\n",
       "      <td>-0.500373</td>\n",
       "      <td>-0.614464</td>\n",
       "      <td>-1.466805</td>\n",
       "      <td>-0.085712</td>\n",
       "      <td>228013.0</td>\n",
       "      <td>1.0</td>\n",
       "      <td>-23.684</td>\n",
       "      <td>1.0</td>\n",
       "      <td>4.0</td>\n",
       "    </tr>\n",
       "    <tr>\n",
       "      <th>7823</th>\n",
       "      <td>1.891664</td>\n",
       "      <td>1.482838</td>\n",
       "      <td>-2.215519</td>\n",
       "      <td>3.523809</td>\n",
       "      <td>-0.493498</td>\n",
       "      <td>2.207327</td>\n",
       "      <td>-1.314443</td>\n",
       "      <td>1.001466</td>\n",
       "      <td>92250.0</td>\n",
       "      <td>4.0</td>\n",
       "      <td>-10.946</td>\n",
       "      <td>1.0</td>\n",
       "      <td>4.0</td>\n",
       "    </tr>\n",
       "    <tr>\n",
       "      <th>6754</th>\n",
       "      <td>-0.909082</td>\n",
       "      <td>-1.092497</td>\n",
       "      <td>1.310970</td>\n",
       "      <td>-0.367629</td>\n",
       "      <td>1.239082</td>\n",
       "      <td>-0.266533</td>\n",
       "      <td>0.058730</td>\n",
       "      <td>-1.430591</td>\n",
       "      <td>302840.0</td>\n",
       "      <td>9.0</td>\n",
       "      <td>-3.871</td>\n",
       "      <td>1.0</td>\n",
       "      <td>4.0</td>\n",
       "    </tr>\n",
       "    <tr>\n",
       "      <th>2334</th>\n",
       "      <td>-0.889446</td>\n",
       "      <td>1.216424</td>\n",
       "      <td>-0.661168</td>\n",
       "      <td>-0.387720</td>\n",
       "      <td>-0.101605</td>\n",
       "      <td>2.178572</td>\n",
       "      <td>-1.516507</td>\n",
       "      <td>-0.113898</td>\n",
       "      <td>138701.0</td>\n",
       "      <td>2.0</td>\n",
       "      <td>-9.289</td>\n",
       "      <td>1.0</td>\n",
       "      <td>4.0</td>\n",
       "    </tr>\n",
       "  </tbody>\n",
       "</table>\n",
       "</div>"
      ],
      "text/plain": [
       "       acousticness  danceability    energy  instrumentalness  liveness  \\\n",
       "8299      -0.476747      0.550390 -0.589291         -0.188043 -0.424744   \n",
       "14414      2.179352     -0.768994 -2.625220         -0.216334 -0.500373   \n",
       "7823       1.891664      1.482838 -2.215519          3.523809 -0.493498   \n",
       "6754      -0.909082     -1.092497  1.310970         -0.367629  1.239082   \n",
       "2334      -0.889446      1.216424 -0.661168         -0.387720 -0.101605   \n",
       "\n",
       "       speechiness     tempo  audio_valence  song_duration_ms  key  loudness  \\\n",
       "8299     -0.318291  0.608465       0.888722          141093.0  1.0   -10.663   \n",
       "14414    -0.614464 -1.466805      -0.085712          228013.0  1.0   -23.684   \n",
       "7823      2.207327 -1.314443       1.001466           92250.0  4.0   -10.946   \n",
       "6754     -0.266533  0.058730      -1.430591          302840.0  9.0    -3.871   \n",
       "2334      2.178572 -1.516507      -0.113898          138701.0  2.0    -9.289   \n",
       "\n",
       "       audio_mode  time_signature  \n",
       "8299          1.0             4.0  \n",
       "14414         1.0             4.0  \n",
       "7823          1.0             4.0  \n",
       "6754          1.0             4.0  \n",
       "2334          1.0             4.0  "
      ]
     },
     "execution_count": 6,
     "metadata": {},
     "output_type": "execute_result"
    }
   ],
   "source": [
    "X_train.head()"
   ]
  },
  {
   "cell_type": "markdown",
   "metadata": {},
   "source": [
    "## 5 Maschinelles Lernen (Regression)\n",
    "Im nachfolgenden wurden X Modelle trainiert"
   ]
  },
  {
   "cell_type": "markdown",
   "metadata": {},
   "source": [
    "### 5.1 Multiple lineare Regression\n",
    "Um Anhaltspunkte und Einblicke in den Erarbeitungsprozess zu geben"
   ]
  },
  {
   "cell_type": "code",
   "execution_count": 7,
   "metadata": {},
   "outputs": [
    {
     "name": "stdout",
     "output_type": "stream",
     "text": [
      "R² score: 0.017543325504641882\n",
      "RMSE error: 20.055951744388004\n",
      "Koeffizienten: [-7.98820024e-01  1.17087144e+00 -1.87614540e+00 -1.73662922e+00\n",
      " -4.96504082e-01 -2.53340581e-01 -3.53999509e-01 -1.62597274e+00\n",
      " -8.65986732e-07  1.81440183e-02  3.95728616e-01  7.06922513e-01\n",
      "  1.47110178e+00]\n"
     ]
    }
   ],
   "source": [
    "reg = LinearRegression()\n",
    "reg.fit(X_train, y_train)\n",
    "\n",
    "score = reg.score(X_test, y_test)\n",
    "mse = mean_squared_error(y_test, reg.predict(X_test), squared=False)\n",
    "\n",
    "print(\"R² score:\", score)\n",
    "print(\"RMSE error:\", mse)\n",
    "\n",
    "print(\"Koeffizienten:\", reg.coef_)"
   ]
  },
  {
   "cell_type": "markdown",
   "metadata": {},
   "source": [
    "Linare Regression ungeeignet, da abhängige Zielvariable p, die die Popularität eines Liedes angibt, folgende Eigenschaften besitzt:"
   ]
  },
  {
   "cell_type": "markdown",
   "metadata": {},
   "source": [
    "\\begin{align}\n",
    "p \\in \\{x\\in\\mathbb{N} | x >= 0 \\wedge x <= 100\\}\n",
    "\\end{align}"
   ]
  },
  {
   "cell_type": "markdown",
   "metadata": {},
   "source": [
    "Zudem könnten die Beziehungen nicht linear sein. Außerdem nicht robust gegen Ausreißer."
   ]
  },
  {
   "cell_type": "markdown",
   "metadata": {},
   "source": [
    "### 5.2 Lasso Regression"
   ]
  },
  {
   "cell_type": "markdown",
   "metadata": {},
   "source": [
    "Kreuzvalidierung um Hyperparameter bei Lasso-Regression zu optimieren, über Random Search"
   ]
  },
  {
   "cell_type": "code",
   "execution_count": 12,
   "metadata": {},
   "outputs": [
    {
     "name": "stdout",
     "output_type": "stream",
     "text": [
      "Koeffizient: 2.3326707155336455\n",
      "R² score: 0.0015540444968926703\n",
      "RMSE error: 20.218496320541508\n"
     ]
    }
   ],
   "source": [
    "reg = LassoCV(cv=5, random_state=7, max_iter=10000)\n",
    "reg.fit(X_train, y_train)\n",
    "\n",
    "print(\"Koeffizient:\", reg.alpha_)\n",
    "\n",
    "score = reg.score(X_test, y_test)\n",
    "mse = mean_squared_error(y_test, reg.predict(X_test), squared=False)\n",
    "\n",
    "print(\"R² score:\", score)\n",
    "print(\"RMSE error:\", mse)"
   ]
  },
  {
   "cell_type": "markdown",
   "metadata": {},
   "source": [
    "### 5.3 Random Forest Regression\n",
    "Random Search um optimale Hyperparameter zu trainieren"
   ]
  },
  {
   "cell_type": "code",
   "execution_count": 11,
   "metadata": {},
   "outputs": [
    {
     "name": "stdout",
     "output_type": "stream",
     "text": [
      "Fitting 5 folds for each of 100 candidates, totalling 500 fits\n",
      "Best Parameters:  {'n_estimators': 424, 'min_samples_split': 2, 'min_samples_leaf': 4, 'max_features': 'auto', 'max_depth': 10}  \n",
      "\n"
     ]
    }
   ],
   "source": [
    "rf = RandomForestRegressor()\n",
    "\n",
    "n_estimators = [int(x) for x in np.linspace(start = 1, stop = 1000, num = 1000)] # number of trees in the random forest\n",
    "max_features = [\"auto\", \"sqrt\"] # number of features in consideration at every split\n",
    "max_depth = [int(x) for x in np.linspace(10, 120, num = 12)] # maximum number of levels allowed in each decision tree\n",
    "min_samples_split = [2, 6, 10] # minimum sample number to split a node\n",
    "min_samples_leaf = [1, 3, 4] # minimum sample number that can be stored in a leaf node\n",
    "\n",
    "random_grid = {\n",
    "    \"n_estimators\": n_estimators,\n",
    "    \"max_features\": max_features,\n",
    "    \"max_depth\": max_depth,\n",
    "    \"min_samples_split\": min_samples_split,\n",
    "    \"min_samples_leaf\": min_samples_leaf,\n",
    "}\n",
    "\n",
    "search = RandomizedSearchCV(estimator = rf, param_distributions = random_grid, n_iter = 100, cv = 5, verbose=2, random_state=7, n_jobs = -1)\n",
    "search.fit(X_train, y_train)\n",
    "\n",
    "# print the best parameters\n",
    "print (\"Best Parameters: \", search.best_params_, ' \\n')\n"
   ]
  },
  {
   "cell_type": "code",
   "execution_count": 7,
   "metadata": {},
   "outputs": [
    {
     "name": "stdout",
     "output_type": "stream",
     "text": [
      "R² score: 0.048332420917231445\n",
      "RMSE error: 19.739184638574297\n"
     ]
    }
   ],
   "source": [
    "#Best Parameters:  {'n_estimators': 424, 'min_samples_split': 2, 'min_samples_leaf': 4, 'max_features': 'auto', 'max_depth': 10}\n",
    "rf = RandomForestRegressor(n_estimators=517, min_samples_split = 2,min_samples_leaf = 3, max_depth = 10, random_state=7)\n",
    "rf.fit(X_train, y_train)\n",
    "\n",
    "score = rf.score(X_test, y_test)\n",
    "mse = mean_squared_error(y_test, rf.predict(X_test), squared=False)\n",
    "\n",
    "print(\"R² score:\", score)\n",
    "print(\"RMSE error:\", mse)"
   ]
  },
  {
   "cell_type": "markdown",
   "metadata": {},
   "source": [
    "### 5.4 Support Vector Regression"
   ]
  },
  {
   "cell_type": "code",
   "execution_count": 35,
   "metadata": {},
   "outputs": [
    {
     "name": "stdout",
     "output_type": "stream",
     "text": [
      "R² score: -0.0005982957759362861\n",
      "RMSE error: 20.240276997077867\n"
     ]
    }
   ],
   "source": [
    "svr = SVR(kernel=\"rbf\")\n",
    "svr.fit(X_train, y_train)\n",
    "\n",
    "score = svr.score(X_test, y_test)\n",
    "mse = mean_squared_error(y_test, svr.predict(X_test), squared=False)\n",
    "\n",
    "print(\"R² score:\", score)\n",
    "print(\"RMSE error:\", mse)"
   ]
  },
  {
   "cell_type": "markdown",
   "metadata": {},
   "source": [
    "### 5.5 Polynomiale Regression"
   ]
  },
  {
   "cell_type": "code",
   "execution_count": 8,
   "metadata": {},
   "outputs": [
    {
     "name": "stdout",
     "output_type": "stream",
     "text": [
      "R² score: 0.012812242135562313\n",
      "RMSE error: 20.104184111048227\n",
      "Koeffizienten: [-3.39144558e-02  6.40490907e-02 -1.03730024e-01 -6.27319550e-02\n",
      " -2.12430064e-02  2.49616375e-03 -1.18888013e-02 -7.29984552e-02\n",
      " -3.23221577e-09  2.96938082e-03  2.12486324e-02  4.50262574e-02\n",
      "  6.71448329e-02]\n"
     ]
    },
    {
     "name": "stderr",
     "output_type": "stream",
     "text": [
      "C:\\Users\\dschm\\AppData\\Roaming\\Python\\Python310\\site-packages\\pandas\\core\\arraylike.py:397: RuntimeWarning: divide by zero encountered in log\n",
      "  result = getattr(ufunc, method)(*inputs, **kwargs)\n"
     ]
    }
   ],
   "source": [
    "# Evtl Kombination Logit\n",
    "\n",
    "# Beta Regression\n",
    "class LogitRegression(LinearRegression):\n",
    "\n",
    "    def fit(self, x, p):\n",
    "        # p = np.asarray(p) / 100\n",
    "        # p = p / 100\n",
    "        # p = np.where(p >= 1, 0.999_999, p)\n",
    "        y = np.log(p / (100-p))\n",
    "        y[np.isnan(y)] = 0\n",
    "        y[np.isfinite(y) == False] = 0\n",
    "        return super().fit(x, y)\n",
    "\n",
    "    def predict(self, x):\n",
    "        y = super().predict(x)\n",
    "        p = 1 / (np.exp(-y) + 1)\n",
    "        return p * 100\n",
    "\n",
    "reg = LogitRegression()\n",
    "reg.fit(X_train, y_train)\n",
    "\n",
    "score = reg.score(X_test, y_test)\n",
    "mse = mean_squared_error(y_test, reg.predict(X_test), squared=False)\n",
    "\n",
    "print(\"R² score:\", score)\n",
    "print(\"RMSE error:\", mse)\n",
    "\n",
    "print(\"Koeffizienten:\", reg.coef_)"
   ]
  },
  {
   "cell_type": "markdown",
   "metadata": {},
   "source": [
    "### 5.6 Gradient Boosting Regression\n",
    "Auf Empfehlung wurde die Gradient Boosting Regression ausprobiert"
   ]
  },
  {
   "cell_type": "code",
   "execution_count": 35,
   "metadata": {},
   "outputs": [
    {
     "name": "stdout",
     "output_type": "stream",
     "text": [
      "Fitting 5 folds for each of 100 candidates, totalling 500 fits\n",
      "Best Parameters:  {'n_estimators': 5, 'min_samples_split': 2, 'min_samples_leaf': 4, 'max_features': 'sqrt', 'max_depth': 10}  \n",
      "\n"
     ]
    }
   ],
   "source": [
    "gbr = GradientBoostingRegressor()\n",
    "\n",
    "n_estimators = [int(x) for x in np.linspace(start = 1, stop = 1000, num = 1000)] # number of trees in the random forest\n",
    "max_features = ['auto', 'sqrt'] # number of features in consideration at every split\n",
    "max_depth = [int(x) for x in np.linspace(10, 120, num = 12)] # maximum number of levels allowed in each decision tree\n",
    "min_samples_split = [2, 6, 10] # minimum sample number to split a node\n",
    "min_samples_leaf = [1, 3, 4] # minimum sample number that can be stored in a leaf node\n",
    "\n",
    "random_grid = {\n",
    "    'n_estimators': n_estimators,\n",
    "    'max_features': max_features,\n",
    "    'max_depth': max_depth,\n",
    "    'min_samples_split': min_samples_split,\n",
    "    'min_samples_leaf': min_samples_leaf,\n",
    "}\n",
    "\n",
    "search = RandomizedSearchCV(estimator = gbr, param_distributions = random_grid, n_iter = 100, cv = 5, verbose=2, random_state=7, n_jobs = -1)\n",
    "\n",
    "\n",
    "search.fit(X_train, y_train)\n",
    "\n",
    "# print ('Random grid: ', random_grid, '\\n')\n",
    "\n",
    "# print the best parameters\n",
    "print ('Best Parameters: ', search.best_params_, ' \\n')\n"
   ]
  },
  {
   "cell_type": "code",
   "execution_count": 26,
   "metadata": {},
   "outputs": [
    {
     "name": "stdout",
     "output_type": "stream",
     "text": [
      "19.99957595039082 0.023058788618773085\n"
     ]
    }
   ],
   "source": [
    "# 'n_estimators': 563, 'min_samples_split': 6, 'min_samples_leaf': 1, 'max_features': 'sqrt', 'max_depth': 100}\n",
    "gbr = GradientBoostingRegressor(n_estimators=5, min_samples_split=2, min_samples_leaf=4, max_features=\"sqrt\", max_depth=10, random_state=7)\n",
    "gbr.fit(X_train, y_train)\n",
    "\n",
    "rmse = mean_squared_error(y_test, gbr.predict(X_test), squared=False)\n",
    "r2score = gbr.score(X_test, y_test)\n",
    "\n",
    "print(rmse, r2score)"
   ]
  },
  {
   "cell_type": "markdown",
   "metadata": {},
   "source": [
    "Ausreißer beachten, gibt robuste Regressionsalgorithmen"
   ]
  },
  {
   "cell_type": "markdown",
   "metadata": {},
   "source": [
    "Ist es egal, ob unsere Ergebnisse Kommazahlen von 0-100 oder Ganzzahlen von 0-100 sind? Wshl ja, weil man die Kommazahlen ja einfach runden könnte und dann aufs selbe hinauskommt. Bei Berechnungen kommt es wshl automatisch zu Kommazahlen"
   ]
  },
  {
   "cell_type": "markdown",
   "metadata": {},
   "source": [
    "### 5.7 Neuronales Netz"
   ]
  },
  {
   "cell_type": "code",
   "execution_count": 48,
   "metadata": {},
   "outputs": [
    {
     "name": "stdout",
     "output_type": "stream",
     "text": [
      "Epoch 1/10\n",
      "400/400 [==============================] - 1s 2ms/step - loss: 23476.4785 - val_loss: 19.3209\n",
      "Epoch 2/10\n",
      "400/400 [==============================] - 1s 2ms/step - loss: 20.5919 - val_loss: 18.5439\n",
      "Epoch 3/10\n",
      "400/400 [==============================] - 1s 1ms/step - loss: 19.3257 - val_loss: 23.3555\n",
      "Epoch 4/10\n",
      "400/400 [==============================] - 1s 1ms/step - loss: 19.0290 - val_loss: 17.5440\n",
      "Epoch 5/10\n",
      "400/400 [==============================] - 0s 1ms/step - loss: 17.6744 - val_loss: 16.5653\n",
      "Epoch 6/10\n",
      "400/400 [==============================] - 0s 1ms/step - loss: 16.9443 - val_loss: 16.8636\n",
      "Epoch 7/10\n",
      "400/400 [==============================] - 1s 1ms/step - loss: 16.6954 - val_loss: 21.2263\n",
      "Epoch 8/10\n",
      "400/400 [==============================] - 0s 1ms/step - loss: 16.1827 - val_loss: 16.0251\n",
      "Epoch 9/10\n",
      "400/400 [==============================] - 0s 1ms/step - loss: 16.2533 - val_loss: 15.9381\n",
      "Epoch 10/10\n",
      "400/400 [==============================] - 0s 1ms/step - loss: 16.1963 - val_loss: 15.9154\n"
     ]
    }
   ],
   "source": [
    "model = keras.Sequential([\n",
    "    #keras.layers.Dense(units=20, activation='relu'),\n",
    "    #keras.layers.Dense(units=10, activation='relu'),\n",
    "    #keras.layers.Dense(units=5, activation='relu'),\n",
    "    #keras.layers.Dense(units=1, activation='sigmoid')\n",
    "    keras.layers.Dense(units=13),\n",
    "    keras.layers.Dense(units=13),\n",
    "    keras.layers.Dense(units=13),\n",
    "    keras.layers.Dense(units=13),\n",
    "    keras.layers.Dense(units=13),\n",
    "    keras.layers.Dense(units=1)\n",
    "])\n",
    "\n",
    "model.compile(optimizer=tf.keras.optimizers.Adam(learning_rate=0.1), loss='mean_absolute_error')\n",
    "\n",
    "history = model.fit(\n",
    "    X_train,\n",
    "    y_train, \n",
    "    epochs=10, \n",
    "    steps_per_epoch=400,\n",
    "    validation_data=(X_test, y_test), \n",
    "    validation_steps=2\n",
    ")"
   ]
  },
  {
   "cell_type": "code",
   "execution_count": 52,
   "metadata": {},
   "outputs": [
    {
     "name": "stdout",
     "output_type": "stream",
     "text": [
      "91/91 [==============================] - 0s 964us/step\n",
      "91/91 [==============================] - 0s 831us/step\n",
      "20.60303834054545 -0.036786650981875946\n"
     ]
    }
   ],
   "source": [
    "\n",
    "rmse = mean_squared_error(y_test, model.predict(X_test), squared=False)\n",
    "r2score = r2_score(y_test, model.predict(X_test))\n",
    "\n",
    "print(rmse, r2score)"
   ]
  },
  {
   "cell_type": "markdown",
   "metadata": {},
   "source": [
    "## 6. Transformation des Regressionsproblems in ein Klassifikationsproblem\n",
    "Ein weitere Ansatz kann sein, dass Regressionsproblem in ein Klassifikationsproblem umzuwandeln und somit die Komplexität etwas zu verringern."
   ]
  },
  {
   "cell_type": "code",
   "execution_count": 8,
   "metadata": {},
   "outputs": [
    {
     "data": {
      "text/plain": [
       "[0.0, 37.0, 52.0, 63.0]"
      ]
     },
     "execution_count": 8,
     "metadata": {},
     "output_type": "execute_result"
    }
   ],
   "source": [
    "def get_bins(n, feature):\n",
    "    step, bins = 1 / n, []\n",
    "\n",
    "    for i in range(n):\n",
    "        q = feature.quantile(step * i)\n",
    "        bins.append(q)\n",
    "\n",
    "    return bins\n",
    "\n",
    "quartil_bins = get_bins(4, cleared[\"song_popularity\"])\n",
    "\n",
    "#####\n",
    "#####\n",
    "#####\n",
    "# EINEN ALGORITHMUS ERKLÄREN\n",
    "#####\n",
    "#####\n",
    "#####"
   ]
  },
  {
   "cell_type": "markdown",
   "metadata": {},
   "source": [
    "Aufspaltung nach Quantile macht eigentlich weniger Sinn ???\n",
    "\n",
    "Deswegen Fokus auf Kontext und Klassen in 25 Schritten aufteilen"
   ]
  },
  {
   "cell_type": "code",
   "execution_count": 6,
   "metadata": {},
   "outputs": [
    {
     "data": {
      "text/plain": [
       "8299      0\n",
       "14414    64\n",
       "7823     68\n",
       "6754     78\n",
       "2334     40\n",
       "Name: song_popularity, dtype: int64"
      ]
     },
     "execution_count": 6,
     "metadata": {},
     "output_type": "execute_result"
    }
   ],
   "source": [
    "y_train.head()"
   ]
  },
  {
   "cell_type": "markdown",
   "metadata": {},
   "source": [
    "Bei np.digitize hat sich unoffensichtlicher Fehler eingeschlichen, da np.digitize den Index verändert. Dadurch eigene Methode geschrieben, die das Binning vornimmt."
   ]
  },
  {
   "cell_type": "code",
   "execution_count": 7,
   "metadata": {},
   "outputs": [
    {
     "name": "stdout",
     "output_type": "stream",
     "text": [
      "count    14468.000000\n",
      "mean        48.593655\n",
      "std         20.282872\n",
      "min          0.000000\n",
      "25%         37.000000\n",
      "50%         52.000000\n",
      "75%         63.000000\n",
      "max        100.000000\n",
      "Name: song_popularity, dtype: float64\n",
      "Klassenverteilung Training: 2    5472\n",
      "1    3643\n",
      "0    1634\n",
      "3     825\n",
      "Name: song_popularity, dtype: int64\n",
      "Klassenverteilung Test: 2    1359\n",
      "1     907\n",
      "0     395\n",
      "3     233\n",
      "Name: song_popularity, dtype: int64\n"
     ]
    }
   ],
   "source": [
    "print(cleared[\"song_popularity\"].describe())\n",
    "bins = [0, 25, 50, 75] # 4 Klassen\n",
    "\n",
    "# y_train_class, y_test_class = y_train.copy(), y_test.copy()\n",
    "\n",
    "def bin_to(x):\n",
    "    x = x // 25\n",
    "    if x == 4:\n",
    "        x = 3\n",
    "    return x\n",
    "\n",
    "y_train_class = y_train.apply(bin_to)\n",
    "y_test_class = y_test.apply(bin_to)\n",
    "\n",
    "#y_train_class = np.digitize(y_train, bins)\n",
    "#y_test_class = np.digitize(y_test, bins)\n",
    "\n",
    "#y_train_class = pd.DataFrame(y_train_class)\n",
    "print(\"Klassenverteilung Training:\", y_train_class.value_counts())\n",
    "\n",
    "#y_test_class = pd.DataFrame(y_test_class)\n",
    "print(\"Klassenverteilung Test:\", y_test_class.value_counts())\n",
    "\n",
    "# auf gleichverteilung bei klassifikation achten"
   ]
  },
  {
   "cell_type": "code",
   "execution_count": 8,
   "metadata": {},
   "outputs": [
    {
     "data": {
      "text/plain": [
       "8299     0\n",
       "14414    2\n",
       "7823     2\n",
       "6754     3\n",
       "2334     1\n",
       "Name: song_popularity, dtype: int64"
      ]
     },
     "execution_count": 8,
     "metadata": {},
     "output_type": "execute_result"
    }
   ],
   "source": [
    "#y_train_class = y_train_class.rename(columns={0:\"class\"})\n",
    "y_train_class.head()"
   ]
  },
  {
   "cell_type": "code",
   "execution_count": 9,
   "metadata": {},
   "outputs": [],
   "source": [
    "def down_sample(x, y, n):\n",
    "    random.seed(7)\n",
    "\n",
    "    for i in range(0, y.nunique()):\n",
    "        y_class = y[y == i]\n",
    "\n",
    "        # Indices sind nicht der Reihe nach im Datensatz\n",
    "        # Reset Index vorher oder aber schwer möglich, ansonsten Index ausprobieren\n",
    "        indices = random.sample(list(y_class.index.values), len(y_class) - n)\n",
    "\n",
    "        x = x[~x.index.isin(indices)]\n",
    "        y = y[~y.index.isin(indices)]\n",
    "    \n",
    "    return x, y"
   ]
  },
  {
   "cell_type": "code",
   "execution_count": 10,
   "metadata": {},
   "outputs": [
    {
     "data": {
      "text/plain": [
       "2    5472\n",
       "1    3643\n",
       "0    1634\n",
       "3     825\n",
       "Name: song_popularity, dtype: int64"
      ]
     },
     "execution_count": 10,
     "metadata": {},
     "output_type": "execute_result"
    }
   ],
   "source": [
    "y_train_class.value_counts()"
   ]
  },
  {
   "cell_type": "code",
   "execution_count": 10,
   "metadata": {},
   "outputs": [],
   "source": [
    "X_train_sampled, y_train_class_sampled = down_sample(X_train, y_train_class, 825)"
   ]
  },
  {
   "cell_type": "code",
   "execution_count": 11,
   "metadata": {},
   "outputs": [
    {
     "data": {
      "text/plain": [
       "0    825\n",
       "2    825\n",
       "1    825\n",
       "3    825\n",
       "Name: song_popularity, dtype: int64"
      ]
     },
     "execution_count": 11,
     "metadata": {},
     "output_type": "execute_result"
    }
   ],
   "source": [
    "y_train_class_sampled.value_counts()"
   ]
  },
  {
   "cell_type": "markdown",
   "metadata": {},
   "source": [
    "## 7. Maschinelles Lernen (Klassifikation)"
   ]
  },
  {
   "cell_type": "markdown",
   "metadata": {},
   "source": [
    "### 7.1 RandomForestClassifier\n",
    "Da der zielführendste Ansatz bei der Regression der Random Forest war, wird hier bei der Klassifikation ebenfalls der Random Forest Algorithmus verwendet."
   ]
  },
  {
   "cell_type": "code",
   "execution_count": 12,
   "metadata": {},
   "outputs": [
    {
     "name": "stdout",
     "output_type": "stream",
     "text": [
      "Durchschnittliche Genauigkeit (accuracy): 0.30545957152729786\n"
     ]
    }
   ],
   "source": [
    "rf = RandomForestClassifier(n_estimators=400, random_state=7)\n",
    "rf.fit(X_train_sampled, y_train_class_sampled)\n",
    "\n",
    "accuracy = rf.score(X_test, y_test_class)\n",
    "print(\"Durchschnittliche Genauigkeit (accuracy):\", accuracy)"
   ]
  },
  {
   "cell_type": "code",
   "execution_count": 13,
   "metadata": {},
   "outputs": [
    {
     "name": "stdout",
     "output_type": "stream",
     "text": [
      "[[114 106  75 100]\n",
      " [235 296 169 207]\n",
      " [315 303 340 401]\n",
      " [ 35  23  41 134]]\n"
     ]
    },
    {
     "data": {
      "image/png": "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",
      "text/plain": [
       "<Figure size 1152x504 with 2 Axes>"
      ]
     },
     "metadata": {
      "needs_background": "light"
     },
     "output_type": "display_data"
    }
   ],
   "source": [
    "y_pred_test = rf.predict(X_test)\n",
    "matrix = confusion_matrix(y_test_class, y_pred_test)\n",
    "print(matrix)\n",
    "\n",
    "matrix = matrix.astype(\"float\") / matrix.sum(axis=1)[:, np.newaxis]\n",
    "\n",
    "# Build the plot\n",
    "plt.figure(figsize=(16,7))\n",
    "sns.heatmap(matrix, annot=True, annot_kws={\"size\":10}, cmap=plt.cm.Blues, linewidths=0.2)\n",
    "\n",
    "plt.xlabel(\"Vorhergesagte Klasse\")\n",
    "plt.ylabel(\"Annotierte Klasse\")\n",
    "plt.show()"
   ]
  },
  {
   "cell_type": "markdown",
   "metadata": {},
   "source": [
    "### 7.2 Logistische Regression\n",
    "Hat das Lied grundsätzlich potential beliebt zu werden?"
   ]
  },
  {
   "cell_type": "code",
   "execution_count": 63,
   "metadata": {},
   "outputs": [],
   "source": [
    "def is_popular(x):\n",
    "    if x >= 66:\n",
    "        return 1\n",
    "    return 0\n",
    "\n",
    "y_train_binary = y_train.apply(is_popular)\n",
    "y_test_binary = y_test.apply(is_popular)"
   ]
  },
  {
   "cell_type": "code",
   "execution_count": 64,
   "metadata": {},
   "outputs": [
    {
     "data": {
      "text/plain": [
       "0    9195\n",
       "1    2379\n",
       "Name: song_popularity, dtype: int64"
      ]
     },
     "execution_count": 64,
     "metadata": {},
     "output_type": "execute_result"
    }
   ],
   "source": [
    "y_train_binary.value_counts()"
   ]
  },
  {
   "cell_type": "code",
   "execution_count": 65,
   "metadata": {},
   "outputs": [
    {
     "data": {
      "text/plain": [
       "0    2379\n",
       "1    2379\n",
       "Name: song_popularity, dtype: int64"
      ]
     },
     "execution_count": 65,
     "metadata": {},
     "output_type": "execute_result"
    }
   ],
   "source": [
    "X_train_sampled, y_train_binary = down_sample(X_train, y_train_binary, 2379)\n",
    "y_train_binary.value_counts()"
   ]
  },
  {
   "cell_type": "code",
   "execution_count": 66,
   "metadata": {},
   "outputs": [
    {
     "name": "stdout",
     "output_type": "stream",
     "text": [
      "0.5224602626123013\n"
     ]
    }
   ],
   "source": [
    "logReg = LogisticRegression()\n",
    "logReg.fit(X_train_sampled, y_train_binary)\n",
    "\n",
    "score = logReg.score(X_test, y_test_binary)\n",
    "print(score)"
   ]
  },
  {
   "cell_type": "code",
   "execution_count": 67,
   "metadata": {},
   "outputs": [
    {
     "name": "stdout",
     "output_type": "stream",
     "text": [
      "No Skill: ROC AUC=0.500\n",
      "Logistic: ROC AUC=0.578\n"
     ]
    },
    {
     "data": {
      "image/png": "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",
      "text/plain": [
       "<Figure size 432x288 with 1 Axes>"
      ]
     },
     "metadata": {
      "needs_background": "light"
     },
     "output_type": "display_data"
    }
   ],
   "source": [
    "from sklearn.metrics import roc_curve\n",
    "from sklearn.metrics import roc_auc_score\n",
    "\n",
    "lr_probs = logReg.predict_proba(X_test)\n",
    "lr_probs = lr_probs[:, 1]\n",
    "\n",
    "ns_probs = [0 for _ in range(len(y_test_binary))]\n",
    "\n",
    "ns_auc = roc_auc_score(y_test_binary, ns_probs)\n",
    "lr_auc = roc_auc_score(y_test_binary, lr_probs)\n",
    "# summarize scores\n",
    "print('No Skill: ROC AUC=%.3f' % (ns_auc))\n",
    "print('Logistic: ROC AUC=%.3f' % (lr_auc))\n",
    "# calculate roc curves\n",
    "ns_fpr, ns_tpr, _ = roc_curve(y_test_binary, ns_probs)\n",
    "lr_fpr, lr_tpr, _ = roc_curve(y_test_binary, lr_probs)\n",
    "# plot the roc curve for the model\n",
    "plt.plot(ns_fpr, ns_tpr, linestyle='--', label='No Skill')\n",
    "plt.plot(lr_fpr, lr_tpr, marker='.', label='Logistic')\n",
    "# axis labels\n",
    "plt.xlabel('False Positive Rate')\n",
    "plt.ylabel('True Positive Rate')\n",
    "# show the legend\n",
    "plt.legend()\n",
    "# show the plot\n",
    "plt.show()"
   ]
  },
  {
   "cell_type": "markdown",
   "metadata": {},
   "source": [
    "## 8 Diskussion"
   ]
  },
  {
   "cell_type": "markdown",
   "metadata": {},
   "source": [
    "- Auf welcher Basis wurden die 18.000 Lieder ausgewählt? Stichprobenverzerrung???\n",
    "- Datensatz wahrscheinlich aus 2018. Wie wirken sich Trends evtl. aus?\n",
    "- Was bedeutet Popularität?\n",
    "- Der Datensatz besteht nicht nur aus Musik, sondern auch aus Reden (bsp. Rede von Martin Luther King) und weiteren nicht musikalischen \n",
    "- Wie zuverlässig sind die Features? Sind die Ergebnisse statistisch signifikant?"
   ]
  },
  {
   "cell_type": "code",
   "execution_count": null,
   "metadata": {},
   "outputs": [],
   "source": []
  },
  {
   "cell_type": "markdown",
   "metadata": {},
   "source": [
    "WICHTIGE ENTDECKUNG:\n",
    "Wenn Redundanzen nicht entfernt werden, steigt der R²-Score bei der Random Forest Regression von 0.02 auf 0.38. Warum ist das so? Liegt es daran, dass 4.000 Redundanzen entfernt wurden (circa 25% des Datensatzes), diese auch zum Teil in den Testdaten "
   ]
  },
  {
   "cell_type": "markdown",
   "metadata": {},
   "source": [
    "Performance Unterschiedliche Modelle aus 5 vergleichen"
   ]
  },
  {
   "cell_type": "markdown",
   "metadata": {},
   "source": [
    "### 8.1 Limitationen"
   ]
  },
  {
   "cell_type": "markdown",
   "metadata": {},
   "source": [
    "- Es wurde auf bereits ermittelte Features zurükgegriffen \n",
    "- falsche Ergebnisse dort wirken sich auch unter Umständen auf die Modelle die im Rahmen dieser Ausarbeiten aufgestellt wurden aus"
   ]
  },
  {
   "cell_type": "markdown",
   "metadata": {},
   "source": [
    "### 8.2 Konklusion"
   ]
  },
  {
   "cell_type": "markdown",
   "metadata": {},
   "source": [
    "Weitere Forschung kann sich mit Genres und deren Beliebtheit im zeitlichen Verlauf beschäftigen, beispielsweise Rock in den 70ern?\n",
    "\n",
    "Zusammenfassend ist der Musikgeschmack individuell und abhängig von einer Vielzahl an Faktoren. Durch die gegebenen Features lässt sich die Beliebtheit nicht bestimmen. Weitere Forschung könnte sich mit Clustering beschäftigen, wahrscheinlich auch von Spotify genutzt, um Epfehlungen zu geben, durch Clustering Gruppen finden, die ähnlichen Musikgeschmack haben."
   ]
  },
  {
   "cell_type": "markdown",
   "metadata": {},
   "source": [
    "## Quellenverzeichnis\n"
   ]
  },
  {
   "cell_type": "markdown",
   "metadata": {},
   "source": [
    "- Ch. Bishop. Pattern Recognition and Machine Learning. Springer (2006)\n",
    "- ..."
   ]
  },
  {
   "cell_type": "markdown",
   "metadata": {},
   "source": []
  }
 ],
 "metadata": {
  "kernelspec": {
   "display_name": "Python 3.8.6 64-bit",
   "language": "python",
   "name": "python3"
  },
  "language_info": {
   "codemirror_mode": {
    "name": "ipython",
    "version": 3
   },
   "file_extension": ".py",
   "mimetype": "text/x-python",
   "name": "python",
   "nbconvert_exporter": "python",
   "pygments_lexer": "ipython3",
   "version": "3.8.6"
  },
  "orig_nbformat": 4,
  "vscode": {
   "interpreter": {
    "hash": "f3aee800614a5485d4e1ef423aa2f6866bf568d4db94c3995a189d53298965bc"
   }
  }
 },
 "nbformat": 4,
 "nbformat_minor": 2
}
