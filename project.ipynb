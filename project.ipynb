{
 "cells": [
  {
   "cell_type": "markdown",
   "metadata": {},
   "source": [
    "## Vorwort\n",
    "Musik ist ein wichtiger Bestandteil unserer Kultur und der Identität eines jeden Menschens. Man ist in der heutigen Zeit fast ständig von Musik umgeben, man kann ihr kaum aus dem Weg gehen.\n",
    "\n",
    "Dass Musik eine Gesellschaftlich so zentrale Rolle spielt hat mehrere Gründe. Sie fördert oder erzeugt ein Gemeinschaftsgefühl in einer Gruppe, durch gemeinsames Tanzen und musikalische Rituale. Gleichzeitig zeigt sie Zusammenhalt: man zeigt anderen Gruppierungen, wir halten zusammen, wir sind stark. Diese Eigenschaften wurden auch zum Beispiel in Ausnahmesituationen wie Kriegen genutzt um ein Nationalbewusstsein zu förden. Musik wird vor Allem genutzt um Gefühle auszudrücken. Ein berühmtes Beispiel, auch aus dem Musikunterricht... Smiley!, ist dabei der Blues, mit dem die schwarze Bevölkerung in den USA ihr Leid in der Sklaverei ausdrückte.\n",
    "\n",
    "Spotify hat die Musikindustrie grundsätzlich verändert. Um 2010 polarisierten hauptsächlich illegale Streamingdienste oder illegale Youtube-Downloader im Internet. Dann kam Spotify und hat die Musikbranche in gewisser Weise gerettet. Diese hatten massive Probleme damit, illegales Streaming zu unterbinden. 2011 gabe es dann durch Spotify endlich einen legalen Streamingdienst, der auch kostenlos zur Verfügung steht und dabei trotzdem den Künstlern Provisionen zukommen lässt. In 2017 wurde durch Musiklabels dann zum ersten Mal mehr Geld mit Streaming als mit dem Verkauf von CDs verdient. Heutzutage hat Spotify unter den Anbietern von Musikstreamingdiensten einen Marktanteil von 38 %. Damit ist Spotify fast doppelt so groß wie sein nächster Konkurrent Apple Musik. Eigentlich jedes Musiklabel und alle großen und auch kleinen Musiker arbeiten mit Spotify zusammen. Damit bilden die Spotify Charts zusätzlich sehr gut die Beliebtheit von Musik ab.\n"
   ]
  },
  {
   "cell_type": "markdown",
   "metadata": {},
   "source": [
    "## 1 Importierung benötigter Bibliotheken und des Datensatzes\n",
    "In diesem Kapitel werden zuerst die benötigten Bibliotheken importiert. Danach wird der Basisdatensatz eingelesen, um mit der Bearbeitung zu beginnen.\n",
    "\n",
    "### 1.1 Laden der Bibliotheken\n",
    "Innerhalb des Datenexplorationsprojektes werden die folgenden Bibliotheken benötigt:"
   ]
  },
  {
   "cell_type": "code",
   "execution_count": 1,
   "metadata": {},
   "outputs": [],
   "source": [
    "import os\n",
    "import time\n",
    "import random\n",
    "import pandas as pd\n",
    "import numpy as np\n",
    "import seaborn as sns\n",
    "\n",
    "import spotipy\n",
    "from spotipy.oauth2 import SpotifyClientCredentials\n",
    "\n",
    "import tensorflow as tf\n",
    "from tensorflow import keras\n",
    "from tensorflow.keras import layers\n",
    "\n",
    "from sklearn.linear_model import LinearRegression, LogisticRegression, Lasso, LassoCV\n",
    "from sklearn.ensemble import RandomForestRegressor, RandomForestClassifier, GradientBoostingRegressor\n",
    "from sklearn.preprocessing import StandardScaler, RobustScaler\n",
    "from sklearn.model_selection import train_test_split, RandomizedSearchCV\n",
    "from sklearn.metrics import accuracy_score, confusion_matrix, classification_report, mean_squared_error, r2_score\n",
    "from sklearn.compose import ColumnTransformer\n",
    "from sklearn.svm import SVR\n",
    "from sklearn.utils import resample\n",
    "\n",
    "from matplotlib import pyplot as plt"
   ]
  },
  {
   "cell_type": "markdown",
   "metadata": {},
   "source": [
    "### 1.2 Laden des Basis-Datensatzes"
   ]
  },
  {
   "cell_type": "code",
   "execution_count": 2,
   "metadata": {},
   "outputs": [
    {
     "name": "stdout",
     "output_type": "stream",
     "text": [
      "<class 'pandas.core.frame.DataFrame'>\n",
      "RangeIndex: 18835 entries, 0 to 18834\n",
      "Data columns (total 15 columns):\n",
      " #   Column            Non-Null Count  Dtype  \n",
      "---  ------            --------------  -----  \n",
      " 0   song_name         18835 non-null  object \n",
      " 1   song_popularity   18835 non-null  int64  \n",
      " 2   song_duration_ms  18835 non-null  int64  \n",
      " 3   acousticness      18835 non-null  float64\n",
      " 4   danceability      18835 non-null  float64\n",
      " 5   energy            18835 non-null  float64\n",
      " 6   instrumentalness  18835 non-null  float64\n",
      " 7   key               18835 non-null  int64  \n",
      " 8   liveness          18835 non-null  float64\n",
      " 9   loudness          18835 non-null  float64\n",
      " 10  audio_mode        18835 non-null  int64  \n",
      " 11  speechiness       18835 non-null  float64\n",
      " 12  tempo             18835 non-null  float64\n",
      " 13  time_signature    18835 non-null  int64  \n",
      " 14  audio_valence     18835 non-null  float64\n",
      "dtypes: float64(9), int64(5), object(1)\n",
      "memory usage: 2.2+ MB\n"
     ]
    }
   ],
   "source": [
    "base_data = pd.read_csv(\"song_data.csv\")\n",
    "base_data.info()"
   ]
  },
  {
   "cell_type": "markdown",
   "metadata": {},
   "source": [
    "Der Basisdatensatz besteht aus 18.835 Einträgen mit je 15 Attributen. Der Datensatz besitzt keine Lücken bzw. keine Null-Werte, sodass alle Zellen ausgefüllt sind. Von den 15 Attributen liegen neun als float64, fünf als int64 und eins als Object vor. Das \"Object\"-Attribut ist der Bezeichnung entsprechend der Name des Songs, die einzige Textzelle im Datensatz."
   ]
  },
  {
   "cell_type": "code",
   "execution_count": 3,
   "metadata": {},
   "outputs": [
    {
     "data": {
      "text/html": [
       "<div>\n",
       "<style scoped>\n",
       "    .dataframe tbody tr th:only-of-type {\n",
       "        vertical-align: middle;\n",
       "    }\n",
       "\n",
       "    .dataframe tbody tr th {\n",
       "        vertical-align: top;\n",
       "    }\n",
       "\n",
       "    .dataframe thead th {\n",
       "        text-align: right;\n",
       "    }\n",
       "</style>\n",
       "<table border=\"1\" class=\"dataframe\">\n",
       "  <thead>\n",
       "    <tr style=\"text-align: right;\">\n",
       "      <th></th>\n",
       "      <th>song_name</th>\n",
       "      <th>song_popularity</th>\n",
       "      <th>song_duration_ms</th>\n",
       "      <th>acousticness</th>\n",
       "      <th>danceability</th>\n",
       "      <th>energy</th>\n",
       "      <th>instrumentalness</th>\n",
       "      <th>key</th>\n",
       "      <th>liveness</th>\n",
       "      <th>loudness</th>\n",
       "      <th>audio_mode</th>\n",
       "      <th>speechiness</th>\n",
       "      <th>tempo</th>\n",
       "      <th>time_signature</th>\n",
       "      <th>audio_valence</th>\n",
       "    </tr>\n",
       "  </thead>\n",
       "  <tbody>\n",
       "    <tr>\n",
       "      <th>0</th>\n",
       "      <td>Boulevard of Broken Dreams</td>\n",
       "      <td>73</td>\n",
       "      <td>262333</td>\n",
       "      <td>0.005520</td>\n",
       "      <td>0.496</td>\n",
       "      <td>0.682</td>\n",
       "      <td>0.000029</td>\n",
       "      <td>8</td>\n",
       "      <td>0.0589</td>\n",
       "      <td>-4.095</td>\n",
       "      <td>1</td>\n",
       "      <td>0.0294</td>\n",
       "      <td>167.060</td>\n",
       "      <td>4</td>\n",
       "      <td>0.474</td>\n",
       "    </tr>\n",
       "    <tr>\n",
       "      <th>1</th>\n",
       "      <td>In The End</td>\n",
       "      <td>66</td>\n",
       "      <td>216933</td>\n",
       "      <td>0.010300</td>\n",
       "      <td>0.542</td>\n",
       "      <td>0.853</td>\n",
       "      <td>0.000000</td>\n",
       "      <td>3</td>\n",
       "      <td>0.1080</td>\n",
       "      <td>-6.407</td>\n",
       "      <td>0</td>\n",
       "      <td>0.0498</td>\n",
       "      <td>105.256</td>\n",
       "      <td>4</td>\n",
       "      <td>0.370</td>\n",
       "    </tr>\n",
       "    <tr>\n",
       "      <th>2</th>\n",
       "      <td>Seven Nation Army</td>\n",
       "      <td>76</td>\n",
       "      <td>231733</td>\n",
       "      <td>0.008170</td>\n",
       "      <td>0.737</td>\n",
       "      <td>0.463</td>\n",
       "      <td>0.447000</td>\n",
       "      <td>0</td>\n",
       "      <td>0.2550</td>\n",
       "      <td>-7.828</td>\n",
       "      <td>1</td>\n",
       "      <td>0.0792</td>\n",
       "      <td>123.881</td>\n",
       "      <td>4</td>\n",
       "      <td>0.324</td>\n",
       "    </tr>\n",
       "    <tr>\n",
       "      <th>3</th>\n",
       "      <td>By The Way</td>\n",
       "      <td>74</td>\n",
       "      <td>216933</td>\n",
       "      <td>0.026400</td>\n",
       "      <td>0.451</td>\n",
       "      <td>0.970</td>\n",
       "      <td>0.003550</td>\n",
       "      <td>0</td>\n",
       "      <td>0.1020</td>\n",
       "      <td>-4.938</td>\n",
       "      <td>1</td>\n",
       "      <td>0.1070</td>\n",
       "      <td>122.444</td>\n",
       "      <td>4</td>\n",
       "      <td>0.198</td>\n",
       "    </tr>\n",
       "    <tr>\n",
       "      <th>4</th>\n",
       "      <td>How You Remind Me</td>\n",
       "      <td>56</td>\n",
       "      <td>223826</td>\n",
       "      <td>0.000954</td>\n",
       "      <td>0.447</td>\n",
       "      <td>0.766</td>\n",
       "      <td>0.000000</td>\n",
       "      <td>10</td>\n",
       "      <td>0.1130</td>\n",
       "      <td>-5.065</td>\n",
       "      <td>1</td>\n",
       "      <td>0.0313</td>\n",
       "      <td>172.011</td>\n",
       "      <td>4</td>\n",
       "      <td>0.574</td>\n",
       "    </tr>\n",
       "  </tbody>\n",
       "</table>\n",
       "</div>"
      ],
      "text/plain": [
       "                    song_name  song_popularity  song_duration_ms  \\\n",
       "0  Boulevard of Broken Dreams               73            262333   \n",
       "1                  In The End               66            216933   \n",
       "2           Seven Nation Army               76            231733   \n",
       "3                  By The Way               74            216933   \n",
       "4           How You Remind Me               56            223826   \n",
       "\n",
       "   acousticness  danceability  energy  instrumentalness  key  liveness  \\\n",
       "0      0.005520         0.496   0.682          0.000029    8    0.0589   \n",
       "1      0.010300         0.542   0.853          0.000000    3    0.1080   \n",
       "2      0.008170         0.737   0.463          0.447000    0    0.2550   \n",
       "3      0.026400         0.451   0.970          0.003550    0    0.1020   \n",
       "4      0.000954         0.447   0.766          0.000000   10    0.1130   \n",
       "\n",
       "   loudness  audio_mode  speechiness    tempo  time_signature  audio_valence  \n",
       "0    -4.095           1       0.0294  167.060               4          0.474  \n",
       "1    -6.407           0       0.0498  105.256               4          0.370  \n",
       "2    -7.828           1       0.0792  123.881               4          0.324  \n",
       "3    -4.938           1       0.1070  122.444               4          0.198  \n",
       "4    -5.065           1       0.0313  172.011               4          0.574  "
      ]
     },
     "execution_count": 3,
     "metadata": {},
     "output_type": "execute_result"
    }
   ],
   "source": [
    "base_data.head()"
   ]
  },
  {
   "cell_type": "markdown",
   "metadata": {},
   "source": [
    "## 2 Übersicht und Interpretation der Datenwerte\n",
    "In diesem Kapitel geht es darum, die grundlegenden Eigenschaften der Datenwerte und ihre zulässigen Wertebereiche zu ermitteln. Zunächst soll festgestellt werden, welchem Skalenniveau welcher Datenwert zugeordnet werden kann."
   ]
  },
  {
   "cell_type": "code",
   "execution_count": 17,
   "metadata": {},
   "outputs": [
    {
     "data": {
      "text/plain": [
       "audio_mode              2\n",
       "time_signature          5\n",
       "key                    12\n",
       "song_popularity       101\n",
       "danceability          849\n",
       "energy               1132\n",
       "speechiness          1224\n",
       "audio_valence        1246\n",
       "liveness             1425\n",
       "acousticness         3209\n",
       "instrumentalness     3925\n",
       "loudness             8416\n",
       "song_duration_ms    11771\n",
       "tempo               12112\n",
       "song_name           13070\n",
       "dtype: int64"
      ]
     },
     "execution_count": 17,
     "metadata": {},
     "output_type": "execute_result"
    }
   ],
   "source": [
    "base_data.nunique().sort_values()"
   ]
  },
  {
   "cell_type": "markdown",
   "metadata": {},
   "source": [
    "Über die Anzahl einzigartiger Werte eines Feldes ist ersichtlich, dass kategorische Werte audio_mode, time_signature und key, wobei audio_mode sogar binär ist, und alle weiteren Werte numerisch sind.\n",
    "\n",
    "Nachfolgend sind die 20 beliebtesten Lieder dargestellt, um einen ersten Eindruck vom Datensatz zu bekommen. Hierbei ist erkennbar, dass innerhalb der 20 obersten Werte nur zwei Lieder vertreten sind, die mehrfach vorliegen. Der Umgang mit den Redundanzen wird genauer in Kapitel 2.1 aufgegriffen."
   ]
  },
  {
   "cell_type": "code",
   "execution_count": 4,
   "metadata": {},
   "outputs": [
    {
     "data": {
      "text/html": [
       "<div>\n",
       "<style scoped>\n",
       "    .dataframe tbody tr th:only-of-type {\n",
       "        vertical-align: middle;\n",
       "    }\n",
       "\n",
       "    .dataframe tbody tr th {\n",
       "        vertical-align: top;\n",
       "    }\n",
       "\n",
       "    .dataframe thead th {\n",
       "        text-align: right;\n",
       "    }\n",
       "</style>\n",
       "<table border=\"1\" class=\"dataframe\">\n",
       "  <thead>\n",
       "    <tr style=\"text-align: right;\">\n",
       "      <th></th>\n",
       "      <th>song_name</th>\n",
       "      <th>song_popularity</th>\n",
       "      <th>song_duration_ms</th>\n",
       "      <th>acousticness</th>\n",
       "      <th>danceability</th>\n",
       "      <th>energy</th>\n",
       "      <th>instrumentalness</th>\n",
       "      <th>key</th>\n",
       "      <th>liveness</th>\n",
       "      <th>loudness</th>\n",
       "      <th>audio_mode</th>\n",
       "      <th>speechiness</th>\n",
       "      <th>tempo</th>\n",
       "      <th>time_signature</th>\n",
       "      <th>audio_valence</th>\n",
       "    </tr>\n",
       "  </thead>\n",
       "  <tbody>\n",
       "    <tr>\n",
       "      <th>7568</th>\n",
       "      <td>Happier</td>\n",
       "      <td>100</td>\n",
       "      <td>214289</td>\n",
       "      <td>0.1910</td>\n",
       "      <td>0.687</td>\n",
       "      <td>0.792</td>\n",
       "      <td>0.0</td>\n",
       "      <td>5</td>\n",
       "      <td>0.167</td>\n",
       "      <td>-2.749</td>\n",
       "      <td>1</td>\n",
       "      <td>0.0452</td>\n",
       "      <td>100.015</td>\n",
       "      <td>4</td>\n",
       "      <td>0.671</td>\n",
       "    </tr>\n",
       "    <tr>\n",
       "      <th>15091</th>\n",
       "      <td>Happier</td>\n",
       "      <td>100</td>\n",
       "      <td>214289</td>\n",
       "      <td>0.1910</td>\n",
       "      <td>0.687</td>\n",
       "      <td>0.792</td>\n",
       "      <td>0.0</td>\n",
       "      <td>5</td>\n",
       "      <td>0.167</td>\n",
       "      <td>-2.749</td>\n",
       "      <td>1</td>\n",
       "      <td>0.0452</td>\n",
       "      <td>100.015</td>\n",
       "      <td>4</td>\n",
       "      <td>0.671</td>\n",
       "    </tr>\n",
       "    <tr>\n",
       "      <th>17392</th>\n",
       "      <td>Happier</td>\n",
       "      <td>100</td>\n",
       "      <td>214289</td>\n",
       "      <td>0.1910</td>\n",
       "      <td>0.687</td>\n",
       "      <td>0.792</td>\n",
       "      <td>0.0</td>\n",
       "      <td>5</td>\n",
       "      <td>0.167</td>\n",
       "      <td>-2.749</td>\n",
       "      <td>1</td>\n",
       "      <td>0.0452</td>\n",
       "      <td>100.015</td>\n",
       "      <td>4</td>\n",
       "      <td>0.671</td>\n",
       "    </tr>\n",
       "    <tr>\n",
       "      <th>14176</th>\n",
       "      <td>Happier</td>\n",
       "      <td>100</td>\n",
       "      <td>214289</td>\n",
       "      <td>0.1910</td>\n",
       "      <td>0.687</td>\n",
       "      <td>0.792</td>\n",
       "      <td>0.0</td>\n",
       "      <td>5</td>\n",
       "      <td>0.167</td>\n",
       "      <td>-2.749</td>\n",
       "      <td>1</td>\n",
       "      <td>0.0452</td>\n",
       "      <td>100.015</td>\n",
       "      <td>4</td>\n",
       "      <td>0.671</td>\n",
       "    </tr>\n",
       "    <tr>\n",
       "      <th>11665</th>\n",
       "      <td>Happier</td>\n",
       "      <td>100</td>\n",
       "      <td>214289</td>\n",
       "      <td>0.1910</td>\n",
       "      <td>0.687</td>\n",
       "      <td>0.792</td>\n",
       "      <td>0.0</td>\n",
       "      <td>5</td>\n",
       "      <td>0.167</td>\n",
       "      <td>-2.749</td>\n",
       "      <td>1</td>\n",
       "      <td>0.0452</td>\n",
       "      <td>100.015</td>\n",
       "      <td>4</td>\n",
       "      <td>0.671</td>\n",
       "    </tr>\n",
       "    <tr>\n",
       "      <th>11697</th>\n",
       "      <td>Happier</td>\n",
       "      <td>100</td>\n",
       "      <td>214289</td>\n",
       "      <td>0.1910</td>\n",
       "      <td>0.687</td>\n",
       "      <td>0.792</td>\n",
       "      <td>0.0</td>\n",
       "      <td>5</td>\n",
       "      <td>0.167</td>\n",
       "      <td>-2.749</td>\n",
       "      <td>1</td>\n",
       "      <td>0.0452</td>\n",
       "      <td>100.015</td>\n",
       "      <td>4</td>\n",
       "      <td>0.671</td>\n",
       "    </tr>\n",
       "    <tr>\n",
       "      <th>5593</th>\n",
       "      <td>Happier</td>\n",
       "      <td>100</td>\n",
       "      <td>214289</td>\n",
       "      <td>0.1910</td>\n",
       "      <td>0.687</td>\n",
       "      <td>0.792</td>\n",
       "      <td>0.0</td>\n",
       "      <td>5</td>\n",
       "      <td>0.167</td>\n",
       "      <td>-2.749</td>\n",
       "      <td>1</td>\n",
       "      <td>0.0452</td>\n",
       "      <td>100.015</td>\n",
       "      <td>4</td>\n",
       "      <td>0.671</td>\n",
       "    </tr>\n",
       "    <tr>\n",
       "      <th>4299</th>\n",
       "      <td>Happier</td>\n",
       "      <td>100</td>\n",
       "      <td>214289</td>\n",
       "      <td>0.1910</td>\n",
       "      <td>0.687</td>\n",
       "      <td>0.792</td>\n",
       "      <td>0.0</td>\n",
       "      <td>5</td>\n",
       "      <td>0.167</td>\n",
       "      <td>-2.749</td>\n",
       "      <td>1</td>\n",
       "      <td>0.0452</td>\n",
       "      <td>100.015</td>\n",
       "      <td>4</td>\n",
       "      <td>0.671</td>\n",
       "    </tr>\n",
       "    <tr>\n",
       "      <th>16497</th>\n",
       "      <td>Happier</td>\n",
       "      <td>100</td>\n",
       "      <td>214289</td>\n",
       "      <td>0.1910</td>\n",
       "      <td>0.687</td>\n",
       "      <td>0.792</td>\n",
       "      <td>0.0</td>\n",
       "      <td>5</td>\n",
       "      <td>0.167</td>\n",
       "      <td>-2.749</td>\n",
       "      <td>1</td>\n",
       "      <td>0.0452</td>\n",
       "      <td>100.015</td>\n",
       "      <td>4</td>\n",
       "      <td>0.671</td>\n",
       "    </tr>\n",
       "    <tr>\n",
       "      <th>17590</th>\n",
       "      <td>Happier</td>\n",
       "      <td>100</td>\n",
       "      <td>214289</td>\n",
       "      <td>0.1910</td>\n",
       "      <td>0.687</td>\n",
       "      <td>0.792</td>\n",
       "      <td>0.0</td>\n",
       "      <td>5</td>\n",
       "      <td>0.167</td>\n",
       "      <td>-2.749</td>\n",
       "      <td>1</td>\n",
       "      <td>0.0452</td>\n",
       "      <td>100.015</td>\n",
       "      <td>4</td>\n",
       "      <td>0.671</td>\n",
       "    </tr>\n",
       "    <tr>\n",
       "      <th>7636</th>\n",
       "      <td>Happier</td>\n",
       "      <td>100</td>\n",
       "      <td>214289</td>\n",
       "      <td>0.1910</td>\n",
       "      <td>0.687</td>\n",
       "      <td>0.792</td>\n",
       "      <td>0.0</td>\n",
       "      <td>5</td>\n",
       "      <td>0.167</td>\n",
       "      <td>-2.749</td>\n",
       "      <td>1</td>\n",
       "      <td>0.0452</td>\n",
       "      <td>100.015</td>\n",
       "      <td>4</td>\n",
       "      <td>0.671</td>\n",
       "    </tr>\n",
       "    <tr>\n",
       "      <th>17638</th>\n",
       "      <td>Happier</td>\n",
       "      <td>100</td>\n",
       "      <td>214289</td>\n",
       "      <td>0.1910</td>\n",
       "      <td>0.687</td>\n",
       "      <td>0.792</td>\n",
       "      <td>0.0</td>\n",
       "      <td>5</td>\n",
       "      <td>0.167</td>\n",
       "      <td>-2.749</td>\n",
       "      <td>1</td>\n",
       "      <td>0.0452</td>\n",
       "      <td>100.015</td>\n",
       "      <td>4</td>\n",
       "      <td>0.671</td>\n",
       "    </tr>\n",
       "    <tr>\n",
       "      <th>1229</th>\n",
       "      <td>I Love It (&amp; Lil Pump)</td>\n",
       "      <td>99</td>\n",
       "      <td>127946</td>\n",
       "      <td>0.0114</td>\n",
       "      <td>0.901</td>\n",
       "      <td>0.522</td>\n",
       "      <td>0.0</td>\n",
       "      <td>2</td>\n",
       "      <td>0.259</td>\n",
       "      <td>-8.304</td>\n",
       "      <td>1</td>\n",
       "      <td>0.3300</td>\n",
       "      <td>104.053</td>\n",
       "      <td>4</td>\n",
       "      <td>0.329</td>\n",
       "    </tr>\n",
       "    <tr>\n",
       "      <th>11777</th>\n",
       "      <td>I Love It (&amp; Lil Pump)</td>\n",
       "      <td>99</td>\n",
       "      <td>127946</td>\n",
       "      <td>0.0114</td>\n",
       "      <td>0.901</td>\n",
       "      <td>0.522</td>\n",
       "      <td>0.0</td>\n",
       "      <td>2</td>\n",
       "      <td>0.259</td>\n",
       "      <td>-8.304</td>\n",
       "      <td>1</td>\n",
       "      <td>0.3300</td>\n",
       "      <td>104.053</td>\n",
       "      <td>4</td>\n",
       "      <td>0.329</td>\n",
       "    </tr>\n",
       "    <tr>\n",
       "      <th>17113</th>\n",
       "      <td>I Love It (&amp; Lil Pump)</td>\n",
       "      <td>99</td>\n",
       "      <td>127946</td>\n",
       "      <td>0.0114</td>\n",
       "      <td>0.901</td>\n",
       "      <td>0.522</td>\n",
       "      <td>0.0</td>\n",
       "      <td>2</td>\n",
       "      <td>0.259</td>\n",
       "      <td>-8.304</td>\n",
       "      <td>1</td>\n",
       "      <td>0.3300</td>\n",
       "      <td>104.053</td>\n",
       "      <td>4</td>\n",
       "      <td>0.329</td>\n",
       "    </tr>\n",
       "    <tr>\n",
       "      <th>17603</th>\n",
       "      <td>I Love It (&amp; Lil Pump)</td>\n",
       "      <td>99</td>\n",
       "      <td>127946</td>\n",
       "      <td>0.0114</td>\n",
       "      <td>0.901</td>\n",
       "      <td>0.522</td>\n",
       "      <td>0.0</td>\n",
       "      <td>2</td>\n",
       "      <td>0.259</td>\n",
       "      <td>-8.304</td>\n",
       "      <td>1</td>\n",
       "      <td>0.3300</td>\n",
       "      <td>104.053</td>\n",
       "      <td>4</td>\n",
       "      <td>0.329</td>\n",
       "    </tr>\n",
       "    <tr>\n",
       "      <th>4301</th>\n",
       "      <td>I Love It (&amp; Lil Pump)</td>\n",
       "      <td>99</td>\n",
       "      <td>127946</td>\n",
       "      <td>0.0114</td>\n",
       "      <td>0.901</td>\n",
       "      <td>0.522</td>\n",
       "      <td>0.0</td>\n",
       "      <td>2</td>\n",
       "      <td>0.259</td>\n",
       "      <td>-8.304</td>\n",
       "      <td>1</td>\n",
       "      <td>0.3300</td>\n",
       "      <td>104.053</td>\n",
       "      <td>4</td>\n",
       "      <td>0.329</td>\n",
       "    </tr>\n",
       "    <tr>\n",
       "      <th>17660</th>\n",
       "      <td>I Love It (&amp; Lil Pump)</td>\n",
       "      <td>99</td>\n",
       "      <td>127946</td>\n",
       "      <td>0.0114</td>\n",
       "      <td>0.901</td>\n",
       "      <td>0.522</td>\n",
       "      <td>0.0</td>\n",
       "      <td>2</td>\n",
       "      <td>0.259</td>\n",
       "      <td>-8.304</td>\n",
       "      <td>1</td>\n",
       "      <td>0.3300</td>\n",
       "      <td>104.053</td>\n",
       "      <td>4</td>\n",
       "      <td>0.329</td>\n",
       "    </tr>\n",
       "    <tr>\n",
       "      <th>14314</th>\n",
       "      <td>I Love It (&amp; Lil Pump)</td>\n",
       "      <td>99</td>\n",
       "      <td>127946</td>\n",
       "      <td>0.0114</td>\n",
       "      <td>0.901</td>\n",
       "      <td>0.522</td>\n",
       "      <td>0.0</td>\n",
       "      <td>2</td>\n",
       "      <td>0.259</td>\n",
       "      <td>-8.304</td>\n",
       "      <td>1</td>\n",
       "      <td>0.3300</td>\n",
       "      <td>104.053</td>\n",
       "      <td>4</td>\n",
       "      <td>0.329</td>\n",
       "    </tr>\n",
       "    <tr>\n",
       "      <th>5608</th>\n",
       "      <td>I Love It (&amp; Lil Pump)</td>\n",
       "      <td>99</td>\n",
       "      <td>127946</td>\n",
       "      <td>0.0114</td>\n",
       "      <td>0.901</td>\n",
       "      <td>0.522</td>\n",
       "      <td>0.0</td>\n",
       "      <td>2</td>\n",
       "      <td>0.259</td>\n",
       "      <td>-8.304</td>\n",
       "      <td>1</td>\n",
       "      <td>0.3300</td>\n",
       "      <td>104.053</td>\n",
       "      <td>4</td>\n",
       "      <td>0.329</td>\n",
       "    </tr>\n",
       "  </tbody>\n",
       "</table>\n",
       "</div>"
      ],
      "text/plain": [
       "                    song_name  song_popularity  song_duration_ms  \\\n",
       "7568                  Happier              100            214289   \n",
       "15091                 Happier              100            214289   \n",
       "17392                 Happier              100            214289   \n",
       "14176                 Happier              100            214289   \n",
       "11665                 Happier              100            214289   \n",
       "11697                 Happier              100            214289   \n",
       "5593                  Happier              100            214289   \n",
       "4299                  Happier              100            214289   \n",
       "16497                 Happier              100            214289   \n",
       "17590                 Happier              100            214289   \n",
       "7636                  Happier              100            214289   \n",
       "17638                 Happier              100            214289   \n",
       "1229   I Love It (& Lil Pump)               99            127946   \n",
       "11777  I Love It (& Lil Pump)               99            127946   \n",
       "17113  I Love It (& Lil Pump)               99            127946   \n",
       "17603  I Love It (& Lil Pump)               99            127946   \n",
       "4301   I Love It (& Lil Pump)               99            127946   \n",
       "17660  I Love It (& Lil Pump)               99            127946   \n",
       "14314  I Love It (& Lil Pump)               99            127946   \n",
       "5608   I Love It (& Lil Pump)               99            127946   \n",
       "\n",
       "       acousticness  danceability  energy  instrumentalness  key  liveness  \\\n",
       "7568         0.1910         0.687   0.792               0.0    5     0.167   \n",
       "15091        0.1910         0.687   0.792               0.0    5     0.167   \n",
       "17392        0.1910         0.687   0.792               0.0    5     0.167   \n",
       "14176        0.1910         0.687   0.792               0.0    5     0.167   \n",
       "11665        0.1910         0.687   0.792               0.0    5     0.167   \n",
       "11697        0.1910         0.687   0.792               0.0    5     0.167   \n",
       "5593         0.1910         0.687   0.792               0.0    5     0.167   \n",
       "4299         0.1910         0.687   0.792               0.0    5     0.167   \n",
       "16497        0.1910         0.687   0.792               0.0    5     0.167   \n",
       "17590        0.1910         0.687   0.792               0.0    5     0.167   \n",
       "7636         0.1910         0.687   0.792               0.0    5     0.167   \n",
       "17638        0.1910         0.687   0.792               0.0    5     0.167   \n",
       "1229         0.0114         0.901   0.522               0.0    2     0.259   \n",
       "11777        0.0114         0.901   0.522               0.0    2     0.259   \n",
       "17113        0.0114         0.901   0.522               0.0    2     0.259   \n",
       "17603        0.0114         0.901   0.522               0.0    2     0.259   \n",
       "4301         0.0114         0.901   0.522               0.0    2     0.259   \n",
       "17660        0.0114         0.901   0.522               0.0    2     0.259   \n",
       "14314        0.0114         0.901   0.522               0.0    2     0.259   \n",
       "5608         0.0114         0.901   0.522               0.0    2     0.259   \n",
       "\n",
       "       loudness  audio_mode  speechiness    tempo  time_signature  \\\n",
       "7568     -2.749           1       0.0452  100.015               4   \n",
       "15091    -2.749           1       0.0452  100.015               4   \n",
       "17392    -2.749           1       0.0452  100.015               4   \n",
       "14176    -2.749           1       0.0452  100.015               4   \n",
       "11665    -2.749           1       0.0452  100.015               4   \n",
       "11697    -2.749           1       0.0452  100.015               4   \n",
       "5593     -2.749           1       0.0452  100.015               4   \n",
       "4299     -2.749           1       0.0452  100.015               4   \n",
       "16497    -2.749           1       0.0452  100.015               4   \n",
       "17590    -2.749           1       0.0452  100.015               4   \n",
       "7636     -2.749           1       0.0452  100.015               4   \n",
       "17638    -2.749           1       0.0452  100.015               4   \n",
       "1229     -8.304           1       0.3300  104.053               4   \n",
       "11777    -8.304           1       0.3300  104.053               4   \n",
       "17113    -8.304           1       0.3300  104.053               4   \n",
       "17603    -8.304           1       0.3300  104.053               4   \n",
       "4301     -8.304           1       0.3300  104.053               4   \n",
       "17660    -8.304           1       0.3300  104.053               4   \n",
       "14314    -8.304           1       0.3300  104.053               4   \n",
       "5608     -8.304           1       0.3300  104.053               4   \n",
       "\n",
       "       audio_valence  \n",
       "7568           0.671  \n",
       "15091          0.671  \n",
       "17392          0.671  \n",
       "14176          0.671  \n",
       "11665          0.671  \n",
       "11697          0.671  \n",
       "5593           0.671  \n",
       "4299           0.671  \n",
       "16497          0.671  \n",
       "17590          0.671  \n",
       "7636           0.671  \n",
       "17638          0.671  \n",
       "1229           0.329  \n",
       "11777          0.329  \n",
       "17113          0.329  \n",
       "17603          0.329  \n",
       "4301           0.329  \n",
       "17660          0.329  \n",
       "14314          0.329  \n",
       "5608           0.329  "
      ]
     },
     "execution_count": 4,
     "metadata": {},
     "output_type": "execute_result"
    }
   ],
   "source": [
    "base_data.sort_values(by=[\"song_popularity\"], ascending=False).head(20)"
   ]
  },
  {
   "cell_type": "markdown",
   "metadata": {},
   "source": [
    "| Feldname | Datentyp / Wertebereich | Beschreibung |\n",
    "| --- | --- | --- |\n",
    "| song_name| String | Der Name des Liedes |\n",
    "| song_popularity | int [0;100] | Die relative Beliebtheit eines Liedes in Prozent. Die Beliebtheit wird an der Gesamtzahl der Streams eines Liedes gemessen. Das Lied mit dem Wert 100 ist das beliebteste Lied. |\n",
    "| song_duration | int [0;∞] | Gibt die Länge eines Liedes in Millisekunden an |\n",
    "| acousticness | float [0;1] | Die Akustikt eines Liedes in Prozent. Ein Wert von 1.0 bedeutet, dass ein Lied sehr akustisch ist und nicht elektronisch verstärkt |\n",
    "| danceability | float [0;1] | Die Tanzbarkeit eines Liedes in Prozent. Ein Wert von 1.0 bedeutet, dass dieses Lied zum Tanzen anregt. Der Wert wird über die musikalischen Elementen wie unteranderem dem Tempo, der Stabilität der Rhytmik, der Stärke des Bass's ermittelt. |\n",
    "| energy | float [0;1] | Die Intensität und Aktivität des Liedes in Prozent, basierent auf der Schnelligkeit, Lautstärke und Rauschen des Liedes, sowie der generellen Entropie. Ein Wert von 1.0 bedeutet dass ein Lied sehr energetisch ist, wie zum Beispiel Death Metal. |\n",
    "| instrumentalness | float [0;1] | Die Instrumentalität gibt an in wie weit Vocals im Lied vorhanden sind. Je näher der Wert an 1.0 liegt, desto wahrscheinlicher ist das Lied rein akustisch. Je näher sich der Wert an die 0 annähert, desto weniger Instrumente sind zu hören. So kann man auch Reden erkennen, da die hier einen Wert von 0 haben. |\n",
    "| key | int [-1;11] | Die Tonart des Liedes. Der Wert nimmt eine -1 an wenn keine primäre Tonart erkannt wurde. (Siehe https://de.wikipedia.org/wiki/Tonklasse) |\n",
    "| liveness | float [0;1] | Die Wahrscheinlichkeit dass das Lied eine Liveversion ist. Dies basiert auf Zuschauern/Zuhörern die im Hintergrund gehört werden. Ab 0.8 kann von einer Liveversion ausgegangen werden. |\n",
    "| loudness | float [-38.0;1,5] | Die Loudness gibt die durchschnittliche Lautstärke des Liedes in Decibel an. Die Lautstärke ist relativ angegeben. |\n",
    "| audio_mode | int [0;1] | Gibt die Modalität des Liedes wieder. Dabei steht 0 für Moll und 1 für Dur. |\n",
    "| speechiness | int [0;1] | Gibt wieder ob exklusiv gesprochen wird, wie zum Beispiel bei Reden oder Gedichten (Racism And Injustice von Martin L. King). Bei allem >0.66, ist es sehr wahrscheinlich dass nur gesprochen wird, bei <0.33 gibt es kaum oder gar kein gesprochenes Wort. |\n",
    "| tempo | float [0;∞] | Eine Schätzung der Geschwindigkeit des Liedes in Beats per Minute (BPM). |\n",
    "| time_signature | int [3;7] | Die primäre Taktangabe des Liedes. Sie gibt Takte von 3/4 bis 7/4 an. |\n",
    "| audio_valence | float [0;1] | Die positivität des Liedes. Dabei deutet ein hoher Wert auf eine positive (fröhlich, euphorisch), ein niedriger Wert auf eine negative Stimmung hin (aggresiv, melancholisch). |\n",
    "\n",
    "In der Tabelle ist erkennbar, dass"
   ]
  },
  {
   "cell_type": "markdown",
   "metadata": {},
   "source": [
    "### 2.1 Umgang mit fehlenden Werten, Redundanzen und Inkonsistenzen\n",
    "Um zuverlässige Ergebnisse zu erzielen, ist es wichtig wie mit Redundanzen umgegangen wird, da sie die Performance von späteren Modellen maßgeblich beeinflussen können. Hierbei kann zwischen zwei Optionen entschieden werden: Einerseits könnten die Redundanzen im Datensatz behalten werden, wobei beim Splitten des Datensatzes in einen Trainings- und Testdatensatz es wichtig wäre, alle gleichen Einträge entweder vollständig in den Trainings- bzw. in den Testdatensatz aufzunehmen, sodass diese disjunkt bleiben und keine Memorisierung gefördert wird. Anderseits können die Redundanzen entfernt werden, mit der Folge, dass der Datensatz kleiner wird und nur eine Instanz übrig bleibt. Im Rahmen dieser Ausarbeitung werden doppelte Einträge entfernt, wenn sie den selben Liednamen und die gleiche Länge haben. "
   ]
  },
  {
   "cell_type": "code",
   "execution_count": 19,
   "metadata": {},
   "outputs": [
    {
     "name": "stdout",
     "output_type": "stream",
     "text": [
      "<class 'pandas.core.frame.DataFrame'>\n",
      "RangeIndex: 14468 entries, 0 to 14467\n",
      "Data columns (total 15 columns):\n",
      " #   Column            Non-Null Count  Dtype  \n",
      "---  ------            --------------  -----  \n",
      " 0   song_name         14468 non-null  object \n",
      " 1   song_popularity   14468 non-null  int64  \n",
      " 2   song_duration_ms  14468 non-null  int64  \n",
      " 3   acousticness      14468 non-null  float64\n",
      " 4   danceability      14468 non-null  float64\n",
      " 5   energy            14468 non-null  float64\n",
      " 6   instrumentalness  14468 non-null  float64\n",
      " 7   key               14468 non-null  int64  \n",
      " 8   liveness          14468 non-null  float64\n",
      " 9   loudness          14468 non-null  float64\n",
      " 10  audio_mode        14468 non-null  int64  \n",
      " 11  speechiness       14468 non-null  float64\n",
      " 12  tempo             14468 non-null  float64\n",
      " 13  time_signature    14468 non-null  int64  \n",
      " 14  audio_valence     14468 non-null  float64\n",
      "dtypes: float64(9), int64(5), object(1)\n",
      "memory usage: 1.7+ MB\n"
     ]
    }
   ],
   "source": [
    "cleared = base_data.drop_duplicates(subset = [\"song_name\", \"song_duration_ms\"], keep = \"last\").reset_index(drop = True)\n",
    "cleared.info()"
   ]
  },
  {
   "cell_type": "markdown",
   "metadata": {},
   "source": [
    "Da Redundanzen vorhanden sind werden diese anhand gleichem Songtitel und gleicher Songlänge entfernt. Dadurch landen wir bei 14.468 Songs, was bedeutet dass somit circa 4.400 Redundanzen entfernt wurden."
   ]
  },
  {
   "cell_type": "code",
   "execution_count": 20,
   "metadata": {},
   "outputs": [
    {
     "data": {
      "text/html": [
       "<div>\n",
       "<style scoped>\n",
       "    .dataframe tbody tr th:only-of-type {\n",
       "        vertical-align: middle;\n",
       "    }\n",
       "\n",
       "    .dataframe tbody tr th {\n",
       "        vertical-align: top;\n",
       "    }\n",
       "\n",
       "    .dataframe thead th {\n",
       "        text-align: right;\n",
       "    }\n",
       "</style>\n",
       "<table border=\"1\" class=\"dataframe\">\n",
       "  <thead>\n",
       "    <tr style=\"text-align: right;\">\n",
       "      <th></th>\n",
       "      <th>song_name</th>\n",
       "      <th>song_popularity</th>\n",
       "      <th>song_duration_ms</th>\n",
       "      <th>acousticness</th>\n",
       "      <th>danceability</th>\n",
       "      <th>energy</th>\n",
       "      <th>instrumentalness</th>\n",
       "      <th>key</th>\n",
       "      <th>liveness</th>\n",
       "      <th>loudness</th>\n",
       "      <th>audio_mode</th>\n",
       "      <th>speechiness</th>\n",
       "      <th>tempo</th>\n",
       "      <th>time_signature</th>\n",
       "      <th>audio_valence</th>\n",
       "    </tr>\n",
       "  </thead>\n",
       "  <tbody>\n",
       "    <tr>\n",
       "      <th>13326</th>\n",
       "      <td>Happier</td>\n",
       "      <td>100</td>\n",
       "      <td>214289</td>\n",
       "      <td>0.19100</td>\n",
       "      <td>0.687</td>\n",
       "      <td>0.792</td>\n",
       "      <td>0.000000</td>\n",
       "      <td>5</td>\n",
       "      <td>0.1670</td>\n",
       "      <td>-2.749</td>\n",
       "      <td>1</td>\n",
       "      <td>0.0452</td>\n",
       "      <td>100.015</td>\n",
       "      <td>4</td>\n",
       "      <td>0.671</td>\n",
       "    </tr>\n",
       "    <tr>\n",
       "      <th>13346</th>\n",
       "      <td>I Love It (&amp; Lil Pump)</td>\n",
       "      <td>99</td>\n",
       "      <td>127946</td>\n",
       "      <td>0.01140</td>\n",
       "      <td>0.901</td>\n",
       "      <td>0.522</td>\n",
       "      <td>0.000000</td>\n",
       "      <td>2</td>\n",
       "      <td>0.2590</td>\n",
       "      <td>-8.304</td>\n",
       "      <td>1</td>\n",
       "      <td>0.3300</td>\n",
       "      <td>104.053</td>\n",
       "      <td>4</td>\n",
       "      <td>0.329</td>\n",
       "    </tr>\n",
       "    <tr>\n",
       "      <th>13490</th>\n",
       "      <td>Taki Taki (with Selena Gomez, Ozuna &amp; Cardi B)</td>\n",
       "      <td>98</td>\n",
       "      <td>212500</td>\n",
       "      <td>0.15300</td>\n",
       "      <td>0.841</td>\n",
       "      <td>0.798</td>\n",
       "      <td>0.000003</td>\n",
       "      <td>1</td>\n",
       "      <td>0.0618</td>\n",
       "      <td>-4.206</td>\n",
       "      <td>0</td>\n",
       "      <td>0.2290</td>\n",
       "      <td>95.948</td>\n",
       "      <td>4</td>\n",
       "      <td>0.591</td>\n",
       "    </tr>\n",
       "    <tr>\n",
       "      <th>13592</th>\n",
       "      <td>Promises (with Sam Smith)</td>\n",
       "      <td>98</td>\n",
       "      <td>213309</td>\n",
       "      <td>0.01190</td>\n",
       "      <td>0.781</td>\n",
       "      <td>0.768</td>\n",
       "      <td>0.000005</td>\n",
       "      <td>11</td>\n",
       "      <td>0.3250</td>\n",
       "      <td>-5.991</td>\n",
       "      <td>1</td>\n",
       "      <td>0.0394</td>\n",
       "      <td>123.070</td>\n",
       "      <td>4</td>\n",
       "      <td>0.486</td>\n",
       "    </tr>\n",
       "    <tr>\n",
       "      <th>13308</th>\n",
       "      <td>In My Feelings</td>\n",
       "      <td>98</td>\n",
       "      <td>217925</td>\n",
       "      <td>0.05890</td>\n",
       "      <td>0.835</td>\n",
       "      <td>0.626</td>\n",
       "      <td>0.000060</td>\n",
       "      <td>1</td>\n",
       "      <td>0.3960</td>\n",
       "      <td>-5.833</td>\n",
       "      <td>1</td>\n",
       "      <td>0.1250</td>\n",
       "      <td>91.030</td>\n",
       "      <td>4</td>\n",
       "      <td>0.350</td>\n",
       "    </tr>\n",
       "    <tr>\n",
       "      <th>13472</th>\n",
       "      <td>Eastside (with Halsey &amp; Khalid)</td>\n",
       "      <td>98</td>\n",
       "      <td>173799</td>\n",
       "      <td>0.55500</td>\n",
       "      <td>0.560</td>\n",
       "      <td>0.680</td>\n",
       "      <td>0.000000</td>\n",
       "      <td>6</td>\n",
       "      <td>0.1160</td>\n",
       "      <td>-7.648</td>\n",
       "      <td>0</td>\n",
       "      <td>0.3210</td>\n",
       "      <td>89.391</td>\n",
       "      <td>4</td>\n",
       "      <td>0.319</td>\n",
       "    </tr>\n",
       "    <tr>\n",
       "      <th>13290</th>\n",
       "      <td>Lucid Dreams</td>\n",
       "      <td>97</td>\n",
       "      <td>239835</td>\n",
       "      <td>0.34900</td>\n",
       "      <td>0.511</td>\n",
       "      <td>0.566</td>\n",
       "      <td>0.000000</td>\n",
       "      <td>6</td>\n",
       "      <td>0.3400</td>\n",
       "      <td>-7.230</td>\n",
       "      <td>0</td>\n",
       "      <td>0.2000</td>\n",
       "      <td>83.903</td>\n",
       "      <td>4</td>\n",
       "      <td>0.218</td>\n",
       "    </tr>\n",
       "    <tr>\n",
       "      <th>11606</th>\n",
       "      <td>In My Mind</td>\n",
       "      <td>97</td>\n",
       "      <td>184560</td>\n",
       "      <td>0.17600</td>\n",
       "      <td>0.694</td>\n",
       "      <td>0.770</td>\n",
       "      <td>0.000011</td>\n",
       "      <td>6</td>\n",
       "      <td>0.1180</td>\n",
       "      <td>-5.335</td>\n",
       "      <td>1</td>\n",
       "      <td>0.1490</td>\n",
       "      <td>125.905</td>\n",
       "      <td>4</td>\n",
       "      <td>0.163</td>\n",
       "    </tr>\n",
       "    <tr>\n",
       "      <th>13319</th>\n",
       "      <td>Falling Down</td>\n",
       "      <td>97</td>\n",
       "      <td>196400</td>\n",
       "      <td>0.01750</td>\n",
       "      <td>0.669</td>\n",
       "      <td>0.574</td>\n",
       "      <td>0.002940</td>\n",
       "      <td>4</td>\n",
       "      <td>0.1460</td>\n",
       "      <td>-6.442</td>\n",
       "      <td>0</td>\n",
       "      <td>0.0286</td>\n",
       "      <td>120.013</td>\n",
       "      <td>4</td>\n",
       "      <td>0.273</td>\n",
       "    </tr>\n",
       "    <tr>\n",
       "      <th>13469</th>\n",
       "      <td>SICKO MODE</td>\n",
       "      <td>97</td>\n",
       "      <td>312820</td>\n",
       "      <td>0.00513</td>\n",
       "      <td>0.834</td>\n",
       "      <td>0.730</td>\n",
       "      <td>0.000000</td>\n",
       "      <td>8</td>\n",
       "      <td>0.1240</td>\n",
       "      <td>-3.714</td>\n",
       "      <td>1</td>\n",
       "      <td>0.2220</td>\n",
       "      <td>155.008</td>\n",
       "      <td>4</td>\n",
       "      <td>0.446</td>\n",
       "    </tr>\n",
       "    <tr>\n",
       "      <th>13476</th>\n",
       "      <td>Be Alright</td>\n",
       "      <td>96</td>\n",
       "      <td>196373</td>\n",
       "      <td>0.69700</td>\n",
       "      <td>0.553</td>\n",
       "      <td>0.586</td>\n",
       "      <td>0.000000</td>\n",
       "      <td>11</td>\n",
       "      <td>0.0813</td>\n",
       "      <td>-6.319</td>\n",
       "      <td>1</td>\n",
       "      <td>0.0362</td>\n",
       "      <td>126.684</td>\n",
       "      <td>4</td>\n",
       "      <td>0.443</td>\n",
       "    </tr>\n",
       "    <tr>\n",
       "      <th>13296</th>\n",
       "      <td>SAD!</td>\n",
       "      <td>96</td>\n",
       "      <td>166605</td>\n",
       "      <td>0.25800</td>\n",
       "      <td>0.740</td>\n",
       "      <td>0.613</td>\n",
       "      <td>0.003720</td>\n",
       "      <td>8</td>\n",
       "      <td>0.1230</td>\n",
       "      <td>-4.880</td>\n",
       "      <td>1</td>\n",
       "      <td>0.1450</td>\n",
       "      <td>75.023</td>\n",
       "      <td>4</td>\n",
       "      <td>0.473</td>\n",
       "    </tr>\n",
       "    <tr>\n",
       "      <th>13294</th>\n",
       "      <td>Moonlight</td>\n",
       "      <td>96</td>\n",
       "      <td>135090</td>\n",
       "      <td>0.55600</td>\n",
       "      <td>0.921</td>\n",
       "      <td>0.537</td>\n",
       "      <td>0.004040</td>\n",
       "      <td>9</td>\n",
       "      <td>0.1020</td>\n",
       "      <td>-5.723</td>\n",
       "      <td>0</td>\n",
       "      <td>0.0804</td>\n",
       "      <td>128.009</td>\n",
       "      <td>4</td>\n",
       "      <td>0.711</td>\n",
       "    </tr>\n",
       "    <tr>\n",
       "      <th>13480</th>\n",
       "      <td>FEFE (feat. Nicki Minaj &amp; Murda Beatz)</td>\n",
       "      <td>96</td>\n",
       "      <td>179404</td>\n",
       "      <td>0.08800</td>\n",
       "      <td>0.931</td>\n",
       "      <td>0.387</td>\n",
       "      <td>0.000000</td>\n",
       "      <td>1</td>\n",
       "      <td>0.1360</td>\n",
       "      <td>-9.127</td>\n",
       "      <td>1</td>\n",
       "      <td>0.4120</td>\n",
       "      <td>125.978</td>\n",
       "      <td>4</td>\n",
       "      <td>0.376</td>\n",
       "    </tr>\n",
       "    <tr>\n",
       "      <th>10609</th>\n",
       "      <td>Lucky You (feat. Joyner Lucas)</td>\n",
       "      <td>96</td>\n",
       "      <td>244679</td>\n",
       "      <td>0.06270</td>\n",
       "      <td>0.876</td>\n",
       "      <td>0.786</td>\n",
       "      <td>0.000000</td>\n",
       "      <td>10</td>\n",
       "      <td>0.1270</td>\n",
       "      <td>-4.884</td>\n",
       "      <td>0</td>\n",
       "      <td>0.3060</td>\n",
       "      <td>153.068</td>\n",
       "      <td>4</td>\n",
       "      <td>0.575</td>\n",
       "    </tr>\n",
       "    <tr>\n",
       "      <th>13500</th>\n",
       "      <td>BEBE</td>\n",
       "      <td>95</td>\n",
       "      <td>217822</td>\n",
       "      <td>0.17200</td>\n",
       "      <td>0.635</td>\n",
       "      <td>0.902</td>\n",
       "      <td>0.000000</td>\n",
       "      <td>0</td>\n",
       "      <td>0.1250</td>\n",
       "      <td>-3.559</td>\n",
       "      <td>1</td>\n",
       "      <td>0.1090</td>\n",
       "      <td>102.063</td>\n",
       "      <td>4</td>\n",
       "      <td>0.286</td>\n",
       "    </tr>\n",
       "    <tr>\n",
       "      <th>13144</th>\n",
       "      <td>Natural</td>\n",
       "      <td>95</td>\n",
       "      <td>189466</td>\n",
       "      <td>0.21600</td>\n",
       "      <td>0.448</td>\n",
       "      <td>0.612</td>\n",
       "      <td>0.000000</td>\n",
       "      <td>2</td>\n",
       "      <td>0.0800</td>\n",
       "      <td>-6.106</td>\n",
       "      <td>1</td>\n",
       "      <td>0.0708</td>\n",
       "      <td>97.773</td>\n",
       "      <td>4</td>\n",
       "      <td>0.213</td>\n",
       "    </tr>\n",
       "    <tr>\n",
       "      <th>14123</th>\n",
       "      <td>Taste (feat. Offset)</td>\n",
       "      <td>95</td>\n",
       "      <td>232959</td>\n",
       "      <td>0.02360</td>\n",
       "      <td>0.884</td>\n",
       "      <td>0.559</td>\n",
       "      <td>0.000000</td>\n",
       "      <td>0</td>\n",
       "      <td>0.1010</td>\n",
       "      <td>-7.442</td>\n",
       "      <td>1</td>\n",
       "      <td>0.1200</td>\n",
       "      <td>97.994</td>\n",
       "      <td>4</td>\n",
       "      <td>0.342</td>\n",
       "    </tr>\n",
       "    <tr>\n",
       "      <th>13298</th>\n",
       "      <td>Better Now</td>\n",
       "      <td>95</td>\n",
       "      <td>231266</td>\n",
       "      <td>0.35400</td>\n",
       "      <td>0.680</td>\n",
       "      <td>0.563</td>\n",
       "      <td>0.000000</td>\n",
       "      <td>10</td>\n",
       "      <td>0.1360</td>\n",
       "      <td>-5.843</td>\n",
       "      <td>1</td>\n",
       "      <td>0.0454</td>\n",
       "      <td>145.028</td>\n",
       "      <td>4</td>\n",
       "      <td>0.374</td>\n",
       "    </tr>\n",
       "    <tr>\n",
       "      <th>13517</th>\n",
       "      <td>I Like It</td>\n",
       "      <td>95</td>\n",
       "      <td>253390</td>\n",
       "      <td>0.09900</td>\n",
       "      <td>0.816</td>\n",
       "      <td>0.726</td>\n",
       "      <td>0.000000</td>\n",
       "      <td>5</td>\n",
       "      <td>0.3720</td>\n",
       "      <td>-3.998</td>\n",
       "      <td>0</td>\n",
       "      <td>0.1290</td>\n",
       "      <td>136.048</td>\n",
       "      <td>4</td>\n",
       "      <td>0.650</td>\n",
       "    </tr>\n",
       "  </tbody>\n",
       "</table>\n",
       "</div>"
      ],
      "text/plain": [
       "                                            song_name  song_popularity  \\\n",
       "13326                                         Happier              100   \n",
       "13346                          I Love It (& Lil Pump)               99   \n",
       "13490  Taki Taki (with Selena Gomez, Ozuna & Cardi B)               98   \n",
       "13592                       Promises (with Sam Smith)               98   \n",
       "13308                                  In My Feelings               98   \n",
       "13472                 Eastside (with Halsey & Khalid)               98   \n",
       "13290                                    Lucid Dreams               97   \n",
       "11606                                      In My Mind               97   \n",
       "13319                                    Falling Down               97   \n",
       "13469                                      SICKO MODE               97   \n",
       "13476                                      Be Alright               96   \n",
       "13296                                            SAD!               96   \n",
       "13294                                       Moonlight               96   \n",
       "13480          FEFE (feat. Nicki Minaj & Murda Beatz)               96   \n",
       "10609                  Lucky You (feat. Joyner Lucas)               96   \n",
       "13500                                            BEBE               95   \n",
       "13144                                         Natural               95   \n",
       "14123                            Taste (feat. Offset)               95   \n",
       "13298                                      Better Now               95   \n",
       "13517                                       I Like It               95   \n",
       "\n",
       "       song_duration_ms  acousticness  danceability  energy  instrumentalness  \\\n",
       "13326            214289       0.19100         0.687   0.792          0.000000   \n",
       "13346            127946       0.01140         0.901   0.522          0.000000   \n",
       "13490            212500       0.15300         0.841   0.798          0.000003   \n",
       "13592            213309       0.01190         0.781   0.768          0.000005   \n",
       "13308            217925       0.05890         0.835   0.626          0.000060   \n",
       "13472            173799       0.55500         0.560   0.680          0.000000   \n",
       "13290            239835       0.34900         0.511   0.566          0.000000   \n",
       "11606            184560       0.17600         0.694   0.770          0.000011   \n",
       "13319            196400       0.01750         0.669   0.574          0.002940   \n",
       "13469            312820       0.00513         0.834   0.730          0.000000   \n",
       "13476            196373       0.69700         0.553   0.586          0.000000   \n",
       "13296            166605       0.25800         0.740   0.613          0.003720   \n",
       "13294            135090       0.55600         0.921   0.537          0.004040   \n",
       "13480            179404       0.08800         0.931   0.387          0.000000   \n",
       "10609            244679       0.06270         0.876   0.786          0.000000   \n",
       "13500            217822       0.17200         0.635   0.902          0.000000   \n",
       "13144            189466       0.21600         0.448   0.612          0.000000   \n",
       "14123            232959       0.02360         0.884   0.559          0.000000   \n",
       "13298            231266       0.35400         0.680   0.563          0.000000   \n",
       "13517            253390       0.09900         0.816   0.726          0.000000   \n",
       "\n",
       "       key  liveness  loudness  audio_mode  speechiness    tempo  \\\n",
       "13326    5    0.1670    -2.749           1       0.0452  100.015   \n",
       "13346    2    0.2590    -8.304           1       0.3300  104.053   \n",
       "13490    1    0.0618    -4.206           0       0.2290   95.948   \n",
       "13592   11    0.3250    -5.991           1       0.0394  123.070   \n",
       "13308    1    0.3960    -5.833           1       0.1250   91.030   \n",
       "13472    6    0.1160    -7.648           0       0.3210   89.391   \n",
       "13290    6    0.3400    -7.230           0       0.2000   83.903   \n",
       "11606    6    0.1180    -5.335           1       0.1490  125.905   \n",
       "13319    4    0.1460    -6.442           0       0.0286  120.013   \n",
       "13469    8    0.1240    -3.714           1       0.2220  155.008   \n",
       "13476   11    0.0813    -6.319           1       0.0362  126.684   \n",
       "13296    8    0.1230    -4.880           1       0.1450   75.023   \n",
       "13294    9    0.1020    -5.723           0       0.0804  128.009   \n",
       "13480    1    0.1360    -9.127           1       0.4120  125.978   \n",
       "10609   10    0.1270    -4.884           0       0.3060  153.068   \n",
       "13500    0    0.1250    -3.559           1       0.1090  102.063   \n",
       "13144    2    0.0800    -6.106           1       0.0708   97.773   \n",
       "14123    0    0.1010    -7.442           1       0.1200   97.994   \n",
       "13298   10    0.1360    -5.843           1       0.0454  145.028   \n",
       "13517    5    0.3720    -3.998           0       0.1290  136.048   \n",
       "\n",
       "       time_signature  audio_valence  \n",
       "13326               4          0.671  \n",
       "13346               4          0.329  \n",
       "13490               4          0.591  \n",
       "13592               4          0.486  \n",
       "13308               4          0.350  \n",
       "13472               4          0.319  \n",
       "13290               4          0.218  \n",
       "11606               4          0.163  \n",
       "13319               4          0.273  \n",
       "13469               4          0.446  \n",
       "13476               4          0.443  \n",
       "13296               4          0.473  \n",
       "13294               4          0.711  \n",
       "13480               4          0.376  \n",
       "10609               4          0.575  \n",
       "13500               4          0.286  \n",
       "13144               4          0.213  \n",
       "14123               4          0.342  \n",
       "13298               4          0.374  \n",
       "13517               4          0.650  "
      ]
     },
     "execution_count": 20,
     "metadata": {},
     "output_type": "execute_result"
    }
   ],
   "source": [
    "cleared.sort_values(by=[\"song_popularity\"], ascending=False).head(20)"
   ]
  },
  {
   "cell_type": "markdown",
   "metadata": {},
   "source": [
    "Zur Gegenprobe kann die Anzahl einzigartiger Liednamen ermittelt werden."
   ]
  },
  {
   "cell_type": "code",
   "execution_count": 21,
   "metadata": {},
   "outputs": [
    {
     "data": {
      "text/plain": [
       "Heaven                      8\n",
       "Fire                        8\n",
       "You                         7\n",
       "Fall                        7\n",
       "Stay                        7\n",
       "                           ..\n",
       "Hallelujah I Love Her So    1\n",
       "Punches (with LP)           1\n",
       "Vibrate                     1\n",
       "3's & 7's                   1\n",
       "Est                         1\n",
       "Name: song_name, Length: 13070, dtype: int64"
      ]
     },
     "execution_count": 21,
     "metadata": {},
     "output_type": "execute_result"
    }
   ],
   "source": [
    "cleared[\"song_name\"].value_counts()"
   ]
  },
  {
   "cell_type": "markdown",
   "metadata": {},
   "source": [
    "Es ist erkennbar, dass weiterhin Lieder mit dem selben Titel mehrfach vorhanden sind. Jedoch ist es fraglich, ob sie vom selben Künstler stammen oder ob es auch die selbe Version eines Liedes ist, weil sie eine unterschiedliche Länge haben. Auffällig ist auch, dass sich unter den mehrfachvorkommenden Songtiteln vorallem generische Wörte wie \"Heaven\", \"Fire\", \"Fall\", \"Gone\" oder \"Stay\" befinden, was ein Indiz dafür sein kann, dass diese Lieder von unterschiedlichen Künstlern kommen könnten. Da es keine konkreten Anhaltspunkte gibt, werden keine weiteren Einträge entfernt."
   ]
  },
  {
   "cell_type": "markdown",
   "metadata": {},
   "source": [
    "### 2.2 Erweiterung des Datensatzes\n",
    "Zur Erweiterung des Basis-Datensatzes wird die Spotify Web API (https://developer.spotify.com/documentation/web-api/) verwendet. Dazu werden eine Client-ID und ein Client-Secret benötigt, die im Rahmen von ... erstellt werden können. "
   ]
  },
  {
   "cell_type": "code",
   "execution_count": 22,
   "metadata": {},
   "outputs": [],
   "source": [
    "CLIENT_ID = \"28f2619d8a6242ceae8160c565174771\"\n",
    "CLIENT_SECRET = \"5f6cb53e2614428380966f0e93e72c16\"\n",
    "\n",
    "sp = spotipy.Spotify(auth_manager=SpotifyClientCredentials(client_id=CLIENT_ID, client_secret=CLIENT_SECRET))\n",
    "\n",
    "expanded = cleared.copy()\n",
    "\n",
    "def expand_row(row):\n",
    "    time.sleep(0.1) # Sleep 100ms (=600 requests per min)\n",
    "    results = sp.search(q=row.song_name, limit=50, type=\"track\")\n",
    "\n",
    "    for _, track in enumerate(results[\"tracks\"][\"items\"]):\n",
    "        if track[\"duration_ms\"] == row.song_duration_ms:\n",
    "            row[\"artist\"] = track[\"artists\"][0][\"name\"]\n",
    "            row[\"explicit\"] = track[\"explicit\"]\n",
    "            return row\n",
    "    return row\n",
    "\n",
    "expanded = expanded.apply(expand_row, axis=1)"
   ]
  },
  {
   "cell_type": "markdown",
   "metadata": {},
   "source": [
    "Ausführung der Zelle hat circa 79 Minuten gedauert. Im Verlauf davon wurden 14.468 Anfragen an Spotify gesendet. Insgesamt wurden in vorherigen Tests circa 20.000 Anfragen an Spotify gesendet."
   ]
  },
  {
   "cell_type": "code",
   "execution_count": 46,
   "metadata": {},
   "outputs": [
    {
     "name": "stdout",
     "output_type": "stream",
     "text": [
      "<class 'pandas.core.frame.DataFrame'>\n",
      "RangeIndex: 14468 entries, 0 to 14467\n",
      "Data columns (total 18 columns):\n",
      " #   Column            Non-Null Count  Dtype  \n",
      "---  ------            --------------  -----  \n",
      " 0   Unnamed: 0        14468 non-null  int64  \n",
      " 1   acousticness      14468 non-null  float64\n",
      " 2   artist            10503 non-null  object \n",
      " 3   audio_mode        14468 non-null  int64  \n",
      " 4   audio_valence     14468 non-null  float64\n",
      " 5   danceability      14468 non-null  float64\n",
      " 6   energy            14468 non-null  float64\n",
      " 7   explicit          10503 non-null  object \n",
      " 8   instrumentalness  14468 non-null  float64\n",
      " 9   key               14468 non-null  int64  \n",
      " 10  liveness          14468 non-null  float64\n",
      " 11  loudness          14468 non-null  float64\n",
      " 12  song_duration_ms  14468 non-null  int64  \n",
      " 13  song_name         14468 non-null  object \n",
      " 14  song_popularity   14468 non-null  int64  \n",
      " 15  speechiness       14468 non-null  float64\n",
      " 16  tempo             14468 non-null  float64\n",
      " 17  time_signature    14468 non-null  int64  \n",
      "dtypes: float64(9), int64(6), object(3)\n",
      "memory usage: 2.0+ MB\n"
     ]
    }
   ],
   "source": [
    "expanded.info()\n",
    "expanded.to_csv(\"song_data_expanded.csv\")"
   ]
  },
  {
   "cell_type": "markdown",
   "metadata": {},
   "source": [
    "Leider können bei circa 3900 Zeilen nicht zweifelsfrei Artist bzw. Explizit-Status ermittelt werden. Würde man jeweils auf das erste Ergebnis zurückgreifen, wenn mit gleicher Songlänge kein Lied gefunden würde, könnten alle Zeilen gefüllt werden. Aber es ist fraglich, ob das jeweilige Ergebnis richtig ist. Daher haben wir davon abgesehen und nur die zweifelsfei zugeordneten Lieder betrachtet."
   ]
  },
  {
   "cell_type": "markdown",
   "metadata": {},
   "source": [
    "Die durch die Spotify-API erweiterten Daten wurden als eigene csv gecachet um weitere Anfragen zu vermeiden. Die CSV enthält sowohl die bereinigten Daten als auch die Erweiterten."
   ]
  },
  {
   "cell_type": "code",
   "execution_count": 2,
   "metadata": {},
   "outputs": [],
   "source": [
    "cleared = pd.read_csv(\"song_data_expanded.csv\")"
   ]
  },
  {
   "cell_type": "markdown",
   "metadata": {},
   "source": [
    "## 3 Visualisierung und Korrelationen zwischen den Features\n",
    "\n",
    "\n",
    "Zum Verständnis und der besseren Vorbereitung auf die Modellwahl, ist eine genaue Betrachtung der einzelnen Datenreihen sowie der Korrelationen zwischen ebendiesen unabdingbar.\n", 
    "Erste Gedanken unsererseits drehen sich dabei um die Künstler. Ob es mehr One-Hit-Wonder oder konsistent beliebte Künstler gibt."
   ]
  },
  {
   "cell_type": "markdown",
   "metadata": {},
   "source": [
    "### 3.1 Popularität eines Liedes"
   ]
  },
  {
   "cell_type": "code",
   "execution_count": 26,
   "metadata": {},
   "outputs": [
    {
     "data": {
      "text/plain": [
       "<AxesSubplot:>"
      ]
     },
     "execution_count": 26,
     "metadata": {},
     "output_type": "execute_result"
    },
    {
     "data": {
      "image/png": "[encoded data removed]",
      "text/plain": [
       "<Figure size 864x576 with 1 Axes>"
      ]
     },
     "metadata": {
      "needs_background": "light"
     },
     "output_type": "display_data"
    }
   ],
   "source": [
    "fig, ax = plt.subplots(figsize=(12, 8))\n",
    "cleared[\"song_popularity\"].hist(bins=14)"
   ]
  },
  {
   "cell_type": "markdown",
   "metadata": {},
   "source": [
    "Die Popularität eines Liedes ist mit Ausnahe des Intervalls [0;10] normalverteilt. Wir können daher hier von einer annähernd Normalverteilten Datenmenge reden.\n",
    "Was in diesem Diagramm gleich hervorsticht ist die Menge an sehr unbeliebten Songs. Ganz im Gegensatz zu den beliebtesten Songs, welche eine sehr geringe Menge aller Songs ausmachen.\n",
    "Dies könnte also ein Problem beim Training und der Testung der Modelle werden, da die Menge an populären Songs vielleicht einfach zu gering sein könnte um valide Ergebnisse zu erzielen."
   ]
  },
  {
   "cell_type": "code",
   "execution_count": 7,
   "metadata": {},
   "outputs": [
    {
     "data": {
      "text/plain": [
       "count    14468.000000\n",
       "mean        48.593655\n",
       "std         20.282872\n",
       "min          0.000000\n",
       "25%         37.000000\n",
       "50%         52.000000\n",
       "75%         63.000000\n",
       "max        100.000000\n",
       "Name: song_popularity, dtype: float64"
      ]
     },
     "execution_count": 7,
     "metadata": {},
     "output_type": "execute_result"
    }
   ],
   "source": [
    "cleared[\"song_popularity\"].describe()"
   ]
  },
  {
   "cell_type": "markdown",
   "metadata": {},
   "source": [
    "### 3.2 Länge eines Liedes"
   ]
  },
  {
   "cell_type": "code",
   "execution_count": 8,
   "metadata": {},
   "outputs": [
    {
     "name": "stdout",
     "output_type": "stream",
     "text": [
      "count    1.446800e+04\n",
      "mean     2.189403e+05\n",
      "std      6.287834e+04\n",
      "min      1.200000e+04\n",
      "25%      1.836518e+05\n",
      "50%      2.117835e+05\n",
      "75%      2.448130e+05\n",
      "max      1.799346e+06\n",
      "Name: song_duration_ms, dtype: float64\n",
      "median: 211783.5\n"
     ]
    },
    {
     "data": {
      "image/png": "[encoded data removed]",
      "text/plain": [
       "<Figure size 432x288 with 1 Axes>"
      ]
     },
     "metadata": {
      "needs_background": "light"
     },
     "output_type": "display_data"
    }
   ],
   "source": [
    "cleared[\"song_duration_ms\"].hist(range=[0, 500000], bins=15)\n",
    "\n",
    "print(cleared[\"song_duration_ms\"].describe())\n",
    "print(\"median:\", cleared[\"song_duration_ms\"].median())"
   ]
  },
  {
   "cell_type": "markdown",
   "metadata": {},
   "source": [
    "Die Länge der Lieder ist normalverteilt, zeichnet sich aber auch durch Ausreißer auf der rechten Seite aus.\n",
    "Das arithmetische Mittel liegt bei X, der Median bei Y. Die Abweichung zwischen diesen beiden Maßen ist durch Ausreißer bedingt, wobei der Median robuster gegenüber Ausreißern ist(QUELLE)"
   ]
  },
  {
   "cell_type": "code",
   "execution_count": 9,
   "metadata": {},
   "outputs": [
    {
     "data": {
      "text/plain": [
       "<AxesSubplot:>"
      ]
     },
     "execution_count": 9,
     "metadata": {},
     "output_type": "execute_result"
    },
    {
     "data": {
      "image/png": "[encoded data removed]",
      "text/plain": [
       "<Figure size 432x288 with 1 Axes>"
      ]
     },
     "metadata": {
      "needs_background": "light"
     },
     "output_type": "display_data"
    }
   ],
   "source": [
    "cleared[\"song_duration_ms\"].plot.box()"
   ]
  },
  {
   "cell_type": "markdown",
   "metadata": {},
   "source": [
    "Der Boxplot stellt dar, wie deutliche Ausreißer besonders nach oben hin auftreten. Dies ist eventuell ein Indikator dafür, welches Intervall betrachtet werden sollte - gerade wenn Filtering nötig wird, um bessere Ergebnisse zu erzielen."
   ]
  },
  {
   "cell_type": "markdown",
   "metadata": {},
   "source": [
    "### 3.3 Musikalische Eigenschaften (numerisch) eines Liedes"
   ]
  },
  {
   "cell_type": "code",
   "execution_count": 10,
   "metadata": {},
   "outputs": [
    {
     "data": {
      "text/plain": [
       "<AxesSubplot:>"
      ]
     },
     "execution_count": 10,
     "metadata": {},
     "output_type": "execute_result"
    },
    {
     "data": {
      "image/png": "[encoded data removed]",
      "text/plain": [
       "<Figure size 1080x1080 with 9 Axes>"
      ]
     },
     "metadata": {
      "needs_background": "light"
     },
     "output_type": "display_data"
    }
   ],
   "source": [
    "fig, axes = plt.subplots(nrows=3, ncols=3)\n",
    "fig.set_figheight(15)\n",
    "fig.set_figwidth(15)\n",
    "\n",
    "cleared[\"acousticness\"].hist(ax=axes[0,0])\n",
    "cleared[\"danceability\"].hist(ax=axes[0,1])\n",
    "cleared[\"energy\"].hist(ax=axes[0,2])\n",
    "\n",
    "cleared[\"instrumentalness\"].hist(ax=axes[1,0])\n",
    "cleared[\"liveness\"].hist(ax=axes[1,1])\n",
    "cleared[\"loudness\"].hist(ax=axes[1,2])\n",
    "\n",
    "cleared[\"speechiness\"].hist(ax=axes[2,0])\n",
    "cleared[\"tempo\"].hist(ax=axes[2,1])\n",
    "cleared[\"audio_valence\"].hist(ax=axes[2,2])"
   ]
  },
  {
   "cell_type": "markdown",
   "metadata": {},
   "source": [
    "Hier zuerst ein Überblick über die einzelnen Liedeigenschaften."
   ]
  },
  {
   "cell_type": "markdown",
   "metadata": {},
   "source": [
    "#### 3.3.1 Acousticness"
   ]
  },
  {
   "cell_type": "code",
   "execution_count": 11,
   "metadata": {},
   "outputs": [
    {
     "data": {
      "text/plain": [
       "<AxesSubplot:>"
      ]
     },
     "execution_count": 11,
     "metadata": {},
     "output_type": "execute_result"
    },
    {
     "data": {
      "image/png": "[encoded data removed]",
      "text/plain": [
       "<Figure size 432x288 with 1 Axes>"
      ]
     },
     "metadata": {
      "needs_background": "light"
     },
     "output_type": "display_data"
    }
   ],
   "source": [
    "cleared[\"acousticness\"].hist()"
   ]
  },
  {
   "cell_type": "markdown",
   "metadata": {},
   "source": [
    "Die Akustik der Lieder ist mit Ausnahme des Intervalls [0.0;0.1] nahezu gleichverteilt. Das bedeutet die meisten Lieder sind sehr stark elektronisch verstärkt bzw. ganz elektronisch produziert.\n",
    "Die restlichen Lieder verteilen sich hingegen sehr gut zwischen \"fast aussschließlich elektronisch\" verstärkt und \"rein akustisch\".\n",
    "Die Akustik liegt im Durchschnitt bei ca. 0.27, was natürlich auf das Intervall [0.0;0.1] zurückzuführen ist. Die Standardabweichung liegt hier bei ca. 0.3."
   ]
  },
  {
   "cell_type": "code",
   "execution_count": 12,
   "metadata": {},
   "outputs": [
    {
     "data": {
      "text/plain": [
       "count    14468.000000\n",
       "mean         0.273181\n",
       "std          0.299414\n",
       "min          0.000001\n",
       "25%          0.024300\n",
       "50%          0.142000\n",
       "75%          0.466000\n",
       "max          0.996000\n",
       "Name: acousticness, dtype: float64"
      ]
     },
     "execution_count": 12,
     "metadata": {},
     "output_type": "execute_result"
    }
   ],
   "source": [
    "cleared[\"acousticness\"].describe()"
   ]
  },
  {
   "cell_type": "markdown",
   "metadata": {},
   "source": [
    "#### 3.3.2 Danceability"
   ]
  },
  {
   "cell_type": "code",
   "execution_count": 13,
   "metadata": {},
   "outputs": [
    {
     "data": {
      "text/plain": [
       "<AxesSubplot:>"
      ]
     },
     "execution_count": 13,
     "metadata": {},
     "output_type": "execute_result"
    },
    {
     "data": {
      "image/png": "[encoded data removed]",
      "text/plain": [
       "<Figure size 432x288 with 1 Axes>"
      ]
     },
     "metadata": {
      "needs_background": "light"
     },
     "output_type": "display_data"
    }
   ],
   "source": [
    "cleared[\"danceability\"].hist(bins=14)"
   ]
  },
  {
   "cell_type": "markdown",
   "metadata": {},
   "source": [
    "Die Danceability scheint laut dem Diagramm Normalverteilt. Hier liegt der Durchschnitt bei ca. 0.62 und die Standardabweichung liegt bei ca. 0.16.\n",
    "Allgemein lässt sich also sagen dass die Mehrheit der Songs zum Tanzen geeignet sind."
   ]
  },
  {
   "cell_type": "code",
   "execution_count": 14,
   "metadata": {},
   "outputs": [
    {
     "data": {
      "text/plain": [
       "count    14468.000000\n",
       "mean         0.624570\n",
       "std          0.158247\n",
       "min          0.000000\n",
       "25%          0.524000\n",
       "50%          0.636000\n",
       "75%          0.740000\n",
       "max          0.987000\n",
       "Name: danceability, dtype: float64"
      ]
     },
     "execution_count": 14,
     "metadata": {},
     "output_type": "execute_result"
    }
   ],
   "source": [
    "cleared[\"danceability\"].describe()"
   ]
  },
  {
   "cell_type": "markdown",
   "metadata": {},
   "source": [
    "#### 3.3.3 Energy"
   ]
  },
  {
   "cell_type": "code",
   "execution_count": 15,
   "metadata": {},
   "outputs": [
    {
     "data": {
      "text/plain": [
       "<AxesSubplot:>"
      ]
     },
     "execution_count": 15,
     "metadata": {},
     "output_type": "execute_result"
    },
    {
     "data": {
      "image/png": "[encoded data removed]",
      "text/plain": [
       "<Figure size 432x288 with 1 Axes>"
      ]
     },
     "metadata": {
      "needs_background": "light"
     },
     "output_type": "display_data"
    }
   ],
   "source": [
    "cleared[\"energy\"].hist(bins=12)"
   ]
  },
  {
   "cell_type": "markdown",
   "metadata": {},
   "source": [
    "Die Energie der Songs steigt bis zum Intervall [0.7;0.8] annäherd ninear an. Der Durchschnitt liegt bei ca. 0.64 und die Standardabweichung bei ca. 0.22.\n",
    "Generell lässt sich sagen dass eine Mehrzahl der Songs sehr sehr energetisch ist, jedoch deutlich weniger Songs extrem energetisch. Der Anteil an sehr ruhigen Songs hält sich auch eher in Grenzen."
   ]
  },
  {
   "cell_type": "code",
   "execution_count": 16,
   "metadata": {},
   "outputs": [
    {
     "data": {
      "text/plain": [
       "count    14468.000000\n",
       "mean         0.638505\n",
       "std          0.222621\n",
       "min          0.001070\n",
       "25%          0.494000\n",
       "50%          0.671000\n",
       "75%          0.817000\n",
       "max          0.999000\n",
       "Name: energy, dtype: float64"
      ]
     },
     "execution_count": 16,
     "metadata": {},
     "output_type": "execute_result"
    }
   ],
   "source": [
    "cleared[\"energy\"].describe()"
   ]
  },
  {
   "cell_type": "markdown",
   "metadata": {},
   "source": [
    "#### 3.3.4 Instrumentalness"
   ]
  },
  {
   "cell_type": "code",
   "execution_count": 17,
   "metadata": {},
   "outputs": [
    {
     "data": {
      "text/plain": [
       "<AxesSubplot:>"
      ]
     },
     "execution_count": 17,
     "metadata": {},
     "output_type": "execute_result"
    },
    {
     "data": {
      "image/png": "[encoded data removed]",
      "text/plain": [
       "<Figure size 432x288 with 1 Axes>"
      ]
     },
     "metadata": {
      "needs_background": "light"
     },
     "output_type": "display_data"
    }
   ],
   "source": [
    "cleared[\"instrumentalness\"].hist()"
   ]
  },
  {
   "cell_type": "markdown",
   "metadata": {},
   "source": [
    "Der Großteil der Werte liegt in dem Intervall [0;0.1]. Das heißt, dass die meisten Songs vocals haben, d.h.: sie haben sowohl Musik als auch Text.",
    "Dieses Intervall haben wir uns dann nochmal genauer angeschaut und festgestellt, dass auch diese, leicht gezoomte Grafik, fast die gleichen Eigenschaften aufweißt.",
    "Der Durchschnitt dieser Eingenschaft liegt bei ca. 0.09, die Standardabweichung liegt bei ca. 0.24."
   ]
  },
  {
   "cell_type": "code",
   "execution_count": 18,
   "metadata": {},
   "outputs": [
    {
     "data": {
      "text/plain": [
       "0.000000    5057\n",
       "0.001050      13\n",
       "0.000001      13\n",
       "0.001030      12\n",
       "0.000011      11\n",
       "            ... \n",
       "0.000009       1\n",
       "0.623000       1\n",
       "0.008280       1\n",
       "0.000008       1\n",
       "0.989000       1\n",
       "Name: instrumentalness, Length: 3903, dtype: int64"
      ]
     },
     "execution_count": 18,
     "metadata": {},
     "output_type": "execute_result"
    },
    {
     "data": {
      "image/png": "[encoded data removed]",
      "text/plain": [
       "<Figure size 432x288 with 1 Axes>"
      ]
     },
     "metadata": {
      "needs_background": "light"
     },
     "output_type": "display_data"
    }
   ],
   "source": [
    "cleared[\"instrumentalness\"].hist(range=[0, 0.1], bins=20)\n",
    "cleared[\"instrumentalness\"].value_counts()"
   ]
  },
  {
   "cell_type": "code",
   "execution_count": 19,
   "metadata": {},
   "outputs": [
    {
     "data": {
      "text/plain": [
       "count    14468.000000\n",
       "mean         0.093888\n",
       "std          0.242796\n",
       "min          0.000000\n",
       "25%          0.000000\n",
       "50%          0.000022\n",
       "75%          0.005482\n",
       "max          0.997000\n",
       "Name: instrumentalness, dtype: float64"
      ]
     },
     "execution_count": 19,
     "metadata": {},
     "output_type": "execute_result"
    }
   ],
   "source": [
    "cleared[\"instrumentalness\"].describe()"
   ]
  },
  {
   "cell_type": "markdown",
   "metadata": {},
   "source": [
    "#### 3.3.5 Liveness"
   ]
  },
  {
   "cell_type": "code",
   "execution_count": 20,
   "metadata": {},
   "outputs": [
    {
     "data": {
      "text/plain": [
       "<AxesSubplot:>"
      ]
     },
     "execution_count": 20,
     "metadata": {},
     "output_type": "execute_result"
    },
    {
     "data": {
      "image/png": "[encoded data removed]",
      "text/plain": [
       "<Figure size 432x288 with 1 Axes>"
      ]
     },
     "metadata": {
      "needs_background": "light"
     },
     "output_type": "display_data"
    }
   ],
   "source": [
    "cleared[\"liveness\"].hist(bins=12)"
   ]
  },
  {
   "cell_type": "code",
   "execution_count": 21,
   "metadata": {},
   "outputs": [
    {
     "data": {
      "text/plain": [
       "count    14468.000000\n",
       "mean         0.180578\n",
       "std          0.145397\n",
       "min          0.010900\n",
       "25%          0.093100\n",
       "50%          0.121000\n",
       "75%          0.224000\n",
       "max          0.986000\n",
       "Name: liveness, dtype: float64"
      ]
     },
     "execution_count": 21,
     "metadata": {},
     "output_type": "execute_result"
    }
   ],
   "source": [
    "cleared[\"liveness\"].describe()"
   ]
  },
  {
   "cell_type": "markdown",
   "metadata": {},
   "source": [
    "#### 3.3.6 Loudness"
   ]
  },
  {
   "cell_type": "code",
   "execution_count": 22,
   "metadata": {},
   "outputs": [
    {
     "data": {
      "text/plain": [
       "<AxesSubplot:>"
      ]
     },
     "execution_count": 22,
     "metadata": {},
     "output_type": "execute_result"
    },
    {
     "data": {
      "image/png": "[encoded data removed]",
      "text/plain": [
       "<Figure size 432x288 with 1 Axes>"
      ]
     },
     "metadata": {
      "needs_background": "light"
     },
     "output_type": "display_data"
    }
   ],
   "source": [
    "cleared[\"loudness\"].hist(bins=16)"
   ]
  },
  {
   "cell_type": "code",
   "execution_count": 23,
   "metadata": {},
   "outputs": [
    {
     "data": {
      "text/plain": [
       "count    14468.000000\n",
       "mean        -7.718469\n",
       "std          4.046014\n",
       "min        -38.768000\n",
       "25%         -9.439250\n",
       "50%         -6.787500\n",
       "75%         -5.017750\n",
       "max          1.585000\n",
       "Name: loudness, dtype: float64"
      ]
     },
     "execution_count": 23,
     "metadata": {},
     "output_type": "execute_result"
    }
   ],
   "source": [
    "cleared[\"loudness\"].describe()"
   ]
  },
  {
   "cell_type": "markdown",
   "metadata": {},
   "source": [
    "#### 3.3.7 Speechiness"
   ]
  },
  {
   "cell_type": "code",
   "execution_count": 24,
   "metadata": {},
   "outputs": [
    {
     "data": {
      "text/plain": [
       "<AxesSubplot:>"
      ]
     },
     "execution_count": 24,
     "metadata": {},
     "output_type": "execute_result"
    },
    {
     "data": {
      "image/png": "[encoded data removed]",
      "text/plain": [
       "<Figure size 432x288 with 1 Axes>"
      ]
     },
     "metadata": {
      "needs_background": "light"
     },
     "output_type": "display_data"
    }
   ],
   "source": [
    "cleared[\"speechiness\"].hist(bins=16)"
   ]
  },
  {
   "cell_type": "code",
   "execution_count": 25,
   "metadata": {},
   "outputs": [
    {
     "data": {
      "text/plain": [
       "count    14468.000000\n",
       "mean         0.099633\n",
       "std          0.103932\n",
       "min          0.000000\n",
       "25%          0.037200\n",
       "50%          0.054100\n",
       "75%          0.113000\n",
       "max          0.941000\n",
       "Name: speechiness, dtype: float64"
      ]
     },
     "execution_count": 25,
     "metadata": {},
     "output_type": "execute_result"
    }
   ],
   "source": [
    "cleared[\"speechiness\"].describe()"
   ]
  },
  {
   "cell_type": "markdown",
   "metadata": {},
   "source": [
    "#### 3.3.8 Tempo"
   ]
  },
  {
   "cell_type": "code",
   "execution_count": 26,
   "metadata": {},
   "outputs": [
    {
     "data": {
      "text/plain": [
       "<AxesSubplot:>"
      ]
     },
     "execution_count": 26,
     "metadata": {},
     "output_type": "execute_result"
    },
    {
     "data": {
      "image/png": "[encoded data removed]",
      "text/plain": [
       "<Figure size 432x288 with 1 Axes>"
      ]
     },
     "metadata": {
      "needs_background": "light"
     },
     "output_type": "display_data"
    }
   ],
   "source": [
    "cleared[\"tempo\"].hist(range=[40, 240], bins=11)"
   ]
  },
  {
   "cell_type": "code",
   "execution_count": 27,
   "metadata": {},
   "outputs": [
    {
     "data": {
      "text/plain": [
       "count    14468.000000\n",
       "mean       121.191691\n",
       "std         29.079174\n",
       "min          0.000000\n",
       "25%         98.227250\n",
       "50%        120.023500\n",
       "75%        139.956000\n",
       "max        242.318000\n",
       "Name: tempo, dtype: float64"
      ]
     },
     "execution_count": 27,
     "metadata": {},
     "output_type": "execute_result"
    }
   ],
   "source": [
    "cleared[\"tempo\"].describe()"
   ]
  },
  {
   "cell_type": "markdown",
   "metadata": {},
   "source": [
    "#### 3.3.9 Audio Valence"
   ]
  },
  {
   "cell_type": "code",
   "execution_count": 28,
   "metadata": {},
   "outputs": [
    {
     "data": {
      "text/plain": [
       "<AxesSubplot:>"
      ]
     },
     "execution_count": 28,
     "metadata": {},
     "output_type": "execute_result"
    },
    {
     "data": {
      "image/png": "[encoded data removed]",
      "text/plain": [
       "<Figure size 432x288 with 1 Axes>"
      ]
     },
     "metadata": {
      "needs_background": "light"
     },
     "output_type": "display_data"
    }
   ],
   "source": [
    "cleared[\"audio_valence\"].hist()"
   ]
  },
  {
   "cell_type": "code",
   "execution_count": 29,
   "metadata": {},
   "outputs": [
    {
     "data": {
      "text/plain": [
       "count    14468.000000\n",
       "mean         0.527793\n",
       "std          0.248473\n",
       "min          0.000000\n",
       "25%          0.332000\n",
       "50%          0.528000\n",
       "75%          0.730000\n",
       "max          0.984000\n",
       "Name: audio_valence, dtype: float64"
      ]
     },
     "execution_count": 29,
     "metadata": {},
     "output_type": "execute_result"
    }
   ],
   "source": [
    "cleared[\"audio_valence\"].describe()"
   ]
  },
  {
   "cell_type": "markdown",
   "metadata": {},
   "source": [
    "## 3.4 Musikalische Eigenschaften (kategorisch) eines Liedes"
   ]
  },
  {
   "cell_type": "markdown",
   "metadata": {},
   "source": [
    "### 3.4.1 key (Tonart)"
   ]
  },
  {
   "cell_type": "code",
   "execution_count": 30,
   "metadata": {},
   "outputs": [
    {
     "data": {
      "text/plain": [
       "([<matplotlib.axis.XTick at 0x15b03a254c0>,\n",
       "  <matplotlib.axis.XTick at 0x15b03a25490>,\n",
       "  <matplotlib.axis.XTick at 0x15b03a42b80>,\n",
       "  <matplotlib.axis.XTick at 0x15b03a77340>,\n",
       "  <matplotlib.axis.XTick at 0x15b03a77850>,\n",
       "  <matplotlib.axis.XTick at 0x15b03a77d60>,\n",
       "  <matplotlib.axis.XTick at 0x15b03a822b0>,\n",
       "  <matplotlib.axis.XTick at 0x15b03a827c0>,\n",
       "  <matplotlib.axis.XTick at 0x15b03a21070>,\n",
       "  <matplotlib.axis.XTick at 0x15b03a824f0>,\n",
       "  <matplotlib.axis.XTick at 0x15b03a77580>,\n",
       "  <matplotlib.axis.XTick at 0x15b03a88280>],\n",
       " [Text(0, 0, 'C'),\n",
       "  Text(1, 0, 'C#'),\n",
       "  Text(2, 0, 'D'),\n",
       "  Text(3, 0, 'D#'),\n",
       "  Text(4, 0, 'E'),\n",
       "  Text(5, 0, 'F'),\n",
       "  Text(6, 0, 'F#'),\n",
       "  Text(7, 0, 'G'),\n",
       "  Text(8, 0, 'G#'),\n",
       "  Text(9, 0, 'A'),\n",
       "  Text(10, 0, 'A#'),\n",
       "  Text(11, 0, 'B')])"
      ]
     },
     "execution_count": 30,
     "metadata": {},
     "output_type": "execute_result"
    },
    {
     "data": {
      "image/png": "[encoded data removed]",
      "text/plain": [
       "<Figure size 864x432 with 1 Axes>"
      ]
     },
     "metadata": {
      "needs_background": "light"
     },
     "output_type": "display_data"
    }
   ],
   "source": [
    "fig, ax = plt.subplots(figsize=(12, 6))\n",
    "cleared[\"key\"].value_counts().sort_index().plot.bar()\n",
    "\n",
    "plt.xticks(range(0, 12), labels=[\"C\", \"C#\", \"D\", \"D#\", \"E\", \"F\", \"F#\", \"G\", \"G#\", \"A\", \"A#\", \"B\"], rotation=0)"
   ]
  },
  {
   "cell_type": "code",
   "execution_count": 31,
   "metadata": {},
   "outputs": [
    {
     "data": {
      "text/plain": [
       "0     1674\n",
       "7     1601\n",
       "1     1540\n",
       "9     1373\n",
       "2     1359\n",
       "5     1214\n",
       "11    1180\n",
       "4     1058\n",
       "6     1024\n",
       "8     1017\n",
       "10    1001\n",
       "3      427\n",
       "Name: key, dtype: int64"
      ]
     },
     "execution_count": 31,
     "metadata": {},
     "output_type": "execute_result"
    }
   ],
   "source": [
    "cleared[\"key\"].value_counts()"
   ]
  },
  {
   "cell_type": "markdown",
   "metadata": {},
   "source": [
    "### 3.4.2 audio_mode (Modalität der Tonleiter)"
   ]
  },
  {
   "cell_type": "code",
   "execution_count": 32,
   "metadata": {},
   "outputs": [
    {
     "data": {
      "text/plain": [
       "([<matplotlib.axis.XTick at 0x15b03abc6a0>,\n",
       "  <matplotlib.axis.XTick at 0x15b03abc670>],\n",
       " [Text(0, 0, 'Moll'), Text(1, 0, 'Dur')])"
      ]
     },
     "execution_count": 32,
     "metadata": {},
     "output_type": "execute_result"
    },
    {
     "data": {
      "image/png": "[encoded data removed]",
      "text/plain": [
       "<Figure size 432x288 with 1 Axes>"
      ]
     },
     "metadata": {
      "needs_background": "light"
     },
     "output_type": "display_data"
    }
   ],
   "source": [
    "cleared[\"audio_mode\"].value_counts().sort_index().plot.bar()\n",
    "plt.xticks([0, 1], labels=[\"Moll\", \"Dur\"], rotation=0)"
   ]
  },
  {
   "cell_type": "markdown",
   "metadata": {},
   "source": [
    "### 3.4.3 time_signature (Taktangabe)\n",
    "\n",
    "Taktangabe (int 3-7), gibt Takt von 3/4 Takt bis 7/4 Takt an"
   ]
  },
  {
   "cell_type": "code",
   "execution_count": 77,
   "metadata": {},
   "outputs": [
    {
     "data": {
      "text/plain": [
       "([<matplotlib.axis.XTick at 0x1e18640f850>,\n",
       "  <matplotlib.axis.XTick at 0x1e18640f820>,\n",
       "  <matplotlib.axis.XTick at 0x1e186429cd0>,\n",
       "  <matplotlib.axis.XTick at 0x1e186439f10>,\n",
       "  <matplotlib.axis.XTick at 0x1e186446460>],\n",
       " [Text(0, 0, '7/4'),\n",
       "  Text(1, 0, '6/4'),\n",
       "  Text(2, 0, '5/4'),\n",
       "  Text(3, 0, '4/4'),\n",
       "  Text(4, 0, '3/4')])"
      ]
     },
     "execution_count": 77,
     "metadata": {},
     "output_type": "execute_result"
    },
    {
     "data": {
      "image/png": "[encoded data removed]",
      "text/plain": [
       "<Figure size 432x288 with 1 Axes>"
      ]
     },
     "metadata": {
      "needs_background": "light"
     },
     "output_type": "display_data"
    }
   ],
   "source": [
    "cleared[\"time_signature\"].value_counts().sort_index().plot.bar()\n",
    "plt.xticks(range(0, 5), labels=[\"7/4\", \"6/4\", \"5/4\", \"4/4\", \"3/4\"], rotation=0)"
   ]
  },
  {
   "cell_type": "code",
   "execution_count": 35,
   "metadata": {},
   "outputs": [
    {
     "data": {
      "text/plain": [
       "count    14468.000000\n",
       "mean         3.953000\n",
       "std          0.316593\n",
       "min          0.000000\n",
       "25%          4.000000\n",
       "50%          4.000000\n",
       "75%          4.000000\n",
       "max          5.000000\n",
       "Name: time_signature, dtype: float64"
      ]
     },
     "execution_count": 35,
     "metadata": {},
     "output_type": "execute_result"
    }
   ],
   "source": [
    "cleared[\"time_signature\"].describe()"
   ]
  },
  {
   "cell_type": "markdown",
   "metadata": {},
   "source": [
    "## 3.5 Korrelationen zwischen den Datenwerten"
   ]
  },
  {
   "cell_type": "code",
   "execution_count": 38,
   "metadata": {},
   "outputs": [
    {
     "data": {
      "image/png": "[encoded data removed]",
      "text/plain": [
       "<Figure size 1440x864 with 2 Axes>"
      ]
     },
     "metadata": {
      "needs_background": "light"
     },
     "output_type": "display_data"
    }
   ],
   "source": [
    "# Instrumentalness mit accousticness\n",
    "matrix = cleared.corr()\n",
    "fig, ax = plt.subplots(figsize=(20, 12))\n",
    "sns.heatmap(matrix, annot=True, cmap=plt.cm.Blues)\n",
    "plt.show()"
   ]
  },
  {
   "cell_type": "markdown",
   "metadata": {},
   "source": [
    "### 3.6 Deskriptive Analyse des erweiterten Datensatzes"
   ]
  },
  {
   "cell_type": "code",
   "execution_count": 28,
   "metadata": {},
   "outputs": [
    {
     "data": {
      "text/html": [
       "<div>\n",
       "<style scoped>\n",
       "    .dataframe tbody tr th:only-of-type {\n",
       "        vertical-align: middle;\n",
       "    }\n",
       "\n",
       "    .dataframe tbody tr th {\n",
       "        vertical-align: top;\n",
       "    }\n",
       "\n",
       "    .dataframe thead th {\n",
       "        text-align: right;\n",
       "    }\n",
       "</style>\n",
       "<table border=\"1\" class=\"dataframe\">\n",
       "  <thead>\n",
       "    <tr style=\"text-align: right;\">\n",
       "      <th></th>\n",
       "      <th>Unnamed: 0</th>\n",
       "      <th>acousticness</th>\n",
       "      <th>artist</th>\n",
       "      <th>audio_mode</th>\n",
       "      <th>audio_valence</th>\n",
       "      <th>danceability</th>\n",
       "      <th>energy</th>\n",
       "      <th>instrumentalness</th>\n",
       "      <th>key</th>\n",
       "      <th>liveness</th>\n",
       "      <th>loudness</th>\n",
       "      <th>song_duration_ms</th>\n",
       "      <th>song_name</th>\n",
       "      <th>song_popularity</th>\n",
       "      <th>speechiness</th>\n",
       "      <th>tempo</th>\n",
       "      <th>time_signature</th>\n",
       "    </tr>\n",
       "    <tr>\n",
       "      <th>explicit</th>\n",
       "      <th></th>\n",
       "      <th></th>\n",
       "      <th></th>\n",
       "      <th></th>\n",
       "      <th></th>\n",
       "      <th></th>\n",
       "      <th></th>\n",
       "      <th></th>\n",
       "      <th></th>\n",
       "      <th></th>\n",
       "      <th></th>\n",
       "      <th></th>\n",
       "      <th></th>\n",
       "      <th></th>\n",
       "      <th></th>\n",
       "      <th></th>\n",
       "      <th></th>\n",
       "    </tr>\n",
       "  </thead>\n",
       "  <tbody>\n",
       "    <tr>\n",
       "      <th>False</th>\n",
       "      <td>8404</td>\n",
       "      <td>8404</td>\n",
       "      <td>8404</td>\n",
       "      <td>8404</td>\n",
       "      <td>8404</td>\n",
       "      <td>8404</td>\n",
       "      <td>8404</td>\n",
       "      <td>8404</td>\n",
       "      <td>8404</td>\n",
       "      <td>8404</td>\n",
       "      <td>8404</td>\n",
       "      <td>8404</td>\n",
       "      <td>8404</td>\n",
       "      <td>8404</td>\n",
       "      <td>8404</td>\n",
       "      <td>8404</td>\n",
       "      <td>8404</td>\n",
       "    </tr>\n",
       "    <tr>\n",
       "      <th>True</th>\n",
       "      <td>2099</td>\n",
       "      <td>2099</td>\n",
       "      <td>2099</td>\n",
       "      <td>2099</td>\n",
       "      <td>2099</td>\n",
       "      <td>2099</td>\n",
       "      <td>2099</td>\n",
       "      <td>2099</td>\n",
       "      <td>2099</td>\n",
       "      <td>2099</td>\n",
       "      <td>2099</td>\n",
       "      <td>2099</td>\n",
       "      <td>2099</td>\n",
       "      <td>2099</td>\n",
       "      <td>2099</td>\n",
       "      <td>2099</td>\n",
       "      <td>2099</td>\n",
       "    </tr>\n",
       "  </tbody>\n",
       "</table>\n",
       "</div>"
      ],
      "text/plain": [
       "          Unnamed: 0  acousticness  artist  audio_mode  audio_valence  \\\n",
       "explicit                                                                \n",
       "False           8404          8404    8404        8404           8404   \n",
       "True            2099          2099    2099        2099           2099   \n",
       "\n",
       "          danceability  energy  instrumentalness   key  liveness  loudness  \\\n",
       "explicit                                                                     \n",
       "False             8404    8404              8404  8404      8404      8404   \n",
       "True              2099    2099              2099  2099      2099      2099   \n",
       "\n",
       "          song_duration_ms  song_name  song_popularity  speechiness  tempo  \\\n",
       "explicit                                                                     \n",
       "False                 8404       8404             8404         8404   8404   \n",
       "True                  2099       2099             2099         2099   2099   \n",
       "\n",
       "          time_signature  \n",
       "explicit                  \n",
       "False               8404  \n",
       "True                2099  "
      ]
     },
     "execution_count": 28,
     "metadata": {},
     "output_type": "execute_result"
    }
   ],
   "source": [
    "explicit = cleared.groupby(\"explicit\")\n",
    "explicit.count().head()"
   ]
  },
  {
   "cell_type": "code",
   "execution_count": 16,
   "metadata": {},
   "outputs": [
    {
     "data": {
      "text/plain": [
       "<AxesSubplot:xlabel='explicit'>"
      ]
     },
     "execution_count": 16,
     "metadata": {},
     "output_type": "execute_result"
    },
    {
     "data": {
      "image/png": "[encoded data removed]",
      "text/plain": [
       "<Figure size 432x288 with 1 Axes>"
      ]
     },
     "metadata": {
      "needs_background": "light"
     },
     "output_type": "display_data"
    }
   ],
   "source": [
    "explicit.count()[\"Unnamed: 0\"].plot.bar()"
   ]
  },
  {
   "cell_type": "code",
   "execution_count": 18,
   "metadata": {},
   "outputs": [
    {
     "data": {
      "text/html": [
       "<div>\n",
       "<style scoped>\n",
       "    .dataframe tbody tr th:only-of-type {\n",
       "        vertical-align: middle;\n",
       "    }\n",
       "\n",
       "    .dataframe tbody tr th {\n",
       "        vertical-align: top;\n",
       "    }\n",
       "\n",
       "    .dataframe thead th {\n",
       "        text-align: right;\n",
       "    }\n",
       "</style>\n",
       "<table border=\"1\" class=\"dataframe\">\n",
       "  <thead>\n",
       "    <tr style=\"text-align: right;\">\n",
       "      <th></th>\n",
       "      <th>count</th>\n",
       "      <th>mean</th>\n",
       "      <th>std</th>\n",
       "      <th>min</th>\n",
       "      <th>25%</th>\n",
       "      <th>50%</th>\n",
       "      <th>75%</th>\n",
       "      <th>max</th>\n",
       "    </tr>\n",
       "    <tr>\n",
       "      <th>explicit</th>\n",
       "      <th></th>\n",
       "      <th></th>\n",
       "      <th></th>\n",
       "      <th></th>\n",
       "      <th></th>\n",
       "      <th></th>\n",
       "      <th></th>\n",
       "      <th></th>\n",
       "    </tr>\n",
       "  </thead>\n",
       "  <tbody>\n",
       "    <tr>\n",
       "      <th>False</th>\n",
       "      <td>8404.0</td>\n",
       "      <td>50.524988</td>\n",
       "      <td>18.812325</td>\n",
       "      <td>0.0</td>\n",
       "      <td>40.0</td>\n",
       "      <td>53.0</td>\n",
       "      <td>64.0</td>\n",
       "      <td>100.0</td>\n",
       "    </tr>\n",
       "    <tr>\n",
       "      <th>True</th>\n",
       "      <td>2099.0</td>\n",
       "      <td>55.801810</td>\n",
       "      <td>19.874674</td>\n",
       "      <td>0.0</td>\n",
       "      <td>46.0</td>\n",
       "      <td>59.0</td>\n",
       "      <td>70.0</td>\n",
       "      <td>99.0</td>\n",
       "    </tr>\n",
       "  </tbody>\n",
       "</table>\n",
       "</div>"
      ],
      "text/plain": [
       "           count       mean        std  min   25%   50%   75%    max\n",
       "explicit                                                            \n",
       "False     8404.0  50.524988  18.812325  0.0  40.0  53.0  64.0  100.0\n",
       "True      2099.0  55.801810  19.874674  0.0  46.0  59.0  70.0   99.0"
      ]
     },
     "execution_count": 18,
     "metadata": {},
     "output_type": "execute_result"
    }
   ],
   "source": [
    "explicit[\"song_popularity\"].describe().head()"
   ]
  },
  {
   "cell_type": "markdown",
   "metadata": {},
   "source": [
    "Im Radio werden selten Lieder mit unangemessenen Inhalten (explizit) gespielt\n",
    "Versionen, wo Schimpfwörter weggeschnitten wurden\n",
    "Weniger Werbefreundlich, allgemein in der Regel altersbeschränkt"
   ]
  },
  {
   "cell_type": "code",
   "execution_count": 29,
   "metadata": {},
   "outputs": [
    {
     "data": {
      "text/plain": [
       "<AxesSubplot:xlabel='explicit'>"
      ]
     },
     "execution_count": 29,
     "metadata": {},
     "output_type": "execute_result"
    },
    {
     "data": {
      "image/png": "[encoded data removed]",
      "text/plain": [
       "<Figure size 864x576 with 1 Axes>"
      ]
     },
     "metadata": {
      "needs_background": "light"
     },
     "output_type": "display_data"
    }
   ],
   "source": [
    "explicit_song_popularity = explicit[\"song_popularity\"]\n",
    "fig, ax = plt.subplots(figsize=(12, 8))\n",
    "explicit_song_popularity.mean().plot(kind=\"bar\", yerr=explicit_song_popularity.std(), capsize=6)"
   ]
  },
  {
   "cell_type": "code",
   "execution_count": 37,
   "metadata": {},
   "outputs": [
    {
     "data": {
      "text/plain": [
       "True     51\n",
       "False    49\n",
       "Name: explicit, dtype: int64"
      ]
     },
     "execution_count": 37,
     "metadata": {},
     "output_type": "execute_result"
    }
   ],
   "source": [
    "top100 = cleared[[\"song_popularity\", \"explicit\"]].sort_values(by=[\"song_popularity\"], ascending=False).head(107)\n",
    "top100.count()\n",
    "top100[\"explicit\"].value_counts()"
   ]
  },
  {
   "cell_type": "markdown",
   "metadata": {},
   "source": [
    "#### Künstler"
   ]
  },
  {
   "cell_type": "code",
   "execution_count": 14,
   "metadata": {},
   "outputs": [
    {
     "data": {
      "text/plain": [
       "artist\n",
       "Lady Gaga      40\n",
       "Kanye West     38\n",
       "Drake          31\n",
       "Gucci Mane     21\n",
       "Eminem         20\n",
       "Ed Sheeran     19\n",
       "Khalid         19\n",
       "The Beatles    19\n",
       "Future         17\n",
       "The Weeknd     17\n",
       "Name: song_name, dtype: int64"
      ]
     },
     "execution_count": 14,
     "metadata": {},
     "output_type": "execute_result"
    }
   ],
   "source": [
    "artists = cleared.groupby(\"artist\")\n",
    "artists[\"song_name\"].count().sort_values(ascending=False).head(10)"
   ]
  },
  {
   "cell_type": "code",
   "execution_count": 39,
   "metadata": {},
   "outputs": [
    {
     "name": "stderr",
     "output_type": "stream",
     "text": [
      "<ipython-input-39-318b7715cf18>:1: FutureWarning: Indexing with multiple keys (implicitly converted to a tuple of keys) will be deprecated, use a list instead.\n",
      "  artists[\"song_popularity\", \"song_name\"].agg({\"song_name\":\"size\", \"song_popularity\":\"mean\"}).sort_values(by=\"song_popularity\", ascending=False).head(10)\n"
     ]
    },
    {
     "data": {
      "text/html": [
       "<div>\n",
       "<style scoped>\n",
       "    .dataframe tbody tr th:only-of-type {\n",
       "        vertical-align: middle;\n",
       "    }\n",
       "\n",
       "    .dataframe tbody tr th {\n",
       "        vertical-align: top;\n",
       "    }\n",
       "\n",
       "    .dataframe thead th {\n",
       "        text-align: right;\n",
       "    }\n",
       "</style>\n",
       "<table border=\"1\" class=\"dataframe\">\n",
       "  <thead>\n",
       "    <tr style=\"text-align: right;\">\n",
       "      <th></th>\n",
       "      <th>song_name</th>\n",
       "      <th>song_popularity</th>\n",
       "    </tr>\n",
       "    <tr>\n",
       "      <th>artist</th>\n",
       "      <th></th>\n",
       "      <th></th>\n",
       "    </tr>\n",
       "  </thead>\n",
       "  <tbody>\n",
       "    <tr>\n",
       "      <th>Dynoro</th>\n",
       "      <td>1</td>\n",
       "      <td>97.0</td>\n",
       "    </tr>\n",
       "    <tr>\n",
       "      <th>Nio Garcia</th>\n",
       "      <td>1</td>\n",
       "      <td>94.0</td>\n",
       "    </tr>\n",
       "    <tr>\n",
       "      <th>XXXTENTACION</th>\n",
       "      <td>5</td>\n",
       "      <td>90.8</td>\n",
       "    </tr>\n",
       "    <tr>\n",
       "      <th>Brytiago</th>\n",
       "      <td>1</td>\n",
       "      <td>90.0</td>\n",
       "    </tr>\n",
       "    <tr>\n",
       "      <th>Dennis Lloyd</th>\n",
       "      <td>1</td>\n",
       "      <td>90.0</td>\n",
       "    </tr>\n",
       "    <tr>\n",
       "      <th>Cassa Jackson</th>\n",
       "      <td>1</td>\n",
       "      <td>90.0</td>\n",
       "    </tr>\n",
       "    <tr>\n",
       "      <th>Alex Rose</th>\n",
       "      <td>1</td>\n",
       "      <td>89.0</td>\n",
       "    </tr>\n",
       "    <tr>\n",
       "      <th>BlocBoy JB</th>\n",
       "      <td>1</td>\n",
       "      <td>89.0</td>\n",
       "    </tr>\n",
       "    <tr>\n",
       "      <th>Kris Kross Amsterdam</th>\n",
       "      <td>1</td>\n",
       "      <td>89.0</td>\n",
       "    </tr>\n",
       "    <tr>\n",
       "      <th>Ava Max</th>\n",
       "      <td>1</td>\n",
       "      <td>89.0</td>\n",
       "    </tr>\n",
       "  </tbody>\n",
       "</table>\n",
       "</div>"
      ],
      "text/plain": [
       "                      song_name  song_popularity\n",
       "artist                                          \n",
       "Dynoro                        1             97.0\n",
       "Nio Garcia                    1             94.0\n",
       "XXXTENTACION                  5             90.8\n",
       "Brytiago                      1             90.0\n",
       "Dennis Lloyd                  1             90.0\n",
       "Cassa Jackson                 1             90.0\n",
       "Alex Rose                     1             89.0\n",
       "BlocBoy JB                    1             89.0\n",
       "Kris Kross Amsterdam          1             89.0\n",
       "Ava Max                       1             89.0"
      ]
     },
     "execution_count": 39,
     "metadata": {},
     "output_type": "execute_result"
    }
   ],
   "source": [
    "artists[\"song_popularity\", \"song_name\"].agg({\"song_name\":\"size\", \"song_popularity\":\"mean\"}) \\\n",
    "    .sort_values(by=\"song_popularity\", ascending=False).head(10)"
   ]
  },
  {
   "cell_type": "code",
   "execution_count": 115,
   "metadata": {},
   "outputs": [
    {
     "name": "stderr",
     "output_type": "stream",
     "text": [
      "<ipython-input-115-c24b59aa09e1>:1: FutureWarning: Indexing with multiple keys (implicitly converted to a tuple of keys) will be deprecated, use a list instead.\n",
      "  artists[\"song_popularity\", \"song_name\"].agg({\"song_name\":\"size\", \"song_popularity\":\"max\"}) \\\n"
     ]
    },
    {
     "data": {
      "text/html": [
       "<div>\n",
       "<style scoped>\n",
       "    .dataframe tbody tr th:only-of-type {\n",
       "        vertical-align: middle;\n",
       "    }\n",
       "\n",
       "    .dataframe tbody tr th {\n",
       "        vertical-align: top;\n",
       "    }\n",
       "\n",
       "    .dataframe thead th {\n",
       "        text-align: right;\n",
       "    }\n",
       "</style>\n",
       "<table border=\"1\" class=\"dataframe\">\n",
       "  <thead>\n",
       "    <tr style=\"text-align: right;\">\n",
       "      <th></th>\n",
       "      <th>song_name</th>\n",
       "      <th>song_popularity</th>\n",
       "    </tr>\n",
       "    <tr>\n",
       "      <th>artist</th>\n",
       "      <th></th>\n",
       "      <th></th>\n",
       "    </tr>\n",
       "  </thead>\n",
       "  <tbody>\n",
       "    <tr>\n",
       "      <th>Marshmello</th>\n",
       "      <td>10</td>\n",
       "      <td>100</td>\n",
       "    </tr>\n",
       "    <tr>\n",
       "      <th>Kanye West</th>\n",
       "      <td>38</td>\n",
       "      <td>99</td>\n",
       "    </tr>\n",
       "    <tr>\n",
       "      <th>benny blanco</th>\n",
       "      <td>2</td>\n",
       "      <td>98</td>\n",
       "    </tr>\n",
       "    <tr>\n",
       "      <th>Drake</th>\n",
       "      <td>31</td>\n",
       "      <td>98</td>\n",
       "    </tr>\n",
       "    <tr>\n",
       "      <th>Calvin Harris</th>\n",
       "      <td>14</td>\n",
       "      <td>98</td>\n",
       "    </tr>\n",
       "    <tr>\n",
       "      <th>DJ Snake</th>\n",
       "      <td>10</td>\n",
       "      <td>98</td>\n",
       "    </tr>\n",
       "    <tr>\n",
       "      <th>Lil Peep</th>\n",
       "      <td>9</td>\n",
       "      <td>97</td>\n",
       "    </tr>\n",
       "    <tr>\n",
       "      <th>Juice WRLD</th>\n",
       "      <td>4</td>\n",
       "      <td>97</td>\n",
       "    </tr>\n",
       "    <tr>\n",
       "      <th>Travis Scott</th>\n",
       "      <td>11</td>\n",
       "      <td>97</td>\n",
       "    </tr>\n",
       "    <tr>\n",
       "      <th>Dynoro</th>\n",
       "      <td>1</td>\n",
       "      <td>97</td>\n",
       "    </tr>\n",
       "  </tbody>\n",
       "</table>\n",
       "</div>"
      ],
      "text/plain": [
       "               song_name  song_popularity\n",
       "artist                                   \n",
       "Marshmello            10              100\n",
       "Kanye West            38               99\n",
       "benny blanco           2               98\n",
       "Drake                 31               98\n",
       "Calvin Harris         14               98\n",
       "DJ Snake              10               98\n",
       "Lil Peep               9               97\n",
       "Juice WRLD             4               97\n",
       "Travis Scott          11               97\n",
       "Dynoro                 1               97"
      ]
     },
     "execution_count": 115,
     "metadata": {},
     "output_type": "execute_result"
    }
   ],
   "source": [
    "artists[\"song_popularity\", \"song_name\"].agg({\"song_name\":\"size\", \"song_popularity\":\"max\"}) \\\n",
    "    .sort_values(by=\"song_popularity\", ascending=False).head(10)"
   ]
  },
  {
   "cell_type": "code",
   "execution_count": 40,
   "metadata": {},
   "outputs": [
    {
     "name": "stderr",
     "output_type": "stream",
     "text": [
      "<ipython-input-40-66ed74aed6cc>:1: FutureWarning: Indexing with multiple keys (implicitly converted to a tuple of keys) will be deprecated, use a list instead.\n",
      "  artists[\"song_popularity\", \"song_name\"].agg({\"song_name\":\"size\", \"song_popularity\":\"sum\"}) \\\n"
     ]
    },
    {
     "data": {
      "text/html": [
       "<div>\n",
       "<style scoped>\n",
       "    .dataframe tbody tr th:only-of-type {\n",
       "        vertical-align: middle;\n",
       "    }\n",
       "\n",
       "    .dataframe tbody tr th {\n",
       "        vertical-align: top;\n",
       "    }\n",
       "\n",
       "    .dataframe thead th {\n",
       "        text-align: right;\n",
       "    }\n",
       "</style>\n",
       "<table border=\"1\" class=\"dataframe\">\n",
       "  <thead>\n",
       "    <tr style=\"text-align: right;\">\n",
       "      <th></th>\n",
       "      <th>song_name</th>\n",
       "      <th>song_popularity</th>\n",
       "    </tr>\n",
       "    <tr>\n",
       "      <th>artist</th>\n",
       "      <th></th>\n",
       "      <th></th>\n",
       "    </tr>\n",
       "  </thead>\n",
       "  <tbody>\n",
       "    <tr>\n",
       "      <th>Kanye West</th>\n",
       "      <td>38</td>\n",
       "      <td>2464</td>\n",
       "    </tr>\n",
       "    <tr>\n",
       "      <th>Drake</th>\n",
       "      <td>31</td>\n",
       "      <td>1931</td>\n",
       "    </tr>\n",
       "    <tr>\n",
       "      <th>Lady Gaga</th>\n",
       "      <td>40</td>\n",
       "      <td>1873</td>\n",
       "    </tr>\n",
       "    <tr>\n",
       "      <th>Ed Sheeran</th>\n",
       "      <td>19</td>\n",
       "      <td>1472</td>\n",
       "    </tr>\n",
       "    <tr>\n",
       "      <th>Eminem</th>\n",
       "      <td>20</td>\n",
       "      <td>1321</td>\n",
       "    </tr>\n",
       "    <tr>\n",
       "      <th>Gucci Mane</th>\n",
       "      <td>21</td>\n",
       "      <td>1224</td>\n",
       "    </tr>\n",
       "    <tr>\n",
       "      <th>The Weeknd</th>\n",
       "      <td>17</td>\n",
       "      <td>1204</td>\n",
       "    </tr>\n",
       "    <tr>\n",
       "      <th>Lil Wayne</th>\n",
       "      <td>15</td>\n",
       "      <td>1136</td>\n",
       "    </tr>\n",
       "    <tr>\n",
       "      <th>Khalid</th>\n",
       "      <td>19</td>\n",
       "      <td>1132</td>\n",
       "    </tr>\n",
       "    <tr>\n",
       "      <th>The Beatles</th>\n",
       "      <td>19</td>\n",
       "      <td>1123</td>\n",
       "    </tr>\n",
       "  </tbody>\n",
       "</table>\n",
       "</div>"
      ],
      "text/plain": [
       "             song_name  song_popularity\n",
       "artist                                 \n",
       "Kanye West          38             2464\n",
       "Drake               31             1931\n",
       "Lady Gaga           40             1873\n",
       "Ed Sheeran          19             1472\n",
       "Eminem              20             1321\n",
       "Gucci Mane          21             1224\n",
       "The Weeknd          17             1204\n",
       "Lil Wayne           15             1136\n",
       "Khalid              19             1132\n",
       "The Beatles         19             1123"
      ]
     },
     "execution_count": 40,
     "metadata": {},
     "output_type": "execute_result"
    }
   ],
   "source": [
    "artists[\"song_popularity\", \"song_name\"].agg({\"song_name\":\"size\", \"song_popularity\":\"sum\"}) \\\n",
    "    .sort_values(by=\"song_popularity\", ascending=False).head(10)"
   ]
  },
  {
   "cell_type": "code",
   "execution_count": 27,
   "metadata": {},
   "outputs": [
    {
     "name": "stderr",
     "output_type": "stream",
     "text": [
      "<ipython-input-27-b8eb99767d2c>:1: FutureWarning: Indexing with multiple keys (implicitly converted to a tuple of keys) will be deprecated, use a list instead.\n",
      "  artists[\"song_popularity\", \"song_name\"] \\\n"
     ]
    },
    {
     "data": {
      "text/plain": [
       "song_name        size     7.590000\n",
       "song_popularity  mean    72.076428\n",
       "                 amax    90.710000\n",
       "dtype: float64"
      ]
     },
     "execution_count": 27,
     "metadata": {},
     "output_type": "execute_result"
    }
   ],
   "source": [
    "artists[\"song_popularity\", \"song_name\"] \\\n",
    "    .agg({\"song_name\":\"size\", \"song_popularity\":[np.mean, np.max]}) \\\n",
    "    .sort_values(by=(\"song_popularity\", \"amax\"), ascending=False).head(100).mean()"
   ]
  },
  {
   "cell_type": "code",
   "execution_count": 28,
   "metadata": {},
   "outputs": [
    {
     "name": "stderr",
     "output_type": "stream",
     "text": [
      "<ipython-input-28-24525b998a97>:1: FutureWarning: Indexing with multiple keys (implicitly converted to a tuple of keys) will be deprecated, use a list instead.\n",
      "  artists[\"song_popularity\", \"song_name\"] \\\n"
     ]
    },
    {
     "data": {
      "text/plain": [
       "song_name        size     4.590000\n",
       "song_popularity  mean    68.768154\n",
       "                 amax    81.320000\n",
       "dtype: float64"
      ]
     },
     "execution_count": 28,
     "metadata": {},
     "output_type": "execute_result"
    }
   ],
   "source": [
    "artists[\"song_popularity\", \"song_name\"] \\\n",
    "    .agg({\"song_name\":\"size\", \"song_popularity\":[np.mean, np.max]}) \\\n",
    "    .sort_values(by=(\"song_popularity\", \"amax\"), ascending=False).head(500).mean()"
   ]
  },
  {
   "cell_type": "markdown",
   "metadata": {},
   "source": [
    "## 4 Datentransformation und Preprocessing"
   ]
  },
  {
   "cell_type": "markdown",
   "metadata": {},
   "source": [
    "Die Datenaufbereitung ist ein entscheidender Schritt für Data Analytics und Machine Learning, wobei sich die Art der Aufbereitung unterscheidet, je nachdem ob die Daten innerhalb von Data Analytics ausgewertet werden sollen oder über Machine Learning Modelle auf ihnen trainiert werden sollen (vgl. Jafari 2020, Kap. 3). Durch die Aufbereitung der Daten kann neben einer verbesserten Performance auch schnellere Berechnungen der Modelle erreicht werden (vgl. Bishop 2016, S. 2f.). Im folgenden werden verschiedene Ansätze verwendet, um die Daten in ein möglichst passendes Format für die Algorithmen zum Machine Learning zu überführen."
   ]
  },
  {
   "cell_type": "markdown",
   "metadata": {},
   "source": [
    "### 4.1 Auswahl der Features\n",
    "Das hier vorliegende Supervised Learning zeichnet sich dadurch aus, dass sowohl der Eingangsvektor als auch der Zielvektor von Anfang an bekannt sind (vgl. Bishop 2016, S. 3). Konkret setzt sich der Eingangsvektoren aus allen numerischen bzw. kategorischen Features des Basisdatensatzes zusammen, im nachfolgenden Sourcecode als \n",
    "$X$ bezeichnet, mit Ausnahme der Song-Popularitätswerte, die den Zielvektor bilden und als $y$ bezeichnet werden. Als abhängige Variable soll die Popularität eines Songs durch die Modelle angenährt werden. Die Features \"Artist\" und \"Explicit\", die über die Erweiterung in Kapitel 2.2 in den Datensatz aufgenommen wurden, werden hierbei nicht betrachtet, da sie nicht für jeden Eintrag gefunden werden konnten. Durch die daraus entstehenden Null-Werte müssten die entsprechenden Einträge entfernt werden, sodass der Datensatz um fast 30% reduziert worden wäre."
   ]
  },
  {
   "cell_type": "code",
   "execution_count": 3,
   "metadata": {},
   "outputs": [],
   "source": [
    "X = cleared[[\"song_duration_ms\", \"acousticness\", \"danceability\", \"energy\", \"instrumentalness\", \"key\", \"liveness\", \"loudness\", \"audio_mode\", \"speechiness\", \"tempo\", \"time_signature\", \"audio_valence\"]]\n",
    "y = cleared[\"song_popularity\"]"
   ]
  },
  {
   "cell_type": "markdown",
   "metadata": {},
   "source": [
    "Bei der Auswahl der Features ist es wichtig, über Feature Engineering eine Selektion so zu treffen, dass nur für das Machine Learning nützliche Features verwendet werden (vgl. Géron 2019, S. 27). Beim Tainieren der Modelle kam es zu keinen positiven Effekten, wenn Features aus $X$ heraus gelassen wurden. Dadurch wird $X$ nachfolgend mit dieser Kombination an Features beibehalten."
   ]
  },
  {
   "cell_type": "markdown",
   "metadata": {},
   "source": [
    "### 4.2 Trainings- und Testdatensatz Split\n",
    "Um die Performance der einzelnen Modelle zu messen, wird der Datensatz in zwei disjunkte Teildatensätze unterteilt. Als Trainingsdaten $X_{train} \\subset X$ wird die erste Teilmenge zum Erstellen der Modelle verwendet. Als Testdatensatz $X_{test} \\subset X$ wird die zweite Teilmenge in Kombination mit $y_{test}$ ausschließlich zur Validierung verwendet (vgl. Mohammed 2017, Kap. 1.2.6).\n",
    "\\begin{align}\n",
    "X_{train} \\cap  X_{test} = \\emptyset\n",
    "\\end{align}\n",
    "Die Gleichung zeigt, dass keine Elemente sowohl im Trainingsdatensatz $X_{train}$ als auch im Testdatensatz $X_{test}$ gleichzeitig vorkommen dürfen. In Kapitel 2.1 wurde beschrieben, dass alle Redundanzen entfernt wurden. Wären doppelte Einträge nicht entfernt worden, wäre es an dieser Stelle wichtig gewesen, dass jede Gruppe von gleichen Einträgen entweder ausnahmslos im Trainigs- oder nur im Testdatensatz vorgekommen wären."
   ]
  },
  {
   "cell_type": "code",
   "execution_count": 4,
   "metadata": {},
   "outputs": [
    {
     "name": "stdout",
     "output_type": "stream",
     "text": [
      "Trainingsdatensatz: 11574 Testdatensatz: 2894\n"
     ]
    },
    {
     "data": {
      "text/html": [
       "<div>\n",
       "<style scoped>\n",
       "    .dataframe tbody tr th:only-of-type {\n",
       "        vertical-align: middle;\n",
       "    }\n",
       "\n",
       "    .dataframe tbody tr th {\n",
       "        vertical-align: top;\n",
       "    }\n",
       "\n",
       "    .dataframe thead th {\n",
       "        text-align: right;\n",
       "    }\n",
       "</style>\n",
       "<table border=\"1\" class=\"dataframe\">\n",
       "  <thead>\n",
       "    <tr style=\"text-align: right;\">\n",
       "      <th></th>\n",
       "      <th>song_duration_ms</th>\n",
       "      <th>acousticness</th>\n",
       "      <th>danceability</th>\n",
       "      <th>energy</th>\n",
       "      <th>instrumentalness</th>\n",
       "      <th>key</th>\n",
       "      <th>liveness</th>\n",
       "      <th>loudness</th>\n",
       "      <th>audio_mode</th>\n",
       "      <th>speechiness</th>\n",
       "      <th>tempo</th>\n",
       "      <th>time_signature</th>\n",
       "      <th>audio_valence</th>\n",
       "    </tr>\n",
       "  </thead>\n",
       "  <tbody>\n",
       "    <tr>\n",
       "      <th>8299</th>\n",
       "      <td>141093</td>\n",
       "      <td>0.13000</td>\n",
       "      <td>0.710</td>\n",
       "      <td>0.5080</td>\n",
       "      <td>0.0487</td>\n",
       "      <td>1</td>\n",
       "      <td>0.119</td>\n",
       "      <td>-10.663</td>\n",
       "      <td>1</td>\n",
       "      <td>0.0665</td>\n",
       "      <td>138.999</td>\n",
       "      <td>4</td>\n",
       "      <td>0.748</td>\n",
       "    </tr>\n",
       "    <tr>\n",
       "      <th>14414</th>\n",
       "      <td>228013</td>\n",
       "      <td>0.92400</td>\n",
       "      <td>0.502</td>\n",
       "      <td>0.0548</td>\n",
       "      <td>0.0418</td>\n",
       "      <td>1</td>\n",
       "      <td>0.108</td>\n",
       "      <td>-23.684</td>\n",
       "      <td>1</td>\n",
       "      <td>0.0356</td>\n",
       "      <td>78.455</td>\n",
       "      <td>4</td>\n",
       "      <td>0.506</td>\n",
       "    </tr>\n",
       "    <tr>\n",
       "      <th>7823</th>\n",
       "      <td>92250</td>\n",
       "      <td>0.83800</td>\n",
       "      <td>0.857</td>\n",
       "      <td>0.1460</td>\n",
       "      <td>0.9540</td>\n",
       "      <td>4</td>\n",
       "      <td>0.109</td>\n",
       "      <td>-10.946</td>\n",
       "      <td>1</td>\n",
       "      <td>0.3300</td>\n",
       "      <td>82.900</td>\n",
       "      <td>4</td>\n",
       "      <td>0.776</td>\n",
       "    </tr>\n",
       "    <tr>\n",
       "      <th>6754</th>\n",
       "      <td>302840</td>\n",
       "      <td>0.00076</td>\n",
       "      <td>0.451</td>\n",
       "      <td>0.9310</td>\n",
       "      <td>0.0049</td>\n",
       "      <td>9</td>\n",
       "      <td>0.361</td>\n",
       "      <td>-3.871</td>\n",
       "      <td>1</td>\n",
       "      <td>0.0719</td>\n",
       "      <td>122.961</td>\n",
       "      <td>4</td>\n",
       "      <td>0.172</td>\n",
       "    </tr>\n",
       "    <tr>\n",
       "      <th>2334</th>\n",
       "      <td>138701</td>\n",
       "      <td>0.00663</td>\n",
       "      <td>0.815</td>\n",
       "      <td>0.4920</td>\n",
       "      <td>0.0000</td>\n",
       "      <td>2</td>\n",
       "      <td>0.166</td>\n",
       "      <td>-9.289</td>\n",
       "      <td>1</td>\n",
       "      <td>0.3270</td>\n",
       "      <td>77.005</td>\n",
       "      <td>4</td>\n",
       "      <td>0.499</td>\n",
       "    </tr>\n",
       "  </tbody>\n",
       "</table>\n",
       "</div>"
      ],
      "text/plain": [
       "       song_duration_ms  acousticness  danceability  energy  instrumentalness  \\\n",
       "8299             141093       0.13000         0.710  0.5080            0.0487   \n",
       "14414            228013       0.92400         0.502  0.0548            0.0418   \n",
       "7823              92250       0.83800         0.857  0.1460            0.9540   \n",
       "6754             302840       0.00076         0.451  0.9310            0.0049   \n",
       "2334             138701       0.00663         0.815  0.4920            0.0000   \n",
       "\n",
       "       key  liveness  loudness  audio_mode  speechiness    tempo  \\\n",
       "8299     1     0.119   -10.663           1       0.0665  138.999   \n",
       "14414    1     0.108   -23.684           1       0.0356   78.455   \n",
       "7823     4     0.109   -10.946           1       0.3300   82.900   \n",
       "6754     9     0.361    -3.871           1       0.0719  122.961   \n",
       "2334     2     0.166    -9.289           1       0.3270   77.005   \n",
       "\n",
       "       time_signature  audio_valence  \n",
       "8299                4          0.748  \n",
       "14414               4          0.506  \n",
       "7823                4          0.776  \n",
       "6754                4          0.172  \n",
       "2334                4          0.499  "
      ]
     },
     "execution_count": 4,
     "metadata": {},
     "output_type": "execute_result"
    }
   ],
   "source": [
    "X_train, X_test, y_train, y_test = train_test_split(X, y, random_state=7, test_size=0.2)\n",
    "print(\"Kardinalität\", \"des Trainingsdatensatzes:\", len(X_train), \"bzw. des Testdatensatzes:\", len(X_test))"
   ]
  },
  {
   "cell_type": "markdown",
   "metadata": {},
   "source": [
    "Zum Aufteilen des Datensatzes in die entsprechenden Trainigs- und Testdatensätze wird die Methode ```train_test_split()``` verwendet. Dabei wird über den Parameter ```test_size=0.2``` das Verhältnis von 80% Trainingsdatensatz und 20% Testdatensatz bestimmt und über den Parameter ```random_state=7``` ein Seed gesetzt, sodass die Aufteilung immer gleich erfolgt (vgl. Géron 2019, S. 51ff.). Der Trainingsdatensatz $X_{train}$ bzw. $y_{train}$ besteht dadurch aus 11574 Elementen und der Testdatensatz $X_{test}$ bzw. $y_{test}$ aus 2894."
   ]
  },
  {
   "cell_type": "markdown",
   "metadata": {},
   "source": [
    "### 4.3 Normalisierung und Standardisierung der Features"
   ]
  },
  {
   "cell_type": "code",
   "execution_count": 5,
   "metadata": {},
   "outputs": [],
   "source": [
    "scaler = RobustScaler()\n",
    "scaler.fit(X_train)\n",
    "\n",
    "X_train = pd.DataFrame(scaler.transform(X_train), columns = X_train.columns, index = X_train.index) # diskrete Werte nicht skalieren\n",
    "X_test = pd.DataFrame(scaler.transform(X_test), columns = X_test.columns, index = X_test.index)"
   ]
  },
  {
   "cell_type": "code",
   "execution_count": 31,
   "metadata": {},
   "outputs": [
    {
     "data": {
      "text/html": [
       "<div>\n",
       "<style scoped>\n",
       "    .dataframe tbody tr th:only-of-type {\n",
       "        vertical-align: middle;\n",
       "    }\n",
       "\n",
       "    .dataframe tbody tr th {\n",
       "        vertical-align: top;\n",
       "    }\n",
       "\n",
       "    .dataframe thead th {\n",
       "        text-align: right;\n",
       "    }\n",
       "</style>\n",
       "<table border=\"1\" class=\"dataframe\">\n",
       "  <thead>\n",
       "    <tr style=\"text-align: right;\">\n",
       "      <th></th>\n",
       "      <th>song_duration_ms</th>\n",
       "      <th>acousticness</th>\n",
       "      <th>danceability</th>\n",
       "      <th>energy</th>\n",
       "      <th>instrumentalness</th>\n",
       "      <th>key</th>\n",
       "      <th>liveness</th>\n",
       "      <th>loudness</th>\n",
       "      <th>audio_mode</th>\n",
       "      <th>speechiness</th>\n",
       "      <th>tempo</th>\n",
       "      <th>time_signature</th>\n",
       "      <th>audio_valence</th>\n",
       "    </tr>\n",
       "  </thead>\n",
       "  <tbody>\n",
       "    <tr>\n",
       "      <th>8299</th>\n",
       "      <td>-1.153702</td>\n",
       "      <td>-0.027223</td>\n",
       "      <td>0.355140</td>\n",
       "      <td>-0.507740</td>\n",
       "      <td>8.818351</td>\n",
       "      <td>-0.666667</td>\n",
       "      <td>-0.023292</td>\n",
       "      <td>-0.870165</td>\n",
       "      <td>0.0</td>\n",
       "      <td>0.165997</td>\n",
       "      <td>0.453859</td>\n",
       "      <td>0.0</td>\n",
       "      <td>0.560606</td>\n",
       "    </tr>\n",
       "    <tr>\n",
       "      <th>14414</th>\n",
       "      <td>0.264873</td>\n",
       "      <td>1.774047</td>\n",
       "      <td>-0.616822</td>\n",
       "      <td>-1.910836</td>\n",
       "      <td>7.568351</td>\n",
       "      <td>-0.666667</td>\n",
       "      <td>-0.108696</td>\n",
       "      <td>-3.815426</td>\n",
       "      <td>0.0</td>\n",
       "      <td>-0.247657</td>\n",
       "      <td>-0.993670</td>\n",
       "      <td>0.0</td>\n",
       "      <td>-0.050505</td>\n",
       "    </tr>\n",
       "    <tr>\n",
       "      <th>7823</th>\n",
       "      <td>-1.950843</td>\n",
       "      <td>1.578947</td>\n",
       "      <td>1.042056</td>\n",
       "      <td>-1.628483</td>\n",
       "      <td>172.821975</td>\n",
       "      <td>-0.166667</td>\n",
       "      <td>-0.100932</td>\n",
       "      <td>-0.934178</td>\n",
       "      <td>0.0</td>\n",
       "      <td>3.693440</td>\n",
       "      <td>-0.887396</td>\n",
       "      <td>0.0</td>\n",
       "      <td>0.631313</td>\n",
       "    </tr>\n",
       "    <tr>\n",
       "      <th>6754</th>\n",
       "      <td>1.486085</td>\n",
       "      <td>-0.320417</td>\n",
       "      <td>-0.855140</td>\n",
       "      <td>0.801858</td>\n",
       "      <td>0.883569</td>\n",
       "      <td>0.666667</td>\n",
       "      <td>1.855590</td>\n",
       "      <td>0.666139</td>\n",
       "      <td>0.0</td>\n",
       "      <td>0.238286</td>\n",
       "      <td>0.070411</td>\n",
       "      <td>0.0</td>\n",
       "      <td>-0.893939</td>\n",
       "    </tr>\n",
       "    <tr>\n",
       "      <th>2334</th>\n",
       "      <td>-1.192741</td>\n",
       "      <td>-0.307101</td>\n",
       "      <td>0.845794</td>\n",
       "      <td>-0.557276</td>\n",
       "      <td>-0.004112</td>\n",
       "      <td>-0.500000</td>\n",
       "      <td>0.341615</td>\n",
       "      <td>-0.559376</td>\n",
       "      <td>0.0</td>\n",
       "      <td>3.653280</td>\n",
       "      <td>-1.028338</td>\n",
       "      <td>0.0</td>\n",
       "      <td>-0.068182</td>\n",
       "    </tr>\n",
       "  </tbody>\n",
       "</table>\n",
       "</div>"
      ],
      "text/plain": [
       "       song_duration_ms  acousticness  danceability    energy  \\\n",
       "8299          -1.153702     -0.027223      0.355140 -0.507740   \n",
       "14414          0.264873      1.774047     -0.616822 -1.910836   \n",
       "7823          -1.950843      1.578947      1.042056 -1.628483   \n",
       "6754           1.486085     -0.320417     -0.855140  0.801858   \n",
       "2334          -1.192741     -0.307101      0.845794 -0.557276   \n",
       "\n",
       "       instrumentalness       key  liveness  loudness  audio_mode  \\\n",
       "8299           8.818351 -0.666667 -0.023292 -0.870165         0.0   \n",
       "14414          7.568351 -0.666667 -0.108696 -3.815426         0.0   \n",
       "7823         172.821975 -0.166667 -0.100932 -0.934178         0.0   \n",
       "6754           0.883569  0.666667  1.855590  0.666139         0.0   \n",
       "2334          -0.004112 -0.500000  0.341615 -0.559376         0.0   \n",
       "\n",
       "       speechiness     tempo  time_signature  audio_valence  \n",
       "8299      0.165997  0.453859             0.0       0.560606  \n",
       "14414    -0.247657 -0.993670             0.0      -0.050505  \n",
       "7823      3.693440 -0.887396             0.0       0.631313  \n",
       "6754      0.238286  0.070411             0.0      -0.893939  \n",
       "2334      3.653280 -1.028338             0.0      -0.068182  "
      ]
     },
     "execution_count": 31,
     "metadata": {},
     "output_type": "execute_result"
    }
   ],
   "source": [
    "X_train.head()"
   ]
  },
  {
   "cell_type": "markdown",
   "metadata": {},
   "source": [
    "Standardisierung der unabhängigen Features, zentriert Werte um 0 herum\n",
    "\n",
    "Dabei werden nicht alle skaliert, da bei manchen Werten die Skalierung zu schlechten Ergebnissen geführt hat (?), diskrete Werte werden allgemein nicht skaliert"
   ]
  },
  {
   "cell_type": "code",
   "execution_count": 5,
   "metadata": {},
   "outputs": [],
   "source": [
    "scaler = StandardScaler()\n",
    "scaler.fit(X_train)\n",
    "\n",
    "scaled_columns = [\n",
    "    \"acousticness\", \n",
    "    \"danceability\", \n",
    "    \"energy\", \n",
    "    \"instrumentalness\", \n",
    "    \"liveness\", \n",
    "    \"speechiness\", \n",
    "    \"tempo\", \n",
    "    \"audio_valence\"\n",
    "]\n",
    "\n",
    "ct = ColumnTransformer([\n",
    "    (\"scaler\", scaler, scaled_columns)\n",
    "], remainder=\"passthrough\")\n",
    "\n",
    "ct.fit_transform(X_train)\n",
    "\n",
    "column_names = scaled_columns\n",
    "for col in X_test: # Fehlende Spaltennamen hinzufügen\n",
    "    if col not in column_names:\n",
    "        column_names.append(col)\n",
    "\n",
    "X_train = pd.DataFrame(ct.transform(X_train), index = X_train.index, columns = column_names)\n",
    "X_test = pd.DataFrame(ct.transform(X_test), index = X_test.index, columns = column_names)"
   ]
  },
  {
   "cell_type": "markdown",
   "metadata": {},
   "source": [
    "Im Eingangsvektor $X$ ist nun erkennbar, dass die Werte um den Wert $0$ skaliert sind, wobei die jeweils fünf letzten Werte nicht skaliert wurden."
   ]
  },
  {
   "cell_type": "code",
   "execution_count": 6,
   "metadata": {},
   "outputs": [
    {
     "data": {
      "text/html": [
       "<div>\n",
       "<style scoped>\n",
       "    .dataframe tbody tr th:only-of-type {\n",
       "        vertical-align: middle;\n",
       "    }\n",
       "\n",
       "    .dataframe tbody tr th {\n",
       "        vertical-align: top;\n",
       "    }\n",
       "\n",
       "    .dataframe thead th {\n",
       "        text-align: right;\n",
       "    }\n",
       "</style>\n",
       "<table border=\"1\" class=\"dataframe\">\n",
       "  <thead>\n",
       "    <tr style=\"text-align: right;\">\n",
       "      <th></th>\n",
       "      <th>acousticness</th>\n",
       "      <th>danceability</th>\n",
       "      <th>energy</th>\n",
       "      <th>instrumentalness</th>\n",
       "      <th>liveness</th>\n",
       "      <th>speechiness</th>\n",
       "      <th>tempo</th>\n",
       "      <th>audio_valence</th>\n",
       "      <th>song_duration_ms</th>\n",
       "      <th>key</th>\n",
       "      <th>loudness</th>\n",
       "      <th>audio_mode</th>\n",
       "      <th>time_signature</th>\n",
       "    </tr>\n",
       "  </thead>\n",
       "  <tbody>\n",
       "    <tr>\n",
       "      <th>8299</th>\n",
       "      <td>-0.476747</td>\n",
       "      <td>0.550390</td>\n",
       "      <td>-0.589291</td>\n",
       "      <td>-0.188043</td>\n",
       "      <td>-0.424744</td>\n",
       "      <td>-0.318291</td>\n",
       "      <td>0.608465</td>\n",
       "      <td>0.888722</td>\n",
       "      <td>141093.0</td>\n",
       "      <td>1.0</td>\n",
       "      <td>-10.663</td>\n",
       "      <td>1.0</td>\n",
       "      <td>4.0</td>\n",
       "    </tr>\n",
       "    <tr>\n",
       "      <th>14414</th>\n",
       "      <td>2.179352</td>\n",
       "      <td>-0.768994</td>\n",
       "      <td>-2.625220</td>\n",
       "      <td>-0.216334</td>\n",
       "      <td>-0.500373</td>\n",
       "      <td>-0.614464</td>\n",
       "      <td>-1.466805</td>\n",
       "      <td>-0.085712</td>\n",
       "      <td>228013.0</td>\n",
       "      <td>1.0</td>\n",
       "      <td>-23.684</td>\n",
       "      <td>1.0</td>\n",
       "      <td>4.0</td>\n",
       "    </tr>\n",
       "    <tr>\n",
       "      <th>7823</th>\n",
       "      <td>1.891664</td>\n",
       "      <td>1.482838</td>\n",
       "      <td>-2.215519</td>\n",
       "      <td>3.523809</td>\n",
       "      <td>-0.493498</td>\n",
       "      <td>2.207327</td>\n",
       "      <td>-1.314443</td>\n",
       "      <td>1.001466</td>\n",
       "      <td>92250.0</td>\n",
       "      <td>4.0</td>\n",
       "      <td>-10.946</td>\n",
       "      <td>1.0</td>\n",
       "      <td>4.0</td>\n",
       "    </tr>\n",
       "    <tr>\n",
       "      <th>6754</th>\n",
       "      <td>-0.909082</td>\n",
       "      <td>-1.092497</td>\n",
       "      <td>1.310970</td>\n",
       "      <td>-0.367629</td>\n",
       "      <td>1.239082</td>\n",
       "      <td>-0.266533</td>\n",
       "      <td>0.058730</td>\n",
       "      <td>-1.430591</td>\n",
       "      <td>302840.0</td>\n",
       "      <td>9.0</td>\n",
       "      <td>-3.871</td>\n",
       "      <td>1.0</td>\n",
       "      <td>4.0</td>\n",
       "    </tr>\n",
       "    <tr>\n",
       "      <th>2334</th>\n",
       "      <td>-0.889446</td>\n",
       "      <td>1.216424</td>\n",
       "      <td>-0.661168</td>\n",
       "      <td>-0.387720</td>\n",
       "      <td>-0.101605</td>\n",
       "      <td>2.178572</td>\n",
       "      <td>-1.516507</td>\n",
       "      <td>-0.113898</td>\n",
       "      <td>138701.0</td>\n",
       "      <td>2.0</td>\n",
       "      <td>-9.289</td>\n",
       "      <td>1.0</td>\n",
       "      <td>4.0</td>\n",
       "    </tr>\n",
       "  </tbody>\n",
       "</table>\n",
       "</div>"
      ],
      "text/plain": [
       "       acousticness  danceability    energy  instrumentalness  liveness  \\\n",
       "8299      -0.476747      0.550390 -0.589291         -0.188043 -0.424744   \n",
       "14414      2.179352     -0.768994 -2.625220         -0.216334 -0.500373   \n",
       "7823       1.891664      1.482838 -2.215519          3.523809 -0.493498   \n",
       "6754      -0.909082     -1.092497  1.310970         -0.367629  1.239082   \n",
       "2334      -0.889446      1.216424 -0.661168         -0.387720 -0.101605   \n",
       "\n",
       "       speechiness     tempo  audio_valence  song_duration_ms  key  loudness  \\\n",
       "8299     -0.318291  0.608465       0.888722          141093.0  1.0   -10.663   \n",
       "14414    -0.614464 -1.466805      -0.085712          228013.0  1.0   -23.684   \n",
       "7823      2.207327 -1.314443       1.001466           92250.0  4.0   -10.946   \n",
       "6754     -0.266533  0.058730      -1.430591          302840.0  9.0    -3.871   \n",
       "2334      2.178572 -1.516507      -0.113898          138701.0  2.0    -9.289   \n",
       "\n",
       "       audio_mode  time_signature  \n",
       "8299          1.0             4.0  \n",
       "14414         1.0             4.0  \n",
       "7823          1.0             4.0  \n",
       "6754          1.0             4.0  \n",
       "2334          1.0             4.0  "
      ]
     },
     "execution_count": 6,
     "metadata": {},
     "output_type": "execute_result"
    }
   ],
   "source": [
    "X_train.head()"
   ]
  },
  {
   "cell_type": "markdown",
   "metadata": {},
   "source": [
    "## 5 Maschinelles Lernen (Regression)\n",
    "Im nachfolgenden wurden X Modelle trainiert\n",
    "\n",
    "\n",
    "Erste Ergebnisse waren sehr schlecht. R² Werte von 0.02 erhalten\n",
    "\n",
    "Normalisierung wird verwendet um Werte in ein festes Intervall zu überführen. Die meisten Werten nicht notwendig, da sie bereits in dem Intervall [0, 1] liegen."
   ]
  },
  {
   "cell_type": "markdown",
   "metadata": {},
   "source": [
    "### 5.1 Multiple lineare Regression\n",
    "Um grobe Anhaltspunkte und erste Einblicke in den Erarbeitungsprozess zu geben"
   ]
  },
  {
   "cell_type": "code",
   "execution_count": 7,
   "metadata": {},
   "outputs": [
    {
     "name": "stdout",
     "output_type": "stream",
     "text": [
      "R² score: 0.017543325504641882\n",
      "RMSE error: 20.055951744388004\n",
      "Koeffizienten: [-7.98820024e-01  1.17087144e+00 -1.87614540e+00 -1.73662922e+00\n",
      " -4.96504082e-01 -2.53340581e-01 -3.53999509e-01 -1.62597274e+00\n",
      " -8.65986732e-07  1.81440183e-02  3.95728616e-01  7.06922513e-01\n",
      "  1.47110178e+00]\n"
     ]
    }
   ],
   "source": [
    "reg = LinearRegression()\n",
    "reg.fit(X_train, y_train)\n",
    "\n",
    "score = reg.score(X_test, y_test)\n",
    "mse = mean_squared_error(y_test, reg.predict(X_test), squared=False)\n",
    "\n",
    "print(\"R² score:\", score)\n",
    "print(\"RMSE error:\", mse)\n",
    "\n",
    "print(\"Koeffizienten:\", reg.coef_)"
   ]
  },
  {
   "cell_type": "markdown",
   "metadata": {},
   "source": [
    "Linare Regression ungeeignet, da abhängige Zielvariable p, die die Popularität eines Liedes angibt, folgende Eigenschaften besitzt:"
   ]
  },
  {
   "cell_type": "markdown",
   "metadata": {},
   "source": [
    "\\begin{align}\n",
    "p \\in \\{x\\in\\mathbb{N} | x >= 0 \\wedge x <= 100\\}\n",
    "\\end{align}"
   ]
  },
  {
   "cell_type": "markdown",
   "metadata": {},
   "source": [
    "Zudem könnten die Beziehungen nicht linear sein. Außerdem nicht robust gegen Ausreißer."
   ]
  },
  {
   "cell_type": "markdown",
   "metadata": {},
   "source": [
    "### 5.2 Lasso Regression"
   ]
  },
  {
   "cell_type": "markdown",
   "metadata": {},
   "source": [
    "Kreuzvalidierung um Hyperparameter bei Lasso-Regression zu optimieren, über Random Search"
   ]
  },
  {
   "cell_type": "code",
   "execution_count": 12,
   "metadata": {},
   "outputs": [
    {
     "name": "stdout",
     "output_type": "stream",
     "text": [
      "Koeffizient: 2.3326707155336455\n",
      "R² score: 0.0015540444968926703\n",
      "RMSE error: 20.218496320541508\n"
     ]
    }
   ],
   "source": [
    "reg = LassoCV(cv=5, random_state=7, max_iter=10000)\n",
    "reg.fit(X_train, y_train)\n",
    "\n",
    "print(\"Koeffizient:\", reg.alpha_)\n",
    "\n",
    "score = reg.score(X_test, y_test)\n",
    "mse = mean_squared_error(y_test, reg.predict(X_test), squared=False)\n",
    "\n",
    "print(\"R² score:\", score)\n",
    "print(\"RMSE error:\", mse)"
   ]
  },
  {
   "cell_type": "markdown",
   "metadata": {},
   "source": [
    "### 5.3 Random Forest Regression\n",
    "Random Search um optimale Hyperparameter zu trainieren"
   ]
  },
  {
   "cell_type": "code",
   "execution_count": 11,
   "metadata": {},
   "outputs": [
    {
     "name": "stdout",
     "output_type": "stream",
     "text": [
      "Fitting 5 folds for each of 100 candidates, totalling 500 fits\n",
      "Best Parameters:  {'n_estimators': 424, 'min_samples_split': 2, 'min_samples_leaf': 4, 'max_features': 'auto', 'max_depth': 10}  \n",
      "\n"
     ]
    }
   ],
   "source": [
    "rf = RandomForestRegressor()\n",
    "\n",
    "n_estimators = [int(x) for x in np.linspace(start = 1, stop = 1000, num = 1000)] # number of trees in the random forest\n",
    "max_features = [\"auto\", \"sqrt\"] # number of features in consideration at every split\n",
    "max_depth = [int(x) for x in np.linspace(10, 120, num = 12)] # maximum number of levels allowed in each decision tree\n",
    "min_samples_split = [2, 6, 10] # minimum sample number to split a node\n",
    "min_samples_leaf = [1, 3, 4] # minimum sample number that can be stored in a leaf node\n",
    "\n",
    "random_grid = {\n",
    "    \"n_estimators\": n_estimators,\n",
    "    \"max_features\": max_features,\n",
    "    \"max_depth\": max_depth,\n",
    "    \"min_samples_split\": min_samples_split,\n",
    "    \"min_samples_leaf\": min_samples_leaf,\n",
    "}\n",
    "\n",
    "search = RandomizedSearchCV(estimator = rf, param_distributions = random_grid, n_iter = 100, cv = 5, verbose=2, random_state=7, n_jobs = -1)\n",
    "search.fit(X_train, y_train)\n",
    "\n",
    "# print the best parameters\n",
    "print (\"Best Parameters: \", search.best_params_, ' \\n')\n"
   ]
  },
  {
   "cell_type": "code",
   "execution_count": 7,
   "metadata": {},
   "outputs": [
    {
     "name": "stdout",
     "output_type": "stream",
     "text": [
      "R² score: 0.048332420917231445\n",
      "RMSE error: 19.739184638574297\n"
     ]
    }
   ],
   "source": [
    "#Best Parameters:  {'n_estimators': 424, 'min_samples_split': 2, 'min_samples_leaf': 4, 'max_features': 'auto', 'max_depth': 10}\n",
    "rf = RandomForestRegressor(n_estimators=517, min_samples_split = 2,min_samples_leaf = 3, max_depth = 10, random_state=7)\n",
    "rf.fit(X_train, y_train)\n",
    "\n",
    "score = rf.score(X_test, y_test)\n",
    "mse = mean_squared_error(y_test, rf.predict(X_test), squared=False)\n",
    "\n",
    "print(\"R² score:\", score)\n",
    "print(\"RMSE error:\", mse)"
   ]
  },
  {
   "cell_type": "markdown",
   "metadata": {},
   "source": [
    "### 5.4 Support Vector Regression"
   ]
  },
  {
   "cell_type": "code",
   "execution_count": 35,
   "metadata": {},
   "outputs": [
    {
     "name": "stdout",
     "output_type": "stream",
     "text": [
      "R² score: -0.0005982957759362861\n",
      "RMSE error: 20.240276997077867\n"
     ]
    }
   ],
   "source": [
    "svr = SVR(kernel=\"rbf\")\n",
    "svr.fit(X_train, y_train)\n",
    "\n",
    "score = svr.score(X_test, y_test)\n",
    "mse = mean_squared_error(y_test, svr.predict(X_test), squared=False)\n",
    "\n",
    "print(\"R² score:\", score)\n",
    "print(\"RMSE error:\", mse)"
   ]
  },
  {
   "cell_type": "markdown",
   "metadata": {},
   "source": [
    "### 5.5 Polynomiale Regression"
   ]
  },
  {
   "cell_type": "code",
   "execution_count": 8,
   "metadata": {},
   "outputs": [
    {
     "name": "stdout",
     "output_type": "stream",
     "text": [
      "R² score: 0.012812242135562313\n",
      "RMSE error: 20.104184111048227\n",
      "Koeffizienten: [-3.39144558e-02  6.40490907e-02 -1.03730024e-01 -6.27319550e-02\n",
      " -2.12430064e-02  2.49616375e-03 -1.18888013e-02 -7.29984552e-02\n",
      " -3.23221577e-09  2.96938082e-03  2.12486324e-02  4.50262574e-02\n",
      "  6.71448329e-02]\n"
     ]
    },
    {
     "name": "stderr",
     "output_type": "stream",
     "text": [
      "C:\\Users\\dschm\\AppData\\Roaming\\Python\\Python310\\site-packages\\pandas\\core\\arraylike.py:397: RuntimeWarning: divide by zero encountered in log\n",
      "  result = getattr(ufunc, method)(*inputs, **kwargs)\n"
     ]
    }
   ],
   "source": [
    "# Evtl Kombination Logit\n",
    "\n",
    "# Beta Regression\n",
    "class LogitRegression(LinearRegression):\n",
    "\n",
    "    def fit(self, x, p):\n",
    "        # p = np.asarray(p) / 100\n",
    "        # p = p / 100\n",
    "        # p = np.where(p >= 1, 0.999_999, p)\n",
    "        y = np.log(p / (100-p))\n",
    "        y[np.isnan(y)] = 0\n",
    "        y[np.isfinite(y) == False] = 0\n",
    "        return super().fit(x, y)\n",
    "\n",
    "    def predict(self, x):\n",
    "        y = super().predict(x)\n",
    "        p = 1 / (np.exp(-y) + 1)\n",
    "        return p * 100\n",
    "\n",
    "reg = LogitRegression()\n",
    "reg.fit(X_train, y_train)\n",
    "\n",
    "score = reg.score(X_test, y_test)\n",
    "mse = mean_squared_error(y_test, reg.predict(X_test), squared=False)\n",
    "\n",
    "print(\"R² score:\", score)\n",
    "print(\"RMSE error:\", mse)\n",
    "\n",
    "print(\"Koeffizienten:\", reg.coef_)"
   ]
  },
  {
   "cell_type": "markdown",
   "metadata": {},
   "source": [
    "### 5.6 Gradient Boosting Regression\n",
    "Auf Empfehlung wurde die Gradient Boosting Regression ausprobiert"
   ]
  },
  {
   "cell_type": "code",
   "execution_count": 35,
   "metadata": {},
   "outputs": [
    {
     "name": "stdout",
     "output_type": "stream",
     "text": [
      "Fitting 5 folds for each of 100 candidates, totalling 500 fits\n",
      "Best Parameters:  {'n_estimators': 5, 'min_samples_split': 2, 'min_samples_leaf': 4, 'max_features': 'sqrt', 'max_depth': 10}  \n",
      "\n"
     ]
    }
   ],
   "source": [
    "gbr = GradientBoostingRegressor()\n",
    "\n",
    "n_estimators = [int(x) for x in np.linspace(start = 1, stop = 1000, num = 1000)] # number of trees in the random forest\n",
    "max_features = ['auto', 'sqrt'] # number of features in consideration at every split\n",
    "max_depth = [int(x) for x in np.linspace(10, 120, num = 12)] # maximum number of levels allowed in each decision tree\n",
    "min_samples_split = [2, 6, 10] # minimum sample number to split a node\n",
    "min_samples_leaf = [1, 3, 4] # minimum sample number that can be stored in a leaf node\n",
    "\n",
    "random_grid = {\n",
    "    'n_estimators': n_estimators,\n",
    "    'max_features': max_features,\n",
    "    'max_depth': max_depth,\n",
    "    'min_samples_split': min_samples_split,\n",
    "    'min_samples_leaf': min_samples_leaf,\n",
    "}\n",
    "\n",
    "search = RandomizedSearchCV(estimator = gbr, param_distributions = random_grid, n_iter = 100, cv = 5, verbose=2, random_state=7, n_jobs = -1)\n",
    "\n",
    "\n",
    "search.fit(X_train, y_train)\n",
    "\n",
    "# print ('Random grid: ', random_grid, '\\n')\n",
    "\n",
    "# print the best parameters\n",
    "print ('Best Parameters: ', search.best_params_, ' \\n')\n"
   ]
  },
  {
   "cell_type": "code",
   "execution_count": 26,
   "metadata": {},
   "outputs": [
    {
     "name": "stdout",
     "output_type": "stream",
     "text": [
      "19.99957595039082 0.023058788618773085\n"
     ]
    }
   ],
   "source": [
    "# 'n_estimators': 563, 'min_samples_split': 6, 'min_samples_leaf': 1, 'max_features': 'sqrt', 'max_depth': 100}\n",
    "gbr = GradientBoostingRegressor(n_estimators=5, min_samples_split=2, min_samples_leaf=4, max_features=\"sqrt\", max_depth=10, random_state=7)\n",
    "gbr.fit(X_train, y_train)\n",
    "\n",
    "rmse = mean_squared_error(y_test, gbr.predict(X_test), squared=False)\n",
    "r2score = gbr.score(X_test, y_test)\n",
    "\n",
    "print(rmse, r2score)"
   ]
  },
  {
   "cell_type": "markdown",
   "metadata": {},
   "source": [
    "Ausreißer beachten, gibt robuste Regressionsalgorithmen"
   ]
  },
  {
   "cell_type": "markdown",
   "metadata": {},
   "source": [
    "Ist es egal, ob unsere Ergebnisse Kommazahlen von 0-100 oder Ganzzahlen von 0-100 sind? Wshl ja, weil man die Kommazahlen ja einfach runden könnte und dann aufs selbe hinauskommt. Bei Berechnungen kommt es wshl automatisch zu Kommazahlen"
   ]
  },
  {
   "cell_type": "markdown",
   "metadata": {},
   "source": [
    "### 5.7 Neuronales Netz"
   ]
  },
  {
   "cell_type": "code",
   "execution_count": 48,
   "metadata": {},
   "outputs": [
    {
     "name": "stdout",
     "output_type": "stream",
     "text": [
      "Epoch 1/10\n",
      "400/400 [==============================] - 1s 2ms/step - loss: 23476.4785 - val_loss: 19.3209\n",
      "Epoch 2/10\n",
      "400/400 [==============================] - 1s 2ms/step - loss: 20.5919 - val_loss: 18.5439\n",
      "Epoch 3/10\n",
      "400/400 [==============================] - 1s 1ms/step - loss: 19.3257 - val_loss: 23.3555\n",
      "Epoch 4/10\n",
      "400/400 [==============================] - 1s 1ms/step - loss: 19.0290 - val_loss: 17.5440\n",
      "Epoch 5/10\n",
      "400/400 [==============================] - 0s 1ms/step - loss: 17.6744 - val_loss: 16.5653\n",
      "Epoch 6/10\n",
      "400/400 [==============================] - 0s 1ms/step - loss: 16.9443 - val_loss: 16.8636\n",
      "Epoch 7/10\n",
      "400/400 [==============================] - 1s 1ms/step - loss: 16.6954 - val_loss: 21.2263\n",
      "Epoch 8/10\n",
      "400/400 [==============================] - 0s 1ms/step - loss: 16.1827 - val_loss: 16.0251\n",
      "Epoch 9/10\n",
      "400/400 [==============================] - 0s 1ms/step - loss: 16.2533 - val_loss: 15.9381\n",
      "Epoch 10/10\n",
      "400/400 [==============================] - 0s 1ms/step - loss: 16.1963 - val_loss: 15.9154\n"
     ]
    }
   ],
   "source": [
    "model = keras.Sequential([\n",
    "    #keras.layers.Dense(units=20, activation='relu'),\n",
    "    #keras.layers.Dense(units=10, activation='relu'),\n",
    "    #keras.layers.Dense(units=5, activation='relu'),\n",
    "    #keras.layers.Dense(units=1, activation='sigmoid')\n",
    "    keras.layers.Dense(units=13),\n",
    "    keras.layers.Dense(units=13),\n",
    "    keras.layers.Dense(units=13),\n",
    "    keras.layers.Dense(units=13),\n",
    "    keras.layers.Dense(units=13),\n",
    "    keras.layers.Dense(units=1)\n",
    "])\n",
    "\n",
    "model.compile(optimizer=tf.keras.optimizers.Adam(learning_rate=0.1), loss='mean_absolute_error')\n",
    "\n",
    "history = model.fit(\n",
    "    X_train,\n",
    "    y_train, \n",
    "    epochs=10, \n",
    "    steps_per_epoch=400,\n",
    "    validation_data=(X_test, y_test), \n",
    "    validation_steps=2\n",
    ")"
   ]
  },
  {
   "cell_type": "code",
   "execution_count": 52,
   "metadata": {},
   "outputs": [
    {
     "name": "stdout",
     "output_type": "stream",
     "text": [
      "91/91 [==============================] - 0s 964us/step\n",
      "91/91 [==============================] - 0s 831us/step\n",
      "20.60303834054545 -0.036786650981875946\n"
     ]
    }
   ],
   "source": [
    "\n",
    "rmse = mean_squared_error(y_test, model.predict(X_test), squared=False)\n",
    "r2score = r2_score(y_test, model.predict(X_test))\n",
    "\n",
    "print(rmse, r2score)"
   ]
  },
  {
   "cell_type": "markdown",
   "metadata": {},
   "source": [
    "## 6. Transformation des Regressionsproblems in ein Klassifikationsproblem\n",
    "Ein weitere Ansatz kann sein, dass Regressionsproblem in ein Klassifikationsproblem umzuwandeln und somit die Komplexität etwas zu verringern."
   ]
  },
  {
   "cell_type": "code",
   "execution_count": 8,
   "metadata": {},
   "outputs": [
    {
     "data": {
      "text/plain": [
       "[0.0, 37.0, 52.0, 63.0]"
      ]
     },
     "execution_count": 8,
     "metadata": {},
     "output_type": "execute_result"
    }
   ],
   "source": [
    "def get_bins(n, feature):\n",
    "    step, bins = 1 / n, []\n",
    "\n",
    "    for i in range(n):\n",
    "        q = feature.quantile(step * i)\n",
    "        bins.append(q)\n",
    "\n",
    "    return bins\n",
    "\n",
    "quartil_bins = get_bins(4, cleared[\"song_popularity\"])\n",
    "\n",
    "#####\n",
    "#####\n",
    "#####\n",
    "# EINEN ALGORITHMUS ERKLÄREN\n",
    "#####\n",
    "#####\n",
    "#####"
   ]
  },
  {
   "cell_type": "markdown",
   "metadata": {},
   "source": [
    "Aufspaltung nach Quantile macht eigentlich weniger Sinn ???\n",
    "\n",
    "Deswegen Fokus auf Kontext und Klassen in 25 Schritten aufteilen"
   ]
  },
  {
   "cell_type": "code",
   "execution_count": 6,
   "metadata": {},
   "outputs": [
    {
     "data": {
      "text/plain": [
       "8299      0\n",
       "14414    64\n",
       "7823     68\n",
       "6754     78\n",
       "2334     40\n",
       "Name: song_popularity, dtype: int64"
      ]
     },
     "execution_count": 6,
     "metadata": {},
     "output_type": "execute_result"
    }
   ],
   "source": [
    "y_train.head()"
   ]
  },
  {
   "cell_type": "markdown",
   "metadata": {},
   "source": [
    "Bei np.digitize hat sich unoffensichtlicher Fehler eingeschlichen, da np.digitize den Index verändert. Dadurch eigene Methode geschrieben, die das Binning vornimmt."
   ]
  },
  {
   "cell_type": "code",
   "execution_count": 7,
   "metadata": {},
   "outputs": [
    {
     "name": "stdout",
     "output_type": "stream",
     "text": [
      "count    14468.000000\n",
      "mean        48.593655\n",
      "std         20.282872\n",
      "min          0.000000\n",
      "25%         37.000000\n",
      "50%         52.000000\n",
      "75%         63.000000\n",
      "max        100.000000\n",
      "Name: song_popularity, dtype: float64\n",
      "Klassenverteilung Training: 2    5472\n",
      "1    3643\n",
      "0    1634\n",
      "3     825\n",
      "Name: song_popularity, dtype: int64\n",
      "Klassenverteilung Test: 2    1359\n",
      "1     907\n",
      "0     395\n",
      "3     233\n",
      "Name: song_popularity, dtype: int64\n"
     ]
    }
   ],
   "source": [
    "print(cleared[\"song_popularity\"].describe())\n",
    "bins = [0, 25, 50, 75] # 4 Klassen\n",
    "\n",
    "# y_train_class, y_test_class = y_train.copy(), y_test.copy()\n",
    "\n",
    "def bin_to(x):\n",
    "    x = x // 25\n",
    "    if x == 4:\n",
    "        x = 3\n",
    "    return x\n",
    "\n",
    "y_train_class = y_train.apply(bin_to)\n",
    "y_test_class = y_test.apply(bin_to)\n",
    "\n",
    "#y_train_class = np.digitize(y_train, bins)\n",
    "#y_test_class = np.digitize(y_test, bins)\n",
    "\n",
    "#y_train_class = pd.DataFrame(y_train_class)\n",
    "print(\"Klassenverteilung Training:\", y_train_class.value_counts())\n",
    "\n",
    "#y_test_class = pd.DataFrame(y_test_class)\n",
    "print(\"Klassenverteilung Test:\", y_test_class.value_counts())\n",
    "\n",
    "# auf gleichverteilung bei klassifikation achten"
   ]
  },
  {
   "cell_type": "code",
   "execution_count": 8,
   "metadata": {},
   "outputs": [
    {
     "data": {
      "text/plain": [
       "8299     0\n",
       "14414    2\n",
       "7823     2\n",
       "6754     3\n",
       "2334     1\n",
       "Name: song_popularity, dtype: int64"
      ]
     },
     "execution_count": 8,
     "metadata": {},
     "output_type": "execute_result"
    }
   ],
   "source": [
    "#y_train_class = y_train_class.rename(columns={0:\"class\"})\n",
    "y_train_class.head()"
   ]
  },
  {
   "cell_type": "code",
   "execution_count": 9,
   "metadata": {},
   "outputs": [],
   "source": [
    "def down_sample(x, y, n):\n",
    "    random.seed(7)\n",
    "\n",
    "    for i in range(0, y.nunique()):\n",
    "        y_class = y[y == i]\n",
    "\n",
    "        # Indices sind nicht der Reihe nach im Datensatz\n",
    "        # Reset Index vorher oder aber schwer möglich, ansonsten Index ausprobieren\n",
    "        indices = random.sample(list(y_class.index.values), len(y_class) - n)\n",
    "\n",
    "        x = x[~x.index.isin(indices)]\n",
    "        y = y[~y.index.isin(indices)]\n",
    "    \n",
    "    return x, y"
   ]
  },
  {
   "cell_type": "code",
   "execution_count": 10,
   "metadata": {},
   "outputs": [
    {
     "data": {
      "text/plain": [
       "2    5472\n",
       "1    3643\n",
       "0    1634\n",
       "3     825\n",
       "Name: song_popularity, dtype: int64"
      ]
     },
     "execution_count": 10,
     "metadata": {},
     "output_type": "execute_result"
    }
   ],
   "source": [
    "y_train_class.value_counts()"
   ]
  },
  {
   "cell_type": "code",
   "execution_count": 10,
   "metadata": {},
   "outputs": [],
   "source": [
    "X_train_sampled, y_train_class_sampled = down_sample(X_train, y_train_class, 825)"
   ]
  },
  {
   "cell_type": "code",
   "execution_count": 11,
   "metadata": {},
   "outputs": [
    {
     "data": {
      "text/plain": [
       "0    825\n",
       "2    825\n",
       "1    825\n",
       "3    825\n",
       "Name: song_popularity, dtype: int64"
      ]
     },
     "execution_count": 11,
     "metadata": {},
     "output_type": "execute_result"
    }
   ],
   "source": [
    "y_train_class_sampled.value_counts()"
   ]
  },
  {
   "cell_type": "markdown",
   "metadata": {},
   "source": [
    "## 7. Maschinelles Lernen (Klassifikation)"
   ]
  },
  {
   "cell_type": "markdown",
   "metadata": {},
   "source": [
    "### 7.1 RandomForestClassifier\n",
    "Da der zielführendste Ansatz bei der Regression der Random Forest war, wird hier bei der Klassifikation ebenfalls der Random Forest Algorithmus verwendet."
   ]
  },
  {
   "cell_type": "code",
   "execution_count": 12,
   "metadata": {},
   "outputs": [
    {
     "name": "stdout",
     "output_type": "stream",
     "text": [
      "Durchschnittliche Genauigkeit (accuracy): 0.30545957152729786\n"
     ]
    }
   ],
   "source": [
    "rf = RandomForestClassifier(n_estimators=400, random_state=7)\n",
    "rf.fit(X_train_sampled, y_train_class_sampled)\n",
    "\n",
    "accuracy = rf.score(X_test, y_test_class)\n",
    "print(\"Durchschnittliche Genauigkeit (accuracy):\", accuracy)"
   ]
  },
  {
   "cell_type": "code",
   "execution_count": 13,
   "metadata": {},
   "outputs": [
    {
     "name": "stdout",
     "output_type": "stream",
     "text": [
      "[[114 106  75 100]\n",
      " [235 296 169 207]\n",
      " [315 303 340 401]\n",
      " [ 35  23  41 134]]\n"
     ]
    },
    {
     "data": {
      "image/png": "[encoded data removed]",
      "text/plain": [
       "<Figure size 1152x504 with 2 Axes>"
      ]
     },
     "metadata": {
      "needs_background": "light"
     },
     "output_type": "display_data"
    }
   ],
   "source": [
    "y_pred_test = rf.predict(X_test)\n",
    "matrix = confusion_matrix(y_test_class, y_pred_test)\n",
    "print(matrix)\n",
    "\n",
    "matrix = matrix.astype(\"float\") / matrix.sum(axis=1)[:, np.newaxis]\n",
    "\n",
    "# Build the plot\n",
    "plt.figure(figsize=(16,7))\n",
    "sns.heatmap(matrix, annot=True, annot_kws={\"size\":10}, cmap=plt.cm.Blues, linewidths=0.2)\n",
    "\n",
    "plt.xlabel(\"Vorhergesagte Klasse\")\n",
    "plt.ylabel(\"Annotierte Klasse\")\n",
    "plt.show()"
   ]
  },
  {
   "cell_type": "markdown",
   "metadata": {},
   "source": [
    "### 7.2 Logistische Regression\n",
    "Hat das Lied grundsätzlich potential beliebt zu werden?"
   ]
  },
  {
   "cell_type": "code",
   "execution_count": 14,
   "metadata": {},
   "outputs": [],
   "source": [
    "def is_popular(x):\n",
    "    if x >= 66:\n",
    "        return 1\n",
    "    return 0\n",
    "\n",
    "y_train_binary = y_train.apply(is_popular)\n",
    "y_test_binary = y_test.apply(is_popular)"
   ]
  },
  {
   "cell_type": "code",
   "execution_count": 15,
   "metadata": {},
   "outputs": [
    {
     "data": {
      "text/plain": [
       "0    9195\n",
       "1    2379\n",
       "Name: song_popularity, dtype: int64"
      ]
     },
     "execution_count": 15,
     "metadata": {},
     "output_type": "execute_result"
    }
   ],
   "source": [
    "y_train_binary.value_counts()"
   ]
  },
  {
   "cell_type": "code",
   "execution_count": 16,
   "metadata": {},
   "outputs": [
    {
     "data": {
      "text/plain": [
       "0    2379\n",
       "1    2379\n",
       "Name: song_popularity, dtype: int64"
      ]
     },
     "execution_count": 16,
     "metadata": {},
     "output_type": "execute_result"
    }
   ],
   "source": [
    "X_train_sampled, y_train_binary = down_sample(X_train, y_train_binary, 2379)\n",
    "y_train_binary.value_counts()"
   ]
  },
  {
   "cell_type": "code",
   "execution_count": 17,
   "metadata": {},
   "outputs": [
    {
     "name": "stdout",
     "output_type": "stream",
     "text": [
      "0.5224602626123013\n"
     ]
    }
   ],
   "source": [
    "logReg = LogisticRegression()\n",
    "logReg.fit(X_train_sampled, y_train_binary)\n",
    "\n",
    "score = logReg.score(X_test, y_test_binary)\n",
    "print(score)"
   ]
  },
  {
   "cell_type": "code",
   "execution_count": 25,
   "metadata": {},
   "outputs": [
    {
     "name": "stdout",
     "output_type": "stream",
     "text": [
      "A priori: ROC AUC=0.500\n",
      "Logistic: ROC AUC=0.578\n"
     ]
    },
    {
     "data": {
      "image/png": "[encoded data removed]",
      "text/plain": [
       "<Figure size 864x576 with 1 Axes>"
      ]
     },
     "metadata": {
      "needs_background": "light"
     },
     "output_type": "display_data"
    }
   ],
   "source": [
    "from sklearn.metrics import roc_curve\n",
    "from sklearn.metrics import roc_auc_score\n",
    "\n",
    "fig, ax = plt.subplots(figsize=(12, 8))\n",
    "\n",
    "lr_probs = logReg.predict_proba(X_test)\n",
    "lr_probs = lr_probs[:, 1]\n",
    "\n",
    "ns_probs = [0 for _ in range(len(y_test_binary))]\n",
    "\n",
    "ns_auc = roc_auc_score(y_test_binary, ns_probs)\n",
    "lr_auc = roc_auc_score(y_test_binary, lr_probs)\n",
    "# summarize scores\n",
    "print(\"A priori: ROC AUC=%.3f\" % (ns_auc))\n",
    "print(\"Logistic: ROC AUC=%.3f\" % (lr_auc))\n",
    "# calculate roc curves\n",
    "ns_fpr, ns_tpr, _ = roc_curve(y_test_binary, ns_probs)\n",
    "lr_fpr, lr_tpr, _ = roc_curve(y_test_binary, lr_probs)\n",
    "# plot the roc curve for the model\n",
    "plt.plot(ns_fpr, ns_tpr, linestyle=\"--\", label=\"A priori\")\n",
    "plt.plot(lr_fpr, lr_tpr, label=\"Logistisch\", color=\"#FFCC00\")\n",
    "# axis labels\n",
    "plt.xlabel(\"False Positive Rate\")\n",
    "plt.ylabel(\"True Positive Rate\")\n",
    "# show the legend\n",
    "plt.legend()\n",
    "# show the plot\n",
    "plt.show()"
   ]
  },
  {
   "cell_type": "markdown",
   "metadata": {},
   "source": [
    "## 8 Diskussion"
   ]
  },
  {
   "cell_type": "markdown",
   "metadata": {},
   "source": [
    "- Auf welcher Basis wurden die 18.000 Lieder ausgewählt? Stichprobenverzerrung???\n",
    "- Datensatz wahrscheinlich aus 2018. Wie wirken sich Trends evtl. aus?\n",
    "- Was bedeutet Popularität?\n",
    "- Der Datensatz besteht nicht nur aus Musik, sondern auch aus Reden (bsp. Rede von Martin Luther King) und weiteren nicht musikalischen \n",
    "- Wie zuverlässig sind die Features? Sind die Ergebnisse statistisch signifikant?"
   ]
  },
  {
   "cell_type": "code",
   "execution_count": null,
   "metadata": {},
   "outputs": [],
   "source": []
  },
  {
   "cell_type": "markdown",
   "metadata": {},
   "source": [
    "WICHTIGE ENTDECKUNG:\n",
    "Wenn Redundanzen nicht entfernt werden, steigt der R²-Score bei der Random Forest Regression von 0.02 auf 0.38. Warum ist das so? Liegt es daran, dass 4.000 Redundanzen entfernt wurden (circa 25% des Datensatzes), diese auch zum Teil in den Testdaten "
   ]
  },
  {
   "cell_type": "markdown",
   "metadata": {},
   "source": [
    "Performance Unterschiedliche Modelle aus 5 vergleichen"
   ]
  },
  {
   "cell_type": "markdown",
   "metadata": {},
   "source": [
    "### 8.1 Limitationen"
   ]
  },
  {
   "cell_type": "markdown",
   "metadata": {},
   "source": [
    "- Es wurde auf bereits ermittelte Features zurükgegriffen \n",
    "- falsche Ergebnisse dort wirken sich auch unter Umständen auf die Modelle die im Rahmen dieser Ausarbeiten aufgestellt wurden aus"
   ]
  },
  {
   "cell_type": "markdown",
   "metadata": {},
   "source": [
    "### 8.2 Konklusion"
   ]
  },
  {
   "cell_type": "markdown",
   "metadata": {},
   "source": [
    "Weitere Forschung kann sich mit Genres und deren Beliebtheit im zeitlichen Verlauf beschäftigen, beispielsweise Rock in den 70ern?\n",
    "\n",
    "Zusammenfassend ist der Musikgeschmack individuell und abhängig von einer Vielzahl an Faktoren. Durch die gegebenen Features lässt sich die Beliebtheit nicht bestimmen. Weitere Forschung könnte sich mit Clustering beschäftigen, wahrscheinlich auch von Spotify genutzt, um Epfehlungen zu geben, durch Clustering Gruppen finden, die ähnlichen Musikgeschmack haben."
   ]
  },
  {
   "cell_type": "markdown",
   "metadata": {},
   "source": [
    "## Quellenverzeichnis\n"
   ]
  },
  {
   "cell_type": "markdown",
   "metadata": {},
   "source": [
    "- Alshare, Somaya; Abdullah, Malak; Quwaider, Muhannad (2022): Increasing Accuracy of Random Forest Algorithm by Decreasing Variance. In: International Conference on Information and Communication Systems (ICICS), S. 232–238.\n",
    "- Bishop, Christopher M. (2016): Pattern Recognition and Machine Learning. New York, NY: Springer New York (Information Science and Statistics).\n",
    "- Feige, Daniel Martin; zur Nieden, Gesa (2022): Musik und Subjektivität. Beiträge aus Musikwissenschaft, Musikphilosophie und kompositorischer Praxis. Bielefeld: transcript (Musik und Klangkultur).\n",
    "- Géron, Aurélien (2019): Hands-on machine learning with Scikit-Learn and TensorFlow. Concepts, tools, and techniques to build intelligent systems. Unter Mitarbeit von Rebecca Demarest. 2. Auflage, Sebastopol (Clif.) [etc.]: O'Reilly.\n",
    "- Grünewald-Schukalla, Lorenz; Jóri, Anita; Schwetter, Holger (Hg.) (2022): Musik et Marken. 1. Auflage, 2022. Wiesbaden: Springer Fachmedien Wiesbaden; Springer VS (Jahrbuch für Musikwirtschafts- und Musikkulturforschung).\n",
    "- Jafari, Roy (2022): Hands-On Data Preprocessing in Python. Learn How to Effectively Prepare Data for Successful Data Analytics. Birmingham: Packt Publishing, Limited.\n",
    "- Mohammed, Mohssen; Khan, Muhammad Badruddin; Bashier, Eihab Bashier Mohammed (2017): Machine learning. Algorithms and applications. Boca Raton, FL: CRC Press."
   ]
  }
 ],
 "metadata": {
  "kernelspec": {
   "display_name": "Python 3.10.4 64-bit",
   "language": "python",
   "name": "python3"
  },
  "language_info": {
   "codemirror_mode": {
    "name": "ipython",
    "version": 3
   },
   "file_extension": ".py",
   "mimetype": "text/x-python",
   "name": "python",
   "nbconvert_exporter": "python",
   "pygments_lexer": "ipython3",
   "version": "3.10.4"
  },
  "orig_nbformat": 4,
  "vscode": {
   "interpreter": {
    "hash": "26de051ba29f2982a8de78e945f0abaf191376122a1563185a90213a26c5da77"
   }
  }
 },
 "nbformat": 4,
 "nbformat_minor": 2
}
