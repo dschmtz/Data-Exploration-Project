{
 "cells": [
  {
   "cell_type": "markdown",
   "metadata": {},
   "source": [
    "Einleitung ...\n",
    "Musikstreaming, Milliardenmarkt, kulturelle Bedeutung ..."
   ]
  },
  {
   "cell_type": "markdown",
   "metadata": {},
   "source": [
    "## 1 Importierung benötigter Bibliotheken und des Datensatzes\n",
    "In diesem Kapitel wird XY gemacht.\n",
    "\n",
    "### 1.1 Laden der Bibliotheken\n",
    "Innerhalb des Datenexplorationsprojektes werden die Bibliotheken XY benötigt."
   ]
  },
  {
   "cell_type": "code",
   "execution_count": 1,
   "metadata": {},
   "outputs": [],
   "source": [
    "import os\n",
    "import pandas as pd\n",
    "import numpy as np\n",
    "import seaborn as sns\n",
    "\n",
    "import spotipy\n",
    "from spotipy.oauth2 import SpotifyClientCredentials\n",
    "\n",
    "from matplotlib import pyplot as plt"
   ]
  },
  {
   "cell_type": "markdown",
   "metadata": {},
   "source": [
    "### 1.2 Laden des Basis-Datensatzes"
   ]
  },
  {
   "cell_type": "code",
   "execution_count": 2,
   "metadata": {},
   "outputs": [
    {
     "name": "stdout",
     "output_type": "stream",
     "text": [
      "<class 'pandas.core.frame.DataFrame'>\n",
      "RangeIndex: 18835 entries, 0 to 18834\n",
      "Data columns (total 15 columns):\n",
      " #   Column            Non-Null Count  Dtype  \n",
      "---  ------            --------------  -----  \n",
      " 0   song_name         18835 non-null  object \n",
      " 1   song_popularity   18835 non-null  int64  \n",
      " 2   song_duration_ms  18835 non-null  int64  \n",
      " 3   acousticness      18835 non-null  float64\n",
      " 4   danceability      18835 non-null  float64\n",
      " 5   energy            18835 non-null  float64\n",
      " 6   instrumentalness  18835 non-null  float64\n",
      " 7   key               18835 non-null  int64  \n",
      " 8   liveness          18835 non-null  float64\n",
      " 9   loudness          18835 non-null  float64\n",
      " 10  audio_mode        18835 non-null  int64  \n",
      " 11  speechiness       18835 non-null  float64\n",
      " 12  tempo             18835 non-null  float64\n",
      " 13  time_signature    18835 non-null  int64  \n",
      " 14  audio_valence     18835 non-null  float64\n",
      "dtypes: float64(9), int64(5), object(1)\n",
      "memory usage: 2.2+ MB\n"
     ]
    }
   ],
   "source": [
    "base_data = pd.read_csv(\"song_data.csv\")\n",
    "base_data.info()"
   ]
  },
  {
   "cell_type": "markdown",
   "metadata": {},
   "source": [
    "Der Basisdatensatz besteht aus 18.834 Einträgen ..."
   ]
  },
  {
   "cell_type": "code",
   "execution_count": 3,
   "metadata": {},
   "outputs": [
    {
     "data": {
      "text/html": [
       "<div>\n",
       "<style scoped>\n",
       "    .dataframe tbody tr th:only-of-type {\n",
       "        vertical-align: middle;\n",
       "    }\n",
       "\n",
       "    .dataframe tbody tr th {\n",
       "        vertical-align: top;\n",
       "    }\n",
       "\n",
       "    .dataframe thead th {\n",
       "        text-align: right;\n",
       "    }\n",
       "</style>\n",
       "<table border=\"1\" class=\"dataframe\">\n",
       "  <thead>\n",
       "    <tr style=\"text-align: right;\">\n",
       "      <th></th>\n",
       "      <th>song_name</th>\n",
       "      <th>song_popularity</th>\n",
       "      <th>song_duration_ms</th>\n",
       "      <th>acousticness</th>\n",
       "      <th>danceability</th>\n",
       "      <th>energy</th>\n",
       "      <th>instrumentalness</th>\n",
       "      <th>key</th>\n",
       "      <th>liveness</th>\n",
       "      <th>loudness</th>\n",
       "      <th>audio_mode</th>\n",
       "      <th>speechiness</th>\n",
       "      <th>tempo</th>\n",
       "      <th>time_signature</th>\n",
       "      <th>audio_valence</th>\n",
       "    </tr>\n",
       "  </thead>\n",
       "  <tbody>\n",
       "    <tr>\n",
       "      <th>0</th>\n",
       "      <td>Boulevard of Broken Dreams</td>\n",
       "      <td>73</td>\n",
       "      <td>262333</td>\n",
       "      <td>0.005520</td>\n",
       "      <td>0.496</td>\n",
       "      <td>0.682</td>\n",
       "      <td>0.000029</td>\n",
       "      <td>8</td>\n",
       "      <td>0.0589</td>\n",
       "      <td>-4.095</td>\n",
       "      <td>1</td>\n",
       "      <td>0.0294</td>\n",
       "      <td>167.060</td>\n",
       "      <td>4</td>\n",
       "      <td>0.474</td>\n",
       "    </tr>\n",
       "    <tr>\n",
       "      <th>1</th>\n",
       "      <td>In The End</td>\n",
       "      <td>66</td>\n",
       "      <td>216933</td>\n",
       "      <td>0.010300</td>\n",
       "      <td>0.542</td>\n",
       "      <td>0.853</td>\n",
       "      <td>0.000000</td>\n",
       "      <td>3</td>\n",
       "      <td>0.1080</td>\n",
       "      <td>-6.407</td>\n",
       "      <td>0</td>\n",
       "      <td>0.0498</td>\n",
       "      <td>105.256</td>\n",
       "      <td>4</td>\n",
       "      <td>0.370</td>\n",
       "    </tr>\n",
       "    <tr>\n",
       "      <th>2</th>\n",
       "      <td>Seven Nation Army</td>\n",
       "      <td>76</td>\n",
       "      <td>231733</td>\n",
       "      <td>0.008170</td>\n",
       "      <td>0.737</td>\n",
       "      <td>0.463</td>\n",
       "      <td>0.447000</td>\n",
       "      <td>0</td>\n",
       "      <td>0.2550</td>\n",
       "      <td>-7.828</td>\n",
       "      <td>1</td>\n",
       "      <td>0.0792</td>\n",
       "      <td>123.881</td>\n",
       "      <td>4</td>\n",
       "      <td>0.324</td>\n",
       "    </tr>\n",
       "    <tr>\n",
       "      <th>3</th>\n",
       "      <td>By The Way</td>\n",
       "      <td>74</td>\n",
       "      <td>216933</td>\n",
       "      <td>0.026400</td>\n",
       "      <td>0.451</td>\n",
       "      <td>0.970</td>\n",
       "      <td>0.003550</td>\n",
       "      <td>0</td>\n",
       "      <td>0.1020</td>\n",
       "      <td>-4.938</td>\n",
       "      <td>1</td>\n",
       "      <td>0.1070</td>\n",
       "      <td>122.444</td>\n",
       "      <td>4</td>\n",
       "      <td>0.198</td>\n",
       "    </tr>\n",
       "    <tr>\n",
       "      <th>4</th>\n",
       "      <td>How You Remind Me</td>\n",
       "      <td>56</td>\n",
       "      <td>223826</td>\n",
       "      <td>0.000954</td>\n",
       "      <td>0.447</td>\n",
       "      <td>0.766</td>\n",
       "      <td>0.000000</td>\n",
       "      <td>10</td>\n",
       "      <td>0.1130</td>\n",
       "      <td>-5.065</td>\n",
       "      <td>1</td>\n",
       "      <td>0.0313</td>\n",
       "      <td>172.011</td>\n",
       "      <td>4</td>\n",
       "      <td>0.574</td>\n",
       "    </tr>\n",
       "  </tbody>\n",
       "</table>\n",
       "</div>"
      ],
      "text/plain": [
       "                    song_name  song_popularity  song_duration_ms  \\\n",
       "0  Boulevard of Broken Dreams               73            262333   \n",
       "1                  In The End               66            216933   \n",
       "2           Seven Nation Army               76            231733   \n",
       "3                  By The Way               74            216933   \n",
       "4           How You Remind Me               56            223826   \n",
       "\n",
       "   acousticness  danceability  energy  instrumentalness  key  liveness  \\\n",
       "0      0.005520         0.496   0.682          0.000029    8    0.0589   \n",
       "1      0.010300         0.542   0.853          0.000000    3    0.1080   \n",
       "2      0.008170         0.737   0.463          0.447000    0    0.2550   \n",
       "3      0.026400         0.451   0.970          0.003550    0    0.1020   \n",
       "4      0.000954         0.447   0.766          0.000000   10    0.1130   \n",
       "\n",
       "   loudness  audio_mode  speechiness    tempo  time_signature  audio_valence  \n",
       "0    -4.095           1       0.0294  167.060               4          0.474  \n",
       "1    -6.407           0       0.0498  105.256               4          0.370  \n",
       "2    -7.828           1       0.0792  123.881               4          0.324  \n",
       "3    -4.938           1       0.1070  122.444               4          0.198  \n",
       "4    -5.065           1       0.0313  172.011               4          0.574  "
      ]
     },
     "execution_count": 3,
     "metadata": {},
     "output_type": "execute_result"
    }
   ],
   "source": [
    "base_data.head()"
   ]
  },
  {
   "cell_type": "markdown",
   "metadata": {},
   "source": [
    "### 1.3 Erweiterung des Datensatzes\n",
    "Zur Erweiterung des Basis-Datensatzes wird die Spotify Web API (https://developer.spotify.com/documentation/web-api/) verwendet. Dazu werden eine Client-ID und ein Client-Secret benötigt, die im Rahmen von ... erstellt werden können. "
   ]
  },
  {
   "cell_type": "code",
   "execution_count": 50,
   "metadata": {},
   "outputs": [
    {
     "name": "stdout",
     "output_type": "stream",
     "text": [
      "0 {'album': {'album_type': 'compilation', 'artists': [{'external_urls': {'spotify': 'https://open.spotify.com/artist/7oPftvlwr6VrsViSDV7fJY'}, 'href': 'https://api.spotify.com/v1/artists/7oPftvlwr6VrsViSDV7fJY', 'id': '7oPftvlwr6VrsViSDV7fJY', 'name': 'Green Day', 'type': 'artist', 'uri': 'spotify:artist:7oPftvlwr6VrsViSDV7fJY'}], 'available_markets': ['AD', 'AG', 'AL', 'AM', 'AO', 'AR', 'AT', 'AU', 'AZ', 'BA', 'BB', 'BD', 'BE', 'BG', 'BI', 'BJ', 'BO', 'BR', 'BS', 'BT', 'BW', 'BZ', 'CA', 'CD', 'CG', 'CH', 'CI', 'CL', 'CM', 'CO', 'CR', 'CV', 'CW', 'CY', 'CZ', 'DE', 'DJ', 'DK', 'DM', 'DO', 'DZ', 'EC', 'EE', 'ES', 'FI', 'FJ', 'FM', 'FR', 'GA', 'GB', 'GD', 'GE', 'GH', 'GM', 'GN', 'GQ', 'GR', 'GT', 'GW', 'GY', 'HK', 'HN', 'HR', 'HT', 'HU', 'ID', 'IE', 'IL', 'IN', 'IQ', 'IS', 'IT', 'JM', 'JP', 'KE', 'KG', 'KH', 'KI', 'KM', 'KN', 'KR', 'KW', 'KZ', 'LA', 'LC', 'LI', 'LK', 'LR', 'LS', 'LT', 'LU', 'LV', 'LY', 'MA', 'MC', 'MD', 'ME', 'MG', 'MH', 'MK', 'ML', 'MN', 'MO', 'MR', 'MT', 'MU', 'MV', 'MW', 'MX', 'MY', 'MZ', 'NA', 'NE', 'NG', 'NI', 'NL', 'NO', 'NR', 'NZ', 'PA', 'PE', 'PG', 'PH', 'PK', 'PL', 'PS', 'PT', 'PW', 'PY', 'RO', 'RS', 'RW', 'SB', 'SC', 'SE', 'SG', 'SI', 'SK', 'SL', 'SM', 'SN', 'SR', 'ST', 'SV', 'SZ', 'TD', 'TG', 'TH', 'TJ', 'TL', 'TO', 'TR', 'TT', 'TV', 'TW', 'TZ', 'UA', 'UG', 'US', 'UY', 'VC', 'VE', 'VN', 'VU', 'WS', 'XK', 'ZA', 'ZM', 'ZW'], 'external_urls': {'spotify': 'https://open.spotify.com/album/3id4t9IqRoB1f1smOERtrY'}, 'href': 'https://api.spotify.com/v1/albums/3id4t9IqRoB1f1smOERtrY', 'id': '3id4t9IqRoB1f1smOERtrY', 'images': [{'height': 640, 'url': 'https://i.scdn.co/image/ab67616d0000b2737f213369d5265a60af5f7e82', 'width': 640}, {'height': 300, 'url': 'https://i.scdn.co/image/ab67616d00001e027f213369d5265a60af5f7e82', 'width': 300}, {'height': 64, 'url': 'https://i.scdn.co/image/ab67616d000048517f213369d5265a60af5f7e82', 'width': 64}], 'name': \"Greatest Hits: God's Favorite Band\", 'release_date': '2017-11-17', 'release_date_precision': 'day', 'total_tracks': 22, 'type': 'album', 'uri': 'spotify:album:3id4t9IqRoB1f1smOERtrY'}, 'artists': [{'external_urls': {'spotify': 'https://open.spotify.com/artist/7oPftvlwr6VrsViSDV7fJY'}, 'href': 'https://api.spotify.com/v1/artists/7oPftvlwr6VrsViSDV7fJY', 'id': '7oPftvlwr6VrsViSDV7fJY', 'name': 'Green Day', 'type': 'artist', 'uri': 'spotify:artist:7oPftvlwr6VrsViSDV7fJY'}], 'available_markets': ['AD', 'AG', 'AL', 'AM', 'AO', 'AR', 'AT', 'AU', 'AZ', 'BA', 'BB', 'BD', 'BE', 'BG', 'BI', 'BJ', 'BO', 'BR', 'BS', 'BT', 'BW', 'BZ', 'CA', 'CD', 'CG', 'CH', 'CI', 'CL', 'CM', 'CO', 'CR', 'CV', 'CW', 'CY', 'CZ', 'DE', 'DJ', 'DK', 'DM', 'DO', 'DZ', 'EC', 'EE', 'ES', 'FI', 'FJ', 'FM', 'FR', 'GA', 'GB', 'GD', 'GE', 'GH', 'GM', 'GN', 'GQ', 'GR', 'GT', 'GW', 'GY', 'HK', 'HN', 'HR', 'HT', 'HU', 'ID', 'IE', 'IL', 'IN', 'IQ', 'IS', 'IT', 'JM', 'JP', 'KE', 'KG', 'KH', 'KI', 'KM', 'KN', 'KR', 'KW', 'KZ', 'LA', 'LC', 'LI', 'LK', 'LR', 'LS', 'LT', 'LU', 'LV', 'LY', 'MA', 'MC', 'MD', 'ME', 'MG', 'MH', 'MK', 'ML', 'MN', 'MO', 'MR', 'MT', 'MU', 'MV', 'MW', 'MX', 'MY', 'MZ', 'NA', 'NE', 'NG', 'NI', 'NL', 'NO', 'NR', 'NZ', 'PA', 'PE', 'PG', 'PH', 'PK', 'PL', 'PS', 'PT', 'PW', 'PY', 'RO', 'RS', 'RW', 'SB', 'SC', 'SE', 'SG', 'SI', 'SK', 'SL', 'SM', 'SN', 'SR', 'ST', 'SV', 'SZ', 'TD', 'TG', 'TH', 'TJ', 'TL', 'TO', 'TR', 'TT', 'TV', 'TW', 'TZ', 'UA', 'UG', 'US', 'UY', 'VC', 'VE', 'VN', 'VU', 'WS', 'XK', 'ZA', 'ZM', 'ZW'], 'disc_number': 1, 'duration_ms': 262333, 'explicit': True, 'external_ids': {'isrc': 'USRE10400985'}, 'external_urls': {'spotify': 'https://open.spotify.com/track/5GorCbAP4aL0EJ16frG2hd'}, 'href': 'https://api.spotify.com/v1/tracks/5GorCbAP4aL0EJ16frG2hd', 'id': '5GorCbAP4aL0EJ16frG2hd', 'is_local': False, 'name': 'Boulevard of Broken Dreams', 'popularity': 74, 'preview_url': 'https://p.scdn.co/mp3-preview/83ef39b5943e3348176bafce371cae50027cc639?cid=28f2619d8a6242ceae8160c565174771', 'track_number': 14, 'type': 'track', 'uri': 'spotify:track:5GorCbAP4aL0EJ16frG2hd'}\n"
     ]
    }
   ],
   "source": [
    "CLIENT_ID = \"28f2619d8a6242ceae8160c565174771\"\n",
    "CLIENT_SECRET = \"5f6cb53e2614428380966f0e93e72c16\"\n",
    "\n",
    "sp = spotipy.Spotify(auth_manager=SpotifyClientCredentials(client_id=CLIENT_ID, client_secret=CLIENT_SECRET))\n",
    "\n",
    "results = sp.search(q=\"Boulevard of Broken Dreams\", limit=50, type=\"track\")\n",
    "\n",
    "for idx, track in enumerate(results[\"tracks\"][\"items\"]):\n",
    "    if track[\"duration_ms\"] == 262333:\n",
    "        print(idx, track)"
   ]
  },
  {
   "cell_type": "markdown",
   "metadata": {},
   "source": [
    "## 2 Übersicht und Interpretation der Datenwerte\n"
   ]
  },
  {
   "cell_type": "code",
   "execution_count": 8,
   "metadata": {},
   "outputs": [
    {
     "data": {
      "text/plain": [
       "audio_mode              2\n",
       "time_signature          5\n",
       "key                    12\n",
       "song_popularity       101\n",
       "danceability          849\n",
       "energy               1132\n",
       "speechiness          1224\n",
       "audio_valence        1246\n",
       "liveness             1425\n",
       "acousticness         3209\n",
       "instrumentalness     3925\n",
       "loudness             8416\n",
       "song_duration_ms    11771\n",
       "tempo               12112\n",
       "song_name           13070\n",
       "dtype: int64"
      ]
     },
     "execution_count": 8,
     "metadata": {},
     "output_type": "execute_result"
    }
   ],
   "source": [
    "base_data.nunique().sort_values()"
   ]
  },
  {
   "cell_type": "code",
   "execution_count": 32,
   "metadata": {},
   "outputs": [
    {
     "data": {
      "text/html": [
       "<div>\n",
       "<style scoped>\n",
       "    .dataframe tbody tr th:only-of-type {\n",
       "        vertical-align: middle;\n",
       "    }\n",
       "\n",
       "    .dataframe tbody tr th {\n",
       "        vertical-align: top;\n",
       "    }\n",
       "\n",
       "    .dataframe thead th {\n",
       "        text-align: right;\n",
       "    }\n",
       "</style>\n",
       "<table border=\"1\" class=\"dataframe\">\n",
       "  <thead>\n",
       "    <tr style=\"text-align: right;\">\n",
       "      <th></th>\n",
       "      <th>song_name</th>\n",
       "      <th>song_popularity</th>\n",
       "      <th>song_duration_ms</th>\n",
       "      <th>acousticness</th>\n",
       "      <th>danceability</th>\n",
       "      <th>energy</th>\n",
       "      <th>instrumentalness</th>\n",
       "      <th>key</th>\n",
       "      <th>liveness</th>\n",
       "      <th>loudness</th>\n",
       "      <th>audio_mode</th>\n",
       "      <th>speechiness</th>\n",
       "      <th>tempo</th>\n",
       "      <th>time_signature</th>\n",
       "      <th>audio_valence</th>\n",
       "    </tr>\n",
       "  </thead>\n",
       "  <tbody>\n",
       "    <tr>\n",
       "      <th>7660</th>\n",
       "      <td>I Love It (&amp; Lil Pump)</td>\n",
       "      <td>99</td>\n",
       "      <td>127946</td>\n",
       "      <td>0.0114</td>\n",
       "      <td>0.901</td>\n",
       "      <td>0.522</td>\n",
       "      <td>0.0</td>\n",
       "      <td>2</td>\n",
       "      <td>0.259</td>\n",
       "      <td>-8.304</td>\n",
       "      <td>1</td>\n",
       "      <td>0.3300</td>\n",
       "      <td>104.053</td>\n",
       "      <td>4</td>\n",
       "      <td>0.329</td>\n",
       "    </tr>\n",
       "    <tr>\n",
       "      <th>14314</th>\n",
       "      <td>I Love It (&amp; Lil Pump)</td>\n",
       "      <td>99</td>\n",
       "      <td>127946</td>\n",
       "      <td>0.0114</td>\n",
       "      <td>0.901</td>\n",
       "      <td>0.522</td>\n",
       "      <td>0.0</td>\n",
       "      <td>2</td>\n",
       "      <td>0.259</td>\n",
       "      <td>-8.304</td>\n",
       "      <td>1</td>\n",
       "      <td>0.3300</td>\n",
       "      <td>104.053</td>\n",
       "      <td>4</td>\n",
       "      <td>0.329</td>\n",
       "    </tr>\n",
       "    <tr>\n",
       "      <th>7465</th>\n",
       "      <td>I Love It (&amp; Lil Pump)</td>\n",
       "      <td>99</td>\n",
       "      <td>127946</td>\n",
       "      <td>0.0114</td>\n",
       "      <td>0.901</td>\n",
       "      <td>0.522</td>\n",
       "      <td>0.0</td>\n",
       "      <td>2</td>\n",
       "      <td>0.259</td>\n",
       "      <td>-8.304</td>\n",
       "      <td>1</td>\n",
       "      <td>0.3300</td>\n",
       "      <td>104.053</td>\n",
       "      <td>4</td>\n",
       "      <td>0.329</td>\n",
       "    </tr>\n",
       "    <tr>\n",
       "      <th>5608</th>\n",
       "      <td>I Love It (&amp; Lil Pump)</td>\n",
       "      <td>99</td>\n",
       "      <td>127946</td>\n",
       "      <td>0.0114</td>\n",
       "      <td>0.901</td>\n",
       "      <td>0.522</td>\n",
       "      <td>0.0</td>\n",
       "      <td>2</td>\n",
       "      <td>0.259</td>\n",
       "      <td>-8.304</td>\n",
       "      <td>1</td>\n",
       "      <td>0.3300</td>\n",
       "      <td>104.053</td>\n",
       "      <td>4</td>\n",
       "      <td>0.329</td>\n",
       "    </tr>\n",
       "    <tr>\n",
       "      <th>3443</th>\n",
       "      <td>I Love It (&amp; Lil Pump)</td>\n",
       "      <td>99</td>\n",
       "      <td>127946</td>\n",
       "      <td>0.0114</td>\n",
       "      <td>0.901</td>\n",
       "      <td>0.522</td>\n",
       "      <td>0.0</td>\n",
       "      <td>2</td>\n",
       "      <td>0.259</td>\n",
       "      <td>-8.304</td>\n",
       "      <td>1</td>\n",
       "      <td>0.3300</td>\n",
       "      <td>104.053</td>\n",
       "      <td>4</td>\n",
       "      <td>0.329</td>\n",
       "    </tr>\n",
       "    <tr>\n",
       "      <th>11777</th>\n",
       "      <td>I Love It (&amp; Lil Pump)</td>\n",
       "      <td>99</td>\n",
       "      <td>127946</td>\n",
       "      <td>0.0114</td>\n",
       "      <td>0.901</td>\n",
       "      <td>0.522</td>\n",
       "      <td>0.0</td>\n",
       "      <td>2</td>\n",
       "      <td>0.259</td>\n",
       "      <td>-8.304</td>\n",
       "      <td>1</td>\n",
       "      <td>0.3300</td>\n",
       "      <td>104.053</td>\n",
       "      <td>4</td>\n",
       "      <td>0.329</td>\n",
       "    </tr>\n",
       "    <tr>\n",
       "      <th>17603</th>\n",
       "      <td>I Love It (&amp; Lil Pump)</td>\n",
       "      <td>99</td>\n",
       "      <td>127946</td>\n",
       "      <td>0.0114</td>\n",
       "      <td>0.901</td>\n",
       "      <td>0.522</td>\n",
       "      <td>0.0</td>\n",
       "      <td>2</td>\n",
       "      <td>0.259</td>\n",
       "      <td>-8.304</td>\n",
       "      <td>1</td>\n",
       "      <td>0.3300</td>\n",
       "      <td>104.053</td>\n",
       "      <td>4</td>\n",
       "      <td>0.329</td>\n",
       "    </tr>\n",
       "    <tr>\n",
       "      <th>7574</th>\n",
       "      <td>I Love It (&amp; Lil Pump)</td>\n",
       "      <td>99</td>\n",
       "      <td>127946</td>\n",
       "      <td>0.0114</td>\n",
       "      <td>0.901</td>\n",
       "      <td>0.522</td>\n",
       "      <td>0.0</td>\n",
       "      <td>2</td>\n",
       "      <td>0.259</td>\n",
       "      <td>-8.304</td>\n",
       "      <td>1</td>\n",
       "      <td>0.3300</td>\n",
       "      <td>104.053</td>\n",
       "      <td>4</td>\n",
       "      <td>0.329</td>\n",
       "    </tr>\n",
       "    <tr>\n",
       "      <th>17392</th>\n",
       "      <td>Happier</td>\n",
       "      <td>100</td>\n",
       "      <td>214289</td>\n",
       "      <td>0.1910</td>\n",
       "      <td>0.687</td>\n",
       "      <td>0.792</td>\n",
       "      <td>0.0</td>\n",
       "      <td>5</td>\n",
       "      <td>0.167</td>\n",
       "      <td>-2.749</td>\n",
       "      <td>1</td>\n",
       "      <td>0.0452</td>\n",
       "      <td>100.015</td>\n",
       "      <td>4</td>\n",
       "      <td>0.671</td>\n",
       "    </tr>\n",
       "    <tr>\n",
       "      <th>17638</th>\n",
       "      <td>Happier</td>\n",
       "      <td>100</td>\n",
       "      <td>214289</td>\n",
       "      <td>0.1910</td>\n",
       "      <td>0.687</td>\n",
       "      <td>0.792</td>\n",
       "      <td>0.0</td>\n",
       "      <td>5</td>\n",
       "      <td>0.167</td>\n",
       "      <td>-2.749</td>\n",
       "      <td>1</td>\n",
       "      <td>0.0452</td>\n",
       "      <td>100.015</td>\n",
       "      <td>4</td>\n",
       "      <td>0.671</td>\n",
       "    </tr>\n",
       "    <tr>\n",
       "      <th>11665</th>\n",
       "      <td>Happier</td>\n",
       "      <td>100</td>\n",
       "      <td>214289</td>\n",
       "      <td>0.1910</td>\n",
       "      <td>0.687</td>\n",
       "      <td>0.792</td>\n",
       "      <td>0.0</td>\n",
       "      <td>5</td>\n",
       "      <td>0.167</td>\n",
       "      <td>-2.749</td>\n",
       "      <td>1</td>\n",
       "      <td>0.0452</td>\n",
       "      <td>100.015</td>\n",
       "      <td>4</td>\n",
       "      <td>0.671</td>\n",
       "    </tr>\n",
       "    <tr>\n",
       "      <th>17590</th>\n",
       "      <td>Happier</td>\n",
       "      <td>100</td>\n",
       "      <td>214289</td>\n",
       "      <td>0.1910</td>\n",
       "      <td>0.687</td>\n",
       "      <td>0.792</td>\n",
       "      <td>0.0</td>\n",
       "      <td>5</td>\n",
       "      <td>0.167</td>\n",
       "      <td>-2.749</td>\n",
       "      <td>1</td>\n",
       "      <td>0.0452</td>\n",
       "      <td>100.015</td>\n",
       "      <td>4</td>\n",
       "      <td>0.671</td>\n",
       "    </tr>\n",
       "    <tr>\n",
       "      <th>16497</th>\n",
       "      <td>Happier</td>\n",
       "      <td>100</td>\n",
       "      <td>214289</td>\n",
       "      <td>0.1910</td>\n",
       "      <td>0.687</td>\n",
       "      <td>0.792</td>\n",
       "      <td>0.0</td>\n",
       "      <td>5</td>\n",
       "      <td>0.167</td>\n",
       "      <td>-2.749</td>\n",
       "      <td>1</td>\n",
       "      <td>0.0452</td>\n",
       "      <td>100.015</td>\n",
       "      <td>4</td>\n",
       "      <td>0.671</td>\n",
       "    </tr>\n",
       "    <tr>\n",
       "      <th>15091</th>\n",
       "      <td>Happier</td>\n",
       "      <td>100</td>\n",
       "      <td>214289</td>\n",
       "      <td>0.1910</td>\n",
       "      <td>0.687</td>\n",
       "      <td>0.792</td>\n",
       "      <td>0.0</td>\n",
       "      <td>5</td>\n",
       "      <td>0.167</td>\n",
       "      <td>-2.749</td>\n",
       "      <td>1</td>\n",
       "      <td>0.0452</td>\n",
       "      <td>100.015</td>\n",
       "      <td>4</td>\n",
       "      <td>0.671</td>\n",
       "    </tr>\n",
       "    <tr>\n",
       "      <th>4299</th>\n",
       "      <td>Happier</td>\n",
       "      <td>100</td>\n",
       "      <td>214289</td>\n",
       "      <td>0.1910</td>\n",
       "      <td>0.687</td>\n",
       "      <td>0.792</td>\n",
       "      <td>0.0</td>\n",
       "      <td>5</td>\n",
       "      <td>0.167</td>\n",
       "      <td>-2.749</td>\n",
       "      <td>1</td>\n",
       "      <td>0.0452</td>\n",
       "      <td>100.015</td>\n",
       "      <td>4</td>\n",
       "      <td>0.671</td>\n",
       "    </tr>\n",
       "    <tr>\n",
       "      <th>11697</th>\n",
       "      <td>Happier</td>\n",
       "      <td>100</td>\n",
       "      <td>214289</td>\n",
       "      <td>0.1910</td>\n",
       "      <td>0.687</td>\n",
       "      <td>0.792</td>\n",
       "      <td>0.0</td>\n",
       "      <td>5</td>\n",
       "      <td>0.167</td>\n",
       "      <td>-2.749</td>\n",
       "      <td>1</td>\n",
       "      <td>0.0452</td>\n",
       "      <td>100.015</td>\n",
       "      <td>4</td>\n",
       "      <td>0.671</td>\n",
       "    </tr>\n",
       "    <tr>\n",
       "      <th>7636</th>\n",
       "      <td>Happier</td>\n",
       "      <td>100</td>\n",
       "      <td>214289</td>\n",
       "      <td>0.1910</td>\n",
       "      <td>0.687</td>\n",
       "      <td>0.792</td>\n",
       "      <td>0.0</td>\n",
       "      <td>5</td>\n",
       "      <td>0.167</td>\n",
       "      <td>-2.749</td>\n",
       "      <td>1</td>\n",
       "      <td>0.0452</td>\n",
       "      <td>100.015</td>\n",
       "      <td>4</td>\n",
       "      <td>0.671</td>\n",
       "    </tr>\n",
       "    <tr>\n",
       "      <th>14176</th>\n",
       "      <td>Happier</td>\n",
       "      <td>100</td>\n",
       "      <td>214289</td>\n",
       "      <td>0.1910</td>\n",
       "      <td>0.687</td>\n",
       "      <td>0.792</td>\n",
       "      <td>0.0</td>\n",
       "      <td>5</td>\n",
       "      <td>0.167</td>\n",
       "      <td>-2.749</td>\n",
       "      <td>1</td>\n",
       "      <td>0.0452</td>\n",
       "      <td>100.015</td>\n",
       "      <td>4</td>\n",
       "      <td>0.671</td>\n",
       "    </tr>\n",
       "    <tr>\n",
       "      <th>7568</th>\n",
       "      <td>Happier</td>\n",
       "      <td>100</td>\n",
       "      <td>214289</td>\n",
       "      <td>0.1910</td>\n",
       "      <td>0.687</td>\n",
       "      <td>0.792</td>\n",
       "      <td>0.0</td>\n",
       "      <td>5</td>\n",
       "      <td>0.167</td>\n",
       "      <td>-2.749</td>\n",
       "      <td>1</td>\n",
       "      <td>0.0452</td>\n",
       "      <td>100.015</td>\n",
       "      <td>4</td>\n",
       "      <td>0.671</td>\n",
       "    </tr>\n",
       "    <tr>\n",
       "      <th>5593</th>\n",
       "      <td>Happier</td>\n",
       "      <td>100</td>\n",
       "      <td>214289</td>\n",
       "      <td>0.1910</td>\n",
       "      <td>0.687</td>\n",
       "      <td>0.792</td>\n",
       "      <td>0.0</td>\n",
       "      <td>5</td>\n",
       "      <td>0.167</td>\n",
       "      <td>-2.749</td>\n",
       "      <td>1</td>\n",
       "      <td>0.0452</td>\n",
       "      <td>100.015</td>\n",
       "      <td>4</td>\n",
       "      <td>0.671</td>\n",
       "    </tr>\n",
       "  </tbody>\n",
       "</table>\n",
       "</div>"
      ],
      "text/plain": [
       "                    song_name  song_popularity  song_duration_ms  \\\n",
       "7660   I Love It (& Lil Pump)               99            127946   \n",
       "14314  I Love It (& Lil Pump)               99            127946   \n",
       "7465   I Love It (& Lil Pump)               99            127946   \n",
       "5608   I Love It (& Lil Pump)               99            127946   \n",
       "3443   I Love It (& Lil Pump)               99            127946   \n",
       "11777  I Love It (& Lil Pump)               99            127946   \n",
       "17603  I Love It (& Lil Pump)               99            127946   \n",
       "7574   I Love It (& Lil Pump)               99            127946   \n",
       "17392                 Happier              100            214289   \n",
       "17638                 Happier              100            214289   \n",
       "11665                 Happier              100            214289   \n",
       "17590                 Happier              100            214289   \n",
       "16497                 Happier              100            214289   \n",
       "15091                 Happier              100            214289   \n",
       "4299                  Happier              100            214289   \n",
       "11697                 Happier              100            214289   \n",
       "7636                  Happier              100            214289   \n",
       "14176                 Happier              100            214289   \n",
       "7568                  Happier              100            214289   \n",
       "5593                  Happier              100            214289   \n",
       "\n",
       "       acousticness  danceability  energy  instrumentalness  key  liveness  \\\n",
       "7660         0.0114         0.901   0.522               0.0    2     0.259   \n",
       "14314        0.0114         0.901   0.522               0.0    2     0.259   \n",
       "7465         0.0114         0.901   0.522               0.0    2     0.259   \n",
       "5608         0.0114         0.901   0.522               0.0    2     0.259   \n",
       "3443         0.0114         0.901   0.522               0.0    2     0.259   \n",
       "11777        0.0114         0.901   0.522               0.0    2     0.259   \n",
       "17603        0.0114         0.901   0.522               0.0    2     0.259   \n",
       "7574         0.0114         0.901   0.522               0.0    2     0.259   \n",
       "17392        0.1910         0.687   0.792               0.0    5     0.167   \n",
       "17638        0.1910         0.687   0.792               0.0    5     0.167   \n",
       "11665        0.1910         0.687   0.792               0.0    5     0.167   \n",
       "17590        0.1910         0.687   0.792               0.0    5     0.167   \n",
       "16497        0.1910         0.687   0.792               0.0    5     0.167   \n",
       "15091        0.1910         0.687   0.792               0.0    5     0.167   \n",
       "4299         0.1910         0.687   0.792               0.0    5     0.167   \n",
       "11697        0.1910         0.687   0.792               0.0    5     0.167   \n",
       "7636         0.1910         0.687   0.792               0.0    5     0.167   \n",
       "14176        0.1910         0.687   0.792               0.0    5     0.167   \n",
       "7568         0.1910         0.687   0.792               0.0    5     0.167   \n",
       "5593         0.1910         0.687   0.792               0.0    5     0.167   \n",
       "\n",
       "       loudness  audio_mode  speechiness    tempo  time_signature  \\\n",
       "7660     -8.304           1       0.3300  104.053               4   \n",
       "14314    -8.304           1       0.3300  104.053               4   \n",
       "7465     -8.304           1       0.3300  104.053               4   \n",
       "5608     -8.304           1       0.3300  104.053               4   \n",
       "3443     -8.304           1       0.3300  104.053               4   \n",
       "11777    -8.304           1       0.3300  104.053               4   \n",
       "17603    -8.304           1       0.3300  104.053               4   \n",
       "7574     -8.304           1       0.3300  104.053               4   \n",
       "17392    -2.749           1       0.0452  100.015               4   \n",
       "17638    -2.749           1       0.0452  100.015               4   \n",
       "11665    -2.749           1       0.0452  100.015               4   \n",
       "17590    -2.749           1       0.0452  100.015               4   \n",
       "16497    -2.749           1       0.0452  100.015               4   \n",
       "15091    -2.749           1       0.0452  100.015               4   \n",
       "4299     -2.749           1       0.0452  100.015               4   \n",
       "11697    -2.749           1       0.0452  100.015               4   \n",
       "7636     -2.749           1       0.0452  100.015               4   \n",
       "14176    -2.749           1       0.0452  100.015               4   \n",
       "7568     -2.749           1       0.0452  100.015               4   \n",
       "5593     -2.749           1       0.0452  100.015               4   \n",
       "\n",
       "       audio_valence  \n",
       "7660           0.329  \n",
       "14314          0.329  \n",
       "7465           0.329  \n",
       "5608           0.329  \n",
       "3443           0.329  \n",
       "11777          0.329  \n",
       "17603          0.329  \n",
       "7574           0.329  \n",
       "17392          0.671  \n",
       "17638          0.671  \n",
       "11665          0.671  \n",
       "17590          0.671  \n",
       "16497          0.671  \n",
       "15091          0.671  \n",
       "4299           0.671  \n",
       "11697          0.671  \n",
       "7636           0.671  \n",
       "14176          0.671  \n",
       "7568           0.671  \n",
       "5593           0.671  "
      ]
     },
     "execution_count": 32,
     "metadata": {},
     "output_type": "execute_result"
    }
   ],
   "source": [
    "base_data.sort_values(by=[\"song_popularity\"]).tail(20)"
   ]
  },
  {
   "cell_type": "markdown",
   "metadata": {},
   "source": [
    "- song_name = Name des Liedes (String)\n",
    "- song_popularity = Beliebtheit des Liedes in % (int 0-100) --> WAS WIRD IN PROZENT ANGEGEBEN (STREAMS?`)????? The popularity is calculated by algorithm and is based, in the most part, on the total number of plays the track has had and how recent those plays are.\n",
    "- song_duration = Länge des Liedes in ms (int 12s-30min)\n",
    "- acousticness = Akustik eines Liedes in % (float 0-1) Wert von 1.0 bedeutet, dass es ein akustisches Lied ist (nicht elektronisch verstärkt)\n",
    "- danceability = Tanzbarkeit in % (float 0-1) Wert von 1.0 bedeutet, dass das Lied sehr um Tanzen anregt, basierend auf musikalische Elemente wie unteranderem Tempo, Stabilität des Rhytmik, Stärke des Bass' und weiteren.\n",
    "- energy = Intensität und Aktivität des Liedes in % (float 0-1), basierend auf der Schnelligkeit, Lautstärke und Rauschen des Liedes sowie der generellen Entropie. Wert von 1.0 bedeutet, dass ein Lied sehr energetisch ist, beispielsweise Death Metal\n",
    "- instrumentalness = Instrumentalität in % (float 0-1), gibt an in wie weit Vocals im Lied vorhanden sind. Je näher an 1.0, desto wahrscheinlicher Lied ohne Vocals, ab 0.5 kann davon ausgegangen werden, dass Lied instrumental ist\n",
    "- key = Tonart in dem Lied (int -1-11), -1 wenn keine primäre Tonart erkannt wurde (https://de.wikipedia.org/wiki/Tonklasse)\n",
    "- liveness = Wahrscheinlichkeit, dass das Lied eine Liveversion ist (float 0-1), basierend auf Zuschauer/Zuhörer die im Hintegrund entdeckt werden, ab 0.8 kann davon ausgegangen werden, dass es eine Liveversion ist\n",
    "- loudness = gibt die durchschnittliche Lautstärke des Liedes in Decibel an (float -38.0 - 1.5), Lautstärke ist relativ angegeben\n",
    "- audio_mode = Modalität der Tonleiter (int 0=Moll oder 1=Dur) \n",
    "- speechiness = Exklusiv gesprochen, zum Beispiel Reden oder Gedichte (Racism And Injustice von Martin L. King), alles >0.66 sehr wahrscheinlich, dass nur Gesprochen wird, alles <0.33 wenig/kein gesprochenes Wort\n",
    "- tempo = Schätzung zur Geschwindigkeit des Liedes in Beats per Minute (BPM) (float)\n",
    "- time_signature = Taktangabe (int 3-7), gibt Takt von 3/4 Takt bis 7/4 Takt an\n",
    "- audio_valence = Positivität des Liedes (float 0-1), Eine hohe Wertigkeit deutet auf positive Stimmung hin (fröhlich, euphorisch), ein niedriger Wert von einer negativen (aggresiv, melancholisch)\n",
    "\n",
    "Quelle: https://developer.spotify.com/documentation/web-api/reference/#/operations/get-several-audio-features"
   ]
  },
  {
   "cell_type": "markdown",
   "metadata": {},
   "source": [
    "### 2.1 Umgang mit fehlenden Werten oder Inkonsistenzen"
   ]
  },
  {
   "cell_type": "code",
   "execution_count": 43,
   "metadata": {},
   "outputs": [
    {
     "name": "stdout",
     "output_type": "stream",
     "text": [
      "<class 'pandas.core.frame.DataFrame'>\n",
      "RangeIndex: 14468 entries, 0 to 14467\n",
      "Data columns (total 15 columns):\n",
      " #   Column            Non-Null Count  Dtype  \n",
      "---  ------            --------------  -----  \n",
      " 0   song_name         14468 non-null  object \n",
      " 1   song_popularity   14468 non-null  int64  \n",
      " 2   song_duration_ms  14468 non-null  int64  \n",
      " 3   acousticness      14468 non-null  float64\n",
      " 4   danceability      14468 non-null  float64\n",
      " 5   energy            14468 non-null  float64\n",
      " 6   instrumentalness  14468 non-null  float64\n",
      " 7   key               14468 non-null  int64  \n",
      " 8   liveness          14468 non-null  float64\n",
      " 9   loudness          14468 non-null  float64\n",
      " 10  audio_mode        14468 non-null  int64  \n",
      " 11  speechiness       14468 non-null  float64\n",
      " 12  tempo             14468 non-null  float64\n",
      " 13  time_signature    14468 non-null  int64  \n",
      " 14  audio_valence     14468 non-null  float64\n",
      "dtypes: float64(9), int64(5), object(1)\n",
      "memory usage: 1.7+ MB\n"
     ]
    },
    {
     "data": {
      "text/html": [
       "<div>\n",
       "<style scoped>\n",
       "    .dataframe tbody tr th:only-of-type {\n",
       "        vertical-align: middle;\n",
       "    }\n",
       "\n",
       "    .dataframe tbody tr th {\n",
       "        vertical-align: top;\n",
       "    }\n",
       "\n",
       "    .dataframe thead th {\n",
       "        text-align: right;\n",
       "    }\n",
       "</style>\n",
       "<table border=\"1\" class=\"dataframe\">\n",
       "  <thead>\n",
       "    <tr style=\"text-align: right;\">\n",
       "      <th></th>\n",
       "      <th>song_name</th>\n",
       "      <th>song_popularity</th>\n",
       "      <th>song_duration_ms</th>\n",
       "      <th>acousticness</th>\n",
       "      <th>danceability</th>\n",
       "      <th>energy</th>\n",
       "      <th>instrumentalness</th>\n",
       "      <th>key</th>\n",
       "      <th>liveness</th>\n",
       "      <th>loudness</th>\n",
       "      <th>audio_mode</th>\n",
       "      <th>speechiness</th>\n",
       "      <th>tempo</th>\n",
       "      <th>time_signature</th>\n",
       "      <th>audio_valence</th>\n",
       "    </tr>\n",
       "  </thead>\n",
       "  <tbody>\n",
       "    <tr>\n",
       "      <th>13144</th>\n",
       "      <td>Natural</td>\n",
       "      <td>95</td>\n",
       "      <td>189466</td>\n",
       "      <td>0.21600</td>\n",
       "      <td>0.448</td>\n",
       "      <td>0.612</td>\n",
       "      <td>0.000000</td>\n",
       "      <td>2</td>\n",
       "      <td>0.0800</td>\n",
       "      <td>-6.106</td>\n",
       "      <td>1</td>\n",
       "      <td>0.0708</td>\n",
       "      <td>97.773</td>\n",
       "      <td>4</td>\n",
       "      <td>0.213</td>\n",
       "    </tr>\n",
       "    <tr>\n",
       "      <th>13517</th>\n",
       "      <td>I Like It</td>\n",
       "      <td>95</td>\n",
       "      <td>253390</td>\n",
       "      <td>0.09900</td>\n",
       "      <td>0.816</td>\n",
       "      <td>0.726</td>\n",
       "      <td>0.000000</td>\n",
       "      <td>5</td>\n",
       "      <td>0.3720</td>\n",
       "      <td>-3.998</td>\n",
       "      <td>0</td>\n",
       "      <td>0.1290</td>\n",
       "      <td>136.048</td>\n",
       "      <td>4</td>\n",
       "      <td>0.650</td>\n",
       "    </tr>\n",
       "    <tr>\n",
       "      <th>13500</th>\n",
       "      <td>BEBE</td>\n",
       "      <td>95</td>\n",
       "      <td>217822</td>\n",
       "      <td>0.17200</td>\n",
       "      <td>0.635</td>\n",
       "      <td>0.902</td>\n",
       "      <td>0.000000</td>\n",
       "      <td>0</td>\n",
       "      <td>0.1250</td>\n",
       "      <td>-3.559</td>\n",
       "      <td>1</td>\n",
       "      <td>0.1090</td>\n",
       "      <td>102.063</td>\n",
       "      <td>4</td>\n",
       "      <td>0.286</td>\n",
       "    </tr>\n",
       "    <tr>\n",
       "      <th>13298</th>\n",
       "      <td>Better Now</td>\n",
       "      <td>95</td>\n",
       "      <td>231266</td>\n",
       "      <td>0.35400</td>\n",
       "      <td>0.680</td>\n",
       "      <td>0.563</td>\n",
       "      <td>0.000000</td>\n",
       "      <td>10</td>\n",
       "      <td>0.1360</td>\n",
       "      <td>-5.843</td>\n",
       "      <td>1</td>\n",
       "      <td>0.0454</td>\n",
       "      <td>145.028</td>\n",
       "      <td>4</td>\n",
       "      <td>0.374</td>\n",
       "    </tr>\n",
       "    <tr>\n",
       "      <th>14123</th>\n",
       "      <td>Taste (feat. Offset)</td>\n",
       "      <td>95</td>\n",
       "      <td>232959</td>\n",
       "      <td>0.02360</td>\n",
       "      <td>0.884</td>\n",
       "      <td>0.559</td>\n",
       "      <td>0.000000</td>\n",
       "      <td>0</td>\n",
       "      <td>0.1010</td>\n",
       "      <td>-7.442</td>\n",
       "      <td>1</td>\n",
       "      <td>0.1200</td>\n",
       "      <td>97.994</td>\n",
       "      <td>4</td>\n",
       "      <td>0.342</td>\n",
       "    </tr>\n",
       "    <tr>\n",
       "      <th>13476</th>\n",
       "      <td>Be Alright</td>\n",
       "      <td>96</td>\n",
       "      <td>196373</td>\n",
       "      <td>0.69700</td>\n",
       "      <td>0.553</td>\n",
       "      <td>0.586</td>\n",
       "      <td>0.000000</td>\n",
       "      <td>11</td>\n",
       "      <td>0.0813</td>\n",
       "      <td>-6.319</td>\n",
       "      <td>1</td>\n",
       "      <td>0.0362</td>\n",
       "      <td>126.684</td>\n",
       "      <td>4</td>\n",
       "      <td>0.443</td>\n",
       "    </tr>\n",
       "    <tr>\n",
       "      <th>13480</th>\n",
       "      <td>FEFE (feat. Nicki Minaj &amp; Murda Beatz)</td>\n",
       "      <td>96</td>\n",
       "      <td>179404</td>\n",
       "      <td>0.08800</td>\n",
       "      <td>0.931</td>\n",
       "      <td>0.387</td>\n",
       "      <td>0.000000</td>\n",
       "      <td>1</td>\n",
       "      <td>0.1360</td>\n",
       "      <td>-9.127</td>\n",
       "      <td>1</td>\n",
       "      <td>0.4120</td>\n",
       "      <td>125.978</td>\n",
       "      <td>4</td>\n",
       "      <td>0.376</td>\n",
       "    </tr>\n",
       "    <tr>\n",
       "      <th>13296</th>\n",
       "      <td>SAD!</td>\n",
       "      <td>96</td>\n",
       "      <td>166605</td>\n",
       "      <td>0.25800</td>\n",
       "      <td>0.740</td>\n",
       "      <td>0.613</td>\n",
       "      <td>0.003720</td>\n",
       "      <td>8</td>\n",
       "      <td>0.1230</td>\n",
       "      <td>-4.880</td>\n",
       "      <td>1</td>\n",
       "      <td>0.1450</td>\n",
       "      <td>75.023</td>\n",
       "      <td>4</td>\n",
       "      <td>0.473</td>\n",
       "    </tr>\n",
       "    <tr>\n",
       "      <th>13294</th>\n",
       "      <td>Moonlight</td>\n",
       "      <td>96</td>\n",
       "      <td>135090</td>\n",
       "      <td>0.55600</td>\n",
       "      <td>0.921</td>\n",
       "      <td>0.537</td>\n",
       "      <td>0.004040</td>\n",
       "      <td>9</td>\n",
       "      <td>0.1020</td>\n",
       "      <td>-5.723</td>\n",
       "      <td>0</td>\n",
       "      <td>0.0804</td>\n",
       "      <td>128.009</td>\n",
       "      <td>4</td>\n",
       "      <td>0.711</td>\n",
       "    </tr>\n",
       "    <tr>\n",
       "      <th>10609</th>\n",
       "      <td>Lucky You (feat. Joyner Lucas)</td>\n",
       "      <td>96</td>\n",
       "      <td>244679</td>\n",
       "      <td>0.06270</td>\n",
       "      <td>0.876</td>\n",
       "      <td>0.786</td>\n",
       "      <td>0.000000</td>\n",
       "      <td>10</td>\n",
       "      <td>0.1270</td>\n",
       "      <td>-4.884</td>\n",
       "      <td>0</td>\n",
       "      <td>0.3060</td>\n",
       "      <td>153.068</td>\n",
       "      <td>4</td>\n",
       "      <td>0.575</td>\n",
       "    </tr>\n",
       "    <tr>\n",
       "      <th>11606</th>\n",
       "      <td>In My Mind</td>\n",
       "      <td>97</td>\n",
       "      <td>184560</td>\n",
       "      <td>0.17600</td>\n",
       "      <td>0.694</td>\n",
       "      <td>0.770</td>\n",
       "      <td>0.000011</td>\n",
       "      <td>6</td>\n",
       "      <td>0.1180</td>\n",
       "      <td>-5.335</td>\n",
       "      <td>1</td>\n",
       "      <td>0.1490</td>\n",
       "      <td>125.905</td>\n",
       "      <td>4</td>\n",
       "      <td>0.163</td>\n",
       "    </tr>\n",
       "    <tr>\n",
       "      <th>13290</th>\n",
       "      <td>Lucid Dreams</td>\n",
       "      <td>97</td>\n",
       "      <td>239835</td>\n",
       "      <td>0.34900</td>\n",
       "      <td>0.511</td>\n",
       "      <td>0.566</td>\n",
       "      <td>0.000000</td>\n",
       "      <td>6</td>\n",
       "      <td>0.3400</td>\n",
       "      <td>-7.230</td>\n",
       "      <td>0</td>\n",
       "      <td>0.2000</td>\n",
       "      <td>83.903</td>\n",
       "      <td>4</td>\n",
       "      <td>0.218</td>\n",
       "    </tr>\n",
       "    <tr>\n",
       "      <th>13319</th>\n",
       "      <td>Falling Down</td>\n",
       "      <td>97</td>\n",
       "      <td>196400</td>\n",
       "      <td>0.01750</td>\n",
       "      <td>0.669</td>\n",
       "      <td>0.574</td>\n",
       "      <td>0.002940</td>\n",
       "      <td>4</td>\n",
       "      <td>0.1460</td>\n",
       "      <td>-6.442</td>\n",
       "      <td>0</td>\n",
       "      <td>0.0286</td>\n",
       "      <td>120.013</td>\n",
       "      <td>4</td>\n",
       "      <td>0.273</td>\n",
       "    </tr>\n",
       "    <tr>\n",
       "      <th>13469</th>\n",
       "      <td>SICKO MODE</td>\n",
       "      <td>97</td>\n",
       "      <td>312820</td>\n",
       "      <td>0.00513</td>\n",
       "      <td>0.834</td>\n",
       "      <td>0.730</td>\n",
       "      <td>0.000000</td>\n",
       "      <td>8</td>\n",
       "      <td>0.1240</td>\n",
       "      <td>-3.714</td>\n",
       "      <td>1</td>\n",
       "      <td>0.2220</td>\n",
       "      <td>155.008</td>\n",
       "      <td>4</td>\n",
       "      <td>0.446</td>\n",
       "    </tr>\n",
       "    <tr>\n",
       "      <th>13472</th>\n",
       "      <td>Eastside (with Halsey &amp; Khalid)</td>\n",
       "      <td>98</td>\n",
       "      <td>173799</td>\n",
       "      <td>0.55500</td>\n",
       "      <td>0.560</td>\n",
       "      <td>0.680</td>\n",
       "      <td>0.000000</td>\n",
       "      <td>6</td>\n",
       "      <td>0.1160</td>\n",
       "      <td>-7.648</td>\n",
       "      <td>0</td>\n",
       "      <td>0.3210</td>\n",
       "      <td>89.391</td>\n",
       "      <td>4</td>\n",
       "      <td>0.319</td>\n",
       "    </tr>\n",
       "    <tr>\n",
       "      <th>13308</th>\n",
       "      <td>In My Feelings</td>\n",
       "      <td>98</td>\n",
       "      <td>217925</td>\n",
       "      <td>0.05890</td>\n",
       "      <td>0.835</td>\n",
       "      <td>0.626</td>\n",
       "      <td>0.000060</td>\n",
       "      <td>1</td>\n",
       "      <td>0.3960</td>\n",
       "      <td>-5.833</td>\n",
       "      <td>1</td>\n",
       "      <td>0.1250</td>\n",
       "      <td>91.030</td>\n",
       "      <td>4</td>\n",
       "      <td>0.350</td>\n",
       "    </tr>\n",
       "    <tr>\n",
       "      <th>13592</th>\n",
       "      <td>Promises (with Sam Smith)</td>\n",
       "      <td>98</td>\n",
       "      <td>213309</td>\n",
       "      <td>0.01190</td>\n",
       "      <td>0.781</td>\n",
       "      <td>0.768</td>\n",
       "      <td>0.000005</td>\n",
       "      <td>11</td>\n",
       "      <td>0.3250</td>\n",
       "      <td>-5.991</td>\n",
       "      <td>1</td>\n",
       "      <td>0.0394</td>\n",
       "      <td>123.070</td>\n",
       "      <td>4</td>\n",
       "      <td>0.486</td>\n",
       "    </tr>\n",
       "    <tr>\n",
       "      <th>13490</th>\n",
       "      <td>Taki Taki (with Selena Gomez, Ozuna &amp; Cardi B)</td>\n",
       "      <td>98</td>\n",
       "      <td>212500</td>\n",
       "      <td>0.15300</td>\n",
       "      <td>0.841</td>\n",
       "      <td>0.798</td>\n",
       "      <td>0.000003</td>\n",
       "      <td>1</td>\n",
       "      <td>0.0618</td>\n",
       "      <td>-4.206</td>\n",
       "      <td>0</td>\n",
       "      <td>0.2290</td>\n",
       "      <td>95.948</td>\n",
       "      <td>4</td>\n",
       "      <td>0.591</td>\n",
       "    </tr>\n",
       "    <tr>\n",
       "      <th>13346</th>\n",
       "      <td>I Love It (&amp; Lil Pump)</td>\n",
       "      <td>99</td>\n",
       "      <td>127946</td>\n",
       "      <td>0.01140</td>\n",
       "      <td>0.901</td>\n",
       "      <td>0.522</td>\n",
       "      <td>0.000000</td>\n",
       "      <td>2</td>\n",
       "      <td>0.2590</td>\n",
       "      <td>-8.304</td>\n",
       "      <td>1</td>\n",
       "      <td>0.3300</td>\n",
       "      <td>104.053</td>\n",
       "      <td>4</td>\n",
       "      <td>0.329</td>\n",
       "    </tr>\n",
       "    <tr>\n",
       "      <th>13326</th>\n",
       "      <td>Happier</td>\n",
       "      <td>100</td>\n",
       "      <td>214289</td>\n",
       "      <td>0.19100</td>\n",
       "      <td>0.687</td>\n",
       "      <td>0.792</td>\n",
       "      <td>0.000000</td>\n",
       "      <td>5</td>\n",
       "      <td>0.1670</td>\n",
       "      <td>-2.749</td>\n",
       "      <td>1</td>\n",
       "      <td>0.0452</td>\n",
       "      <td>100.015</td>\n",
       "      <td>4</td>\n",
       "      <td>0.671</td>\n",
       "    </tr>\n",
       "  </tbody>\n",
       "</table>\n",
       "</div>"
      ],
      "text/plain": [
       "                                            song_name  song_popularity  \\\n",
       "13144                                         Natural               95   \n",
       "13517                                       I Like It               95   \n",
       "13500                                            BEBE               95   \n",
       "13298                                      Better Now               95   \n",
       "14123                            Taste (feat. Offset)               95   \n",
       "13476                                      Be Alright               96   \n",
       "13480          FEFE (feat. Nicki Minaj & Murda Beatz)               96   \n",
       "13296                                            SAD!               96   \n",
       "13294                                       Moonlight               96   \n",
       "10609                  Lucky You (feat. Joyner Lucas)               96   \n",
       "11606                                      In My Mind               97   \n",
       "13290                                    Lucid Dreams               97   \n",
       "13319                                    Falling Down               97   \n",
       "13469                                      SICKO MODE               97   \n",
       "13472                 Eastside (with Halsey & Khalid)               98   \n",
       "13308                                  In My Feelings               98   \n",
       "13592                       Promises (with Sam Smith)               98   \n",
       "13490  Taki Taki (with Selena Gomez, Ozuna & Cardi B)               98   \n",
       "13346                          I Love It (& Lil Pump)               99   \n",
       "13326                                         Happier              100   \n",
       "\n",
       "       song_duration_ms  acousticness  danceability  energy  instrumentalness  \\\n",
       "13144            189466       0.21600         0.448   0.612          0.000000   \n",
       "13517            253390       0.09900         0.816   0.726          0.000000   \n",
       "13500            217822       0.17200         0.635   0.902          0.000000   \n",
       "13298            231266       0.35400         0.680   0.563          0.000000   \n",
       "14123            232959       0.02360         0.884   0.559          0.000000   \n",
       "13476            196373       0.69700         0.553   0.586          0.000000   \n",
       "13480            179404       0.08800         0.931   0.387          0.000000   \n",
       "13296            166605       0.25800         0.740   0.613          0.003720   \n",
       "13294            135090       0.55600         0.921   0.537          0.004040   \n",
       "10609            244679       0.06270         0.876   0.786          0.000000   \n",
       "11606            184560       0.17600         0.694   0.770          0.000011   \n",
       "13290            239835       0.34900         0.511   0.566          0.000000   \n",
       "13319            196400       0.01750         0.669   0.574          0.002940   \n",
       "13469            312820       0.00513         0.834   0.730          0.000000   \n",
       "13472            173799       0.55500         0.560   0.680          0.000000   \n",
       "13308            217925       0.05890         0.835   0.626          0.000060   \n",
       "13592            213309       0.01190         0.781   0.768          0.000005   \n",
       "13490            212500       0.15300         0.841   0.798          0.000003   \n",
       "13346            127946       0.01140         0.901   0.522          0.000000   \n",
       "13326            214289       0.19100         0.687   0.792          0.000000   \n",
       "\n",
       "       key  liveness  loudness  audio_mode  speechiness    tempo  \\\n",
       "13144    2    0.0800    -6.106           1       0.0708   97.773   \n",
       "13517    5    0.3720    -3.998           0       0.1290  136.048   \n",
       "13500    0    0.1250    -3.559           1       0.1090  102.063   \n",
       "13298   10    0.1360    -5.843           1       0.0454  145.028   \n",
       "14123    0    0.1010    -7.442           1       0.1200   97.994   \n",
       "13476   11    0.0813    -6.319           1       0.0362  126.684   \n",
       "13480    1    0.1360    -9.127           1       0.4120  125.978   \n",
       "13296    8    0.1230    -4.880           1       0.1450   75.023   \n",
       "13294    9    0.1020    -5.723           0       0.0804  128.009   \n",
       "10609   10    0.1270    -4.884           0       0.3060  153.068   \n",
       "11606    6    0.1180    -5.335           1       0.1490  125.905   \n",
       "13290    6    0.3400    -7.230           0       0.2000   83.903   \n",
       "13319    4    0.1460    -6.442           0       0.0286  120.013   \n",
       "13469    8    0.1240    -3.714           1       0.2220  155.008   \n",
       "13472    6    0.1160    -7.648           0       0.3210   89.391   \n",
       "13308    1    0.3960    -5.833           1       0.1250   91.030   \n",
       "13592   11    0.3250    -5.991           1       0.0394  123.070   \n",
       "13490    1    0.0618    -4.206           0       0.2290   95.948   \n",
       "13346    2    0.2590    -8.304           1       0.3300  104.053   \n",
       "13326    5    0.1670    -2.749           1       0.0452  100.015   \n",
       "\n",
       "       time_signature  audio_valence  \n",
       "13144               4          0.213  \n",
       "13517               4          0.650  \n",
       "13500               4          0.286  \n",
       "13298               4          0.374  \n",
       "14123               4          0.342  \n",
       "13476               4          0.443  \n",
       "13480               4          0.376  \n",
       "13296               4          0.473  \n",
       "13294               4          0.711  \n",
       "10609               4          0.575  \n",
       "11606               4          0.163  \n",
       "13290               4          0.218  \n",
       "13319               4          0.273  \n",
       "13469               4          0.446  \n",
       "13472               4          0.319  \n",
       "13308               4          0.350  \n",
       "13592               4          0.486  \n",
       "13490               4          0.591  \n",
       "13346               4          0.329  \n",
       "13326               4          0.671  "
      ]
     },
     "execution_count": 43,
     "metadata": {},
     "output_type": "execute_result"
    }
   ],
   "source": [
    "cleared = base_data.drop_duplicates(subset = [\"song_name\", \"song_duration_ms\"], keep = \"last\").reset_index(drop = True)\n",
    "cleared.info()\n",
    "cleared.sort_values(by=[\"song_popularity\"]).tail(20)\n"
   ]
  },
  {
   "cell_type": "markdown",
   "metadata": {},
   "source": [
    "Redundanzen sind vorhanden, diese werden entfernt anhand gleichem Songtitel und gleicher Songlänge"
   ]
  },
  {
   "cell_type": "markdown",
   "metadata": {},
   "source": []
  },
  {
   "cell_type": "code",
   "execution_count": null,
   "metadata": {},
   "outputs": [],
   "source": []
  },
  {
   "cell_type": "markdown",
   "metadata": {},
   "source": [
    "## 3 Visualisierung und Korrelationen zwischen den Features\n",
    "\n",
    "\n",
    "- Clustern nach Künstler, haben wenige Künstler viel Popularität oder eher One-Hit-Wunder?\n",
    "- NLP vom Songtitel ?\n",
    "- Genre in Bezug zum Zeitraum"
   ]
  },
  {
   "cell_type": "code",
   "execution_count": 36,
   "metadata": {},
   "outputs": [
    {
     "data": {
      "text/plain": [
       "<AxesSubplot:>"
      ]
     },
     "execution_count": 36,
     "metadata": {},
     "output_type": "execute_result"
    },
    {
     "data": {
      "image/png": "[encoded data removed]",
      "text/plain": [
       "<Figure size 432x288 with 1 Axes>"
      ]
     },
     "metadata": {
      "needs_background": "light"
     },
     "output_type": "display_data"
    }
   ],
   "source": [
    "cleared[\"song_popularity\"].hist()"
   ]
  },
  {
   "cell_type": "code",
   "execution_count": 38,
   "metadata": {},
   "outputs": [
    {
     "data": {
      "text/plain": [
       "<AxesSubplot:>"
      ]
     },
     "execution_count": 38,
     "metadata": {},
     "output_type": "execute_result"
    },
    {
     "data": {
      "image/png": "[encoded data removed]",
      "text/plain": [
       "<Figure size 432x288 with 1 Axes>"
      ]
     },
     "metadata": {
      "needs_background": "light"
     },
     "output_type": "display_data"
    }
   ],
   "source": [
    "cleared[\"song_duration_ms\"].hist(range=[0, 500000])"
   ]
  },
  {
   "cell_type": "code",
   "execution_count": 39,
   "metadata": {},
   "outputs": [
    {
     "data": {
      "text/plain": [
       "<AxesSubplot:>"
      ]
     },
     "execution_count": 39,
     "metadata": {},
     "output_type": "execute_result"
    },
    {
     "data": {
      "image/png": "[encoded data removed]",
      "text/plain": [
       "<Figure size 432x288 with 1 Axes>"
      ]
     },
     "metadata": {
      "needs_background": "light"
     },
     "output_type": "display_data"
    }
   ],
   "source": [
    "cleared[\"acousticness\"].hist()"
   ]
  },
  {
   "cell_type": "code",
   "execution_count": 40,
   "metadata": {},
   "outputs": [
    {
     "data": {
      "text/plain": [
       "<AxesSubplot:>"
      ]
     },
     "execution_count": 40,
     "metadata": {},
     "output_type": "execute_result"
    },
    {
     "data": {
      "image/png": "[encoded data removed]",
      "text/plain": [
       "<Figure size 432x288 with 1 Axes>"
      ]
     },
     "metadata": {
      "needs_background": "light"
     },
     "output_type": "display_data"
    }
   ],
   "source": [
    "cleared[\"danceability\"].hist()"
   ]
  },
  {
   "cell_type": "code",
   "execution_count": 41,
   "metadata": {},
   "outputs": [
    {
     "data": {
      "text/plain": [
       "<AxesSubplot:>"
      ]
     },
     "execution_count": 41,
     "metadata": {},
     "output_type": "execute_result"
    },
    {
     "data": {
      "image/png": "[encoded data removed]",
      "text/plain": [
       "<Figure size 432x288 with 1 Axes>"
      ]
     },
     "metadata": {
      "needs_background": "light"
     },
     "output_type": "display_data"
    }
   ],
   "source": [
    "cleared[\"energy\"].hist()"
   ]
  },
  {
   "cell_type": "code",
   "execution_count": 42,
   "metadata": {},
   "outputs": [
    {
     "data": {
      "text/plain": [
       "<AxesSubplot:>"
      ]
     },
     "execution_count": 42,
     "metadata": {},
     "output_type": "execute_result"
    },
    {
     "data": {
      "image/png": "[encoded data removed]",
      "text/plain": [
       "<Figure size 432x288 with 1 Axes>"
      ]
     },
     "metadata": {
      "needs_background": "light"
     },
     "output_type": "display_data"
    }
   ],
   "source": [
    "cleared[\"instrumentalness\"].hist()"
   ]
  },
  {
   "cell_type": "code",
   "execution_count": 44,
   "metadata": {},
   "outputs": [
    {
     "data": {
      "text/plain": [
       "<AxesSubplot:>"
      ]
     },
     "execution_count": 44,
     "metadata": {},
     "output_type": "execute_result"
    },
    {
     "data": {
      "image/png": "[encoded data removed]",
      "text/plain": [
       "<Figure size 432x288 with 1 Axes>"
      ]
     },
     "metadata": {
      "needs_background": "light"
     },
     "output_type": "display_data"
    }
   ],
   "source": [
    "cleared[\"liveness\"].hist()"
   ]
  },
  {
   "cell_type": "code",
   "execution_count": 45,
   "metadata": {},
   "outputs": [
    {
     "data": {
      "text/plain": [
       "<AxesSubplot:>"
      ]
     },
     "execution_count": 45,
     "metadata": {},
     "output_type": "execute_result"
    },
    {
     "data": {
      "image/png": "[encoded data removed]",
      "text/plain": [
       "<Figure size 432x288 with 1 Axes>"
      ]
     },
     "metadata": {
      "needs_background": "light"
     },
     "output_type": "display_data"
    }
   ],
   "source": [
    "cleared[\"loudness\"].hist()"
   ]
  },
  {
   "cell_type": "code",
   "execution_count": 47,
   "metadata": {},
   "outputs": [
    {
     "data": {
      "text/plain": [
       "<AxesSubplot:>"
      ]
     },
     "execution_count": 47,
     "metadata": {},
     "output_type": "execute_result"
    },
    {
     "data": {
      "image/png": "[encoded data removed]",
      "text/plain": [
       "<Figure size 432x288 with 1 Axes>"
      ]
     },
     "metadata": {
      "needs_background": "light"
     },
     "output_type": "display_data"
    }
   ],
   "source": [
    "cleared[\"speechiness\"].hist()"
   ]
  },
  {
   "cell_type": "code",
   "execution_count": 48,
   "metadata": {},
   "outputs": [
    {
     "data": {
      "text/plain": [
       "<AxesSubplot:>"
      ]
     },
     "execution_count": 48,
     "metadata": {},
     "output_type": "execute_result"
    },
    {
     "data": {
      "image/png": "[encoded data removed]",
      "text/plain": [
       "<Figure size 432x288 with 1 Axes>"
      ]
     },
     "metadata": {
      "needs_background": "light"
     },
     "output_type": "display_data"
    }
   ],
   "source": [
    "cleared[\"tempo\"].hist()"
   ]
  },
  {
   "cell_type": "code",
   "execution_count": 49,
   "metadata": {},
   "outputs": [
    {
     "data": {
      "text/plain": [
       "<AxesSubplot:>"
      ]
     },
     "execution_count": 49,
     "metadata": {},
     "output_type": "execute_result"
    },
    {
     "data": {
      "image/png": "[encoded data removed]",
      "text/plain": [
       "<Figure size 432x288 with 1 Axes>"
      ]
     },
     "metadata": {
      "needs_background": "light"
     },
     "output_type": "display_data"
    }
   ],
   "source": [
    "cleared[\"audio_valence\"].hist()"
   ]
  },
  {
   "cell_type": "code",
   "execution_count": 12,
   "metadata": {},
   "outputs": [],
   "source": [
    "# Instrumentalness mit accousticness\n",
    "matrix1 = cleared.corr()\n",
    "fig, ax = plt.subplots(figsize=(15, 15))\n",
    "sns.heatmap(matrix1, annot=True)\n",
    "plt.show()"
   ]
  },
  {
   "cell_type": "markdown",
   "metadata": {},
   "source": [
    "## 4 Datentransformation"
   ]
  },
  {
   "cell_type": "code",
   "execution_count": null,
   "metadata": {},
   "outputs": [],
   "source": []
  },
  {
   "cell_type": "markdown",
   "metadata": {},
   "source": [
    "## 5 Maschinelles Lernen"
   ]
  },
  {
   "cell_type": "code",
   "execution_count": null,
   "metadata": {},
   "outputs": [],
   "source": []
  },
  {
   "cell_type": "markdown",
   "metadata": {},
   "source": [
    "## 6 Diskussion"
   ]
  },
  {
   "cell_type": "code",
   "execution_count": null,
   "metadata": {},
   "outputs": [],
   "source": []
  },
  {
   "cell_type": "markdown",
   "metadata": {},
   "source": [
    "### 6.1 Konklusion"
   ]
  },
  {
   "cell_type": "markdown",
   "metadata": {},
   "source": [
    "## Quellenverzeichnis\n"
   ]
  }
 ],
 "metadata": {
  "interpreter": {
   "hash": "26de051ba29f2982a8de78e945f0abaf191376122a1563185a90213a26c5da77"
  },
  "kernelspec": {
   "display_name": "Python 3.10.4 64-bit",
   "language": "python",
   "name": "python3"
  },
  "language_info": {
   "codemirror_mode": {
    "name": "ipython",
    "version": 3
   },
   "file_extension": ".py",
   "mimetype": "text/x-python",
   "name": "python",
   "nbconvert_exporter": "python",
   "pygments_lexer": "ipython3",
   "version": "3.10.4"
  },
  "orig_nbformat": 4
 },
 "nbformat": 4,
 "nbformat_minor": 2
}
