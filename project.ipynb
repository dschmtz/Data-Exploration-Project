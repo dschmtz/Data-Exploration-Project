{
 "cells": [
  {
   "cell_type": "markdown",
   "metadata": {},
   "source": [
    "Musik ist ein wichtiger bestandteil unserer Kultur, sie kann bewegungen abbilden sowie ein teil der Identität sein. Das Musik ein Zentraler bestandteil der Kultur ist sieht man unter anderem an Shows wie Deutschland sucht den Superstar (DSDS) welche regelmäßig von über 2 Mio zuschauern verfolgt wird. Dabei setzen sich die Zuaschauer mit den auftritten sowie mit der qualität der Musik auseinander.\n",
    "Das Musik eine Geselschaftlich so zentrale rolle spielt hat mehrere gründe. Sie fördert oder erzeugt ein gemeinschaftsgefühl in einer gruppe, durch gemeinsammes tanzen und Musikalische Rituale. Gleichzeitig zeigt sie zusammenhalt man zeigt anderen grupierungen wir halten zusammen wir sind stark. Diese eigenschaften wurden auch in den Befreiungskriegen(1813-1815) genutzt umd eine Nationalbewusstsein in Deutschland zu förden. Andernfalls wird Musik auch genutzt um gefühle auszudrücken, wie \n",
    "Spotify hat die Musikidustrie grundsätlich verändert. Um 2010 hat polariesierten hauptsächlich illegale Streaming dienste im Internet. Dann kamm Spotify, dabei hat Spotify die Musikbranche in gewisser Weise gerrettet. Diese hatten Massive Probleme damit gegen illegales Streaming zu unterbinden. Als Antwort auf das illegale Streaming entwickelte sich Spotify 2011, welches die Musikindustrie revoultionierte. 2017 wurde durch Musiklabels dann zum ersten mal mehr geld mit Streaming als mit dem Verkauf von CDs verdient. Heutzutagen hat Spotify unter denn Anbietern von Musikstreamingdiensten einen Marktanteil von 38 %. Damit ist Spotify fast doppelt so groß wie sein nächster konkurent Apple Musik. Jedes Musiklabel und jeder Großer Musiker Arbeitet mit Spotify zusammen. Damit bilden die Spotify charts sehr gut die beliebtheit von Musik ab. \n",
    "\n",
    "Musikstreaming, Milliardenmarkt, kulturelle Bedeutung ..."
   ]
  },
  {
   "cell_type": "markdown",
   "metadata": {},
   "source": [
    "## 1 Importierung benötigter Bibliotheken und des Datensatzes\n",
    "In diesem Kapitel wird XY gemacht.\n",
    "\n",
    "### 1.1 Laden der Bibliotheken\n",
    "Innerhalb des Datenexplorationsprojektes werden die Bibliotheken XY benötigt."
   ]
  },
  {
   "cell_type": "code",
   "execution_count": 1,
   "metadata": {},
   "outputs": [],
   "source": [
    "import os\n",
    "import time\n",
    "import pandas as pd\n",
    "import numpy as np\n",
    "import seaborn as sns\n",
    "\n",
    "import spotipy\n",
    "from spotipy.oauth2 import SpotifyClientCredentials\n",
    "\n",
    "import tensorflow as tf\n",
    "from tensorflow import keras\n",
    "from tensorflow.keras import layers\n",
    "\n",
    "from sklearn.linear_model import LinearRegression, Lasso, LassoCV\n",
    "from sklearn.ensemble import RandomForestRegressor\n",
    "from sklearn.preprocessing import StandardScaler, RobustScaler\n",
    "from sklearn.model_selection import train_test_split\n",
    "from sklearn.svm import SVR\n",
    "\n",
    "from matplotlib import pyplot as plt"
   ]
  },
  {
   "cell_type": "markdown",
   "metadata": {},
   "source": [
    "### 1.2 Laden des Basis-Datensatzes"
   ]
  },
  {
   "cell_type": "code",
   "execution_count": 2,
   "metadata": {},
   "outputs": [
    {
     "name": "stdout",
     "output_type": "stream",
     "text": [
      "<class 'pandas.core.frame.DataFrame'>\n",
      "RangeIndex: 18835 entries, 0 to 18834\n",
      "Data columns (total 15 columns):\n",
      " #   Column            Non-Null Count  Dtype  \n",
      "---  ------            --------------  -----  \n",
      " 0   song_name         18835 non-null  object \n",
      " 1   song_popularity   18835 non-null  int64  \n",
      " 2   song_duration_ms  18835 non-null  int64  \n",
      " 3   acousticness      18835 non-null  float64\n",
      " 4   danceability      18835 non-null  float64\n",
      " 5   energy            18835 non-null  float64\n",
      " 6   instrumentalness  18835 non-null  float64\n",
      " 7   key               18835 non-null  int64  \n",
      " 8   liveness          18835 non-null  float64\n",
      " 9   loudness          18835 non-null  float64\n",
      " 10  audio_mode        18835 non-null  int64  \n",
      " 11  speechiness       18835 non-null  float64\n",
      " 12  tempo             18835 non-null  float64\n",
      " 13  time_signature    18835 non-null  int64  \n",
      " 14  audio_valence     18835 non-null  float64\n",
      "dtypes: float64(9), int64(5), object(1)\n",
      "memory usage: 2.2+ MB\n"
     ]
    }
   ],
   "source": [
    "base_data = pd.read_csv(\"song_data.csv\")\n",
    "base_data.info()"
   ]
  },
  {
   "cell_type": "markdown",
   "metadata": {},
   "source": [
    "Der Basisdatensatz besteht aus 18.835 Einträgen mit je 15 Attributen ... Keine Lücken"
   ]
  },
  {
   "cell_type": "code",
   "execution_count": 3,
   "metadata": {},
   "outputs": [
    {
     "data": {
      "text/html": [
       "<div>\n",
       "<style scoped>\n",
       "    .dataframe tbody tr th:only-of-type {\n",
       "        vertical-align: middle;\n",
       "    }\n",
       "\n",
       "    .dataframe tbody tr th {\n",
       "        vertical-align: top;\n",
       "    }\n",
       "\n",
       "    .dataframe thead th {\n",
       "        text-align: right;\n",
       "    }\n",
       "</style>\n",
       "<table border=\"1\" class=\"dataframe\">\n",
       "  <thead>\n",
       "    <tr style=\"text-align: right;\">\n",
       "      <th></th>\n",
       "      <th>song_name</th>\n",
       "      <th>song_popularity</th>\n",
       "      <th>song_duration_ms</th>\n",
       "      <th>acousticness</th>\n",
       "      <th>danceability</th>\n",
       "      <th>energy</th>\n",
       "      <th>instrumentalness</th>\n",
       "      <th>key</th>\n",
       "      <th>liveness</th>\n",
       "      <th>loudness</th>\n",
       "      <th>audio_mode</th>\n",
       "      <th>speechiness</th>\n",
       "      <th>tempo</th>\n",
       "      <th>time_signature</th>\n",
       "      <th>audio_valence</th>\n",
       "    </tr>\n",
       "  </thead>\n",
       "  <tbody>\n",
       "    <tr>\n",
       "      <th>0</th>\n",
       "      <td>Boulevard of Broken Dreams</td>\n",
       "      <td>73</td>\n",
       "      <td>262333</td>\n",
       "      <td>0.005520</td>\n",
       "      <td>0.496</td>\n",
       "      <td>0.682</td>\n",
       "      <td>0.000029</td>\n",
       "      <td>8</td>\n",
       "      <td>0.0589</td>\n",
       "      <td>-4.095</td>\n",
       "      <td>1</td>\n",
       "      <td>0.0294</td>\n",
       "      <td>167.060</td>\n",
       "      <td>4</td>\n",
       "      <td>0.474</td>\n",
       "    </tr>\n",
       "    <tr>\n",
       "      <th>1</th>\n",
       "      <td>In The End</td>\n",
       "      <td>66</td>\n",
       "      <td>216933</td>\n",
       "      <td>0.010300</td>\n",
       "      <td>0.542</td>\n",
       "      <td>0.853</td>\n",
       "      <td>0.000000</td>\n",
       "      <td>3</td>\n",
       "      <td>0.1080</td>\n",
       "      <td>-6.407</td>\n",
       "      <td>0</td>\n",
       "      <td>0.0498</td>\n",
       "      <td>105.256</td>\n",
       "      <td>4</td>\n",
       "      <td>0.370</td>\n",
       "    </tr>\n",
       "    <tr>\n",
       "      <th>2</th>\n",
       "      <td>Seven Nation Army</td>\n",
       "      <td>76</td>\n",
       "      <td>231733</td>\n",
       "      <td>0.008170</td>\n",
       "      <td>0.737</td>\n",
       "      <td>0.463</td>\n",
       "      <td>0.447000</td>\n",
       "      <td>0</td>\n",
       "      <td>0.2550</td>\n",
       "      <td>-7.828</td>\n",
       "      <td>1</td>\n",
       "      <td>0.0792</td>\n",
       "      <td>123.881</td>\n",
       "      <td>4</td>\n",
       "      <td>0.324</td>\n",
       "    </tr>\n",
       "    <tr>\n",
       "      <th>3</th>\n",
       "      <td>By The Way</td>\n",
       "      <td>74</td>\n",
       "      <td>216933</td>\n",
       "      <td>0.026400</td>\n",
       "      <td>0.451</td>\n",
       "      <td>0.970</td>\n",
       "      <td>0.003550</td>\n",
       "      <td>0</td>\n",
       "      <td>0.1020</td>\n",
       "      <td>-4.938</td>\n",
       "      <td>1</td>\n",
       "      <td>0.1070</td>\n",
       "      <td>122.444</td>\n",
       "      <td>4</td>\n",
       "      <td>0.198</td>\n",
       "    </tr>\n",
       "    <tr>\n",
       "      <th>4</th>\n",
       "      <td>How You Remind Me</td>\n",
       "      <td>56</td>\n",
       "      <td>223826</td>\n",
       "      <td>0.000954</td>\n",
       "      <td>0.447</td>\n",
       "      <td>0.766</td>\n",
       "      <td>0.000000</td>\n",
       "      <td>10</td>\n",
       "      <td>0.1130</td>\n",
       "      <td>-5.065</td>\n",
       "      <td>1</td>\n",
       "      <td>0.0313</td>\n",
       "      <td>172.011</td>\n",
       "      <td>4</td>\n",
       "      <td>0.574</td>\n",
       "    </tr>\n",
       "  </tbody>\n",
       "</table>\n",
       "</div>"
      ],
      "text/plain": [
       "                    song_name  song_popularity  song_duration_ms  \\\n",
       "0  Boulevard of Broken Dreams               73            262333   \n",
       "1                  In The End               66            216933   \n",
       "2           Seven Nation Army               76            231733   \n",
       "3                  By The Way               74            216933   \n",
       "4           How You Remind Me               56            223826   \n",
       "\n",
       "   acousticness  danceability  energy  instrumentalness  key  liveness  \\\n",
       "0      0.005520         0.496   0.682          0.000029    8    0.0589   \n",
       "1      0.010300         0.542   0.853          0.000000    3    0.1080   \n",
       "2      0.008170         0.737   0.463          0.447000    0    0.2550   \n",
       "3      0.026400         0.451   0.970          0.003550    0    0.1020   \n",
       "4      0.000954         0.447   0.766          0.000000   10    0.1130   \n",
       "\n",
       "   loudness  audio_mode  speechiness    tempo  time_signature  audio_valence  \n",
       "0    -4.095           1       0.0294  167.060               4          0.474  \n",
       "1    -6.407           0       0.0498  105.256               4          0.370  \n",
       "2    -7.828           1       0.0792  123.881               4          0.324  \n",
       "3    -4.938           1       0.1070  122.444               4          0.198  \n",
       "4    -5.065           1       0.0313  172.011               4          0.574  "
      ]
     },
     "execution_count": 3,
     "metadata": {},
     "output_type": "execute_result"
    }
   ],
   "source": [
    "base_data.head()"
   ]
  },
  {
   "cell_type": "markdown",
   "metadata": {},
   "source": [
    "## 2 Übersicht und Interpretation der Datenwerte\n"
   ]
  },
  {
   "cell_type": "code",
   "execution_count": 4,
   "metadata": {},
   "outputs": [
    {
     "data": {
      "text/plain": [
       "audio_mode              2\n",
       "time_signature          5\n",
       "key                    12\n",
       "song_popularity       101\n",
       "danceability          849\n",
       "energy               1132\n",
       "speechiness          1224\n",
       "audio_valence        1246\n",
       "liveness             1425\n",
       "acousticness         3209\n",
       "instrumentalness     3925\n",
       "loudness             8416\n",
       "song_duration_ms    11771\n",
       "tempo               12112\n",
       "song_name           13070\n",
       "dtype: int64"
      ]
     },
     "execution_count": 4,
     "metadata": {},
     "output_type": "execute_result"
    }
   ],
   "source": [
    "base_data.nunique().sort_values()"
   ]
  },
  {
   "cell_type": "code",
   "execution_count": 6,
   "metadata": {},
   "outputs": [
    {
     "data": {
      "text/html": [
       "<div>\n",
       "<style scoped>\n",
       "    .dataframe tbody tr th:only-of-type {\n",
       "        vertical-align: middle;\n",
       "    }\n",
       "\n",
       "    .dataframe tbody tr th {\n",
       "        vertical-align: top;\n",
       "    }\n",
       "\n",
       "    .dataframe thead th {\n",
       "        text-align: right;\n",
       "    }\n",
       "</style>\n",
       "<table border=\"1\" class=\"dataframe\">\n",
       "  <thead>\n",
       "    <tr style=\"text-align: right;\">\n",
       "      <th></th>\n",
       "      <th>song_name</th>\n",
       "      <th>song_popularity</th>\n",
       "      <th>song_duration_ms</th>\n",
       "      <th>acousticness</th>\n",
       "      <th>danceability</th>\n",
       "      <th>energy</th>\n",
       "      <th>instrumentalness</th>\n",
       "      <th>key</th>\n",
       "      <th>liveness</th>\n",
       "      <th>loudness</th>\n",
       "      <th>audio_mode</th>\n",
       "      <th>speechiness</th>\n",
       "      <th>tempo</th>\n",
       "      <th>time_signature</th>\n",
       "      <th>audio_valence</th>\n",
       "    </tr>\n",
       "  </thead>\n",
       "  <tbody>\n",
       "    <tr>\n",
       "      <th>7568</th>\n",
       "      <td>Happier</td>\n",
       "      <td>100</td>\n",
       "      <td>214289</td>\n",
       "      <td>0.1910</td>\n",
       "      <td>0.687</td>\n",
       "      <td>0.792</td>\n",
       "      <td>0.0</td>\n",
       "      <td>5</td>\n",
       "      <td>0.167</td>\n",
       "      <td>-2.749</td>\n",
       "      <td>1</td>\n",
       "      <td>0.0452</td>\n",
       "      <td>100.015</td>\n",
       "      <td>4</td>\n",
       "      <td>0.671</td>\n",
       "    </tr>\n",
       "    <tr>\n",
       "      <th>15091</th>\n",
       "      <td>Happier</td>\n",
       "      <td>100</td>\n",
       "      <td>214289</td>\n",
       "      <td>0.1910</td>\n",
       "      <td>0.687</td>\n",
       "      <td>0.792</td>\n",
       "      <td>0.0</td>\n",
       "      <td>5</td>\n",
       "      <td>0.167</td>\n",
       "      <td>-2.749</td>\n",
       "      <td>1</td>\n",
       "      <td>0.0452</td>\n",
       "      <td>100.015</td>\n",
       "      <td>4</td>\n",
       "      <td>0.671</td>\n",
       "    </tr>\n",
       "    <tr>\n",
       "      <th>17392</th>\n",
       "      <td>Happier</td>\n",
       "      <td>100</td>\n",
       "      <td>214289</td>\n",
       "      <td>0.1910</td>\n",
       "      <td>0.687</td>\n",
       "      <td>0.792</td>\n",
       "      <td>0.0</td>\n",
       "      <td>5</td>\n",
       "      <td>0.167</td>\n",
       "      <td>-2.749</td>\n",
       "      <td>1</td>\n",
       "      <td>0.0452</td>\n",
       "      <td>100.015</td>\n",
       "      <td>4</td>\n",
       "      <td>0.671</td>\n",
       "    </tr>\n",
       "    <tr>\n",
       "      <th>14176</th>\n",
       "      <td>Happier</td>\n",
       "      <td>100</td>\n",
       "      <td>214289</td>\n",
       "      <td>0.1910</td>\n",
       "      <td>0.687</td>\n",
       "      <td>0.792</td>\n",
       "      <td>0.0</td>\n",
       "      <td>5</td>\n",
       "      <td>0.167</td>\n",
       "      <td>-2.749</td>\n",
       "      <td>1</td>\n",
       "      <td>0.0452</td>\n",
       "      <td>100.015</td>\n",
       "      <td>4</td>\n",
       "      <td>0.671</td>\n",
       "    </tr>\n",
       "    <tr>\n",
       "      <th>11665</th>\n",
       "      <td>Happier</td>\n",
       "      <td>100</td>\n",
       "      <td>214289</td>\n",
       "      <td>0.1910</td>\n",
       "      <td>0.687</td>\n",
       "      <td>0.792</td>\n",
       "      <td>0.0</td>\n",
       "      <td>5</td>\n",
       "      <td>0.167</td>\n",
       "      <td>-2.749</td>\n",
       "      <td>1</td>\n",
       "      <td>0.0452</td>\n",
       "      <td>100.015</td>\n",
       "      <td>4</td>\n",
       "      <td>0.671</td>\n",
       "    </tr>\n",
       "    <tr>\n",
       "      <th>11697</th>\n",
       "      <td>Happier</td>\n",
       "      <td>100</td>\n",
       "      <td>214289</td>\n",
       "      <td>0.1910</td>\n",
       "      <td>0.687</td>\n",
       "      <td>0.792</td>\n",
       "      <td>0.0</td>\n",
       "      <td>5</td>\n",
       "      <td>0.167</td>\n",
       "      <td>-2.749</td>\n",
       "      <td>1</td>\n",
       "      <td>0.0452</td>\n",
       "      <td>100.015</td>\n",
       "      <td>4</td>\n",
       "      <td>0.671</td>\n",
       "    </tr>\n",
       "    <tr>\n",
       "      <th>5593</th>\n",
       "      <td>Happier</td>\n",
       "      <td>100</td>\n",
       "      <td>214289</td>\n",
       "      <td>0.1910</td>\n",
       "      <td>0.687</td>\n",
       "      <td>0.792</td>\n",
       "      <td>0.0</td>\n",
       "      <td>5</td>\n",
       "      <td>0.167</td>\n",
       "      <td>-2.749</td>\n",
       "      <td>1</td>\n",
       "      <td>0.0452</td>\n",
       "      <td>100.015</td>\n",
       "      <td>4</td>\n",
       "      <td>0.671</td>\n",
       "    </tr>\n",
       "    <tr>\n",
       "      <th>4299</th>\n",
       "      <td>Happier</td>\n",
       "      <td>100</td>\n",
       "      <td>214289</td>\n",
       "      <td>0.1910</td>\n",
       "      <td>0.687</td>\n",
       "      <td>0.792</td>\n",
       "      <td>0.0</td>\n",
       "      <td>5</td>\n",
       "      <td>0.167</td>\n",
       "      <td>-2.749</td>\n",
       "      <td>1</td>\n",
       "      <td>0.0452</td>\n",
       "      <td>100.015</td>\n",
       "      <td>4</td>\n",
       "      <td>0.671</td>\n",
       "    </tr>\n",
       "    <tr>\n",
       "      <th>16497</th>\n",
       "      <td>Happier</td>\n",
       "      <td>100</td>\n",
       "      <td>214289</td>\n",
       "      <td>0.1910</td>\n",
       "      <td>0.687</td>\n",
       "      <td>0.792</td>\n",
       "      <td>0.0</td>\n",
       "      <td>5</td>\n",
       "      <td>0.167</td>\n",
       "      <td>-2.749</td>\n",
       "      <td>1</td>\n",
       "      <td>0.0452</td>\n",
       "      <td>100.015</td>\n",
       "      <td>4</td>\n",
       "      <td>0.671</td>\n",
       "    </tr>\n",
       "    <tr>\n",
       "      <th>17590</th>\n",
       "      <td>Happier</td>\n",
       "      <td>100</td>\n",
       "      <td>214289</td>\n",
       "      <td>0.1910</td>\n",
       "      <td>0.687</td>\n",
       "      <td>0.792</td>\n",
       "      <td>0.0</td>\n",
       "      <td>5</td>\n",
       "      <td>0.167</td>\n",
       "      <td>-2.749</td>\n",
       "      <td>1</td>\n",
       "      <td>0.0452</td>\n",
       "      <td>100.015</td>\n",
       "      <td>4</td>\n",
       "      <td>0.671</td>\n",
       "    </tr>\n",
       "    <tr>\n",
       "      <th>7636</th>\n",
       "      <td>Happier</td>\n",
       "      <td>100</td>\n",
       "      <td>214289</td>\n",
       "      <td>0.1910</td>\n",
       "      <td>0.687</td>\n",
       "      <td>0.792</td>\n",
       "      <td>0.0</td>\n",
       "      <td>5</td>\n",
       "      <td>0.167</td>\n",
       "      <td>-2.749</td>\n",
       "      <td>1</td>\n",
       "      <td>0.0452</td>\n",
       "      <td>100.015</td>\n",
       "      <td>4</td>\n",
       "      <td>0.671</td>\n",
       "    </tr>\n",
       "    <tr>\n",
       "      <th>17638</th>\n",
       "      <td>Happier</td>\n",
       "      <td>100</td>\n",
       "      <td>214289</td>\n",
       "      <td>0.1910</td>\n",
       "      <td>0.687</td>\n",
       "      <td>0.792</td>\n",
       "      <td>0.0</td>\n",
       "      <td>5</td>\n",
       "      <td>0.167</td>\n",
       "      <td>-2.749</td>\n",
       "      <td>1</td>\n",
       "      <td>0.0452</td>\n",
       "      <td>100.015</td>\n",
       "      <td>4</td>\n",
       "      <td>0.671</td>\n",
       "    </tr>\n",
       "    <tr>\n",
       "      <th>1229</th>\n",
       "      <td>I Love It (&amp; Lil Pump)</td>\n",
       "      <td>99</td>\n",
       "      <td>127946</td>\n",
       "      <td>0.0114</td>\n",
       "      <td>0.901</td>\n",
       "      <td>0.522</td>\n",
       "      <td>0.0</td>\n",
       "      <td>2</td>\n",
       "      <td>0.259</td>\n",
       "      <td>-8.304</td>\n",
       "      <td>1</td>\n",
       "      <td>0.3300</td>\n",
       "      <td>104.053</td>\n",
       "      <td>4</td>\n",
       "      <td>0.329</td>\n",
       "    </tr>\n",
       "    <tr>\n",
       "      <th>11777</th>\n",
       "      <td>I Love It (&amp; Lil Pump)</td>\n",
       "      <td>99</td>\n",
       "      <td>127946</td>\n",
       "      <td>0.0114</td>\n",
       "      <td>0.901</td>\n",
       "      <td>0.522</td>\n",
       "      <td>0.0</td>\n",
       "      <td>2</td>\n",
       "      <td>0.259</td>\n",
       "      <td>-8.304</td>\n",
       "      <td>1</td>\n",
       "      <td>0.3300</td>\n",
       "      <td>104.053</td>\n",
       "      <td>4</td>\n",
       "      <td>0.329</td>\n",
       "    </tr>\n",
       "    <tr>\n",
       "      <th>17113</th>\n",
       "      <td>I Love It (&amp; Lil Pump)</td>\n",
       "      <td>99</td>\n",
       "      <td>127946</td>\n",
       "      <td>0.0114</td>\n",
       "      <td>0.901</td>\n",
       "      <td>0.522</td>\n",
       "      <td>0.0</td>\n",
       "      <td>2</td>\n",
       "      <td>0.259</td>\n",
       "      <td>-8.304</td>\n",
       "      <td>1</td>\n",
       "      <td>0.3300</td>\n",
       "      <td>104.053</td>\n",
       "      <td>4</td>\n",
       "      <td>0.329</td>\n",
       "    </tr>\n",
       "    <tr>\n",
       "      <th>17603</th>\n",
       "      <td>I Love It (&amp; Lil Pump)</td>\n",
       "      <td>99</td>\n",
       "      <td>127946</td>\n",
       "      <td>0.0114</td>\n",
       "      <td>0.901</td>\n",
       "      <td>0.522</td>\n",
       "      <td>0.0</td>\n",
       "      <td>2</td>\n",
       "      <td>0.259</td>\n",
       "      <td>-8.304</td>\n",
       "      <td>1</td>\n",
       "      <td>0.3300</td>\n",
       "      <td>104.053</td>\n",
       "      <td>4</td>\n",
       "      <td>0.329</td>\n",
       "    </tr>\n",
       "    <tr>\n",
       "      <th>4301</th>\n",
       "      <td>I Love It (&amp; Lil Pump)</td>\n",
       "      <td>99</td>\n",
       "      <td>127946</td>\n",
       "      <td>0.0114</td>\n",
       "      <td>0.901</td>\n",
       "      <td>0.522</td>\n",
       "      <td>0.0</td>\n",
       "      <td>2</td>\n",
       "      <td>0.259</td>\n",
       "      <td>-8.304</td>\n",
       "      <td>1</td>\n",
       "      <td>0.3300</td>\n",
       "      <td>104.053</td>\n",
       "      <td>4</td>\n",
       "      <td>0.329</td>\n",
       "    </tr>\n",
       "    <tr>\n",
       "      <th>17660</th>\n",
       "      <td>I Love It (&amp; Lil Pump)</td>\n",
       "      <td>99</td>\n",
       "      <td>127946</td>\n",
       "      <td>0.0114</td>\n",
       "      <td>0.901</td>\n",
       "      <td>0.522</td>\n",
       "      <td>0.0</td>\n",
       "      <td>2</td>\n",
       "      <td>0.259</td>\n",
       "      <td>-8.304</td>\n",
       "      <td>1</td>\n",
       "      <td>0.3300</td>\n",
       "      <td>104.053</td>\n",
       "      <td>4</td>\n",
       "      <td>0.329</td>\n",
       "    </tr>\n",
       "    <tr>\n",
       "      <th>14314</th>\n",
       "      <td>I Love It (&amp; Lil Pump)</td>\n",
       "      <td>99</td>\n",
       "      <td>127946</td>\n",
       "      <td>0.0114</td>\n",
       "      <td>0.901</td>\n",
       "      <td>0.522</td>\n",
       "      <td>0.0</td>\n",
       "      <td>2</td>\n",
       "      <td>0.259</td>\n",
       "      <td>-8.304</td>\n",
       "      <td>1</td>\n",
       "      <td>0.3300</td>\n",
       "      <td>104.053</td>\n",
       "      <td>4</td>\n",
       "      <td>0.329</td>\n",
       "    </tr>\n",
       "    <tr>\n",
       "      <th>5608</th>\n",
       "      <td>I Love It (&amp; Lil Pump)</td>\n",
       "      <td>99</td>\n",
       "      <td>127946</td>\n",
       "      <td>0.0114</td>\n",
       "      <td>0.901</td>\n",
       "      <td>0.522</td>\n",
       "      <td>0.0</td>\n",
       "      <td>2</td>\n",
       "      <td>0.259</td>\n",
       "      <td>-8.304</td>\n",
       "      <td>1</td>\n",
       "      <td>0.3300</td>\n",
       "      <td>104.053</td>\n",
       "      <td>4</td>\n",
       "      <td>0.329</td>\n",
       "    </tr>\n",
       "  </tbody>\n",
       "</table>\n",
       "</div>"
      ],
      "text/plain": [
       "                    song_name  song_popularity  song_duration_ms  \\\n",
       "7568                  Happier              100            214289   \n",
       "15091                 Happier              100            214289   \n",
       "17392                 Happier              100            214289   \n",
       "14176                 Happier              100            214289   \n",
       "11665                 Happier              100            214289   \n",
       "11697                 Happier              100            214289   \n",
       "5593                  Happier              100            214289   \n",
       "4299                  Happier              100            214289   \n",
       "16497                 Happier              100            214289   \n",
       "17590                 Happier              100            214289   \n",
       "7636                  Happier              100            214289   \n",
       "17638                 Happier              100            214289   \n",
       "1229   I Love It (& Lil Pump)               99            127946   \n",
       "11777  I Love It (& Lil Pump)               99            127946   \n",
       "17113  I Love It (& Lil Pump)               99            127946   \n",
       "17603  I Love It (& Lil Pump)               99            127946   \n",
       "4301   I Love It (& Lil Pump)               99            127946   \n",
       "17660  I Love It (& Lil Pump)               99            127946   \n",
       "14314  I Love It (& Lil Pump)               99            127946   \n",
       "5608   I Love It (& Lil Pump)               99            127946   \n",
       "\n",
       "       acousticness  danceability  energy  instrumentalness  key  liveness  \\\n",
       "7568         0.1910         0.687   0.792               0.0    5     0.167   \n",
       "15091        0.1910         0.687   0.792               0.0    5     0.167   \n",
       "17392        0.1910         0.687   0.792               0.0    5     0.167   \n",
       "14176        0.1910         0.687   0.792               0.0    5     0.167   \n",
       "11665        0.1910         0.687   0.792               0.0    5     0.167   \n",
       "11697        0.1910         0.687   0.792               0.0    5     0.167   \n",
       "5593         0.1910         0.687   0.792               0.0    5     0.167   \n",
       "4299         0.1910         0.687   0.792               0.0    5     0.167   \n",
       "16497        0.1910         0.687   0.792               0.0    5     0.167   \n",
       "17590        0.1910         0.687   0.792               0.0    5     0.167   \n",
       "7636         0.1910         0.687   0.792               0.0    5     0.167   \n",
       "17638        0.1910         0.687   0.792               0.0    5     0.167   \n",
       "1229         0.0114         0.901   0.522               0.0    2     0.259   \n",
       "11777        0.0114         0.901   0.522               0.0    2     0.259   \n",
       "17113        0.0114         0.901   0.522               0.0    2     0.259   \n",
       "17603        0.0114         0.901   0.522               0.0    2     0.259   \n",
       "4301         0.0114         0.901   0.522               0.0    2     0.259   \n",
       "17660        0.0114         0.901   0.522               0.0    2     0.259   \n",
       "14314        0.0114         0.901   0.522               0.0    2     0.259   \n",
       "5608         0.0114         0.901   0.522               0.0    2     0.259   \n",
       "\n",
       "       loudness  audio_mode  speechiness    tempo  time_signature  \\\n",
       "7568     -2.749           1       0.0452  100.015               4   \n",
       "15091    -2.749           1       0.0452  100.015               4   \n",
       "17392    -2.749           1       0.0452  100.015               4   \n",
       "14176    -2.749           1       0.0452  100.015               4   \n",
       "11665    -2.749           1       0.0452  100.015               4   \n",
       "11697    -2.749           1       0.0452  100.015               4   \n",
       "5593     -2.749           1       0.0452  100.015               4   \n",
       "4299     -2.749           1       0.0452  100.015               4   \n",
       "16497    -2.749           1       0.0452  100.015               4   \n",
       "17590    -2.749           1       0.0452  100.015               4   \n",
       "7636     -2.749           1       0.0452  100.015               4   \n",
       "17638    -2.749           1       0.0452  100.015               4   \n",
       "1229     -8.304           1       0.3300  104.053               4   \n",
       "11777    -8.304           1       0.3300  104.053               4   \n",
       "17113    -8.304           1       0.3300  104.053               4   \n",
       "17603    -8.304           1       0.3300  104.053               4   \n",
       "4301     -8.304           1       0.3300  104.053               4   \n",
       "17660    -8.304           1       0.3300  104.053               4   \n",
       "14314    -8.304           1       0.3300  104.053               4   \n",
       "5608     -8.304           1       0.3300  104.053               4   \n",
       "\n",
       "       audio_valence  \n",
       "7568           0.671  \n",
       "15091          0.671  \n",
       "17392          0.671  \n",
       "14176          0.671  \n",
       "11665          0.671  \n",
       "11697          0.671  \n",
       "5593           0.671  \n",
       "4299           0.671  \n",
       "16497          0.671  \n",
       "17590          0.671  \n",
       "7636           0.671  \n",
       "17638          0.671  \n",
       "1229           0.329  \n",
       "11777          0.329  \n",
       "17113          0.329  \n",
       "17603          0.329  \n",
       "4301           0.329  \n",
       "17660          0.329  \n",
       "14314          0.329  \n",
       "5608           0.329  "
      ]
     },
     "execution_count": 6,
     "metadata": {},
     "output_type": "execute_result"
    }
   ],
   "source": [
    "base_data.sort_values(by=[\"song_popularity\"], ascending=False).head(20)"
   ]
  },
  {
   "cell_type": "markdown",
   "metadata": {},
   "source": [
    "- song_name = Name des Liedes (String)\n",
    "- song_popularity = Beliebtheit des Liedes in % (int 0-100) --> WAS WIRD IN PROZENT ANGEGEBEN (STREAMS?`)????? The popularity is calculated by algorithm and is based, in the most part, on the total number of plays the track has had and how recent those plays are.\n",
    "- song_duration = Länge des Liedes in ms (int 12s-30min)\n",
    "- acousticness = Akustik eines Liedes in % (float 0-1) Wert von 1.0 bedeutet, dass es ein akustisches Lied ist (nicht elektronisch verstärkt)\n",
    "- danceability = Tanzbarkeit in % (float 0-1) Wert von 1.0 bedeutet, dass das Lied sehr um Tanzen anregt, basierend auf musikalische Elemente wie unteranderem Tempo, Stabilität des Rhytmik, Stärke des Bass' und weiteren.\n",
    "- energy = Intensität und Aktivität des Liedes in % (float 0-1), basierend auf der Schnelligkeit, Lautstärke und Rauschen des Liedes sowie der generellen Entropie. Wert von 1.0 bedeutet, dass ein Lied sehr energetisch ist, beispielsweise Death Metal\n",
    "- instrumentalness = Instrumentalität in % (float 0-1), gibt an in wie weit Vocals im Lied vorhanden sind. Je näher an 1.0, desto wahrscheinlicher Lied ohne Vocals, ab 0.5 kann davon ausgegangen werden, dass Lied instrumental ist\n",
    "- key = Tonart in dem Lied (int -1-11), -1 wenn keine primäre Tonart erkannt wurde (https://de.wikipedia.org/wiki/Tonklasse)\n",
    "- liveness = Wahrscheinlichkeit, dass das Lied eine Liveversion ist (float 0-1), basierend auf Zuschauer/Zuhörer die im Hintegrund entdeckt werden, ab 0.8 kann davon ausgegangen werden, dass es eine Liveversion ist\n",
    "- loudness = gibt die durchschnittliche Lautstärke des Liedes in Decibel an (float -38.0 - 1.5), Lautstärke ist relativ angegeben\n",
    "- audio_mode = Modalität der Tonleiter (int 0=Moll oder 1=Dur) \n",
    "- speechiness = Exklusiv gesprochen, zum Beispiel Reden oder Gedichte (Racism And Injustice von Martin L. King), alles >0.66 sehr wahrscheinlich, dass nur Gesprochen wird, alles <0.33 wenig/kein gesprochenes Wort\n",
    "- tempo = Schätzung zur Geschwindigkeit des Liedes in Beats per Minute (BPM) (float)\n",
    "- time_signature = Taktangabe (int 3-7), gibt Takt von 3/4 Takt bis 7/4 Takt an\n",
    "- audio_valence = Positivität des Liedes (float 0-1), Eine hohe Wertigkeit deutet auf positive Stimmung hin (fröhlich, euphorisch), ein niedriger Wert von einer negativen (aggresiv, melancholisch)\n",
    "\n",
    "Quelle: https://developer.spotify.com/documentation/web-api/reference/#/operations/get-several-audio-features"
   ]
  },
  {
   "cell_type": "markdown",
   "metadata": {},
   "source": [
    "| Feldname | Datentyp / Wertebereich | Beschreibung |\n",
    "| --- | --- | --- |\n",
    "| song_name| String | Der Name des Liedes |\n",
    "| song_popularity | int [0;100] | Die relative Beliebtheit eines Liedes in Prozent. Die Beliebtheit wird an der Gesamtzahl der Streams eines Liedes gemessen. Das Lied mit dem Wert 100 ist das beliebteste Lied. |\n",
    "| song_duration | int | Gibt die Länge eines Liedes in Millisekunden an |\n",
    "| acousticness | float [0;1] | Die Akustikt eines Liedes in Prozent. Ein Wert von 1.0 bedeutet, dass ein Lied sehr akustisch ist und nicht elektronisch verstärkt |\n",
    "| danceability | float [0;1] | Die Tanzbarkeit eines Liedes in Prozent. Ein Wert von 1.0 bedeutet, dass dieses Lied zum Tanzen anregt. Der Wert wird über die musikalischen Elementen wie unteranderem dem Tempo, der Stabilität der Rhytmik, der Stärke des Bass's ermittelt. |\n",
    "| energy | float [0;1] | | "
   ]
  },
  {
   "cell_type": "markdown",
   "metadata": {},
   "source": [
    "### 2.1 Umgang mit fehlenden Werten, Redundanzen und Inkonsistenzen"
   ]
  },
  {
   "cell_type": "code",
   "execution_count": 7,
   "metadata": {},
   "outputs": [
    {
     "name": "stdout",
     "output_type": "stream",
     "text": [
      "<class 'pandas.core.frame.DataFrame'>\n",
      "RangeIndex: 14468 entries, 0 to 14467\n",
      "Data columns (total 15 columns):\n",
      " #   Column            Non-Null Count  Dtype  \n",
      "---  ------            --------------  -----  \n",
      " 0   song_name         14468 non-null  object \n",
      " 1   song_popularity   14468 non-null  int64  \n",
      " 2   song_duration_ms  14468 non-null  int64  \n",
      " 3   acousticness      14468 non-null  float64\n",
      " 4   danceability      14468 non-null  float64\n",
      " 5   energy            14468 non-null  float64\n",
      " 6   instrumentalness  14468 non-null  float64\n",
      " 7   key               14468 non-null  int64  \n",
      " 8   liveness          14468 non-null  float64\n",
      " 9   loudness          14468 non-null  float64\n",
      " 10  audio_mode        14468 non-null  int64  \n",
      " 11  speechiness       14468 non-null  float64\n",
      " 12  tempo             14468 non-null  float64\n",
      " 13  time_signature    14468 non-null  int64  \n",
      " 14  audio_valence     14468 non-null  float64\n",
      "dtypes: float64(9), int64(5), object(1)\n",
      "memory usage: 1.7+ MB\n"
     ]
    }
   ],
   "source": [
    "cleared = base_data.drop_duplicates(subset = [\"song_name\", \"song_duration_ms\"], keep = \"last\").reset_index(drop = True)\n",
    "cleared.info()"
   ]
  },
  {
   "cell_type": "markdown",
   "metadata": {},
   "source": [
    "Redundanzen sind vorhanden, diese werden entfernt anhand gleichem Songtitel und gleicher Songlänge. Dadurch 14.468 Songs, somit circa 4.400 Redundanzen entfernt"
   ]
  },
  {
   "cell_type": "code",
   "execution_count": 8,
   "metadata": {},
   "outputs": [
    {
     "data": {
      "text/html": [
       "<div>\n",
       "<style scoped>\n",
       "    .dataframe tbody tr th:only-of-type {\n",
       "        vertical-align: middle;\n",
       "    }\n",
       "\n",
       "    .dataframe tbody tr th {\n",
       "        vertical-align: top;\n",
       "    }\n",
       "\n",
       "    .dataframe thead th {\n",
       "        text-align: right;\n",
       "    }\n",
       "</style>\n",
       "<table border=\"1\" class=\"dataframe\">\n",
       "  <thead>\n",
       "    <tr style=\"text-align: right;\">\n",
       "      <th></th>\n",
       "      <th>song_name</th>\n",
       "      <th>song_popularity</th>\n",
       "      <th>song_duration_ms</th>\n",
       "      <th>acousticness</th>\n",
       "      <th>danceability</th>\n",
       "      <th>energy</th>\n",
       "      <th>instrumentalness</th>\n",
       "      <th>key</th>\n",
       "      <th>liveness</th>\n",
       "      <th>loudness</th>\n",
       "      <th>audio_mode</th>\n",
       "      <th>speechiness</th>\n",
       "      <th>tempo</th>\n",
       "      <th>time_signature</th>\n",
       "      <th>audio_valence</th>\n",
       "    </tr>\n",
       "  </thead>\n",
       "  <tbody>\n",
       "    <tr>\n",
       "      <th>13326</th>\n",
       "      <td>Happier</td>\n",
       "      <td>100</td>\n",
       "      <td>214289</td>\n",
       "      <td>0.19100</td>\n",
       "      <td>0.687</td>\n",
       "      <td>0.792</td>\n",
       "      <td>0.000000</td>\n",
       "      <td>5</td>\n",
       "      <td>0.1670</td>\n",
       "      <td>-2.749</td>\n",
       "      <td>1</td>\n",
       "      <td>0.0452</td>\n",
       "      <td>100.015</td>\n",
       "      <td>4</td>\n",
       "      <td>0.671</td>\n",
       "    </tr>\n",
       "    <tr>\n",
       "      <th>13346</th>\n",
       "      <td>I Love It (&amp; Lil Pump)</td>\n",
       "      <td>99</td>\n",
       "      <td>127946</td>\n",
       "      <td>0.01140</td>\n",
       "      <td>0.901</td>\n",
       "      <td>0.522</td>\n",
       "      <td>0.000000</td>\n",
       "      <td>2</td>\n",
       "      <td>0.2590</td>\n",
       "      <td>-8.304</td>\n",
       "      <td>1</td>\n",
       "      <td>0.3300</td>\n",
       "      <td>104.053</td>\n",
       "      <td>4</td>\n",
       "      <td>0.329</td>\n",
       "    </tr>\n",
       "    <tr>\n",
       "      <th>13490</th>\n",
       "      <td>Taki Taki (with Selena Gomez, Ozuna &amp; Cardi B)</td>\n",
       "      <td>98</td>\n",
       "      <td>212500</td>\n",
       "      <td>0.15300</td>\n",
       "      <td>0.841</td>\n",
       "      <td>0.798</td>\n",
       "      <td>0.000003</td>\n",
       "      <td>1</td>\n",
       "      <td>0.0618</td>\n",
       "      <td>-4.206</td>\n",
       "      <td>0</td>\n",
       "      <td>0.2290</td>\n",
       "      <td>95.948</td>\n",
       "      <td>4</td>\n",
       "      <td>0.591</td>\n",
       "    </tr>\n",
       "    <tr>\n",
       "      <th>13592</th>\n",
       "      <td>Promises (with Sam Smith)</td>\n",
       "      <td>98</td>\n",
       "      <td>213309</td>\n",
       "      <td>0.01190</td>\n",
       "      <td>0.781</td>\n",
       "      <td>0.768</td>\n",
       "      <td>0.000005</td>\n",
       "      <td>11</td>\n",
       "      <td>0.3250</td>\n",
       "      <td>-5.991</td>\n",
       "      <td>1</td>\n",
       "      <td>0.0394</td>\n",
       "      <td>123.070</td>\n",
       "      <td>4</td>\n",
       "      <td>0.486</td>\n",
       "    </tr>\n",
       "    <tr>\n",
       "      <th>13308</th>\n",
       "      <td>In My Feelings</td>\n",
       "      <td>98</td>\n",
       "      <td>217925</td>\n",
       "      <td>0.05890</td>\n",
       "      <td>0.835</td>\n",
       "      <td>0.626</td>\n",
       "      <td>0.000060</td>\n",
       "      <td>1</td>\n",
       "      <td>0.3960</td>\n",
       "      <td>-5.833</td>\n",
       "      <td>1</td>\n",
       "      <td>0.1250</td>\n",
       "      <td>91.030</td>\n",
       "      <td>4</td>\n",
       "      <td>0.350</td>\n",
       "    </tr>\n",
       "    <tr>\n",
       "      <th>13472</th>\n",
       "      <td>Eastside (with Halsey &amp; Khalid)</td>\n",
       "      <td>98</td>\n",
       "      <td>173799</td>\n",
       "      <td>0.55500</td>\n",
       "      <td>0.560</td>\n",
       "      <td>0.680</td>\n",
       "      <td>0.000000</td>\n",
       "      <td>6</td>\n",
       "      <td>0.1160</td>\n",
       "      <td>-7.648</td>\n",
       "      <td>0</td>\n",
       "      <td>0.3210</td>\n",
       "      <td>89.391</td>\n",
       "      <td>4</td>\n",
       "      <td>0.319</td>\n",
       "    </tr>\n",
       "    <tr>\n",
       "      <th>13290</th>\n",
       "      <td>Lucid Dreams</td>\n",
       "      <td>97</td>\n",
       "      <td>239835</td>\n",
       "      <td>0.34900</td>\n",
       "      <td>0.511</td>\n",
       "      <td>0.566</td>\n",
       "      <td>0.000000</td>\n",
       "      <td>6</td>\n",
       "      <td>0.3400</td>\n",
       "      <td>-7.230</td>\n",
       "      <td>0</td>\n",
       "      <td>0.2000</td>\n",
       "      <td>83.903</td>\n",
       "      <td>4</td>\n",
       "      <td>0.218</td>\n",
       "    </tr>\n",
       "    <tr>\n",
       "      <th>11606</th>\n",
       "      <td>In My Mind</td>\n",
       "      <td>97</td>\n",
       "      <td>184560</td>\n",
       "      <td>0.17600</td>\n",
       "      <td>0.694</td>\n",
       "      <td>0.770</td>\n",
       "      <td>0.000011</td>\n",
       "      <td>6</td>\n",
       "      <td>0.1180</td>\n",
       "      <td>-5.335</td>\n",
       "      <td>1</td>\n",
       "      <td>0.1490</td>\n",
       "      <td>125.905</td>\n",
       "      <td>4</td>\n",
       "      <td>0.163</td>\n",
       "    </tr>\n",
       "    <tr>\n",
       "      <th>13319</th>\n",
       "      <td>Falling Down</td>\n",
       "      <td>97</td>\n",
       "      <td>196400</td>\n",
       "      <td>0.01750</td>\n",
       "      <td>0.669</td>\n",
       "      <td>0.574</td>\n",
       "      <td>0.002940</td>\n",
       "      <td>4</td>\n",
       "      <td>0.1460</td>\n",
       "      <td>-6.442</td>\n",
       "      <td>0</td>\n",
       "      <td>0.0286</td>\n",
       "      <td>120.013</td>\n",
       "      <td>4</td>\n",
       "      <td>0.273</td>\n",
       "    </tr>\n",
       "    <tr>\n",
       "      <th>13469</th>\n",
       "      <td>SICKO MODE</td>\n",
       "      <td>97</td>\n",
       "      <td>312820</td>\n",
       "      <td>0.00513</td>\n",
       "      <td>0.834</td>\n",
       "      <td>0.730</td>\n",
       "      <td>0.000000</td>\n",
       "      <td>8</td>\n",
       "      <td>0.1240</td>\n",
       "      <td>-3.714</td>\n",
       "      <td>1</td>\n",
       "      <td>0.2220</td>\n",
       "      <td>155.008</td>\n",
       "      <td>4</td>\n",
       "      <td>0.446</td>\n",
       "    </tr>\n",
       "    <tr>\n",
       "      <th>13476</th>\n",
       "      <td>Be Alright</td>\n",
       "      <td>96</td>\n",
       "      <td>196373</td>\n",
       "      <td>0.69700</td>\n",
       "      <td>0.553</td>\n",
       "      <td>0.586</td>\n",
       "      <td>0.000000</td>\n",
       "      <td>11</td>\n",
       "      <td>0.0813</td>\n",
       "      <td>-6.319</td>\n",
       "      <td>1</td>\n",
       "      <td>0.0362</td>\n",
       "      <td>126.684</td>\n",
       "      <td>4</td>\n",
       "      <td>0.443</td>\n",
       "    </tr>\n",
       "    <tr>\n",
       "      <th>13296</th>\n",
       "      <td>SAD!</td>\n",
       "      <td>96</td>\n",
       "      <td>166605</td>\n",
       "      <td>0.25800</td>\n",
       "      <td>0.740</td>\n",
       "      <td>0.613</td>\n",
       "      <td>0.003720</td>\n",
       "      <td>8</td>\n",
       "      <td>0.1230</td>\n",
       "      <td>-4.880</td>\n",
       "      <td>1</td>\n",
       "      <td>0.1450</td>\n",
       "      <td>75.023</td>\n",
       "      <td>4</td>\n",
       "      <td>0.473</td>\n",
       "    </tr>\n",
       "    <tr>\n",
       "      <th>13294</th>\n",
       "      <td>Moonlight</td>\n",
       "      <td>96</td>\n",
       "      <td>135090</td>\n",
       "      <td>0.55600</td>\n",
       "      <td>0.921</td>\n",
       "      <td>0.537</td>\n",
       "      <td>0.004040</td>\n",
       "      <td>9</td>\n",
       "      <td>0.1020</td>\n",
       "      <td>-5.723</td>\n",
       "      <td>0</td>\n",
       "      <td>0.0804</td>\n",
       "      <td>128.009</td>\n",
       "      <td>4</td>\n",
       "      <td>0.711</td>\n",
       "    </tr>\n",
       "    <tr>\n",
       "      <th>13480</th>\n",
       "      <td>FEFE (feat. Nicki Minaj &amp; Murda Beatz)</td>\n",
       "      <td>96</td>\n",
       "      <td>179404</td>\n",
       "      <td>0.08800</td>\n",
       "      <td>0.931</td>\n",
       "      <td>0.387</td>\n",
       "      <td>0.000000</td>\n",
       "      <td>1</td>\n",
       "      <td>0.1360</td>\n",
       "      <td>-9.127</td>\n",
       "      <td>1</td>\n",
       "      <td>0.4120</td>\n",
       "      <td>125.978</td>\n",
       "      <td>4</td>\n",
       "      <td>0.376</td>\n",
       "    </tr>\n",
       "    <tr>\n",
       "      <th>10609</th>\n",
       "      <td>Lucky You (feat. Joyner Lucas)</td>\n",
       "      <td>96</td>\n",
       "      <td>244679</td>\n",
       "      <td>0.06270</td>\n",
       "      <td>0.876</td>\n",
       "      <td>0.786</td>\n",
       "      <td>0.000000</td>\n",
       "      <td>10</td>\n",
       "      <td>0.1270</td>\n",
       "      <td>-4.884</td>\n",
       "      <td>0</td>\n",
       "      <td>0.3060</td>\n",
       "      <td>153.068</td>\n",
       "      <td>4</td>\n",
       "      <td>0.575</td>\n",
       "    </tr>\n",
       "    <tr>\n",
       "      <th>13500</th>\n",
       "      <td>BEBE</td>\n",
       "      <td>95</td>\n",
       "      <td>217822</td>\n",
       "      <td>0.17200</td>\n",
       "      <td>0.635</td>\n",
       "      <td>0.902</td>\n",
       "      <td>0.000000</td>\n",
       "      <td>0</td>\n",
       "      <td>0.1250</td>\n",
       "      <td>-3.559</td>\n",
       "      <td>1</td>\n",
       "      <td>0.1090</td>\n",
       "      <td>102.063</td>\n",
       "      <td>4</td>\n",
       "      <td>0.286</td>\n",
       "    </tr>\n",
       "    <tr>\n",
       "      <th>13144</th>\n",
       "      <td>Natural</td>\n",
       "      <td>95</td>\n",
       "      <td>189466</td>\n",
       "      <td>0.21600</td>\n",
       "      <td>0.448</td>\n",
       "      <td>0.612</td>\n",
       "      <td>0.000000</td>\n",
       "      <td>2</td>\n",
       "      <td>0.0800</td>\n",
       "      <td>-6.106</td>\n",
       "      <td>1</td>\n",
       "      <td>0.0708</td>\n",
       "      <td>97.773</td>\n",
       "      <td>4</td>\n",
       "      <td>0.213</td>\n",
       "    </tr>\n",
       "    <tr>\n",
       "      <th>14123</th>\n",
       "      <td>Taste (feat. Offset)</td>\n",
       "      <td>95</td>\n",
       "      <td>232959</td>\n",
       "      <td>0.02360</td>\n",
       "      <td>0.884</td>\n",
       "      <td>0.559</td>\n",
       "      <td>0.000000</td>\n",
       "      <td>0</td>\n",
       "      <td>0.1010</td>\n",
       "      <td>-7.442</td>\n",
       "      <td>1</td>\n",
       "      <td>0.1200</td>\n",
       "      <td>97.994</td>\n",
       "      <td>4</td>\n",
       "      <td>0.342</td>\n",
       "    </tr>\n",
       "    <tr>\n",
       "      <th>13298</th>\n",
       "      <td>Better Now</td>\n",
       "      <td>95</td>\n",
       "      <td>231266</td>\n",
       "      <td>0.35400</td>\n",
       "      <td>0.680</td>\n",
       "      <td>0.563</td>\n",
       "      <td>0.000000</td>\n",
       "      <td>10</td>\n",
       "      <td>0.1360</td>\n",
       "      <td>-5.843</td>\n",
       "      <td>1</td>\n",
       "      <td>0.0454</td>\n",
       "      <td>145.028</td>\n",
       "      <td>4</td>\n",
       "      <td>0.374</td>\n",
       "    </tr>\n",
       "    <tr>\n",
       "      <th>13517</th>\n",
       "      <td>I Like It</td>\n",
       "      <td>95</td>\n",
       "      <td>253390</td>\n",
       "      <td>0.09900</td>\n",
       "      <td>0.816</td>\n",
       "      <td>0.726</td>\n",
       "      <td>0.000000</td>\n",
       "      <td>5</td>\n",
       "      <td>0.3720</td>\n",
       "      <td>-3.998</td>\n",
       "      <td>0</td>\n",
       "      <td>0.1290</td>\n",
       "      <td>136.048</td>\n",
       "      <td>4</td>\n",
       "      <td>0.650</td>\n",
       "    </tr>\n",
       "  </tbody>\n",
       "</table>\n",
       "</div>"
      ],
      "text/plain": [
       "                                            song_name  song_popularity  \\\n",
       "13326                                         Happier              100   \n",
       "13346                          I Love It (& Lil Pump)               99   \n",
       "13490  Taki Taki (with Selena Gomez, Ozuna & Cardi B)               98   \n",
       "13592                       Promises (with Sam Smith)               98   \n",
       "13308                                  In My Feelings               98   \n",
       "13472                 Eastside (with Halsey & Khalid)               98   \n",
       "13290                                    Lucid Dreams               97   \n",
       "11606                                      In My Mind               97   \n",
       "13319                                    Falling Down               97   \n",
       "13469                                      SICKO MODE               97   \n",
       "13476                                      Be Alright               96   \n",
       "13296                                            SAD!               96   \n",
       "13294                                       Moonlight               96   \n",
       "13480          FEFE (feat. Nicki Minaj & Murda Beatz)               96   \n",
       "10609                  Lucky You (feat. Joyner Lucas)               96   \n",
       "13500                                            BEBE               95   \n",
       "13144                                         Natural               95   \n",
       "14123                            Taste (feat. Offset)               95   \n",
       "13298                                      Better Now               95   \n",
       "13517                                       I Like It               95   \n",
       "\n",
       "       song_duration_ms  acousticness  danceability  energy  instrumentalness  \\\n",
       "13326            214289       0.19100         0.687   0.792          0.000000   \n",
       "13346            127946       0.01140         0.901   0.522          0.000000   \n",
       "13490            212500       0.15300         0.841   0.798          0.000003   \n",
       "13592            213309       0.01190         0.781   0.768          0.000005   \n",
       "13308            217925       0.05890         0.835   0.626          0.000060   \n",
       "13472            173799       0.55500         0.560   0.680          0.000000   \n",
       "13290            239835       0.34900         0.511   0.566          0.000000   \n",
       "11606            184560       0.17600         0.694   0.770          0.000011   \n",
       "13319            196400       0.01750         0.669   0.574          0.002940   \n",
       "13469            312820       0.00513         0.834   0.730          0.000000   \n",
       "13476            196373       0.69700         0.553   0.586          0.000000   \n",
       "13296            166605       0.25800         0.740   0.613          0.003720   \n",
       "13294            135090       0.55600         0.921   0.537          0.004040   \n",
       "13480            179404       0.08800         0.931   0.387          0.000000   \n",
       "10609            244679       0.06270         0.876   0.786          0.000000   \n",
       "13500            217822       0.17200         0.635   0.902          0.000000   \n",
       "13144            189466       0.21600         0.448   0.612          0.000000   \n",
       "14123            232959       0.02360         0.884   0.559          0.000000   \n",
       "13298            231266       0.35400         0.680   0.563          0.000000   \n",
       "13517            253390       0.09900         0.816   0.726          0.000000   \n",
       "\n",
       "       key  liveness  loudness  audio_mode  speechiness    tempo  \\\n",
       "13326    5    0.1670    -2.749           1       0.0452  100.015   \n",
       "13346    2    0.2590    -8.304           1       0.3300  104.053   \n",
       "13490    1    0.0618    -4.206           0       0.2290   95.948   \n",
       "13592   11    0.3250    -5.991           1       0.0394  123.070   \n",
       "13308    1    0.3960    -5.833           1       0.1250   91.030   \n",
       "13472    6    0.1160    -7.648           0       0.3210   89.391   \n",
       "13290    6    0.3400    -7.230           0       0.2000   83.903   \n",
       "11606    6    0.1180    -5.335           1       0.1490  125.905   \n",
       "13319    4    0.1460    -6.442           0       0.0286  120.013   \n",
       "13469    8    0.1240    -3.714           1       0.2220  155.008   \n",
       "13476   11    0.0813    -6.319           1       0.0362  126.684   \n",
       "13296    8    0.1230    -4.880           1       0.1450   75.023   \n",
       "13294    9    0.1020    -5.723           0       0.0804  128.009   \n",
       "13480    1    0.1360    -9.127           1       0.4120  125.978   \n",
       "10609   10    0.1270    -4.884           0       0.3060  153.068   \n",
       "13500    0    0.1250    -3.559           1       0.1090  102.063   \n",
       "13144    2    0.0800    -6.106           1       0.0708   97.773   \n",
       "14123    0    0.1010    -7.442           1       0.1200   97.994   \n",
       "13298   10    0.1360    -5.843           1       0.0454  145.028   \n",
       "13517    5    0.3720    -3.998           0       0.1290  136.048   \n",
       "\n",
       "       time_signature  audio_valence  \n",
       "13326               4          0.671  \n",
       "13346               4          0.329  \n",
       "13490               4          0.591  \n",
       "13592               4          0.486  \n",
       "13308               4          0.350  \n",
       "13472               4          0.319  \n",
       "13290               4          0.218  \n",
       "11606               4          0.163  \n",
       "13319               4          0.273  \n",
       "13469               4          0.446  \n",
       "13476               4          0.443  \n",
       "13296               4          0.473  \n",
       "13294               4          0.711  \n",
       "13480               4          0.376  \n",
       "10609               4          0.575  \n",
       "13500               4          0.286  \n",
       "13144               4          0.213  \n",
       "14123               4          0.342  \n",
       "13298               4          0.374  \n",
       "13517               4          0.650  "
      ]
     },
     "execution_count": 8,
     "metadata": {},
     "output_type": "execute_result"
    }
   ],
   "source": [
    "cleared.sort_values(by=[\"song_popularity\"], ascending=False).head(20)"
   ]
  },
  {
   "cell_type": "markdown",
   "metadata": {},
   "source": [
    "Gegenprobe"
   ]
  },
  {
   "cell_type": "code",
   "execution_count": 11,
   "metadata": {},
   "outputs": [
    {
     "data": {
      "text/plain": [
       "Heaven                          8\n",
       "Fire                            8\n",
       "Fall                            7\n",
       "Gone                            7\n",
       "Stay                            7\n",
       "                               ..\n",
       "The Way It Is                   1\n",
       "Contrabando ( Contraband )      1\n",
       "Like Whaaat (feat. Bad Lucc)    1\n",
       "Eternal Flame                   1\n",
       "Nobody Wins                     1\n",
       "Name: song_name, Length: 13070, dtype: int64"
      ]
     },
     "execution_count": 11,
     "metadata": {},
     "output_type": "execute_result"
    }
   ],
   "source": [
    "cleared[\"song_name\"].value_counts()"
   ]
  },
  {
   "cell_type": "markdown",
   "metadata": {},
   "source": [
    "Weiterhin sind Lieder mit dem selben Titel mehrfach vorhanden.\n",
    "Fraglich ob vom selben Künstler und fraglich ob selbe Version des Liedes\n",
    "Daher werden diese Redundanzen nicht entfernt.\n",
    "Von den häufigen Songtiteln vorallem generische Wörte wie \"Heaven\", \"Fire\", \"Fall\", \"Gone\", \"Stay\" - Indiz, dass diese Lieder von unterschiedlichen Künstlern kommen könnten"
   ]
  },
  {
   "cell_type": "markdown",
   "metadata": {},
   "source": [
    "### 2.2 Erweiterung des Datensatzes\n",
    "Zur Erweiterung des Basis-Datensatzes wird die Spotify Web API (https://developer.spotify.com/documentation/web-api/) verwendet. Dazu werden eine Client-ID und ein Client-Secret benötigt, die im Rahmen von ... erstellt werden können. "
   ]
  },
  {
   "cell_type": "code",
   "execution_count": null,
   "metadata": {},
   "outputs": [],
   "source": [
    "CLIENT_ID = \"28f2619d8a6242ceae8160c565174771\"\n",
    "CLIENT_SECRET = \"5f6cb53e2614428380966f0e93e72c16\"\n",
    "\n",
    "sp = spotipy.Spotify(auth_manager=SpotifyClientCredentials(client_id=CLIENT_ID, client_secret=CLIENT_SECRET))\n",
    "\n",
    "expanded = base_data.copy()\n",
    "\n",
    "def expand_row(row):\n",
    "    time.sleep(0.1) # Sleep 100ms, 10 rps, 600 requests per min\n",
    "    results = sp.search(q=row.song_name, limit=50, type=\"track\")\n",
    "\n",
    "    for _, track in enumerate(results[\"tracks\"][\"items\"]):\n",
    "        if track[\"duration_ms\"] == row.song_duration_ms:\n",
    "            row[\"artist\"] = track[\"artists\"][0][\"name\"]\n",
    "            row[\"explicit\"] = track[\"explicit\"]\n",
    "            return row\n",
    "    return row\n",
    "\n",
    "expanded = expanded.apply(expand_row, axis=1)"
   ]
  },
  {
   "cell_type": "markdown",
   "metadata": {},
   "source": [
    "Ausführung der Zelle hat circa 79 Minuten gedauert. Im Verlauf davon wurden 14.468 Anfragen an Spotify gesendet. Insgesamt wurden in vorherigen Tests circa 20.000 Anfragen an Spotify gesendet."
   ]
  },
  {
   "cell_type": "code",
   "execution_count": 13,
   "metadata": {},
   "outputs": [
    {
     "name": "stdout",
     "output_type": "stream",
     "text": [
      "<class 'pandas.core.frame.DataFrame'>\n",
      "RangeIndex: 14468 entries, 0 to 14467\n",
      "Data columns (total 18 columns):\n",
      " #   Column            Non-Null Count  Dtype  \n",
      "---  ------            --------------  -----  \n",
      " 0   Unnamed: 0        14468 non-null  int64  \n",
      " 1   acousticness      14468 non-null  float64\n",
      " 2   artist            10503 non-null  object \n",
      " 3   audio_mode        14468 non-null  int64  \n",
      " 4   audio_valence     14468 non-null  float64\n",
      " 5   danceability      14468 non-null  float64\n",
      " 6   energy            14468 non-null  float64\n",
      " 7   explicit          10503 non-null  object \n",
      " 8   instrumentalness  14468 non-null  float64\n",
      " 9   key               14468 non-null  int64  \n",
      " 10  liveness          14468 non-null  float64\n",
      " 11  loudness          14468 non-null  float64\n",
      " 12  song_duration_ms  14468 non-null  int64  \n",
      " 13  song_name         14468 non-null  object \n",
      " 14  song_popularity   14468 non-null  int64  \n",
      " 15  speechiness       14468 non-null  float64\n",
      " 16  tempo             14468 non-null  float64\n",
      " 17  time_signature    14468 non-null  int64  \n",
      "dtypes: float64(9), int64(6), object(3)\n",
      "memory usage: 2.0+ MB\n"
     ]
    }
   ],
   "source": [
    "expanded.info()\n",
    "expanded.to_csv(\"song_data_expanded.csv\")"
   ]
  },
  {
   "cell_type": "markdown",
   "metadata": {},
   "source": [
    "Leider können bei circa 3900 Zeilen nicht zweifelsfrei Artist bzw. Explizit ermittelt werden. Würde man jeweils auf das erste Ergebnis zurück greifen, wenn mit gleicher Songlänge kein Lied gefunden würde, könnten alle Zeilen gefüllt werden. Aber es ist fraglich, ob das jeweilige Ergebnis richtig ist. Daher davon abgesehen"
   ]
  },
  {
   "cell_type": "markdown",
   "metadata": {},
   "source": [
    "Wurde als eigene csv gecachet um weitere Anfragen zu vermeiden. Die CSV enthält sowohl die bereinigten Daten als auch die Erweiterungen."
   ]
  },
  {
   "cell_type": "code",
   "execution_count": 2,
   "metadata": {},
   "outputs": [],
   "source": [
    "cleared = pd.read_csv(\"song_data_expanded.csv\")"
   ]
  },
  {
   "cell_type": "markdown",
   "metadata": {},
   "source": [
    "## 3 Visualisierung und Korrelationen zwischen den Features\n",
    "\n",
    "\n",
    "- Clustern nach Künstler, haben wenige Künstler viel Popularität oder eher One-Hit-Wunder? --> Z.b. Top 100 nur, da Künstler fehlen\n",
    "- NLP vom Songtitel ?\n",
    "- Genre in Bezug zum Zeitraum"
   ]
  },
  {
   "cell_type": "markdown",
   "metadata": {},
   "source": [
    "### 3.1 Popularität eines Liedes"
   ]
  },
  {
   "cell_type": "code",
   "execution_count": 61,
   "metadata": {},
   "outputs": [
    {
     "data": {
      "text/plain": [
       "<AxesSubplot:>"
      ]
     },
     "execution_count": 61,
     "metadata": {},
     "output_type": "execute_result"
    },
    {
     "data": {
      "image/png": "[encoded data removed]",
      "text/plain": [
       "<Figure size 432x288 with 1 Axes>"
      ]
     },
     "metadata": {
      "needs_background": "light"
     },
     "output_type": "display_data"
    }
   ],
   "source": [
    "cleared[\"song_popularity\"].hist(bins=14)"
   ]
  },
  {
   "cell_type": "markdown",
   "metadata": {},
   "source": [
    "Die Popularität eines Liedes ist mit Ausnahe des Intervalls [0;10] normalverteilt.  --> Ist das dann noch normalverteilt???"
   ]
  },
  {
   "cell_type": "code",
   "execution_count": 62,
   "metadata": {},
   "outputs": [
    {
     "data": {
      "text/plain": [
       "count    14468.000000\n",
       "mean        48.593655\n",
       "std         20.282872\n",
       "min          0.000000\n",
       "25%         37.000000\n",
       "50%         52.000000\n",
       "75%         63.000000\n",
       "max        100.000000\n",
       "Name: song_popularity, dtype: float64"
      ]
     },
     "execution_count": 62,
     "metadata": {},
     "output_type": "execute_result"
    }
   ],
   "source": [
    "cleared[\"song_popularity\"].describe()"
   ]
  },
  {
   "cell_type": "markdown",
   "metadata": {},
   "source": [
    "### 3.2 Länge eines Liedes"
   ]
  },
  {
   "cell_type": "code",
   "execution_count": 53,
   "metadata": {},
   "outputs": [
    {
     "name": "stdout",
     "output_type": "stream",
     "text": [
      "count    1.446800e+04\n",
      "mean     2.189403e+05\n",
      "std      6.287834e+04\n",
      "min      1.200000e+04\n",
      "25%      1.836518e+05\n",
      "50%      2.117835e+05\n",
      "75%      2.448130e+05\n",
      "max      1.799346e+06\n",
      "Name: song_duration_ms, dtype: float64\n",
      "median: 211783.5\n"
     ]
    },
    {
     "data": {
      "image/png": "[encoded data removed]",
      "text/plain": [
       "<Figure size 432x288 with 1 Axes>"
      ]
     },
     "metadata": {
      "needs_background": "light"
     },
     "output_type": "display_data"
    }
   ],
   "source": [
    "cleared[\"song_duration_ms\"].hist(range=[0, 500000], bins=15)\n",
    "\n",
    "print(cleared[\"song_duration_ms\"].describe())\n",
    "print(\"median:\", cleared[\"song_duration_ms\"].median())"
   ]
  },
  {
   "cell_type": "markdown",
   "metadata": {},
   "source": [
    "Die Länge der Lieder ist normalverteilt, zeichnet sich durch Ausreißer auf der rechten Seite aus. \n",
    "Das arithmetische Mittel liegt bei X, der Median bei Y. Die Abweichung zwischen diesen beiden Maßen bedingt durch Ausreißer, Median robuster gegenüber Ausreißern (QUELLE)"
   ]
  },
  {
   "cell_type": "code",
   "execution_count": 20,
   "metadata": {},
   "outputs": [
    {
     "data": {
      "text/plain": [
       "<AxesSubplot:>"
      ]
     },
     "execution_count": 20,
     "metadata": {},
     "output_type": "execute_result"
    },
    {
     "data": {
      "image/png": "[encoded data removed]",
      "text/plain": [
       "<Figure size 432x288 with 1 Axes>"
      ]
     },
     "metadata": {
      "needs_background": "light"
     },
     "output_type": "display_data"
    }
   ],
   "source": [
    "cleared[\"song_duration_ms\"].plot.box()"
   ]
  },
  {
   "cell_type": "markdown",
   "metadata": {},
   "source": [
    "Boxplot stellt dar, wie deutliche Ausreißer besonders nach oben hin auftreten. Evtl. Indikator welches Intervall betrachtet werden sollte - gerade wenn Filtering nötig wird, um bessere Ergebnisse zu erzielen"
   ]
  },
  {
   "cell_type": "markdown",
   "metadata": {},
   "source": [
    "### 3.3 Musikalische Eigenschaften (numerisch) eines Liedes"
   ]
  },
  {
   "cell_type": "code",
   "execution_count": 18,
   "metadata": {},
   "outputs": [
    {
     "data": {
      "text/plain": [
       "<AxesSubplot:>"
      ]
     },
     "execution_count": 18,
     "metadata": {},
     "output_type": "execute_result"
    },
    {
     "data": {
      "image/png": "[encoded data removed]",
      "text/plain": [
       "<Figure size 1080x1080 with 9 Axes>"
      ]
     },
     "metadata": {
      "needs_background": "light"
     },
     "output_type": "display_data"
    }
   ],
   "source": [
    "fig, axes = plt.subplots(nrows=3, ncols=3)\n",
    "fig.set_figheight(15)\n",
    "fig.set_figwidth(15)\n",
    "\n",
    "cleared[\"acousticness\"].hist(ax=axes[0,0])\n",
    "cleared[\"danceability\"].hist(ax=axes[0,1])\n",
    "cleared[\"energy\"].hist(ax=axes[0,2])\n",
    "\n",
    "cleared[\"instrumentalness\"].hist(ax=axes[1,0])\n",
    "cleared[\"liveness\"].hist(ax=axes[1,1])\n",
    "cleared[\"loudness\"].hist(ax=axes[1,2])\n",
    "\n",
    "cleared[\"speechiness\"].hist(ax=axes[2,0])\n",
    "cleared[\"tempo\"].hist(ax=axes[2,1])\n",
    "cleared[\"audio_valence\"].hist(ax=axes[2,2])"
   ]
  },
  {
   "cell_type": "markdown",
   "metadata": {},
   "source": [
    "#### 3.3.1 Acousticness"
   ]
  },
  {
   "cell_type": "code",
   "execution_count": 68,
   "metadata": {},
   "outputs": [
    {
     "data": {
      "text/plain": [
       "<AxesSubplot:>"
      ]
     },
     "execution_count": 68,
     "metadata": {},
     "output_type": "execute_result"
    },
    {
     "data": {
      "image/png": "[encoded data removed]",
      "text/plain": [
       "<Figure size 432x288 with 1 Axes>"
      ]
     },
     "metadata": {
      "needs_background": "light"
     },
     "output_type": "display_data"
    }
   ],
   "source": [
    "cleared[\"acousticness\"].hist()"
   ]
  },
  {
   "cell_type": "markdown",
   "metadata": {},
   "source": [
    "Die Akustik der Lieder ist mit Ausnahme des Intervalls [0.0;0.1] nahezu gleichverteilt"
   ]
  },
  {
   "cell_type": "code",
   "execution_count": 12,
   "metadata": {},
   "outputs": [
    {
     "data": {
      "text/plain": [
       "count    14468.000000\n",
       "mean         0.273181\n",
       "std          0.299414\n",
       "min          0.000001\n",
       "25%          0.024300\n",
       "50%          0.142000\n",
       "75%          0.466000\n",
       "max          0.996000\n",
       "Name: acousticness, dtype: float64"
      ]
     },
     "execution_count": 12,
     "metadata": {},
     "output_type": "execute_result"
    }
   ],
   "source": [
    "cleared[\"acousticness\"].describe()"
   ]
  },
  {
   "cell_type": "markdown",
   "metadata": {},
   "source": [
    "#### 3.3.2 Danceability"
   ]
  },
  {
   "cell_type": "code",
   "execution_count": 70,
   "metadata": {},
   "outputs": [
    {
     "data": {
      "text/plain": [
       "<AxesSubplot:>"
      ]
     },
     "execution_count": 70,
     "metadata": {},
     "output_type": "execute_result"
    },
    {
     "data": {
      "image/png": "[encoded data removed]",
      "text/plain": [
       "<Figure size 432x288 with 1 Axes>"
      ]
     },
     "metadata": {
      "needs_background": "light"
     },
     "output_type": "display_data"
    }
   ],
   "source": [
    "cleared[\"danceability\"].hist(bins=14)"
   ]
  },
  {
   "cell_type": "markdown",
   "metadata": {},
   "source": [
    "Normalverteilt?"
   ]
  },
  {
   "cell_type": "code",
   "execution_count": 71,
   "metadata": {},
   "outputs": [
    {
     "data": {
      "text/plain": [
       "count    14468.000000\n",
       "mean         0.624570\n",
       "std          0.158247\n",
       "min          0.000000\n",
       "25%          0.524000\n",
       "50%          0.636000\n",
       "75%          0.740000\n",
       "max          0.987000\n",
       "Name: danceability, dtype: float64"
      ]
     },
     "execution_count": 71,
     "metadata": {},
     "output_type": "execute_result"
    }
   ],
   "source": [
    "cleared[\"danceability\"].describe()"
   ]
  },
  {
   "cell_type": "markdown",
   "metadata": {},
   "source": [
    "#### 3.3.3 Energy"
   ]
  },
  {
   "cell_type": "code",
   "execution_count": 73,
   "metadata": {},
   "outputs": [
    {
     "data": {
      "text/plain": [
       "<AxesSubplot:>"
      ]
     },
     "execution_count": 73,
     "metadata": {},
     "output_type": "execute_result"
    },
    {
     "data": {
      "image/png": "[encoded data removed]",
      "text/plain": [
       "<Figure size 432x288 with 1 Axes>"
      ]
     },
     "metadata": {
      "needs_background": "light"
     },
     "output_type": "display_data"
    }
   ],
   "source": [
    "cleared[\"energy\"].hist(bins=12)"
   ]
  },
  {
   "cell_type": "markdown",
   "metadata": {},
   "source": []
  },
  {
   "cell_type": "code",
   "execution_count": 14,
   "metadata": {},
   "outputs": [
    {
     "data": {
      "text/plain": [
       "count    14468.000000\n",
       "mean         0.638505\n",
       "std          0.222621\n",
       "min          0.001070\n",
       "25%          0.494000\n",
       "50%          0.671000\n",
       "75%          0.817000\n",
       "max          0.999000\n",
       "Name: energy, dtype: float64"
      ]
     },
     "execution_count": 14,
     "metadata": {},
     "output_type": "execute_result"
    }
   ],
   "source": [
    "cleared[\"energy\"].describe()"
   ]
  },
  {
   "cell_type": "markdown",
   "metadata": {},
   "source": [
    "#### 3.3.4 Instrumentalness"
   ]
  },
  {
   "cell_type": "code",
   "execution_count": 42,
   "metadata": {},
   "outputs": [
    {
     "data": {
      "text/plain": [
       "<AxesSubplot:>"
      ]
     },
     "execution_count": 42,
     "metadata": {},
     "output_type": "execute_result"
    },
    {
     "data": {
      "image/png": "[encoded data removed]",
      "text/plain": [
       "<Figure size 432x288 with 1 Axes>"
      ]
     },
     "metadata": {
      "needs_background": "light"
     },
     "output_type": "display_data"
    }
   ],
   "source": [
    "cleared[\"instrumentalness\"].hist()"
   ]
  },
  {
   "cell_type": "markdown",
   "metadata": {},
   "source": [
    "Großteil der Werte Liegen in dem Intervall [0;0.1]. Deswegen dort genauere Betrachtung"
   ]
  },
  {
   "cell_type": "code",
   "execution_count": 7,
   "metadata": {},
   "outputs": [
    {
     "data": {
      "text/plain": [
       "0.000000    5057\n",
       "0.001050      13\n",
       "0.000001      13\n",
       "0.001030      12\n",
       "0.000011      11\n",
       "            ... \n",
       "0.000009       1\n",
       "0.623000       1\n",
       "0.008280       1\n",
       "0.000008       1\n",
       "0.989000       1\n",
       "Name: instrumentalness, Length: 3903, dtype: int64"
      ]
     },
     "execution_count": 7,
     "metadata": {},
     "output_type": "execute_result"
    },
    {
     "data": {
      "image/png": "[encoded data removed]",
      "text/plain": [
       "<Figure size 432x288 with 1 Axes>"
      ]
     },
     "metadata": {
      "needs_background": "light"
     },
     "output_type": "display_data"
    }
   ],
   "source": [
    "cleared[\"instrumentalness\"].hist(range=[0, 0.1], bins=20)\n",
    "cleared[\"instrumentalness\"].value_counts()"
   ]
  },
  {
   "cell_type": "code",
   "execution_count": 15,
   "metadata": {},
   "outputs": [
    {
     "data": {
      "text/plain": [
       "count    14468.000000\n",
       "mean         0.093888\n",
       "std          0.242796\n",
       "min          0.000000\n",
       "25%          0.000000\n",
       "50%          0.000022\n",
       "75%          0.005482\n",
       "max          0.997000\n",
       "Name: instrumentalness, dtype: float64"
      ]
     },
     "execution_count": 15,
     "metadata": {},
     "output_type": "execute_result"
    }
   ],
   "source": [
    "cleared[\"instrumentalness\"].describe()"
   ]
  },
  {
   "cell_type": "markdown",
   "metadata": {},
   "source": [
    "#### 3.3.5 Liveness"
   ]
  },
  {
   "cell_type": "code",
   "execution_count": 75,
   "metadata": {},
   "outputs": [
    {
     "data": {
      "text/plain": [
       "<AxesSubplot:>"
      ]
     },
     "execution_count": 75,
     "metadata": {},
     "output_type": "execute_result"
    },
    {
     "data": {
      "image/png": "[encoded data removed]",
      "text/plain": [
       "<Figure size 432x288 with 1 Axes>"
      ]
     },
     "metadata": {
      "needs_background": "light"
     },
     "output_type": "display_data"
    }
   ],
   "source": [
    "cleared[\"liveness\"].hist(bins=12)"
   ]
  },
  {
   "cell_type": "code",
   "execution_count": 16,
   "metadata": {},
   "outputs": [
    {
     "data": {
      "text/plain": [
       "count    14468.000000\n",
       "mean         0.180578\n",
       "std          0.145397\n",
       "min          0.010900\n",
       "25%          0.093100\n",
       "50%          0.121000\n",
       "75%          0.224000\n",
       "max          0.986000\n",
       "Name: liveness, dtype: float64"
      ]
     },
     "execution_count": 16,
     "metadata": {},
     "output_type": "execute_result"
    }
   ],
   "source": [
    "cleared[\"liveness\"].describe()"
   ]
  },
  {
   "cell_type": "markdown",
   "metadata": {},
   "source": [
    "#### 3.3.6 Loudness"
   ]
  },
  {
   "cell_type": "code",
   "execution_count": 77,
   "metadata": {},
   "outputs": [
    {
     "data": {
      "text/plain": [
       "<AxesSubplot:>"
      ]
     },
     "execution_count": 77,
     "metadata": {},
     "output_type": "execute_result"
    },
    {
     "data": {
      "image/png": "[encoded data removed]",
      "text/plain": [
       "<Figure size 432x288 with 1 Axes>"
      ]
     },
     "metadata": {
      "needs_background": "light"
     },
     "output_type": "display_data"
    }
   ],
   "source": [
    "cleared[\"loudness\"].hist(bins=16)"
   ]
  },
  {
   "cell_type": "code",
   "execution_count": 17,
   "metadata": {},
   "outputs": [
    {
     "data": {
      "text/plain": [
       "count    14468.000000\n",
       "mean        -7.718469\n",
       "std          4.046014\n",
       "min        -38.768000\n",
       "25%         -9.439250\n",
       "50%         -6.787500\n",
       "75%         -5.017750\n",
       "max          1.585000\n",
       "Name: loudness, dtype: float64"
      ]
     },
     "execution_count": 17,
     "metadata": {},
     "output_type": "execute_result"
    }
   ],
   "source": [
    "cleared[\"loudness\"].describe()"
   ]
  },
  {
   "cell_type": "markdown",
   "metadata": {},
   "source": [
    "#### 3.3.7 Speechiness"
   ]
  },
  {
   "cell_type": "code",
   "execution_count": 78,
   "metadata": {},
   "outputs": [
    {
     "data": {
      "text/plain": [
       "<AxesSubplot:>"
      ]
     },
     "execution_count": 78,
     "metadata": {},
     "output_type": "execute_result"
    },
    {
     "data": {
      "image/png": "[encoded data removed]",
      "text/plain": [
       "<Figure size 432x288 with 1 Axes>"
      ]
     },
     "metadata": {
      "needs_background": "light"
     },
     "output_type": "display_data"
    }
   ],
   "source": [
    "cleared[\"speechiness\"].hist(bins=16)"
   ]
  },
  {
   "cell_type": "code",
   "execution_count": 18,
   "metadata": {},
   "outputs": [
    {
     "data": {
      "text/plain": [
       "count    14468.000000\n",
       "mean         0.099633\n",
       "std          0.103932\n",
       "min          0.000000\n",
       "25%          0.037200\n",
       "50%          0.054100\n",
       "75%          0.113000\n",
       "max          0.941000\n",
       "Name: speechiness, dtype: float64"
      ]
     },
     "execution_count": 18,
     "metadata": {},
     "output_type": "execute_result"
    }
   ],
   "source": [
    "cleared[\"speechiness\"].describe()"
   ]
  },
  {
   "cell_type": "markdown",
   "metadata": {},
   "source": [
    "#### 3.3.8 Tempo"
   ]
  },
  {
   "cell_type": "code",
   "execution_count": 82,
   "metadata": {},
   "outputs": [
    {
     "data": {
      "text/plain": [
       "<AxesSubplot:>"
      ]
     },
     "execution_count": 82,
     "metadata": {},
     "output_type": "execute_result"
    },
    {
     "data": {
      "image/png": "[encoded data removed]",
      "text/plain": [
       "<Figure size 432x288 with 1 Axes>"
      ]
     },
     "metadata": {
      "needs_background": "light"
     },
     "output_type": "display_data"
    }
   ],
   "source": [
    "cleared[\"tempo\"].hist()"
   ]
  },
  {
   "cell_type": "code",
   "execution_count": 19,
   "metadata": {},
   "outputs": [
    {
     "data": {
      "text/plain": [
       "count    14468.000000\n",
       "mean       121.191691\n",
       "std         29.079174\n",
       "min          0.000000\n",
       "25%         98.227250\n",
       "50%        120.023500\n",
       "75%        139.956000\n",
       "max        242.318000\n",
       "Name: tempo, dtype: float64"
      ]
     },
     "execution_count": 19,
     "metadata": {},
     "output_type": "execute_result"
    }
   ],
   "source": [
    "cleared[\"tempo\"].describe()"
   ]
  },
  {
   "cell_type": "markdown",
   "metadata": {},
   "source": [
    "#### 3.3.9 Audio Valence"
   ]
  },
  {
   "cell_type": "code",
   "execution_count": 49,
   "metadata": {},
   "outputs": [
    {
     "data": {
      "text/plain": [
       "<AxesSubplot:>"
      ]
     },
     "execution_count": 49,
     "metadata": {},
     "output_type": "execute_result"
    },
    {
     "data": {
      "image/png": "[encoded data removed]",
      "text/plain": [
       "<Figure size 432x288 with 1 Axes>"
      ]
     },
     "metadata": {
      "needs_background": "light"
     },
     "output_type": "display_data"
    }
   ],
   "source": [
    "cleared[\"audio_valence\"].hist()"
   ]
  },
  {
   "cell_type": "code",
   "execution_count": 20,
   "metadata": {},
   "outputs": [
    {
     "data": {
      "text/plain": [
       "count    14468.000000\n",
       "mean         0.527793\n",
       "std          0.248473\n",
       "min          0.000000\n",
       "25%          0.332000\n",
       "50%          0.528000\n",
       "75%          0.730000\n",
       "max          0.984000\n",
       "Name: audio_valence, dtype: float64"
      ]
     },
     "execution_count": 20,
     "metadata": {},
     "output_type": "execute_result"
    }
   ],
   "source": [
    "cleared[\"audio_valence\"].describe()"
   ]
  },
  {
   "cell_type": "markdown",
   "metadata": {},
   "source": [
    "## 3.4 Musikalische Eigenschaften (kategorisch) eines Liedes"
   ]
  },
  {
   "cell_type": "markdown",
   "metadata": {},
   "source": [
    "### 3.4.1 key (Tonart)"
   ]
  },
  {
   "cell_type": "code",
   "execution_count": 105,
   "metadata": {},
   "outputs": [
    {
     "data": {
      "text/plain": [
       "([<matplotlib.axis.XTick at 0x20fea67ac10>,\n",
       "  <matplotlib.axis.XTick at 0x20fea67abe0>,\n",
       "  <matplotlib.axis.XTick at 0x20fea6a6070>,\n",
       "  <matplotlib.axis.XTick at 0x20fe9b451c0>,\n",
       "  <matplotlib.axis.XTick at 0x20fe9b45820>,\n",
       "  <matplotlib.axis.XTick at 0x20fe9b45d30>,\n",
       "  <matplotlib.axis.XTick at 0x20fe9b4d280>,\n",
       "  <matplotlib.axis.XTick at 0x20fe9b4d790>,\n",
       "  <matplotlib.axis.XTick at 0x20fe9b454f0>,\n",
       "  <matplotlib.axis.XTick at 0x20fe9b4da90>,\n",
       "  <matplotlib.axis.XTick at 0x20fe9b4deb0>,\n",
       "  <matplotlib.axis.XTick at 0x20fe9b55400>],\n",
       " [Text(0, 0, 'C'),\n",
       "  Text(1, 0, 'C#'),\n",
       "  Text(2, 0, 'D'),\n",
       "  Text(3, 0, 'D#'),\n",
       "  Text(4, 0, 'E'),\n",
       "  Text(5, 0, 'F'),\n",
       "  Text(6, 0, 'F#'),\n",
       "  Text(7, 0, 'G'),\n",
       "  Text(8, 0, 'G#'),\n",
       "  Text(9, 0, 'A'),\n",
       "  Text(10, 0, 'A#'),\n",
       "  Text(11, 0, 'B')])"
      ]
     },
     "execution_count": 105,
     "metadata": {},
     "output_type": "execute_result"
    },
    {
     "data": {
      "image/png": "[encoded data removed]",
      "text/plain": [
       "<Figure size 864x432 with 1 Axes>"
      ]
     },
     "metadata": {
      "needs_background": "light"
     },
     "output_type": "display_data"
    }
   ],
   "source": [
    "fig, ax = plt.subplots(figsize=(12, 6))\n",
    "cleared[\"key\"].value_counts().sort_index().plot.bar()\n",
    "\n",
    "plt.xticks(range(0, 12), labels=[\"C\", \"C#\", \"D\", \"D#\", \"E\", \"F\", \"F#\", \"G\", \"G#\", \"A\", \"A#\", \"B\"], rotation=0)"
   ]
  },
  {
   "cell_type": "code",
   "execution_count": 95,
   "metadata": {},
   "outputs": [
    {
     "data": {
      "text/plain": [
       "0     1674\n",
       "7     1601\n",
       "1     1540\n",
       "9     1373\n",
       "2     1359\n",
       "5     1214\n",
       "11    1180\n",
       "4     1058\n",
       "6     1024\n",
       "8     1017\n",
       "10    1001\n",
       "3      427\n",
       "Name: key, dtype: int64"
      ]
     },
     "execution_count": 95,
     "metadata": {},
     "output_type": "execute_result"
    }
   ],
   "source": [
    "cleared[\"key\"].value_counts()"
   ]
  },
  {
   "cell_type": "markdown",
   "metadata": {},
   "source": [
    "### 3.4.2 audio_mode (Modalität der Tonleiter)"
   ]
  },
  {
   "cell_type": "code",
   "execution_count": 107,
   "metadata": {},
   "outputs": [
    {
     "data": {
      "text/plain": [
       "([<matplotlib.axis.XTick at 0x20fe9bcff10>,\n",
       "  <matplotlib.axis.XTick at 0x20fe9bcfee0>],\n",
       " [Text(0, 0, 'Moll'), Text(1, 0, 'Dur')])"
      ]
     },
     "execution_count": 107,
     "metadata": {},
     "output_type": "execute_result"
    },
    {
     "data": {
      "image/png": "[encoded data removed]",
      "text/plain": [
       "<Figure size 432x288 with 1 Axes>"
      ]
     },
     "metadata": {
      "needs_background": "light"
     },
     "output_type": "display_data"
    }
   ],
   "source": [
    "cleared[\"audio_mode\"].value_counts().sort_index().plot.bar()\n",
    "plt.xticks([0, 1], labels=[\"Moll\", \"Dur\"], rotation=0)"
   ]
  },
  {
   "cell_type": "markdown",
   "metadata": {},
   "source": [
    "### 3.4.3 time_signature (Taktangabe)\n",
    "\n",
    "Taktangabe (int 3-7), gibt Takt von 3/4 Takt bis 7/4 Takt an"
   ]
  },
  {
   "cell_type": "code",
   "execution_count": 112,
   "metadata": {},
   "outputs": [
    {
     "data": {
      "text/plain": [
       "([<matplotlib.axis.XTick at 0x20fea74c1c0>,\n",
       "  <matplotlib.axis.XTick at 0x20fea74c190>,\n",
       "  <matplotlib.axis.XTick at 0x20fea7458b0>,\n",
       "  <matplotlib.axis.XTick at 0x20fea77c490>,\n",
       "  <matplotlib.axis.XTick at 0x20fea77caf0>],\n",
       " [Text(0, 0, '3/4'),\n",
       "  Text(1, 0, '4/4'),\n",
       "  Text(2, 0, '5/4'),\n",
       "  Text(3, 0, '6/4'),\n",
       "  Text(4, 0, '7/4')])"
      ]
     },
     "execution_count": 112,
     "metadata": {},
     "output_type": "execute_result"
    },
    {
     "data": {
      "image/png": "[encoded data removed]",
      "text/plain": [
       "<Figure size 432x288 with 1 Axes>"
      ]
     },
     "metadata": {
      "needs_background": "light"
     },
     "output_type": "display_data"
    }
   ],
   "source": [
    "cleared[\"time_signature\"].value_counts().sort_index().plot.bar()\n",
    "plt.xticks(range(0, 5), labels=[\"3/4\", \"4/4\", \"5/4\", \"6/4\", \"7/4\"], rotation=0)\n",
    "\n",
    "# Irgendwas stimmt hier noch nicht 4/4 am häufigsten eig"
   ]
  },
  {
   "cell_type": "code",
   "execution_count": 111,
   "metadata": {},
   "outputs": [
    {
     "data": {
      "text/plain": [
       "count    14468.000000\n",
       "mean         3.953000\n",
       "std          0.316593\n",
       "min          0.000000\n",
       "25%          4.000000\n",
       "50%          4.000000\n",
       "75%          4.000000\n",
       "max          5.000000\n",
       "Name: time_signature, dtype: float64"
      ]
     },
     "execution_count": 111,
     "metadata": {},
     "output_type": "execute_result"
    }
   ],
   "source": [
    "cleared[\"time_signature\"].describe()"
   ]
  },
  {
   "cell_type": "markdown",
   "metadata": {},
   "source": [
    "## 3.5 Korrelationen zwischen den Datenwerten"
   ]
  },
  {
   "cell_type": "code",
   "execution_count": 46,
   "metadata": {},
   "outputs": [
    {
     "data": {
      "image/png": "[encoded data removed]",
      "text/plain": [
       "<Figure size 864x864 with 2 Axes>"
      ]
     },
     "metadata": {
      "needs_background": "light"
     },
     "output_type": "display_data"
    }
   ],
   "source": [
    "# Instrumentalness mit accousticness\n",
    "matrix = cleared.corr()\n",
    "fig, ax = plt.subplots(figsize=(12, 12))\n",
    "sns.heatmap(matrix, annot=True)\n",
    "plt.show()"
   ]
  },
  {
   "cell_type": "markdown",
   "metadata": {},
   "source": [
    "## 4 Datentransformation und Preprocessing"
   ]
  },
  {
   "cell_type": "markdown",
   "metadata": {},
   "source": [
    "Erste Ergebnisse waren sehr schlecht. R² Werte von 0.02 erhalten\n",
    "\n",
    "Normalisierung wird verwendet um Werte in ein festes Intervall zu überführen. Die meisten Werten nicht notwendig, da sie bereits in dem Intervall [0, 1] liegen."
   ]
  },
  {
   "cell_type": "markdown",
   "metadata": {},
   "source": [
    "### 4.1 Auswahl der Features"
   ]
  },
  {
   "cell_type": "code",
   "execution_count": 16,
   "metadata": {},
   "outputs": [],
   "source": [
    "X = cleared[[\"song_duration_ms\", \"acousticness\", \"danceability\", \"energy\", \"instrumentalness\", \"key\", \"liveness\", \"loudness\", \"audio_mode\", \"speechiness\", \"tempo\", \"time_signature\", \"audio_valence\"]]\n",
    "y = cleared[\"song_popularity\"]"
   ]
  },
  {
   "cell_type": "markdown",
   "metadata": {},
   "source": [
    "### 4.2 Trainings- und Testdatensatz Split"
   ]
  },
  {
   "cell_type": "code",
   "execution_count": 17,
   "metadata": {},
   "outputs": [
    {
     "name": "stdout",
     "output_type": "stream",
     "text": [
      "Trainingsdatensatz: 11574 Testdatensatz: 2894\n"
     ]
    },
    {
     "data": {
      "text/html": [
       "<div>\n",
       "<style scoped>\n",
       "    .dataframe tbody tr th:only-of-type {\n",
       "        vertical-align: middle;\n",
       "    }\n",
       "\n",
       "    .dataframe tbody tr th {\n",
       "        vertical-align: top;\n",
       "    }\n",
       "\n",
       "    .dataframe thead th {\n",
       "        text-align: right;\n",
       "    }\n",
       "</style>\n",
       "<table border=\"1\" class=\"dataframe\">\n",
       "  <thead>\n",
       "    <tr style=\"text-align: right;\">\n",
       "      <th></th>\n",
       "      <th>song_duration_ms</th>\n",
       "      <th>acousticness</th>\n",
       "      <th>danceability</th>\n",
       "      <th>energy</th>\n",
       "      <th>instrumentalness</th>\n",
       "      <th>key</th>\n",
       "      <th>liveness</th>\n",
       "      <th>loudness</th>\n",
       "      <th>audio_mode</th>\n",
       "      <th>speechiness</th>\n",
       "      <th>tempo</th>\n",
       "      <th>time_signature</th>\n",
       "      <th>audio_valence</th>\n",
       "    </tr>\n",
       "  </thead>\n",
       "  <tbody>\n",
       "    <tr>\n",
       "      <th>8299</th>\n",
       "      <td>141093</td>\n",
       "      <td>0.13000</td>\n",
       "      <td>0.710</td>\n",
       "      <td>0.5080</td>\n",
       "      <td>0.0487</td>\n",
       "      <td>1</td>\n",
       "      <td>0.119</td>\n",
       "      <td>-10.663</td>\n",
       "      <td>1</td>\n",
       "      <td>0.0665</td>\n",
       "      <td>138.999</td>\n",
       "      <td>4</td>\n",
       "      <td>0.748</td>\n",
       "    </tr>\n",
       "    <tr>\n",
       "      <th>14414</th>\n",
       "      <td>228013</td>\n",
       "      <td>0.92400</td>\n",
       "      <td>0.502</td>\n",
       "      <td>0.0548</td>\n",
       "      <td>0.0418</td>\n",
       "      <td>1</td>\n",
       "      <td>0.108</td>\n",
       "      <td>-23.684</td>\n",
       "      <td>1</td>\n",
       "      <td>0.0356</td>\n",
       "      <td>78.455</td>\n",
       "      <td>4</td>\n",
       "      <td>0.506</td>\n",
       "    </tr>\n",
       "    <tr>\n",
       "      <th>7823</th>\n",
       "      <td>92250</td>\n",
       "      <td>0.83800</td>\n",
       "      <td>0.857</td>\n",
       "      <td>0.1460</td>\n",
       "      <td>0.9540</td>\n",
       "      <td>4</td>\n",
       "      <td>0.109</td>\n",
       "      <td>-10.946</td>\n",
       "      <td>1</td>\n",
       "      <td>0.3300</td>\n",
       "      <td>82.900</td>\n",
       "      <td>4</td>\n",
       "      <td>0.776</td>\n",
       "    </tr>\n",
       "    <tr>\n",
       "      <th>6754</th>\n",
       "      <td>302840</td>\n",
       "      <td>0.00076</td>\n",
       "      <td>0.451</td>\n",
       "      <td>0.9310</td>\n",
       "      <td>0.0049</td>\n",
       "      <td>9</td>\n",
       "      <td>0.361</td>\n",
       "      <td>-3.871</td>\n",
       "      <td>1</td>\n",
       "      <td>0.0719</td>\n",
       "      <td>122.961</td>\n",
       "      <td>4</td>\n",
       "      <td>0.172</td>\n",
       "    </tr>\n",
       "    <tr>\n",
       "      <th>2334</th>\n",
       "      <td>138701</td>\n",
       "      <td>0.00663</td>\n",
       "      <td>0.815</td>\n",
       "      <td>0.4920</td>\n",
       "      <td>0.0000</td>\n",
       "      <td>2</td>\n",
       "      <td>0.166</td>\n",
       "      <td>-9.289</td>\n",
       "      <td>1</td>\n",
       "      <td>0.3270</td>\n",
       "      <td>77.005</td>\n",
       "      <td>4</td>\n",
       "      <td>0.499</td>\n",
       "    </tr>\n",
       "  </tbody>\n",
       "</table>\n",
       "</div>"
      ],
      "text/plain": [
       "       song_duration_ms  acousticness  danceability  energy  instrumentalness  \\\n",
       "8299             141093       0.13000         0.710  0.5080            0.0487   \n",
       "14414            228013       0.92400         0.502  0.0548            0.0418   \n",
       "7823              92250       0.83800         0.857  0.1460            0.9540   \n",
       "6754             302840       0.00076         0.451  0.9310            0.0049   \n",
       "2334             138701       0.00663         0.815  0.4920            0.0000   \n",
       "\n",
       "       key  liveness  loudness  audio_mode  speechiness    tempo  \\\n",
       "8299     1     0.119   -10.663           1       0.0665  138.999   \n",
       "14414    1     0.108   -23.684           1       0.0356   78.455   \n",
       "7823     4     0.109   -10.946           1       0.3300   82.900   \n",
       "6754     9     0.361    -3.871           1       0.0719  122.961   \n",
       "2334     2     0.166    -9.289           1       0.3270   77.005   \n",
       "\n",
       "       time_signature  audio_valence  \n",
       "8299                4          0.748  \n",
       "14414               4          0.506  \n",
       "7823                4          0.776  \n",
       "6754                4          0.172  \n",
       "2334                4          0.499  "
      ]
     },
     "execution_count": 17,
     "metadata": {},
     "output_type": "execute_result"
    }
   ],
   "source": [
    "X_train, X_test, y_train, y_test = train_test_split(X, y, random_state=7, test_size=0.2)\n",
    "\n",
    "print(\"Trainingsdatensatz:\", len(X_train), \"Testdatensatz:\", len(X_test))\n",
    "X_train.head()"
   ]
  },
  {
   "cell_type": "markdown",
   "metadata": {},
   "source": [
    "### 4.3 Normalisierung und Standardisierung der Features"
   ]
  },
  {
   "cell_type": "code",
   "execution_count": 21,
   "metadata": {},
   "outputs": [
    {
     "ename": "ValueError",
     "evalue": "Expected 2D array, got 1D array instead:\narray=[ 0. 64. 68. ... 56. 12. 46.].\nReshape your data either using array.reshape(-1, 1) if your data has a single feature or array.reshape(1, -1) if it contains a single sample.",
     "output_type": "error",
     "traceback": [
      "\u001b[1;31m---------------------------------------------------------------------------\u001b[0m",
      "\u001b[1;31mValueError\u001b[0m                                Traceback (most recent call last)",
      "\u001b[1;32m<ipython-input-21-bd5cb3c52490>\u001b[0m in \u001b[0;36m<module>\u001b[1;34m\u001b[0m\n\u001b[0;32m      1\u001b[0m \u001b[0mscaler\u001b[0m \u001b[1;33m=\u001b[0m \u001b[0mRobustScaler\u001b[0m\u001b[1;33m(\u001b[0m\u001b[1;33m)\u001b[0m\u001b[1;33m\u001b[0m\u001b[1;33m\u001b[0m\u001b[0m\n\u001b[1;32m----> 2\u001b[1;33m \u001b[0mscaler\u001b[0m\u001b[1;33m.\u001b[0m\u001b[0mfit\u001b[0m\u001b[1;33m(\u001b[0m\u001b[0my_train\u001b[0m\u001b[1;33m)\u001b[0m\u001b[1;33m\u001b[0m\u001b[1;33m\u001b[0m\u001b[0m\n\u001b[0m\u001b[0;32m      3\u001b[0m \u001b[1;33m\u001b[0m\u001b[0m\n\u001b[0;32m      4\u001b[0m \u001b[0my_train\u001b[0m\u001b[1;33m[\u001b[0m\u001b[1;34m\"song_popularity\"\u001b[0m\u001b[1;33m]\u001b[0m \u001b[1;33m=\u001b[0m \u001b[0mscaler\u001b[0m\u001b[1;33m.\u001b[0m\u001b[0mtransform\u001b[0m\u001b[1;33m(\u001b[0m\u001b[0my_train\u001b[0m\u001b[1;33m[\u001b[0m\u001b[1;33m[\u001b[0m\u001b[1;34m\"song_popularity\"\u001b[0m\u001b[1;33m]\u001b[0m\u001b[1;33m]\u001b[0m\u001b[1;33m)\u001b[0m\u001b[1;33m\u001b[0m\u001b[1;33m\u001b[0m\u001b[0m\n\u001b[0;32m      5\u001b[0m \u001b[0my_test\u001b[0m\u001b[1;33m[\u001b[0m\u001b[1;34m\"song_popularity\"\u001b[0m\u001b[1;33m]\u001b[0m \u001b[1;33m=\u001b[0m \u001b[0mscaler\u001b[0m\u001b[1;33m.\u001b[0m\u001b[0mtransform\u001b[0m\u001b[1;33m(\u001b[0m\u001b[0my_test\u001b[0m\u001b[1;33m[\u001b[0m\u001b[1;33m[\u001b[0m\u001b[1;34m\"song_popularity\"\u001b[0m\u001b[1;33m]\u001b[0m\u001b[1;33m]\u001b[0m\u001b[1;33m)\u001b[0m\u001b[1;33m\u001b[0m\u001b[1;33m\u001b[0m\u001b[0m\n",
      "\u001b[1;32mc:\\Users\\Daniel\\AppData\\Local\\Programs\\Python\\Python38\\lib\\site-packages\\sklearn\\preprocessing\\_data.py\u001b[0m in \u001b[0;36mfit\u001b[1;34m(self, X, y)\u001b[0m\n\u001b[0;32m   1483\u001b[0m         \u001b[1;31m# at fit, convert sparse matrices to csc for optimized computation of\u001b[0m\u001b[1;33m\u001b[0m\u001b[1;33m\u001b[0m\u001b[1;33m\u001b[0m\u001b[0m\n\u001b[0;32m   1484\u001b[0m         \u001b[1;31m# the quantiles\u001b[0m\u001b[1;33m\u001b[0m\u001b[1;33m\u001b[0m\u001b[1;33m\u001b[0m\u001b[0m\n\u001b[1;32m-> 1485\u001b[1;33m         X = self._validate_data(\n\u001b[0m\u001b[0;32m   1486\u001b[0m             \u001b[0mX\u001b[0m\u001b[1;33m,\u001b[0m\u001b[1;33m\u001b[0m\u001b[1;33m\u001b[0m\u001b[0m\n\u001b[0;32m   1487\u001b[0m             \u001b[0maccept_sparse\u001b[0m\u001b[1;33m=\u001b[0m\u001b[1;34m\"csc\"\u001b[0m\u001b[1;33m,\u001b[0m\u001b[1;33m\u001b[0m\u001b[1;33m\u001b[0m\u001b[0m\n",
      "\u001b[1;32mc:\\Users\\Daniel\\AppData\\Local\\Programs\\Python\\Python38\\lib\\site-packages\\sklearn\\base.py\u001b[0m in \u001b[0;36m_validate_data\u001b[1;34m(self, X, y, reset, validate_separately, **check_params)\u001b[0m\n\u001b[0;32m    575\u001b[0m             \u001b[1;32mraise\u001b[0m \u001b[0mValueError\u001b[0m\u001b[1;33m(\u001b[0m\u001b[1;34m\"Validation should be done on X, y or both.\"\u001b[0m\u001b[1;33m)\u001b[0m\u001b[1;33m\u001b[0m\u001b[1;33m\u001b[0m\u001b[0m\n\u001b[0;32m    576\u001b[0m         \u001b[1;32melif\u001b[0m \u001b[1;32mnot\u001b[0m \u001b[0mno_val_X\u001b[0m \u001b[1;32mand\u001b[0m \u001b[0mno_val_y\u001b[0m\u001b[1;33m:\u001b[0m\u001b[1;33m\u001b[0m\u001b[1;33m\u001b[0m\u001b[0m\n\u001b[1;32m--> 577\u001b[1;33m             \u001b[0mX\u001b[0m \u001b[1;33m=\u001b[0m \u001b[0mcheck_array\u001b[0m\u001b[1;33m(\u001b[0m\u001b[0mX\u001b[0m\u001b[1;33m,\u001b[0m \u001b[0minput_name\u001b[0m\u001b[1;33m=\u001b[0m\u001b[1;34m\"X\"\u001b[0m\u001b[1;33m,\u001b[0m \u001b[1;33m**\u001b[0m\u001b[0mcheck_params\u001b[0m\u001b[1;33m)\u001b[0m\u001b[1;33m\u001b[0m\u001b[1;33m\u001b[0m\u001b[0m\n\u001b[0m\u001b[0;32m    578\u001b[0m             \u001b[0mout\u001b[0m \u001b[1;33m=\u001b[0m \u001b[0mX\u001b[0m\u001b[1;33m\u001b[0m\u001b[1;33m\u001b[0m\u001b[0m\n\u001b[0;32m    579\u001b[0m         \u001b[1;32melif\u001b[0m \u001b[0mno_val_X\u001b[0m \u001b[1;32mand\u001b[0m \u001b[1;32mnot\u001b[0m \u001b[0mno_val_y\u001b[0m\u001b[1;33m:\u001b[0m\u001b[1;33m\u001b[0m\u001b[1;33m\u001b[0m\u001b[0m\n",
      "\u001b[1;32mc:\\Users\\Daniel\\AppData\\Local\\Programs\\Python\\Python38\\lib\\site-packages\\sklearn\\utils\\validation.py\u001b[0m in \u001b[0;36mcheck_array\u001b[1;34m(array, accept_sparse, accept_large_sparse, dtype, order, copy, force_all_finite, ensure_2d, allow_nd, ensure_min_samples, ensure_min_features, estimator, input_name)\u001b[0m\n\u001b[0;32m    877\u001b[0m             \u001b[1;31m# If input is 1D raise error\u001b[0m\u001b[1;33m\u001b[0m\u001b[1;33m\u001b[0m\u001b[1;33m\u001b[0m\u001b[0m\n\u001b[0;32m    878\u001b[0m             \u001b[1;32mif\u001b[0m \u001b[0marray\u001b[0m\u001b[1;33m.\u001b[0m\u001b[0mndim\u001b[0m \u001b[1;33m==\u001b[0m \u001b[1;36m1\u001b[0m\u001b[1;33m:\u001b[0m\u001b[1;33m\u001b[0m\u001b[1;33m\u001b[0m\u001b[0m\n\u001b[1;32m--> 879\u001b[1;33m                 raise ValueError(\n\u001b[0m\u001b[0;32m    880\u001b[0m                     \u001b[1;34m\"Expected 2D array, got 1D array instead:\\narray={}.\\n\"\u001b[0m\u001b[1;33m\u001b[0m\u001b[1;33m\u001b[0m\u001b[0m\n\u001b[0;32m    881\u001b[0m                     \u001b[1;34m\"Reshape your data either using array.reshape(-1, 1) if \"\u001b[0m\u001b[1;33m\u001b[0m\u001b[1;33m\u001b[0m\u001b[0m\n",
      "\u001b[1;31mValueError\u001b[0m: Expected 2D array, got 1D array instead:\narray=[ 0. 64. 68. ... 56. 12. 46.].\nReshape your data either using array.reshape(-1, 1) if your data has a single feature or array.reshape(1, -1) if it contains a single sample."
     ]
    }
   ],
   "source": [
    "scaler = RobustScaler()\n",
    "scaler.fit(y_train[\"song_popularity\"])\n",
    "\n",
    "y_train[\"song_popularity\"] = scaler.transform(y_train[[\"song_popularity\"]])\n",
    "y_test[\"song_popularity\"] = scaler.transform(y_test[[\"song_popularity\"]])"
   ]
  },
  {
   "cell_type": "code",
   "execution_count": null,
   "metadata": {},
   "outputs": [],
   "source": [
    "y_train.head()"
   ]
  },
  {
   "cell_type": "markdown",
   "metadata": {},
   "source": [
    "Standardisierung der unabhängigen Features, zentriert Werte um 0 herum"
   ]
  },
  {
   "cell_type": "code",
   "execution_count": 22,
   "metadata": {},
   "outputs": [],
   "source": [
    "scaler = StandardScaler()\n",
    "scaler.fit(X_train)\n",
    "\n",
    "X_train = pd.DataFrame(scaler.transform(X_train), columns = X_train.columns, index = X_train.index)\n",
    "X_test = pd.DataFrame(scaler.transform(X_test), columns = X_test.columns, index = X_test.index)"
   ]
  },
  {
   "cell_type": "code",
   "execution_count": 23,
   "metadata": {},
   "outputs": [
    {
     "data": {
      "text/html": [
       "<div>\n",
       "<style scoped>\n",
       "    .dataframe tbody tr th:only-of-type {\n",
       "        vertical-align: middle;\n",
       "    }\n",
       "\n",
       "    .dataframe tbody tr th {\n",
       "        vertical-align: top;\n",
       "    }\n",
       "\n",
       "    .dataframe thead th {\n",
       "        text-align: right;\n",
       "    }\n",
       "</style>\n",
       "<table border=\"1\" class=\"dataframe\">\n",
       "  <thead>\n",
       "    <tr style=\"text-align: right;\">\n",
       "      <th></th>\n",
       "      <th>song_duration_ms</th>\n",
       "      <th>acousticness</th>\n",
       "      <th>danceability</th>\n",
       "      <th>energy</th>\n",
       "      <th>instrumentalness</th>\n",
       "      <th>key</th>\n",
       "      <th>liveness</th>\n",
       "      <th>loudness</th>\n",
       "      <th>audio_mode</th>\n",
       "      <th>speechiness</th>\n",
       "      <th>tempo</th>\n",
       "      <th>time_signature</th>\n",
       "      <th>audio_valence</th>\n",
       "    </tr>\n",
       "  </thead>\n",
       "  <tbody>\n",
       "    <tr>\n",
       "      <th>8299</th>\n",
       "      <td>-1.227454</td>\n",
       "      <td>-0.476747</td>\n",
       "      <td>0.550390</td>\n",
       "      <td>-0.589291</td>\n",
       "      <td>-0.188043</td>\n",
       "      <td>-1.203468</td>\n",
       "      <td>-0.424744</td>\n",
       "      <td>-0.720512</td>\n",
       "      <td>0.760631</td>\n",
       "      <td>-0.318291</td>\n",
       "      <td>0.608465</td>\n",
       "      <td>0.152658</td>\n",
       "      <td>0.888722</td>\n",
       "    </tr>\n",
       "    <tr>\n",
       "      <th>14414</th>\n",
       "      <td>0.145359</td>\n",
       "      <td>2.179352</td>\n",
       "      <td>-0.768994</td>\n",
       "      <td>-2.625220</td>\n",
       "      <td>-0.216334</td>\n",
       "      <td>-1.203468</td>\n",
       "      <td>-0.500373</td>\n",
       "      <td>-3.929510</td>\n",
       "      <td>0.760631</td>\n",
       "      <td>-0.614464</td>\n",
       "      <td>-1.466805</td>\n",
       "      <td>0.152658</td>\n",
       "      <td>-0.085712</td>\n",
       "    </tr>\n",
       "    <tr>\n",
       "      <th>7823</th>\n",
       "      <td>-1.998880</td>\n",
       "      <td>1.891664</td>\n",
       "      <td>1.482838</td>\n",
       "      <td>-2.215519</td>\n",
       "      <td>3.523809</td>\n",
       "      <td>-0.365973</td>\n",
       "      <td>-0.493498</td>\n",
       "      <td>-0.790257</td>\n",
       "      <td>0.760631</td>\n",
       "      <td>2.207327</td>\n",
       "      <td>-1.314443</td>\n",
       "      <td>0.152658</td>\n",
       "      <td>1.001466</td>\n",
       "    </tr>\n",
       "    <tr>\n",
       "      <th>6754</th>\n",
       "      <td>1.327175</td>\n",
       "      <td>-0.909082</td>\n",
       "      <td>-1.092497</td>\n",
       "      <td>1.310970</td>\n",
       "      <td>-0.367629</td>\n",
       "      <td>1.029853</td>\n",
       "      <td>1.239082</td>\n",
       "      <td>0.953361</td>\n",
       "      <td>0.760631</td>\n",
       "      <td>-0.266533</td>\n",
       "      <td>0.058730</td>\n",
       "      <td>0.152658</td>\n",
       "      <td>-1.430591</td>\n",
       "    </tr>\n",
       "    <tr>\n",
       "      <th>2334</th>\n",
       "      <td>-1.265233</td>\n",
       "      <td>-0.889446</td>\n",
       "      <td>1.216424</td>\n",
       "      <td>-0.661168</td>\n",
       "      <td>-0.387720</td>\n",
       "      <td>-0.924303</td>\n",
       "      <td>-0.101605</td>\n",
       "      <td>-0.381893</td>\n",
       "      <td>0.760631</td>\n",
       "      <td>2.178572</td>\n",
       "      <td>-1.516507</td>\n",
       "      <td>0.152658</td>\n",
       "      <td>-0.113898</td>\n",
       "    </tr>\n",
       "  </tbody>\n",
       "</table>\n",
       "</div>"
      ],
      "text/plain": [
       "       song_duration_ms  acousticness  danceability    energy  \\\n",
       "8299          -1.227454     -0.476747      0.550390 -0.589291   \n",
       "14414          0.145359      2.179352     -0.768994 -2.625220   \n",
       "7823          -1.998880      1.891664      1.482838 -2.215519   \n",
       "6754           1.327175     -0.909082     -1.092497  1.310970   \n",
       "2334          -1.265233     -0.889446      1.216424 -0.661168   \n",
       "\n",
       "       instrumentalness       key  liveness  loudness  audio_mode  \\\n",
       "8299          -0.188043 -1.203468 -0.424744 -0.720512    0.760631   \n",
       "14414         -0.216334 -1.203468 -0.500373 -3.929510    0.760631   \n",
       "7823           3.523809 -0.365973 -0.493498 -0.790257    0.760631   \n",
       "6754          -0.367629  1.029853  1.239082  0.953361    0.760631   \n",
       "2334          -0.387720 -0.924303 -0.101605 -0.381893    0.760631   \n",
       "\n",
       "       speechiness     tempo  time_signature  audio_valence  \n",
       "8299     -0.318291  0.608465        0.152658       0.888722  \n",
       "14414    -0.614464 -1.466805        0.152658      -0.085712  \n",
       "7823      2.207327 -1.314443        0.152658       1.001466  \n",
       "6754     -0.266533  0.058730        0.152658      -1.430591  \n",
       "2334      2.178572 -1.516507        0.152658      -0.113898  "
      ]
     },
     "execution_count": 23,
     "metadata": {},
     "output_type": "execute_result"
    }
   ],
   "source": [
    "X_train.head()"
   ]
  },
  {
   "cell_type": "code",
   "execution_count": 15,
   "metadata": {},
   "outputs": [],
   "source": [
    "y = y.apply(lambda x: x / 100)"
   ]
  },
  {
   "cell_type": "markdown",
   "metadata": {},
   "source": [
    "## 5 Maschinelles Lernen (Regression)"
   ]
  },
  {
   "cell_type": "markdown",
   "metadata": {},
   "source": [
    "### 5.1 Multiple lineare Regression"
   ]
  },
  {
   "cell_type": "markdown",
   "metadata": {},
   "source": []
  },
  {
   "cell_type": "code",
   "execution_count": 27,
   "metadata": {},
   "outputs": [
    {
     "name": "stdout",
     "output_type": "stream",
     "text": [
      "R² score: 0.017543325504593255\n",
      "Koeffizienten: [-0.05483017 -0.79882002  1.17087144 -1.8761454  -1.73662922  0.06499386\n",
      " -0.49650408  1.60572967  0.34063157 -0.25334058 -0.35399951  0.47292175\n",
      " -1.62597274]\n"
     ]
    }
   ],
   "source": [
    "reg = LinearRegression()\n",
    "reg.fit(X_train, y_train)\n",
    "\n",
    "accuracy = reg.score(X_test, y_test)\n",
    "print(\"R² score:\", accuracy)\n",
    "\n",
    "print(\"Koeffizienten:\", reg.coef_)\n",
    "\n",
    "# Multiple Variable Linear Regression (nicht robust)\n",
    "# Weder robust noch erfüllt es Anforderung, dass Ergebnisse in dem Interval liegen\n",
    "# Könnte trotzdem ersten Anhaltspunkt geben und vielleicht auch in den Erarbeitungsprozess gute Einblicke geben,"
   ]
  },
  {
   "cell_type": "markdown",
   "metadata": {},
   "source": [
    "Linare Regression ungeeignet, da abhängige Zielvariable p, die die Popularität eines Liedes angibt, folgende Eigenschaften besitzt:"
   ]
  },
  {
   "cell_type": "markdown",
   "metadata": {},
   "source": [
    "\\begin{align}\n",
    "p \\in \\{x\\in\\mathbb{N} | x >= 0 \\wedge x <= 100\\}\n",
    "\\end{align}"
   ]
  },
  {
   "cell_type": "markdown",
   "metadata": {},
   "source": [
    "Zudem könnten die Beziehungen nicht linear sein."
   ]
  },
  {
   "cell_type": "markdown",
   "metadata": {},
   "source": [
    "### 5.2 Lasso Regression"
   ]
  },
  {
   "cell_type": "code",
   "execution_count": 30,
   "metadata": {},
   "outputs": [
    {
     "name": "stdout",
     "output_type": "stream",
     "text": [
      "0.03819949433103279\n",
      "R² score: 0.017324733877766674\n"
     ]
    }
   ],
   "source": [
    "reg = LassoCV(cv=5, random_state=7, max_iter=10000)\n",
    "reg.fit(X_train, y_train)\n",
    "\n",
    "print(reg.alpha_)\n",
    "\n",
    "accuracy = reg.score(X_test, y_test)\n",
    "print(\"R² score:\", accuracy)"
   ]
  },
  {
   "cell_type": "markdown",
   "metadata": {},
   "source": [
    "### 5.3 Random Forest Regression"
   ]
  },
  {
   "cell_type": "code",
   "execution_count": 31,
   "metadata": {},
   "outputs": [
    {
     "name": "stdout",
     "output_type": "stream",
     "text": [
      "R² score: 0.03036041561001568\n"
     ]
    }
   ],
   "source": [
    "rf = RandomForestRegressor(n_estimators=200, random_state=7)\n",
    "rf.fit(X_train, y_train)\n",
    "\n",
    "accuracy = rf.score(X_test, y_test)\n",
    "print(\"R² score:\", accuracy)"
   ]
  },
  {
   "cell_type": "markdown",
   "metadata": {},
   "source": [
    "### 5.4 Support Vector Regression"
   ]
  },
  {
   "cell_type": "code",
   "execution_count": 32,
   "metadata": {},
   "outputs": [
    {
     "name": "stdout",
     "output_type": "stream",
     "text": [
      "R² score: 0.020579726495076667\n"
     ]
    }
   ],
   "source": [
    "# Feature scaling ???\n",
    "# StandardScaler\n",
    "\n",
    "reg = SVR(kernel=\"rbf\")\n",
    "reg.fit(X_train, y_train)\n",
    "\n",
    "accuracy = reg.score(X_test, y_test)\n",
    "print(\"R² score:\", accuracy)"
   ]
  },
  {
   "cell_type": "markdown",
   "metadata": {},
   "source": [
    "### 5.5 Polynomiale Regression"
   ]
  },
  {
   "cell_type": "code",
   "execution_count": 33,
   "metadata": {},
   "outputs": [],
   "source": [
    "# Evtl Kombination Logit\n",
    "\n",
    "# Beta Regression"
   ]
  },
  {
   "cell_type": "markdown",
   "metadata": {},
   "source": [
    "### 5.6 Neuronales Netz"
   ]
  },
  {
   "cell_type": "code",
   "execution_count": null,
   "metadata": {},
   "outputs": [],
   "source": []
  },
  {
   "cell_type": "markdown",
   "metadata": {},
   "source": [
    "Ausreißer beachten, gibt robuste Regressionsalgorithmen"
   ]
  },
  {
   "cell_type": "markdown",
   "metadata": {},
   "source": [
    "\\begin{align}\n",
    "\\dot{x} & = \\sigma(y-x) \\\\\n",
    "\\dot{y} & = \\rho x - y - xz \\\\\n",
    "\\dot{z} & = -\\beta z + xy\n",
    "\\end{align}"
   ]
  },
  {
   "cell_type": "markdown",
   "metadata": {},
   "source": [
    "Ist es egal, ob unsere Ergebnisse Kommazahlen von 0-100 oder Ganzzahlen von 0-100 sind? Wshl ja, weil man die Kommazahlen ja einfach runden könnte und dann aufs selbe hinauskommt. Bei Berechnungen kommt es wshl automatisch zu Kommazahlen"
   ]
  },
  {
   "cell_type": "markdown",
   "metadata": {},
   "source": [
    "## 6. Transformation des Regressionsproblems in ein Klassifikationsproblem"
   ]
  },
  {
   "cell_type": "code",
   "execution_count": null,
   "metadata": {},
   "outputs": [],
   "source": []
  },
  {
   "cell_type": "markdown",
   "metadata": {},
   "source": [
    "## 7. Maschinelles Lernen (Klassifikation)"
   ]
  },
  {
   "cell_type": "code",
   "execution_count": null,
   "metadata": {},
   "outputs": [],
   "source": [
    "# Logistische Regression\n",
    "\n",
    "# Random Forest\n",
    "\n",
    "# ..."
   ]
  },
  {
   "cell_type": "markdown",
   "metadata": {},
   "source": [
    "## 8 Diskussion"
   ]
  },
  {
   "cell_type": "markdown",
   "metadata": {},
   "source": [
    "- Auf welcher Basis wurden die 18.000 Lieder ausgewählt? Stichprobenverzerrung???\n",
    "- Datensatz wahrscheinlich aus 2018. Wie wirken sich Trends evtl. aus?\n",
    "- Was bedeutet Popularität?\n",
    "- Der Datensatz besteht nicht nur aus Musik, sondern auch aus Reden (bsp. Rede von Martin Luther King) und weiteren nicht musikalischen \n",
    "- Wie zuverlässig sind die Features? Sind die Ergebnisse statistisch signifikant?"
   ]
  },
  {
   "cell_type": "code",
   "execution_count": null,
   "metadata": {},
   "outputs": [],
   "source": []
  },
  {
   "cell_type": "markdown",
   "metadata": {},
   "source": [
    "WICHTIGE ENTDECKUNG:\n",
    "Wenn Redundanzen nicht entfernt werden, steigt der R²-Score bei der Random Forest Regression von 0.02 auf 0.38. Warum ist das so? Liegt es daran, dass 4.000 Redundanzen entfernt wurden (circa 25% des Datensatzes), diese auch zum Teil in den Testdaten "
   ]
  },
  {
   "cell_type": "markdown",
   "metadata": {},
   "source": [
    "Performance Unterschiedliche Modelle aus 5 vergleichen"
   ]
  },
  {
   "cell_type": "markdown",
   "metadata": {},
   "source": [
    "### 8.1 Limitationen"
   ]
  },
  {
   "cell_type": "markdown",
   "metadata": {},
   "source": [
    "- Es wurde auf bereits ermittelte Features zurükgegriffen \n",
    "- falsche Ergebnisse dort wirken sich auch unter Umständen auf die Modelle die im Rahmen dieser Ausarbeiten aufgestellt wurden aus"
   ]
  },
  {
   "cell_type": "markdown",
   "metadata": {},
   "source": [
    "### 8.2 Konklusion"
   ]
  },
  {
   "cell_type": "markdown",
   "metadata": {},
   "source": []
  },
  {
   "cell_type": "markdown",
   "metadata": {},
   "source": [
    "## Quellenverzeichnis\n"
   ]
  },
  {
   "cell_type": "markdown",
   "metadata": {},
   "source": []
  }
 ],
 "metadata": {
  "interpreter": {
   "hash": "ec3b6344b8b3f6c3db1463248c46b8920f4fc68f6187e2c1e71f56a52299e245"
  },
  "kernelspec": {
   "display_name": "Python 3.8.8 ('base')",
   "language": "python",
   "name": "python3"
  },
  "language_info": {
   "codemirror_mode": {
    "name": "ipython",
    "version": 3
   },
   "file_extension": ".py",
   "mimetype": "text/x-python",
   "name": "python",
   "nbconvert_exporter": "python",
   "pygments_lexer": "ipython3",
   "version": "3.8.8"
  },
  "orig_nbformat": 4
 },
 "nbformat": 4,
 "nbformat_minor": 2
}
