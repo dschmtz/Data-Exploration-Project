{
 "cells": [
  {
   "cell_type": "markdown",
   "metadata": {},
   "source": [
    "Musik ist ein wichtiger bestandteil unserer Kultur, sie kann bewegungen abbilden sowie ein teil der Identität sein. Das Musik ein Zentraler bestandteil der Kultur ist sieht man unter anderem an Shows wie Deutschland sucht den Superstar (DSDS) welche regelmäßig von über 2 Mio zuschauern verfolgt wird. Dabei setzen sich die Zuaschauer mit den auftritten sowie mit der qualität der Musik auseinander.\n",
    "\n",
    "Das Musik eine Geselschaftlich so zentrale rolle spielt hat mehrere gründe. Sie fördert oder erzeugt ein gemeinschaftsgefühl in einer gruppe, durch gemeinsammes tanzen und Musikalische Rituale. Gleichzeitig zeigt sie zusammenhalt man zeigt anderen grupierungen wir halten zusammen wir sind stark. Diese eigenschaften wurden auch in den Befreiungskriegen(1813-1815) genutzt umd eine Nationalbewusstsein in Deutschland zu förden. Andernfalls wird Musik auch genutzt um gefühle auszudrücken, wie im Bluez wo die schwarze bevölkerung ihr leid in der Sklaverei ausdrückte.\n",
    "\n",
    "Spotify hat die Musikidustrie grundsätlich verändert. Um 2010 hat polariesierten hauptsächlich illegale Streaming dienste im Internet. Dann kamm Spotify, dabei hat Spotify die Musikbranche in gewisser Weise gerrettet. Diese hatten Massive Probleme damit gegen illegales Streaming zu unterbinden. Als Antwort auf das illegale Streaming entwickelte sich Spotify 2011, welches die Musikindustrie revoultionierte. 2017 wurde durch Musiklabels dann zum ersten mal mehr geld mit Streaming als mit dem Verkauf von CDs verdient. Heutzutagen hat Spotify unter denn Anbietern von Musikstreamingdiensten einen Marktanteil von 38 %. Damit ist Spotify fast doppelt so groß wie sein nächster konkurent Apple Musik. Jedes Musiklabel und jeder Großer Musiker Arbeitet mit Spotify zusammen. Damit bilden die Spotify charts sehr gut die beliebtheit von Musik ab. \n",
    "\n",
    "Musikstreaming, Milliardenmarkt, kulturelle Bedeutung ..."
   ]
  },
  {
   "cell_type": "markdown",
   "metadata": {},
   "source": [
    "## 1 Importierung benötigter Bibliotheken und des Datensatzes\n",
    "In diesem Kapitel wird XY gemacht.\n",
    "\n",
    "### 1.1 Laden der Bibliotheken\n",
    "Innerhalb des Datenexplorationsprojektes werden die Bibliotheken XY benötigt."
   ]
  },
  {
   "cell_type": "code",
   "execution_count": 14,
   "metadata": {},
   "outputs": [],
   "source": [
    "import os\n",
    "import time\n",
    "import pandas as pd\n",
    "import numpy as np\n",
    "import seaborn as sns\n",
    "\n",
    "import spotipy\n",
    "from spotipy.oauth2 import SpotifyClientCredentials\n",
    "\n",
    "import tensorflow as tf\n",
    "from tensorflow import keras\n",
    "from tensorflow.keras import layers\n",
    "\n",
    "from sklearn.linear_model import LinearRegression, Lasso, LassoCV\n",
    "from sklearn.ensemble import RandomForestRegressor, RandomForestClassifier, GradientBoostingRegressor\n",
    "from sklearn.preprocessing import StandardScaler, RobustScaler\n",
    "from sklearn.model_selection import train_test_split, RandomizedSearchCV\n",
    "from sklearn.metrics import accuracy_score, confusion_matrix, classification_report, mean_squared_error\n",
    "from sklearn.compose import ColumnTransformer\n",
    "from sklearn.svm import SVR\n",
    "from sklearn.utils import resample\n",
    "\n",
    "from matplotlib import pyplot as plt"
   ]
  },
  {
   "cell_type": "markdown",
   "metadata": {},
   "source": [
    "### 1.2 Laden des Basis-Datensatzes"
   ]
  },
  {
   "cell_type": "code",
   "execution_count": 15,
   "metadata": {},
   "outputs": [
    {
     "name": "stdout",
     "output_type": "stream",
     "text": [
      "<class 'pandas.core.frame.DataFrame'>\n",
      "RangeIndex: 18835 entries, 0 to 18834\n",
      "Data columns (total 15 columns):\n",
      " #   Column            Non-Null Count  Dtype  \n",
      "---  ------            --------------  -----  \n",
      " 0   song_name         18835 non-null  object \n",
      " 1   song_popularity   18835 non-null  int64  \n",
      " 2   song_duration_ms  18835 non-null  int64  \n",
      " 3   acousticness      18835 non-null  float64\n",
      " 4   danceability      18835 non-null  float64\n",
      " 5   energy            18835 non-null  float64\n",
      " 6   instrumentalness  18835 non-null  float64\n",
      " 7   key               18835 non-null  int64  \n",
      " 8   liveness          18835 non-null  float64\n",
      " 9   loudness          18835 non-null  float64\n",
      " 10  audio_mode        18835 non-null  int64  \n",
      " 11  speechiness       18835 non-null  float64\n",
      " 12  tempo             18835 non-null  float64\n",
      " 13  time_signature    18835 non-null  int64  \n",
      " 14  audio_valence     18835 non-null  float64\n",
      "dtypes: float64(9), int64(5), object(1)\n",
      "memory usage: 2.2+ MB\n"
     ]
    }
   ],
   "source": [
    "base_data = pd.read_csv(\"song_data.csv\")\n",
    "base_data.info()"
   ]
  },
  {
   "cell_type": "markdown",
   "metadata": {},
   "source": [
    "Der Basisdatensatz besteht aus 18.835 Einträgen mit je 15 Attributen ... Keine Lücken"
   ]
  },
  {
   "cell_type": "code",
   "execution_count": 16,
   "metadata": {},
   "outputs": [
    {
     "data": {
      "text/html": [
       "<div>\n",
       "<style scoped>\n",
       "    .dataframe tbody tr th:only-of-type {\n",
       "        vertical-align: middle;\n",
       "    }\n",
       "\n",
       "    .dataframe tbody tr th {\n",
       "        vertical-align: top;\n",
       "    }\n",
       "\n",
       "    .dataframe thead th {\n",
       "        text-align: right;\n",
       "    }\n",
       "</style>\n",
       "<table border=\"1\" class=\"dataframe\">\n",
       "  <thead>\n",
       "    <tr style=\"text-align: right;\">\n",
       "      <th></th>\n",
       "      <th>song_name</th>\n",
       "      <th>song_popularity</th>\n",
       "      <th>song_duration_ms</th>\n",
       "      <th>acousticness</th>\n",
       "      <th>danceability</th>\n",
       "      <th>energy</th>\n",
       "      <th>instrumentalness</th>\n",
       "      <th>key</th>\n",
       "      <th>liveness</th>\n",
       "      <th>loudness</th>\n",
       "      <th>audio_mode</th>\n",
       "      <th>speechiness</th>\n",
       "      <th>tempo</th>\n",
       "      <th>time_signature</th>\n",
       "      <th>audio_valence</th>\n",
       "    </tr>\n",
       "  </thead>\n",
       "  <tbody>\n",
       "    <tr>\n",
       "      <th>0</th>\n",
       "      <td>Boulevard of Broken Dreams</td>\n",
       "      <td>73</td>\n",
       "      <td>262333</td>\n",
       "      <td>0.005520</td>\n",
       "      <td>0.496</td>\n",
       "      <td>0.682</td>\n",
       "      <td>0.000029</td>\n",
       "      <td>8</td>\n",
       "      <td>0.0589</td>\n",
       "      <td>-4.095</td>\n",
       "      <td>1</td>\n",
       "      <td>0.0294</td>\n",
       "      <td>167.060</td>\n",
       "      <td>4</td>\n",
       "      <td>0.474</td>\n",
       "    </tr>\n",
       "    <tr>\n",
       "      <th>1</th>\n",
       "      <td>In The End</td>\n",
       "      <td>66</td>\n",
       "      <td>216933</td>\n",
       "      <td>0.010300</td>\n",
       "      <td>0.542</td>\n",
       "      <td>0.853</td>\n",
       "      <td>0.000000</td>\n",
       "      <td>3</td>\n",
       "      <td>0.1080</td>\n",
       "      <td>-6.407</td>\n",
       "      <td>0</td>\n",
       "      <td>0.0498</td>\n",
       "      <td>105.256</td>\n",
       "      <td>4</td>\n",
       "      <td>0.370</td>\n",
       "    </tr>\n",
       "    <tr>\n",
       "      <th>2</th>\n",
       "      <td>Seven Nation Army</td>\n",
       "      <td>76</td>\n",
       "      <td>231733</td>\n",
       "      <td>0.008170</td>\n",
       "      <td>0.737</td>\n",
       "      <td>0.463</td>\n",
       "      <td>0.447000</td>\n",
       "      <td>0</td>\n",
       "      <td>0.2550</td>\n",
       "      <td>-7.828</td>\n",
       "      <td>1</td>\n",
       "      <td>0.0792</td>\n",
       "      <td>123.881</td>\n",
       "      <td>4</td>\n",
       "      <td>0.324</td>\n",
       "    </tr>\n",
       "    <tr>\n",
       "      <th>3</th>\n",
       "      <td>By The Way</td>\n",
       "      <td>74</td>\n",
       "      <td>216933</td>\n",
       "      <td>0.026400</td>\n",
       "      <td>0.451</td>\n",
       "      <td>0.970</td>\n",
       "      <td>0.003550</td>\n",
       "      <td>0</td>\n",
       "      <td>0.1020</td>\n",
       "      <td>-4.938</td>\n",
       "      <td>1</td>\n",
       "      <td>0.1070</td>\n",
       "      <td>122.444</td>\n",
       "      <td>4</td>\n",
       "      <td>0.198</td>\n",
       "    </tr>\n",
       "    <tr>\n",
       "      <th>4</th>\n",
       "      <td>How You Remind Me</td>\n",
       "      <td>56</td>\n",
       "      <td>223826</td>\n",
       "      <td>0.000954</td>\n",
       "      <td>0.447</td>\n",
       "      <td>0.766</td>\n",
       "      <td>0.000000</td>\n",
       "      <td>10</td>\n",
       "      <td>0.1130</td>\n",
       "      <td>-5.065</td>\n",
       "      <td>1</td>\n",
       "      <td>0.0313</td>\n",
       "      <td>172.011</td>\n",
       "      <td>4</td>\n",
       "      <td>0.574</td>\n",
       "    </tr>\n",
       "  </tbody>\n",
       "</table>\n",
       "</div>"
      ],
      "text/plain": [
       "                    song_name  song_popularity  song_duration_ms  \\\n",
       "0  Boulevard of Broken Dreams               73            262333   \n",
       "1                  In The End               66            216933   \n",
       "2           Seven Nation Army               76            231733   \n",
       "3                  By The Way               74            216933   \n",
       "4           How You Remind Me               56            223826   \n",
       "\n",
       "   acousticness  danceability  energy  instrumentalness  key  liveness  \\\n",
       "0      0.005520         0.496   0.682          0.000029    8    0.0589   \n",
       "1      0.010300         0.542   0.853          0.000000    3    0.1080   \n",
       "2      0.008170         0.737   0.463          0.447000    0    0.2550   \n",
       "3      0.026400         0.451   0.970          0.003550    0    0.1020   \n",
       "4      0.000954         0.447   0.766          0.000000   10    0.1130   \n",
       "\n",
       "   loudness  audio_mode  speechiness    tempo  time_signature  audio_valence  \n",
       "0    -4.095           1       0.0294  167.060               4          0.474  \n",
       "1    -6.407           0       0.0498  105.256               4          0.370  \n",
       "2    -7.828           1       0.0792  123.881               4          0.324  \n",
       "3    -4.938           1       0.1070  122.444               4          0.198  \n",
       "4    -5.065           1       0.0313  172.011               4          0.574  "
      ]
     },
     "execution_count": 16,
     "metadata": {},
     "output_type": "execute_result"
    }
   ],
   "source": [
    "base_data.head()"
   ]
  },
  {
   "cell_type": "markdown",
   "metadata": {},
   "source": [
    "## 2 Übersicht und Interpretation der Datenwerte\n"
   ]
  },
  {
   "cell_type": "code",
   "execution_count": 17,
   "metadata": {},
   "outputs": [
    {
     "data": {
      "text/plain": [
       "audio_mode              2\n",
       "time_signature          5\n",
       "key                    12\n",
       "song_popularity       101\n",
       "danceability          849\n",
       "energy               1132\n",
       "speechiness          1224\n",
       "audio_valence        1246\n",
       "liveness             1425\n",
       "acousticness         3209\n",
       "instrumentalness     3925\n",
       "loudness             8416\n",
       "song_duration_ms    11771\n",
       "tempo               12112\n",
       "song_name           13070\n",
       "dtype: int64"
      ]
     },
     "execution_count": 17,
     "metadata": {},
     "output_type": "execute_result"
    }
   ],
   "source": [
    "base_data.nunique().sort_values()"
   ]
  },
  {
   "cell_type": "code",
   "execution_count": 18,
   "metadata": {},
   "outputs": [
    {
     "data": {
      "text/html": [
       "<div>\n",
       "<style scoped>\n",
       "    .dataframe tbody tr th:only-of-type {\n",
       "        vertical-align: middle;\n",
       "    }\n",
       "\n",
       "    .dataframe tbody tr th {\n",
       "        vertical-align: top;\n",
       "    }\n",
       "\n",
       "    .dataframe thead th {\n",
       "        text-align: right;\n",
       "    }\n",
       "</style>\n",
       "<table border=\"1\" class=\"dataframe\">\n",
       "  <thead>\n",
       "    <tr style=\"text-align: right;\">\n",
       "      <th></th>\n",
       "      <th>song_name</th>\n",
       "      <th>song_popularity</th>\n",
       "      <th>song_duration_ms</th>\n",
       "      <th>acousticness</th>\n",
       "      <th>danceability</th>\n",
       "      <th>energy</th>\n",
       "      <th>instrumentalness</th>\n",
       "      <th>key</th>\n",
       "      <th>liveness</th>\n",
       "      <th>loudness</th>\n",
       "      <th>audio_mode</th>\n",
       "      <th>speechiness</th>\n",
       "      <th>tempo</th>\n",
       "      <th>time_signature</th>\n",
       "      <th>audio_valence</th>\n",
       "    </tr>\n",
       "  </thead>\n",
       "  <tbody>\n",
       "    <tr>\n",
       "      <th>7568</th>\n",
       "      <td>Happier</td>\n",
       "      <td>100</td>\n",
       "      <td>214289</td>\n",
       "      <td>0.1910</td>\n",
       "      <td>0.687</td>\n",
       "      <td>0.792</td>\n",
       "      <td>0.0</td>\n",
       "      <td>5</td>\n",
       "      <td>0.167</td>\n",
       "      <td>-2.749</td>\n",
       "      <td>1</td>\n",
       "      <td>0.0452</td>\n",
       "      <td>100.015</td>\n",
       "      <td>4</td>\n",
       "      <td>0.671</td>\n",
       "    </tr>\n",
       "    <tr>\n",
       "      <th>15091</th>\n",
       "      <td>Happier</td>\n",
       "      <td>100</td>\n",
       "      <td>214289</td>\n",
       "      <td>0.1910</td>\n",
       "      <td>0.687</td>\n",
       "      <td>0.792</td>\n",
       "      <td>0.0</td>\n",
       "      <td>5</td>\n",
       "      <td>0.167</td>\n",
       "      <td>-2.749</td>\n",
       "      <td>1</td>\n",
       "      <td>0.0452</td>\n",
       "      <td>100.015</td>\n",
       "      <td>4</td>\n",
       "      <td>0.671</td>\n",
       "    </tr>\n",
       "    <tr>\n",
       "      <th>17392</th>\n",
       "      <td>Happier</td>\n",
       "      <td>100</td>\n",
       "      <td>214289</td>\n",
       "      <td>0.1910</td>\n",
       "      <td>0.687</td>\n",
       "      <td>0.792</td>\n",
       "      <td>0.0</td>\n",
       "      <td>5</td>\n",
       "      <td>0.167</td>\n",
       "      <td>-2.749</td>\n",
       "      <td>1</td>\n",
       "      <td>0.0452</td>\n",
       "      <td>100.015</td>\n",
       "      <td>4</td>\n",
       "      <td>0.671</td>\n",
       "    </tr>\n",
       "    <tr>\n",
       "      <th>14176</th>\n",
       "      <td>Happier</td>\n",
       "      <td>100</td>\n",
       "      <td>214289</td>\n",
       "      <td>0.1910</td>\n",
       "      <td>0.687</td>\n",
       "      <td>0.792</td>\n",
       "      <td>0.0</td>\n",
       "      <td>5</td>\n",
       "      <td>0.167</td>\n",
       "      <td>-2.749</td>\n",
       "      <td>1</td>\n",
       "      <td>0.0452</td>\n",
       "      <td>100.015</td>\n",
       "      <td>4</td>\n",
       "      <td>0.671</td>\n",
       "    </tr>\n",
       "    <tr>\n",
       "      <th>11665</th>\n",
       "      <td>Happier</td>\n",
       "      <td>100</td>\n",
       "      <td>214289</td>\n",
       "      <td>0.1910</td>\n",
       "      <td>0.687</td>\n",
       "      <td>0.792</td>\n",
       "      <td>0.0</td>\n",
       "      <td>5</td>\n",
       "      <td>0.167</td>\n",
       "      <td>-2.749</td>\n",
       "      <td>1</td>\n",
       "      <td>0.0452</td>\n",
       "      <td>100.015</td>\n",
       "      <td>4</td>\n",
       "      <td>0.671</td>\n",
       "    </tr>\n",
       "    <tr>\n",
       "      <th>11697</th>\n",
       "      <td>Happier</td>\n",
       "      <td>100</td>\n",
       "      <td>214289</td>\n",
       "      <td>0.1910</td>\n",
       "      <td>0.687</td>\n",
       "      <td>0.792</td>\n",
       "      <td>0.0</td>\n",
       "      <td>5</td>\n",
       "      <td>0.167</td>\n",
       "      <td>-2.749</td>\n",
       "      <td>1</td>\n",
       "      <td>0.0452</td>\n",
       "      <td>100.015</td>\n",
       "      <td>4</td>\n",
       "      <td>0.671</td>\n",
       "    </tr>\n",
       "    <tr>\n",
       "      <th>5593</th>\n",
       "      <td>Happier</td>\n",
       "      <td>100</td>\n",
       "      <td>214289</td>\n",
       "      <td>0.1910</td>\n",
       "      <td>0.687</td>\n",
       "      <td>0.792</td>\n",
       "      <td>0.0</td>\n",
       "      <td>5</td>\n",
       "      <td>0.167</td>\n",
       "      <td>-2.749</td>\n",
       "      <td>1</td>\n",
       "      <td>0.0452</td>\n",
       "      <td>100.015</td>\n",
       "      <td>4</td>\n",
       "      <td>0.671</td>\n",
       "    </tr>\n",
       "    <tr>\n",
       "      <th>4299</th>\n",
       "      <td>Happier</td>\n",
       "      <td>100</td>\n",
       "      <td>214289</td>\n",
       "      <td>0.1910</td>\n",
       "      <td>0.687</td>\n",
       "      <td>0.792</td>\n",
       "      <td>0.0</td>\n",
       "      <td>5</td>\n",
       "      <td>0.167</td>\n",
       "      <td>-2.749</td>\n",
       "      <td>1</td>\n",
       "      <td>0.0452</td>\n",
       "      <td>100.015</td>\n",
       "      <td>4</td>\n",
       "      <td>0.671</td>\n",
       "    </tr>\n",
       "    <tr>\n",
       "      <th>16497</th>\n",
       "      <td>Happier</td>\n",
       "      <td>100</td>\n",
       "      <td>214289</td>\n",
       "      <td>0.1910</td>\n",
       "      <td>0.687</td>\n",
       "      <td>0.792</td>\n",
       "      <td>0.0</td>\n",
       "      <td>5</td>\n",
       "      <td>0.167</td>\n",
       "      <td>-2.749</td>\n",
       "      <td>1</td>\n",
       "      <td>0.0452</td>\n",
       "      <td>100.015</td>\n",
       "      <td>4</td>\n",
       "      <td>0.671</td>\n",
       "    </tr>\n",
       "    <tr>\n",
       "      <th>17590</th>\n",
       "      <td>Happier</td>\n",
       "      <td>100</td>\n",
       "      <td>214289</td>\n",
       "      <td>0.1910</td>\n",
       "      <td>0.687</td>\n",
       "      <td>0.792</td>\n",
       "      <td>0.0</td>\n",
       "      <td>5</td>\n",
       "      <td>0.167</td>\n",
       "      <td>-2.749</td>\n",
       "      <td>1</td>\n",
       "      <td>0.0452</td>\n",
       "      <td>100.015</td>\n",
       "      <td>4</td>\n",
       "      <td>0.671</td>\n",
       "    </tr>\n",
       "    <tr>\n",
       "      <th>7636</th>\n",
       "      <td>Happier</td>\n",
       "      <td>100</td>\n",
       "      <td>214289</td>\n",
       "      <td>0.1910</td>\n",
       "      <td>0.687</td>\n",
       "      <td>0.792</td>\n",
       "      <td>0.0</td>\n",
       "      <td>5</td>\n",
       "      <td>0.167</td>\n",
       "      <td>-2.749</td>\n",
       "      <td>1</td>\n",
       "      <td>0.0452</td>\n",
       "      <td>100.015</td>\n",
       "      <td>4</td>\n",
       "      <td>0.671</td>\n",
       "    </tr>\n",
       "    <tr>\n",
       "      <th>17638</th>\n",
       "      <td>Happier</td>\n",
       "      <td>100</td>\n",
       "      <td>214289</td>\n",
       "      <td>0.1910</td>\n",
       "      <td>0.687</td>\n",
       "      <td>0.792</td>\n",
       "      <td>0.0</td>\n",
       "      <td>5</td>\n",
       "      <td>0.167</td>\n",
       "      <td>-2.749</td>\n",
       "      <td>1</td>\n",
       "      <td>0.0452</td>\n",
       "      <td>100.015</td>\n",
       "      <td>4</td>\n",
       "      <td>0.671</td>\n",
       "    </tr>\n",
       "    <tr>\n",
       "      <th>1229</th>\n",
       "      <td>I Love It (&amp; Lil Pump)</td>\n",
       "      <td>99</td>\n",
       "      <td>127946</td>\n",
       "      <td>0.0114</td>\n",
       "      <td>0.901</td>\n",
       "      <td>0.522</td>\n",
       "      <td>0.0</td>\n",
       "      <td>2</td>\n",
       "      <td>0.259</td>\n",
       "      <td>-8.304</td>\n",
       "      <td>1</td>\n",
       "      <td>0.3300</td>\n",
       "      <td>104.053</td>\n",
       "      <td>4</td>\n",
       "      <td>0.329</td>\n",
       "    </tr>\n",
       "    <tr>\n",
       "      <th>11777</th>\n",
       "      <td>I Love It (&amp; Lil Pump)</td>\n",
       "      <td>99</td>\n",
       "      <td>127946</td>\n",
       "      <td>0.0114</td>\n",
       "      <td>0.901</td>\n",
       "      <td>0.522</td>\n",
       "      <td>0.0</td>\n",
       "      <td>2</td>\n",
       "      <td>0.259</td>\n",
       "      <td>-8.304</td>\n",
       "      <td>1</td>\n",
       "      <td>0.3300</td>\n",
       "      <td>104.053</td>\n",
       "      <td>4</td>\n",
       "      <td>0.329</td>\n",
       "    </tr>\n",
       "    <tr>\n",
       "      <th>17113</th>\n",
       "      <td>I Love It (&amp; Lil Pump)</td>\n",
       "      <td>99</td>\n",
       "      <td>127946</td>\n",
       "      <td>0.0114</td>\n",
       "      <td>0.901</td>\n",
       "      <td>0.522</td>\n",
       "      <td>0.0</td>\n",
       "      <td>2</td>\n",
       "      <td>0.259</td>\n",
       "      <td>-8.304</td>\n",
       "      <td>1</td>\n",
       "      <td>0.3300</td>\n",
       "      <td>104.053</td>\n",
       "      <td>4</td>\n",
       "      <td>0.329</td>\n",
       "    </tr>\n",
       "    <tr>\n",
       "      <th>17603</th>\n",
       "      <td>I Love It (&amp; Lil Pump)</td>\n",
       "      <td>99</td>\n",
       "      <td>127946</td>\n",
       "      <td>0.0114</td>\n",
       "      <td>0.901</td>\n",
       "      <td>0.522</td>\n",
       "      <td>0.0</td>\n",
       "      <td>2</td>\n",
       "      <td>0.259</td>\n",
       "      <td>-8.304</td>\n",
       "      <td>1</td>\n",
       "      <td>0.3300</td>\n",
       "      <td>104.053</td>\n",
       "      <td>4</td>\n",
       "      <td>0.329</td>\n",
       "    </tr>\n",
       "    <tr>\n",
       "      <th>4301</th>\n",
       "      <td>I Love It (&amp; Lil Pump)</td>\n",
       "      <td>99</td>\n",
       "      <td>127946</td>\n",
       "      <td>0.0114</td>\n",
       "      <td>0.901</td>\n",
       "      <td>0.522</td>\n",
       "      <td>0.0</td>\n",
       "      <td>2</td>\n",
       "      <td>0.259</td>\n",
       "      <td>-8.304</td>\n",
       "      <td>1</td>\n",
       "      <td>0.3300</td>\n",
       "      <td>104.053</td>\n",
       "      <td>4</td>\n",
       "      <td>0.329</td>\n",
       "    </tr>\n",
       "    <tr>\n",
       "      <th>17660</th>\n",
       "      <td>I Love It (&amp; Lil Pump)</td>\n",
       "      <td>99</td>\n",
       "      <td>127946</td>\n",
       "      <td>0.0114</td>\n",
       "      <td>0.901</td>\n",
       "      <td>0.522</td>\n",
       "      <td>0.0</td>\n",
       "      <td>2</td>\n",
       "      <td>0.259</td>\n",
       "      <td>-8.304</td>\n",
       "      <td>1</td>\n",
       "      <td>0.3300</td>\n",
       "      <td>104.053</td>\n",
       "      <td>4</td>\n",
       "      <td>0.329</td>\n",
       "    </tr>\n",
       "    <tr>\n",
       "      <th>14314</th>\n",
       "      <td>I Love It (&amp; Lil Pump)</td>\n",
       "      <td>99</td>\n",
       "      <td>127946</td>\n",
       "      <td>0.0114</td>\n",
       "      <td>0.901</td>\n",
       "      <td>0.522</td>\n",
       "      <td>0.0</td>\n",
       "      <td>2</td>\n",
       "      <td>0.259</td>\n",
       "      <td>-8.304</td>\n",
       "      <td>1</td>\n",
       "      <td>0.3300</td>\n",
       "      <td>104.053</td>\n",
       "      <td>4</td>\n",
       "      <td>0.329</td>\n",
       "    </tr>\n",
       "    <tr>\n",
       "      <th>5608</th>\n",
       "      <td>I Love It (&amp; Lil Pump)</td>\n",
       "      <td>99</td>\n",
       "      <td>127946</td>\n",
       "      <td>0.0114</td>\n",
       "      <td>0.901</td>\n",
       "      <td>0.522</td>\n",
       "      <td>0.0</td>\n",
       "      <td>2</td>\n",
       "      <td>0.259</td>\n",
       "      <td>-8.304</td>\n",
       "      <td>1</td>\n",
       "      <td>0.3300</td>\n",
       "      <td>104.053</td>\n",
       "      <td>4</td>\n",
       "      <td>0.329</td>\n",
       "    </tr>\n",
       "  </tbody>\n",
       "</table>\n",
       "</div>"
      ],
      "text/plain": [
       "                    song_name  song_popularity  song_duration_ms  \\\n",
       "7568                  Happier              100            214289   \n",
       "15091                 Happier              100            214289   \n",
       "17392                 Happier              100            214289   \n",
       "14176                 Happier              100            214289   \n",
       "11665                 Happier              100            214289   \n",
       "11697                 Happier              100            214289   \n",
       "5593                  Happier              100            214289   \n",
       "4299                  Happier              100            214289   \n",
       "16497                 Happier              100            214289   \n",
       "17590                 Happier              100            214289   \n",
       "7636                  Happier              100            214289   \n",
       "17638                 Happier              100            214289   \n",
       "1229   I Love It (& Lil Pump)               99            127946   \n",
       "11777  I Love It (& Lil Pump)               99            127946   \n",
       "17113  I Love It (& Lil Pump)               99            127946   \n",
       "17603  I Love It (& Lil Pump)               99            127946   \n",
       "4301   I Love It (& Lil Pump)               99            127946   \n",
       "17660  I Love It (& Lil Pump)               99            127946   \n",
       "14314  I Love It (& Lil Pump)               99            127946   \n",
       "5608   I Love It (& Lil Pump)               99            127946   \n",
       "\n",
       "       acousticness  danceability  energy  instrumentalness  key  liveness  \\\n",
       "7568         0.1910         0.687   0.792               0.0    5     0.167   \n",
       "15091        0.1910         0.687   0.792               0.0    5     0.167   \n",
       "17392        0.1910         0.687   0.792               0.0    5     0.167   \n",
       "14176        0.1910         0.687   0.792               0.0    5     0.167   \n",
       "11665        0.1910         0.687   0.792               0.0    5     0.167   \n",
       "11697        0.1910         0.687   0.792               0.0    5     0.167   \n",
       "5593         0.1910         0.687   0.792               0.0    5     0.167   \n",
       "4299         0.1910         0.687   0.792               0.0    5     0.167   \n",
       "16497        0.1910         0.687   0.792               0.0    5     0.167   \n",
       "17590        0.1910         0.687   0.792               0.0    5     0.167   \n",
       "7636         0.1910         0.687   0.792               0.0    5     0.167   \n",
       "17638        0.1910         0.687   0.792               0.0    5     0.167   \n",
       "1229         0.0114         0.901   0.522               0.0    2     0.259   \n",
       "11777        0.0114         0.901   0.522               0.0    2     0.259   \n",
       "17113        0.0114         0.901   0.522               0.0    2     0.259   \n",
       "17603        0.0114         0.901   0.522               0.0    2     0.259   \n",
       "4301         0.0114         0.901   0.522               0.0    2     0.259   \n",
       "17660        0.0114         0.901   0.522               0.0    2     0.259   \n",
       "14314        0.0114         0.901   0.522               0.0    2     0.259   \n",
       "5608         0.0114         0.901   0.522               0.0    2     0.259   \n",
       "\n",
       "       loudness  audio_mode  speechiness    tempo  time_signature  \\\n",
       "7568     -2.749           1       0.0452  100.015               4   \n",
       "15091    -2.749           1       0.0452  100.015               4   \n",
       "17392    -2.749           1       0.0452  100.015               4   \n",
       "14176    -2.749           1       0.0452  100.015               4   \n",
       "11665    -2.749           1       0.0452  100.015               4   \n",
       "11697    -2.749           1       0.0452  100.015               4   \n",
       "5593     -2.749           1       0.0452  100.015               4   \n",
       "4299     -2.749           1       0.0452  100.015               4   \n",
       "16497    -2.749           1       0.0452  100.015               4   \n",
       "17590    -2.749           1       0.0452  100.015               4   \n",
       "7636     -2.749           1       0.0452  100.015               4   \n",
       "17638    -2.749           1       0.0452  100.015               4   \n",
       "1229     -8.304           1       0.3300  104.053               4   \n",
       "11777    -8.304           1       0.3300  104.053               4   \n",
       "17113    -8.304           1       0.3300  104.053               4   \n",
       "17603    -8.304           1       0.3300  104.053               4   \n",
       "4301     -8.304           1       0.3300  104.053               4   \n",
       "17660    -8.304           1       0.3300  104.053               4   \n",
       "14314    -8.304           1       0.3300  104.053               4   \n",
       "5608     -8.304           1       0.3300  104.053               4   \n",
       "\n",
       "       audio_valence  \n",
       "7568           0.671  \n",
       "15091          0.671  \n",
       "17392          0.671  \n",
       "14176          0.671  \n",
       "11665          0.671  \n",
       "11697          0.671  \n",
       "5593           0.671  \n",
       "4299           0.671  \n",
       "16497          0.671  \n",
       "17590          0.671  \n",
       "7636           0.671  \n",
       "17638          0.671  \n",
       "1229           0.329  \n",
       "11777          0.329  \n",
       "17113          0.329  \n",
       "17603          0.329  \n",
       "4301           0.329  \n",
       "17660          0.329  \n",
       "14314          0.329  \n",
       "5608           0.329  "
      ]
     },
     "execution_count": 18,
     "metadata": {},
     "output_type": "execute_result"
    }
   ],
   "source": [
    "base_data.sort_values(by=[\"song_popularity\"], ascending=False).head(20)"
   ]
  },
  {
   "cell_type": "markdown",
   "metadata": {},
   "source": [
    "- song_name = Name des Liedes (String)\n",
    "- song_popularity = Beliebtheit des Liedes in % (int 0-100) --> WAS WIRD IN PROZENT ANGEGEBEN (STREAMS?`)????? The popularity is calculated by algorithm and is based, in the most part, on the total number of plays the track has had and how recent those plays are.\n",
    "- song_duration = Länge des Liedes in ms (int 12s-30min)\n",
    "- acousticness = Akustik eines Liedes in % (float 0-1) Wert von 1.0 bedeutet, dass es ein akustisches Lied ist (nicht elektronisch verstärkt)\n",
    "- danceability = Tanzbarkeit in % (float 0-1) Wert von 1.0 bedeutet, dass das Lied sehr um Tanzen anregt, basierend auf musikalische Elemente wie unteranderem Tempo, Stabilität des Rhytmik, Stärke des Bass' und weiteren.\n",
    "- energy = Intensität und Aktivität des Liedes in % (float 0-1), basierend auf der Schnelligkeit, Lautstärke und Rauschen des Liedes sowie der generellen Entropie. Wert von 1.0 bedeutet, dass ein Lied sehr energetisch ist, beispielsweise Death Metal\n",
    "- instrumentalness = Instrumentalität in % (float 0-1), gibt an in wie weit Vocals im Lied vorhanden sind. Je näher an 1.0, desto wahrscheinlicher Lied ohne Vocals, ab 0.5 kann davon ausgegangen werden, dass Lied instrumental ist\n",
    "- key = Tonart in dem Lied (int -1-11), -1 wenn keine primäre Tonart erkannt wurde (https://de.wikipedia.org/wiki/Tonklasse)\n",
    "- liveness = Wahrscheinlichkeit, dass das Lied eine Liveversion ist (float 0-1), basierend auf Zuschauer/Zuhörer die im Hintegrund entdeckt werden, ab 0.8 kann davon ausgegangen werden, dass es eine Liveversion ist\n",
    "- loudness = gibt die durchschnittliche Lautstärke des Liedes in Decibel an (float -38.0 - 1.5), Lautstärke ist relativ angegeben\n",
    "- audio_mode = Modalität der Tonleiter (int 0=Moll oder 1=Dur) \n",
    "- speechiness = Exklusiv gesprochen, zum Beispiel Reden oder Gedichte (Racism And Injustice von Martin L. King), alles >0.66 sehr wahrscheinlich, dass nur Gesprochen wird, alles <0.33 wenig/kein gesprochenes Wort\n",
    "- tempo = Schätzung zur Geschwindigkeit des Liedes in Beats per Minute (BPM) (float)\n",
    "- time_signature = Taktangabe (int 3-7), gibt Takt von 3/4 Takt bis 7/4 Takt an\n",
    "- audio_valence = Positivität des Liedes (float 0-1), Eine hohe Wertigkeit deutet auf positive Stimmung hin (fröhlich, euphorisch), ein niedriger Wert von einer negativen (aggresiv, melancholisch)\n",
    "\n",
    "Quelle: https://developer.spotify.com/documentation/web-api/reference/#/operations/get-several-audio-features"
   ]
  },
  {
   "cell_type": "markdown",
   "metadata": {},
   "source": [
    "| Feldname | Datentyp / Wertebereich | Beschreibung |\n",
    "| --- | --- | --- |\n",
    "| song_name| String | Der Name des Liedes |\n",
    "| song_popularity | int [0;100] | Die relative Beliebtheit eines Liedes in Prozent. Die Beliebtheit wird an der Gesamtzahl der Streams eines Liedes gemessen. Das Lied mit dem Wert 100 ist das beliebteste Lied. |\n",
    "| song_duration | int | Gibt die Länge eines Liedes in Millisekunden an |\n",
    "| acousticness | float [0;1] | Die Akustikt eines Liedes in Prozent. Ein Wert von 1.0 bedeutet, dass ein Lied sehr akustisch ist und nicht elektronisch verstärkt |\n",
    "| danceability | float [0;1] | Die Tanzbarkeit eines Liedes in Prozent. Ein Wert von 1.0 bedeutet, dass dieses Lied zum Tanzen anregt. Der Wert wird über die musikalischen Elementen wie unteranderem dem Tempo, der Stabilität der Rhytmik, der Stärke des Bass's ermittelt. |\n",
    "| energy | float [0;1] | | "
   ]
  },
  {
   "cell_type": "markdown",
   "metadata": {},
   "source": [
    "### 2.1 Umgang mit fehlenden Werten, Redundanzen und Inkonsistenzen"
   ]
  },
  {
   "cell_type": "code",
   "execution_count": 19,
   "metadata": {},
   "outputs": [
    {
     "name": "stdout",
     "output_type": "stream",
     "text": [
      "<class 'pandas.core.frame.DataFrame'>\n",
      "RangeIndex: 14468 entries, 0 to 14467\n",
      "Data columns (total 15 columns):\n",
      " #   Column            Non-Null Count  Dtype  \n",
      "---  ------            --------------  -----  \n",
      " 0   song_name         14468 non-null  object \n",
      " 1   song_popularity   14468 non-null  int64  \n",
      " 2   song_duration_ms  14468 non-null  int64  \n",
      " 3   acousticness      14468 non-null  float64\n",
      " 4   danceability      14468 non-null  float64\n",
      " 5   energy            14468 non-null  float64\n",
      " 6   instrumentalness  14468 non-null  float64\n",
      " 7   key               14468 non-null  int64  \n",
      " 8   liveness          14468 non-null  float64\n",
      " 9   loudness          14468 non-null  float64\n",
      " 10  audio_mode        14468 non-null  int64  \n",
      " 11  speechiness       14468 non-null  float64\n",
      " 12  tempo             14468 non-null  float64\n",
      " 13  time_signature    14468 non-null  int64  \n",
      " 14  audio_valence     14468 non-null  float64\n",
      "dtypes: float64(9), int64(5), object(1)\n",
      "memory usage: 1.7+ MB\n"
     ]
    }
   ],
   "source": [
    "cleared = base_data.drop_duplicates(subset = [\"song_name\", \"song_duration_ms\"], keep = \"last\").reset_index(drop = True)\n",
    "cleared.info()"
   ]
  },
  {
   "cell_type": "markdown",
   "metadata": {},
   "source": [
    "Redundanzen sind vorhanden, diese werden entfernt anhand gleichem Songtitel und gleicher Songlänge. Dadurch 14.468 Songs, somit circa 4.400 Redundanzen entfernt"
   ]
  },
  {
   "cell_type": "code",
   "execution_count": 20,
   "metadata": {},
   "outputs": [
    {
     "data": {
      "text/html": [
       "<div>\n",
       "<style scoped>\n",
       "    .dataframe tbody tr th:only-of-type {\n",
       "        vertical-align: middle;\n",
       "    }\n",
       "\n",
       "    .dataframe tbody tr th {\n",
       "        vertical-align: top;\n",
       "    }\n",
       "\n",
       "    .dataframe thead th {\n",
       "        text-align: right;\n",
       "    }\n",
       "</style>\n",
       "<table border=\"1\" class=\"dataframe\">\n",
       "  <thead>\n",
       "    <tr style=\"text-align: right;\">\n",
       "      <th></th>\n",
       "      <th>song_name</th>\n",
       "      <th>song_popularity</th>\n",
       "      <th>song_duration_ms</th>\n",
       "      <th>acousticness</th>\n",
       "      <th>danceability</th>\n",
       "      <th>energy</th>\n",
       "      <th>instrumentalness</th>\n",
       "      <th>key</th>\n",
       "      <th>liveness</th>\n",
       "      <th>loudness</th>\n",
       "      <th>audio_mode</th>\n",
       "      <th>speechiness</th>\n",
       "      <th>tempo</th>\n",
       "      <th>time_signature</th>\n",
       "      <th>audio_valence</th>\n",
       "    </tr>\n",
       "  </thead>\n",
       "  <tbody>\n",
       "    <tr>\n",
       "      <th>13326</th>\n",
       "      <td>Happier</td>\n",
       "      <td>100</td>\n",
       "      <td>214289</td>\n",
       "      <td>0.19100</td>\n",
       "      <td>0.687</td>\n",
       "      <td>0.792</td>\n",
       "      <td>0.000000</td>\n",
       "      <td>5</td>\n",
       "      <td>0.1670</td>\n",
       "      <td>-2.749</td>\n",
       "      <td>1</td>\n",
       "      <td>0.0452</td>\n",
       "      <td>100.015</td>\n",
       "      <td>4</td>\n",
       "      <td>0.671</td>\n",
       "    </tr>\n",
       "    <tr>\n",
       "      <th>13346</th>\n",
       "      <td>I Love It (&amp; Lil Pump)</td>\n",
       "      <td>99</td>\n",
       "      <td>127946</td>\n",
       "      <td>0.01140</td>\n",
       "      <td>0.901</td>\n",
       "      <td>0.522</td>\n",
       "      <td>0.000000</td>\n",
       "      <td>2</td>\n",
       "      <td>0.2590</td>\n",
       "      <td>-8.304</td>\n",
       "      <td>1</td>\n",
       "      <td>0.3300</td>\n",
       "      <td>104.053</td>\n",
       "      <td>4</td>\n",
       "      <td>0.329</td>\n",
       "    </tr>\n",
       "    <tr>\n",
       "      <th>13490</th>\n",
       "      <td>Taki Taki (with Selena Gomez, Ozuna &amp; Cardi B)</td>\n",
       "      <td>98</td>\n",
       "      <td>212500</td>\n",
       "      <td>0.15300</td>\n",
       "      <td>0.841</td>\n",
       "      <td>0.798</td>\n",
       "      <td>0.000003</td>\n",
       "      <td>1</td>\n",
       "      <td>0.0618</td>\n",
       "      <td>-4.206</td>\n",
       "      <td>0</td>\n",
       "      <td>0.2290</td>\n",
       "      <td>95.948</td>\n",
       "      <td>4</td>\n",
       "      <td>0.591</td>\n",
       "    </tr>\n",
       "    <tr>\n",
       "      <th>13592</th>\n",
       "      <td>Promises (with Sam Smith)</td>\n",
       "      <td>98</td>\n",
       "      <td>213309</td>\n",
       "      <td>0.01190</td>\n",
       "      <td>0.781</td>\n",
       "      <td>0.768</td>\n",
       "      <td>0.000005</td>\n",
       "      <td>11</td>\n",
       "      <td>0.3250</td>\n",
       "      <td>-5.991</td>\n",
       "      <td>1</td>\n",
       "      <td>0.0394</td>\n",
       "      <td>123.070</td>\n",
       "      <td>4</td>\n",
       "      <td>0.486</td>\n",
       "    </tr>\n",
       "    <tr>\n",
       "      <th>13308</th>\n",
       "      <td>In My Feelings</td>\n",
       "      <td>98</td>\n",
       "      <td>217925</td>\n",
       "      <td>0.05890</td>\n",
       "      <td>0.835</td>\n",
       "      <td>0.626</td>\n",
       "      <td>0.000060</td>\n",
       "      <td>1</td>\n",
       "      <td>0.3960</td>\n",
       "      <td>-5.833</td>\n",
       "      <td>1</td>\n",
       "      <td>0.1250</td>\n",
       "      <td>91.030</td>\n",
       "      <td>4</td>\n",
       "      <td>0.350</td>\n",
       "    </tr>\n",
       "    <tr>\n",
       "      <th>13472</th>\n",
       "      <td>Eastside (with Halsey &amp; Khalid)</td>\n",
       "      <td>98</td>\n",
       "      <td>173799</td>\n",
       "      <td>0.55500</td>\n",
       "      <td>0.560</td>\n",
       "      <td>0.680</td>\n",
       "      <td>0.000000</td>\n",
       "      <td>6</td>\n",
       "      <td>0.1160</td>\n",
       "      <td>-7.648</td>\n",
       "      <td>0</td>\n",
       "      <td>0.3210</td>\n",
       "      <td>89.391</td>\n",
       "      <td>4</td>\n",
       "      <td>0.319</td>\n",
       "    </tr>\n",
       "    <tr>\n",
       "      <th>13290</th>\n",
       "      <td>Lucid Dreams</td>\n",
       "      <td>97</td>\n",
       "      <td>239835</td>\n",
       "      <td>0.34900</td>\n",
       "      <td>0.511</td>\n",
       "      <td>0.566</td>\n",
       "      <td>0.000000</td>\n",
       "      <td>6</td>\n",
       "      <td>0.3400</td>\n",
       "      <td>-7.230</td>\n",
       "      <td>0</td>\n",
       "      <td>0.2000</td>\n",
       "      <td>83.903</td>\n",
       "      <td>4</td>\n",
       "      <td>0.218</td>\n",
       "    </tr>\n",
       "    <tr>\n",
       "      <th>11606</th>\n",
       "      <td>In My Mind</td>\n",
       "      <td>97</td>\n",
       "      <td>184560</td>\n",
       "      <td>0.17600</td>\n",
       "      <td>0.694</td>\n",
       "      <td>0.770</td>\n",
       "      <td>0.000011</td>\n",
       "      <td>6</td>\n",
       "      <td>0.1180</td>\n",
       "      <td>-5.335</td>\n",
       "      <td>1</td>\n",
       "      <td>0.1490</td>\n",
       "      <td>125.905</td>\n",
       "      <td>4</td>\n",
       "      <td>0.163</td>\n",
       "    </tr>\n",
       "    <tr>\n",
       "      <th>13319</th>\n",
       "      <td>Falling Down</td>\n",
       "      <td>97</td>\n",
       "      <td>196400</td>\n",
       "      <td>0.01750</td>\n",
       "      <td>0.669</td>\n",
       "      <td>0.574</td>\n",
       "      <td>0.002940</td>\n",
       "      <td>4</td>\n",
       "      <td>0.1460</td>\n",
       "      <td>-6.442</td>\n",
       "      <td>0</td>\n",
       "      <td>0.0286</td>\n",
       "      <td>120.013</td>\n",
       "      <td>4</td>\n",
       "      <td>0.273</td>\n",
       "    </tr>\n",
       "    <tr>\n",
       "      <th>13469</th>\n",
       "      <td>SICKO MODE</td>\n",
       "      <td>97</td>\n",
       "      <td>312820</td>\n",
       "      <td>0.00513</td>\n",
       "      <td>0.834</td>\n",
       "      <td>0.730</td>\n",
       "      <td>0.000000</td>\n",
       "      <td>8</td>\n",
       "      <td>0.1240</td>\n",
       "      <td>-3.714</td>\n",
       "      <td>1</td>\n",
       "      <td>0.2220</td>\n",
       "      <td>155.008</td>\n",
       "      <td>4</td>\n",
       "      <td>0.446</td>\n",
       "    </tr>\n",
       "    <tr>\n",
       "      <th>13476</th>\n",
       "      <td>Be Alright</td>\n",
       "      <td>96</td>\n",
       "      <td>196373</td>\n",
       "      <td>0.69700</td>\n",
       "      <td>0.553</td>\n",
       "      <td>0.586</td>\n",
       "      <td>0.000000</td>\n",
       "      <td>11</td>\n",
       "      <td>0.0813</td>\n",
       "      <td>-6.319</td>\n",
       "      <td>1</td>\n",
       "      <td>0.0362</td>\n",
       "      <td>126.684</td>\n",
       "      <td>4</td>\n",
       "      <td>0.443</td>\n",
       "    </tr>\n",
       "    <tr>\n",
       "      <th>13296</th>\n",
       "      <td>SAD!</td>\n",
       "      <td>96</td>\n",
       "      <td>166605</td>\n",
       "      <td>0.25800</td>\n",
       "      <td>0.740</td>\n",
       "      <td>0.613</td>\n",
       "      <td>0.003720</td>\n",
       "      <td>8</td>\n",
       "      <td>0.1230</td>\n",
       "      <td>-4.880</td>\n",
       "      <td>1</td>\n",
       "      <td>0.1450</td>\n",
       "      <td>75.023</td>\n",
       "      <td>4</td>\n",
       "      <td>0.473</td>\n",
       "    </tr>\n",
       "    <tr>\n",
       "      <th>13294</th>\n",
       "      <td>Moonlight</td>\n",
       "      <td>96</td>\n",
       "      <td>135090</td>\n",
       "      <td>0.55600</td>\n",
       "      <td>0.921</td>\n",
       "      <td>0.537</td>\n",
       "      <td>0.004040</td>\n",
       "      <td>9</td>\n",
       "      <td>0.1020</td>\n",
       "      <td>-5.723</td>\n",
       "      <td>0</td>\n",
       "      <td>0.0804</td>\n",
       "      <td>128.009</td>\n",
       "      <td>4</td>\n",
       "      <td>0.711</td>\n",
       "    </tr>\n",
       "    <tr>\n",
       "      <th>13480</th>\n",
       "      <td>FEFE (feat. Nicki Minaj &amp; Murda Beatz)</td>\n",
       "      <td>96</td>\n",
       "      <td>179404</td>\n",
       "      <td>0.08800</td>\n",
       "      <td>0.931</td>\n",
       "      <td>0.387</td>\n",
       "      <td>0.000000</td>\n",
       "      <td>1</td>\n",
       "      <td>0.1360</td>\n",
       "      <td>-9.127</td>\n",
       "      <td>1</td>\n",
       "      <td>0.4120</td>\n",
       "      <td>125.978</td>\n",
       "      <td>4</td>\n",
       "      <td>0.376</td>\n",
       "    </tr>\n",
       "    <tr>\n",
       "      <th>10609</th>\n",
       "      <td>Lucky You (feat. Joyner Lucas)</td>\n",
       "      <td>96</td>\n",
       "      <td>244679</td>\n",
       "      <td>0.06270</td>\n",
       "      <td>0.876</td>\n",
       "      <td>0.786</td>\n",
       "      <td>0.000000</td>\n",
       "      <td>10</td>\n",
       "      <td>0.1270</td>\n",
       "      <td>-4.884</td>\n",
       "      <td>0</td>\n",
       "      <td>0.3060</td>\n",
       "      <td>153.068</td>\n",
       "      <td>4</td>\n",
       "      <td>0.575</td>\n",
       "    </tr>\n",
       "    <tr>\n",
       "      <th>13500</th>\n",
       "      <td>BEBE</td>\n",
       "      <td>95</td>\n",
       "      <td>217822</td>\n",
       "      <td>0.17200</td>\n",
       "      <td>0.635</td>\n",
       "      <td>0.902</td>\n",
       "      <td>0.000000</td>\n",
       "      <td>0</td>\n",
       "      <td>0.1250</td>\n",
       "      <td>-3.559</td>\n",
       "      <td>1</td>\n",
       "      <td>0.1090</td>\n",
       "      <td>102.063</td>\n",
       "      <td>4</td>\n",
       "      <td>0.286</td>\n",
       "    </tr>\n",
       "    <tr>\n",
       "      <th>13144</th>\n",
       "      <td>Natural</td>\n",
       "      <td>95</td>\n",
       "      <td>189466</td>\n",
       "      <td>0.21600</td>\n",
       "      <td>0.448</td>\n",
       "      <td>0.612</td>\n",
       "      <td>0.000000</td>\n",
       "      <td>2</td>\n",
       "      <td>0.0800</td>\n",
       "      <td>-6.106</td>\n",
       "      <td>1</td>\n",
       "      <td>0.0708</td>\n",
       "      <td>97.773</td>\n",
       "      <td>4</td>\n",
       "      <td>0.213</td>\n",
       "    </tr>\n",
       "    <tr>\n",
       "      <th>14123</th>\n",
       "      <td>Taste (feat. Offset)</td>\n",
       "      <td>95</td>\n",
       "      <td>232959</td>\n",
       "      <td>0.02360</td>\n",
       "      <td>0.884</td>\n",
       "      <td>0.559</td>\n",
       "      <td>0.000000</td>\n",
       "      <td>0</td>\n",
       "      <td>0.1010</td>\n",
       "      <td>-7.442</td>\n",
       "      <td>1</td>\n",
       "      <td>0.1200</td>\n",
       "      <td>97.994</td>\n",
       "      <td>4</td>\n",
       "      <td>0.342</td>\n",
       "    </tr>\n",
       "    <tr>\n",
       "      <th>13298</th>\n",
       "      <td>Better Now</td>\n",
       "      <td>95</td>\n",
       "      <td>231266</td>\n",
       "      <td>0.35400</td>\n",
       "      <td>0.680</td>\n",
       "      <td>0.563</td>\n",
       "      <td>0.000000</td>\n",
       "      <td>10</td>\n",
       "      <td>0.1360</td>\n",
       "      <td>-5.843</td>\n",
       "      <td>1</td>\n",
       "      <td>0.0454</td>\n",
       "      <td>145.028</td>\n",
       "      <td>4</td>\n",
       "      <td>0.374</td>\n",
       "    </tr>\n",
       "    <tr>\n",
       "      <th>13517</th>\n",
       "      <td>I Like It</td>\n",
       "      <td>95</td>\n",
       "      <td>253390</td>\n",
       "      <td>0.09900</td>\n",
       "      <td>0.816</td>\n",
       "      <td>0.726</td>\n",
       "      <td>0.000000</td>\n",
       "      <td>5</td>\n",
       "      <td>0.3720</td>\n",
       "      <td>-3.998</td>\n",
       "      <td>0</td>\n",
       "      <td>0.1290</td>\n",
       "      <td>136.048</td>\n",
       "      <td>4</td>\n",
       "      <td>0.650</td>\n",
       "    </tr>\n",
       "  </tbody>\n",
       "</table>\n",
       "</div>"
      ],
      "text/plain": [
       "                                            song_name  song_popularity  \\\n",
       "13326                                         Happier              100   \n",
       "13346                          I Love It (& Lil Pump)               99   \n",
       "13490  Taki Taki (with Selena Gomez, Ozuna & Cardi B)               98   \n",
       "13592                       Promises (with Sam Smith)               98   \n",
       "13308                                  In My Feelings               98   \n",
       "13472                 Eastside (with Halsey & Khalid)               98   \n",
       "13290                                    Lucid Dreams               97   \n",
       "11606                                      In My Mind               97   \n",
       "13319                                    Falling Down               97   \n",
       "13469                                      SICKO MODE               97   \n",
       "13476                                      Be Alright               96   \n",
       "13296                                            SAD!               96   \n",
       "13294                                       Moonlight               96   \n",
       "13480          FEFE (feat. Nicki Minaj & Murda Beatz)               96   \n",
       "10609                  Lucky You (feat. Joyner Lucas)               96   \n",
       "13500                                            BEBE               95   \n",
       "13144                                         Natural               95   \n",
       "14123                            Taste (feat. Offset)               95   \n",
       "13298                                      Better Now               95   \n",
       "13517                                       I Like It               95   \n",
       "\n",
       "       song_duration_ms  acousticness  danceability  energy  instrumentalness  \\\n",
       "13326            214289       0.19100         0.687   0.792          0.000000   \n",
       "13346            127946       0.01140         0.901   0.522          0.000000   \n",
       "13490            212500       0.15300         0.841   0.798          0.000003   \n",
       "13592            213309       0.01190         0.781   0.768          0.000005   \n",
       "13308            217925       0.05890         0.835   0.626          0.000060   \n",
       "13472            173799       0.55500         0.560   0.680          0.000000   \n",
       "13290            239835       0.34900         0.511   0.566          0.000000   \n",
       "11606            184560       0.17600         0.694   0.770          0.000011   \n",
       "13319            196400       0.01750         0.669   0.574          0.002940   \n",
       "13469            312820       0.00513         0.834   0.730          0.000000   \n",
       "13476            196373       0.69700         0.553   0.586          0.000000   \n",
       "13296            166605       0.25800         0.740   0.613          0.003720   \n",
       "13294            135090       0.55600         0.921   0.537          0.004040   \n",
       "13480            179404       0.08800         0.931   0.387          0.000000   \n",
       "10609            244679       0.06270         0.876   0.786          0.000000   \n",
       "13500            217822       0.17200         0.635   0.902          0.000000   \n",
       "13144            189466       0.21600         0.448   0.612          0.000000   \n",
       "14123            232959       0.02360         0.884   0.559          0.000000   \n",
       "13298            231266       0.35400         0.680   0.563          0.000000   \n",
       "13517            253390       0.09900         0.816   0.726          0.000000   \n",
       "\n",
       "       key  liveness  loudness  audio_mode  speechiness    tempo  \\\n",
       "13326    5    0.1670    -2.749           1       0.0452  100.015   \n",
       "13346    2    0.2590    -8.304           1       0.3300  104.053   \n",
       "13490    1    0.0618    -4.206           0       0.2290   95.948   \n",
       "13592   11    0.3250    -5.991           1       0.0394  123.070   \n",
       "13308    1    0.3960    -5.833           1       0.1250   91.030   \n",
       "13472    6    0.1160    -7.648           0       0.3210   89.391   \n",
       "13290    6    0.3400    -7.230           0       0.2000   83.903   \n",
       "11606    6    0.1180    -5.335           1       0.1490  125.905   \n",
       "13319    4    0.1460    -6.442           0       0.0286  120.013   \n",
       "13469    8    0.1240    -3.714           1       0.2220  155.008   \n",
       "13476   11    0.0813    -6.319           1       0.0362  126.684   \n",
       "13296    8    0.1230    -4.880           1       0.1450   75.023   \n",
       "13294    9    0.1020    -5.723           0       0.0804  128.009   \n",
       "13480    1    0.1360    -9.127           1       0.4120  125.978   \n",
       "10609   10    0.1270    -4.884           0       0.3060  153.068   \n",
       "13500    0    0.1250    -3.559           1       0.1090  102.063   \n",
       "13144    2    0.0800    -6.106           1       0.0708   97.773   \n",
       "14123    0    0.1010    -7.442           1       0.1200   97.994   \n",
       "13298   10    0.1360    -5.843           1       0.0454  145.028   \n",
       "13517    5    0.3720    -3.998           0       0.1290  136.048   \n",
       "\n",
       "       time_signature  audio_valence  \n",
       "13326               4          0.671  \n",
       "13346               4          0.329  \n",
       "13490               4          0.591  \n",
       "13592               4          0.486  \n",
       "13308               4          0.350  \n",
       "13472               4          0.319  \n",
       "13290               4          0.218  \n",
       "11606               4          0.163  \n",
       "13319               4          0.273  \n",
       "13469               4          0.446  \n",
       "13476               4          0.443  \n",
       "13296               4          0.473  \n",
       "13294               4          0.711  \n",
       "13480               4          0.376  \n",
       "10609               4          0.575  \n",
       "13500               4          0.286  \n",
       "13144               4          0.213  \n",
       "14123               4          0.342  \n",
       "13298               4          0.374  \n",
       "13517               4          0.650  "
      ]
     },
     "execution_count": 20,
     "metadata": {},
     "output_type": "execute_result"
    }
   ],
   "source": [
    "cleared.sort_values(by=[\"song_popularity\"], ascending=False).head(20)"
   ]
  },
  {
   "cell_type": "markdown",
   "metadata": {},
   "source": [
    "Gegenprobe"
   ]
  },
  {
   "cell_type": "code",
   "execution_count": 21,
   "metadata": {},
   "outputs": [
    {
     "data": {
      "text/plain": [
       "Heaven                      8\n",
       "Fire                        8\n",
       "You                         7\n",
       "Fall                        7\n",
       "Stay                        7\n",
       "                           ..\n",
       "Hallelujah I Love Her So    1\n",
       "Punches (with LP)           1\n",
       "Vibrate                     1\n",
       "3's & 7's                   1\n",
       "Est                         1\n",
       "Name: song_name, Length: 13070, dtype: int64"
      ]
     },
     "execution_count": 21,
     "metadata": {},
     "output_type": "execute_result"
    }
   ],
   "source": [
    "cleared[\"song_name\"].value_counts()"
   ]
  },
  {
   "cell_type": "markdown",
   "metadata": {},
   "source": [
    "Weiterhin sind Lieder mit dem selben Titel mehrfach vorhanden.\n",
    "Fraglich ob vom selben Künstler und fraglich ob selbe Version des Liedes\n",
    "Daher werden diese Redundanzen nicht entfernt.\n",
    "Von den häufigen Songtiteln vorallem generische Wörte wie \"Heaven\", \"Fire\", \"Fall\", \"Gone\", \"Stay\" - Indiz, dass diese Lieder von unterschiedlichen Künstlern kommen könnten"
   ]
  },
  {
   "cell_type": "markdown",
   "metadata": {},
   "source": [
    "### 2.2 Erweiterung des Datensatzes\n",
    "Zur Erweiterung des Basis-Datensatzes wird die Spotify Web API (https://developer.spotify.com/documentation/web-api/) verwendet. Dazu werden eine Client-ID und ein Client-Secret benötigt, die im Rahmen von ... erstellt werden können. "
   ]
  },
  {
   "cell_type": "code",
   "execution_count": 22,
   "metadata": {},
   "outputs": [],
   "source": [
    "# CLIENT_ID = \"28f2619d8a6242ceae8160c565174771\"\n",
    "# CLIENT_SECRET = \"5f6cb53e2614428380966f0e93e72c16\"\n",
    "\n",
    "# sp = spotipy.Spotify(auth_manager=SpotifyClientCredentials(client_id=CLIENT_ID, client_secret=CLIENT_SECRET))\n",
    "\n",
    "# expanded = base_data.copy()\n",
    "\n",
    "# def expand_row(row):\n",
    "#     time.sleep(0.1) # Sleep 100ms, 10 rps, 600 requests per min\n",
    "#     results = sp.search(q=row.song_name, limit=50, type=\"track\")\n",
    "\n",
    "#     for _, track in enumerate(results[\"tracks\"][\"items\"]):\n",
    "#         if track[\"duration_ms\"] == row.song_duration_ms:\n",
    "#             row[\"artist\"] = track[\"artists\"][0][\"name\"]\n",
    "#             row[\"explicit\"] = track[\"explicit\"]\n",
    "#             return row\n",
    "#     return row\n",
    "\n",
    "# expanded = expanded.apply(expand_row, axis=1)"
   ]
  },
  {
   "cell_type": "markdown",
   "metadata": {},
   "source": [
    "Ausführung der Zelle hat circa 79 Minuten gedauert. Im Verlauf davon wurden 14.468 Anfragen an Spotify gesendet. Insgesamt wurden in vorherigen Tests circa 20.000 Anfragen an Spotify gesendet."
   ]
  },
  {
   "cell_type": "code",
   "execution_count": 23,
   "metadata": {},
   "outputs": [],
   "source": [
    "# expanded.info()\n",
    "# expanded.to_csv(\"song_data_expanded.csv\")"
   ]
  },
  {
   "cell_type": "markdown",
   "metadata": {},
   "source": [
    "Leider können bei circa 3900 Zeilen nicht zweifelsfrei Artist bzw. Explizit ermittelt werden. Würde man jeweils auf das erste Ergebnis zurück greifen, wenn mit gleicher Songlänge kein Lied gefunden würde, könnten alle Zeilen gefüllt werden. Aber es ist fraglich, ob das jeweilige Ergebnis richtig ist. Daher davon abgesehen"
   ]
  },
  {
   "cell_type": "markdown",
   "metadata": {},
   "source": [
    "Wurde als eigene csv gecachet um weitere Anfragen zu vermeiden. Die CSV enthält sowohl die bereinigten Daten als auch die Erweiterungen."
   ]
  },
  {
   "cell_type": "code",
   "execution_count": 24,
   "metadata": {},
   "outputs": [],
   "source": [
    "cleared = pd.read_csv(\"song_data_expanded.csv\")"
   ]
  },
  {
   "cell_type": "markdown",
   "metadata": {},
   "source": [
    "## 3 Visualisierung und Korrelationen zwischen den Features\n",
    "\n",
    "\n",
    "- Clustern nach Künstler, haben wenige Künstler viel Popularität oder eher One-Hit-Wunder? --> Z.b. Top 100 nur, da Künstler fehlen\n",
    "- NLP vom Songtitel ?\n",
    "- Genre in Bezug zum Zeitraum"
   ]
  },
  {
   "cell_type": "markdown",
   "metadata": {},
   "source": [
    "### 3.1 Popularität eines Liedes"
   ]
  },
  {
   "cell_type": "code",
   "execution_count": 25,
   "metadata": {},
   "outputs": [
    {
     "data": {
      "text/plain": [
       "<AxesSubplot:>"
      ]
     },
     "execution_count": 25,
     "metadata": {},
     "output_type": "execute_result"
    },
    {
     "data": {
      "image/png": "[encoded data removed]",
      "text/plain": [
       "<Figure size 432x288 with 1 Axes>"
      ]
     },
     "metadata": {
      "needs_background": "light"
     },
     "output_type": "display_data"
    }
   ],
   "source": [
    "cleared[\"song_popularity\"].hist(bins=14)"
   ]
  },
  {
   "cell_type": "markdown",
   "metadata": {},
   "source": [
    "Die Popularität eines Liedes ist mit Ausnahe des Intervalls [0;10] normalverteilt.  --> Ist das dann noch normalverteilt???"
   ]
  },
  {
   "cell_type": "code",
   "execution_count": 26,
   "metadata": {},
   "outputs": [
    {
     "data": {
      "text/plain": [
       "count    18835.000000\n",
       "mean        52.991877\n",
       "std         21.905654\n",
       "min          0.000000\n",
       "25%         40.000000\n",
       "50%         56.000000\n",
       "75%         69.000000\n",
       "max        100.000000\n",
       "Name: song_popularity, dtype: float64"
      ]
     },
     "execution_count": 26,
     "metadata": {},
     "output_type": "execute_result"
    }
   ],
   "source": [
    "cleared[\"song_popularity\"].describe()"
   ]
  },
  {
   "cell_type": "markdown",
   "metadata": {},
   "source": [
    "### 3.2 Länge eines Liedes"
   ]
  },
  {
   "cell_type": "code",
   "execution_count": 27,
   "metadata": {},
   "outputs": [
    {
     "name": "stdout",
     "output_type": "stream",
     "text": [
      "count    1.883500e+04\n",
      "mean     2.182116e+05\n",
      "std      5.988754e+04\n",
      "min      1.200000e+04\n",
      "25%      1.843395e+05\n",
      "50%      2.113060e+05\n",
      "75%      2.428440e+05\n",
      "max      1.799346e+06\n",
      "Name: song_duration_ms, dtype: float64\n",
      "median: 211306.0\n"
     ]
    },
    {
     "data": {
      "image/png": "[encoded data removed]",
      "text/plain": [
       "<Figure size 432x288 with 1 Axes>"
      ]
     },
     "metadata": {
      "needs_background": "light"
     },
     "output_type": "display_data"
    }
   ],
   "source": [
    "cleared[\"song_duration_ms\"].hist(range=[0, 500000], bins=15)\n",
    "\n",
    "print(cleared[\"song_duration_ms\"].describe())\n",
    "print(\"median:\", cleared[\"song_duration_ms\"].median())"
   ]
  },
  {
   "cell_type": "markdown",
   "metadata": {},
   "source": [
    "Die Länge der Lieder ist normalverteilt, zeichnet sich durch Ausreißer auf der rechten Seite aus. \n",
    "Das arithmetische Mittel liegt bei X, der Median bei Y. Die Abweichung zwischen diesen beiden Maßen bedingt durch Ausreißer, Median robuster gegenüber Ausreißern (QUELLE)"
   ]
  },
  {
   "cell_type": "code",
   "execution_count": 28,
   "metadata": {},
   "outputs": [
    {
     "data": {
      "text/plain": [
       "<AxesSubplot:>"
      ]
     },
     "execution_count": 28,
     "metadata": {},
     "output_type": "execute_result"
    },
    {
     "data": {
      "image/png": "[encoded data removed]",
      "text/plain": [
       "<Figure size 432x288 with 1 Axes>"
      ]
     },
     "metadata": {
      "needs_background": "light"
     },
     "output_type": "display_data"
    }
   ],
   "source": [
    "cleared[\"song_duration_ms\"].plot.box()"
   ]
  },
  {
   "cell_type": "markdown",
   "metadata": {},
   "source": [
    "Boxplot stellt dar, wie deutliche Ausreißer besonders nach oben hin auftreten. Evtl. Indikator welches Intervall betrachtet werden sollte - gerade wenn Filtering nötig wird, um bessere Ergebnisse zu erzielen"
   ]
  },
  {
   "cell_type": "markdown",
   "metadata": {},
   "source": [
    "### 3.3 Musikalische Eigenschaften (numerisch) eines Liedes"
   ]
  },
  {
   "cell_type": "code",
   "execution_count": 29,
   "metadata": {},
   "outputs": [
    {
     "data": {
      "text/plain": [
       "<AxesSubplot:>"
      ]
     },
     "execution_count": 29,
     "metadata": {},
     "output_type": "execute_result"
    },
    {
     "data": {
      "image/png": "[encoded data removed]",
      "text/plain": [
       "<Figure size 1080x1080 with 9 Axes>"
      ]
     },
     "metadata": {
      "needs_background": "light"
     },
     "output_type": "display_data"
    }
   ],
   "source": [
    "fig, axes = plt.subplots(nrows=3, ncols=3)\n",
    "fig.set_figheight(15)\n",
    "fig.set_figwidth(15)\n",
    "\n",
    "cleared[\"acousticness\"].hist(ax=axes[0,0])\n",
    "cleared[\"danceability\"].hist(ax=axes[0,1])\n",
    "cleared[\"energy\"].hist(ax=axes[0,2])\n",
    "\n",
    "cleared[\"instrumentalness\"].hist(ax=axes[1,0])\n",
    "cleared[\"liveness\"].hist(ax=axes[1,1])\n",
    "cleared[\"loudness\"].hist(ax=axes[1,2])\n",
    "\n",
    "cleared[\"speechiness\"].hist(ax=axes[2,0])\n",
    "cleared[\"tempo\"].hist(ax=axes[2,1])\n",
    "cleared[\"audio_valence\"].hist(ax=axes[2,2])"
   ]
  },
  {
   "cell_type": "markdown",
   "metadata": {},
   "source": [
    "#### 3.3.1 Acousticness"
   ]
  },
  {
   "cell_type": "code",
   "execution_count": 30,
   "metadata": {},
   "outputs": [
    {
     "data": {
      "text/plain": [
       "<AxesSubplot:>"
      ]
     },
     "execution_count": 30,
     "metadata": {},
     "output_type": "execute_result"
    },
    {
     "data": {
      "image/png": "[encoded data removed]",
      "text/plain": [
       "<Figure size 432x288 with 1 Axes>"
      ]
     },
     "metadata": {
      "needs_background": "light"
     },
     "output_type": "display_data"
    }
   ],
   "source": [
    "cleared[\"acousticness\"].hist()"
   ]
  },
  {
   "cell_type": "markdown",
   "metadata": {},
   "source": [
    "Die Akustik der Lieder ist mit Ausnahme des Intervalls [0.0;0.1] nahezu gleichverteilt"
   ]
  },
  {
   "cell_type": "code",
   "execution_count": 31,
   "metadata": {},
   "outputs": [
    {
     "data": {
      "text/plain": [
       "count    18835.000000\n",
       "mean         0.258539\n",
       "std          0.288719\n",
       "min          0.000001\n",
       "25%          0.024100\n",
       "50%          0.132000\n",
       "75%          0.424000\n",
       "max          0.996000\n",
       "Name: acousticness, dtype: float64"
      ]
     },
     "execution_count": 31,
     "metadata": {},
     "output_type": "execute_result"
    }
   ],
   "source": [
    "cleared[\"acousticness\"].describe()"
   ]
  },
  {
   "cell_type": "markdown",
   "metadata": {},
   "source": [
    "#### 3.3.2 Danceability"
   ]
  },
  {
   "cell_type": "code",
   "execution_count": 32,
   "metadata": {},
   "outputs": [
    {
     "data": {
      "text/plain": [
       "<AxesSubplot:>"
      ]
     },
     "execution_count": 32,
     "metadata": {},
     "output_type": "execute_result"
    },
    {
     "data": {
      "image/png": "[encoded data removed]",
      "text/plain": [
       "<Figure size 432x288 with 1 Axes>"
      ]
     },
     "metadata": {
      "needs_background": "light"
     },
     "output_type": "display_data"
    }
   ],
   "source": [
    "cleared[\"danceability\"].hist(bins=14)"
   ]
  },
  {
   "cell_type": "markdown",
   "metadata": {},
   "source": [
    "Normalverteilt?"
   ]
  },
  {
   "cell_type": "code",
   "execution_count": 33,
   "metadata": {},
   "outputs": [
    {
     "data": {
      "text/plain": [
       "count    18835.000000\n",
       "mean         0.633348\n",
       "std          0.156723\n",
       "min          0.000000\n",
       "25%          0.533000\n",
       "50%          0.645000\n",
       "75%          0.748000\n",
       "max          0.987000\n",
       "Name: danceability, dtype: float64"
      ]
     },
     "execution_count": 33,
     "metadata": {},
     "output_type": "execute_result"
    }
   ],
   "source": [
    "cleared[\"danceability\"].describe()"
   ]
  },
  {
   "cell_type": "markdown",
   "metadata": {},
   "source": [
    "#### 3.3.3 Energy"
   ]
  },
  {
   "cell_type": "code",
   "execution_count": 34,
   "metadata": {},
   "outputs": [
    {
     "data": {
      "text/plain": [
       "<AxesSubplot:>"
      ]
     },
     "execution_count": 34,
     "metadata": {},
     "output_type": "execute_result"
    },
    {
     "data": {
      "image/png": "[encoded data removed]",
      "text/plain": [
       "<Figure size 432x288 with 1 Axes>"
      ]
     },
     "metadata": {
      "needs_background": "light"
     },
     "output_type": "display_data"
    }
   ],
   "source": [
    "cleared[\"energy\"].hist(bins=12)"
   ]
  },
  {
   "cell_type": "markdown",
   "metadata": {},
   "source": []
  },
  {
   "cell_type": "code",
   "execution_count": 35,
   "metadata": {},
   "outputs": [
    {
     "data": {
      "text/plain": [
       "count    18835.000000\n",
       "mean         0.644995\n",
       "std          0.214101\n",
       "min          0.001070\n",
       "25%          0.510000\n",
       "50%          0.674000\n",
       "75%          0.815000\n",
       "max          0.999000\n",
       "Name: energy, dtype: float64"
      ]
     },
     "execution_count": 35,
     "metadata": {},
     "output_type": "execute_result"
    }
   ],
   "source": [
    "cleared[\"energy\"].describe()"
   ]
  },
  {
   "cell_type": "markdown",
   "metadata": {},
   "source": [
    "#### 3.3.4 Instrumentalness"
   ]
  },
  {
   "cell_type": "code",
   "execution_count": 36,
   "metadata": {},
   "outputs": [
    {
     "data": {
      "text/plain": [
       "<AxesSubplot:>"
      ]
     },
     "execution_count": 36,
     "metadata": {},
     "output_type": "execute_result"
    },
    {
     "data": {
      "image/png": "[encoded data removed]",
      "text/plain": [
       "<Figure size 432x288 with 1 Axes>"
      ]
     },
     "metadata": {
      "needs_background": "light"
     },
     "output_type": "display_data"
    }
   ],
   "source": [
    "cleared[\"instrumentalness\"].hist()"
   ]
  },
  {
   "cell_type": "markdown",
   "metadata": {},
   "source": [
    "Großteil der Werte Liegen in dem Intervall [0;0.1]. Deswegen dort genauere Betrachtung"
   ]
  },
  {
   "cell_type": "code",
   "execution_count": 37,
   "metadata": {},
   "outputs": [
    {
     "data": {
      "text/plain": [
       "0.000000    7150\n",
       "0.000003      37\n",
       "0.001070      21\n",
       "0.001140      20\n",
       "0.000512      18\n",
       "            ... \n",
       "0.024900       1\n",
       "0.009610       1\n",
       "0.000008       1\n",
       "0.023500       1\n",
       "0.000673       1\n",
       "Name: instrumentalness, Length: 3925, dtype: int64"
      ]
     },
     "execution_count": 37,
     "metadata": {},
     "output_type": "execute_result"
    },
    {
     "data": {
      "image/png": "[encoded data removed]",
      "text/plain": [
       "<Figure size 432x288 with 1 Axes>"
      ]
     },
     "metadata": {
      "needs_background": "light"
     },
     "output_type": "display_data"
    }
   ],
   "source": [
    "cleared[\"instrumentalness\"].hist(range=[0, 0.1], bins=20)\n",
    "cleared[\"instrumentalness\"].value_counts()"
   ]
  },
  {
   "cell_type": "code",
   "execution_count": 38,
   "metadata": {},
   "outputs": [
    {
     "data": {
      "text/plain": [
       "count    18835.000000\n",
       "mean         0.078008\n",
       "std          0.221591\n",
       "min          0.000000\n",
       "25%          0.000000\n",
       "50%          0.000011\n",
       "75%          0.002570\n",
       "max          0.997000\n",
       "Name: instrumentalness, dtype: float64"
      ]
     },
     "execution_count": 38,
     "metadata": {},
     "output_type": "execute_result"
    }
   ],
   "source": [
    "cleared[\"instrumentalness\"].describe()"
   ]
  },
  {
   "cell_type": "markdown",
   "metadata": {},
   "source": [
    "#### 3.3.5 Liveness"
   ]
  },
  {
   "cell_type": "code",
   "execution_count": 39,
   "metadata": {},
   "outputs": [
    {
     "data": {
      "text/plain": [
       "<AxesSubplot:>"
      ]
     },
     "execution_count": 39,
     "metadata": {},
     "output_type": "execute_result"
    },
    {
     "data": {
      "image/png": "[encoded data removed]",
      "text/plain": [
       "<Figure size 432x288 with 1 Axes>"
      ]
     },
     "metadata": {
      "needs_background": "light"
     },
     "output_type": "display_data"
    }
   ],
   "source": [
    "cleared[\"liveness\"].hist(bins=12)"
   ]
  },
  {
   "cell_type": "code",
   "execution_count": 40,
   "metadata": {},
   "outputs": [
    {
     "data": {
      "text/plain": [
       "count    18835.000000\n",
       "mean         0.179650\n",
       "std          0.143984\n",
       "min          0.010900\n",
       "25%          0.092900\n",
       "50%          0.122000\n",
       "75%          0.221000\n",
       "max          0.986000\n",
       "Name: liveness, dtype: float64"
      ]
     },
     "execution_count": 40,
     "metadata": {},
     "output_type": "execute_result"
    }
   ],
   "source": [
    "cleared[\"liveness\"].describe()"
   ]
  },
  {
   "cell_type": "markdown",
   "metadata": {},
   "source": [
    "#### 3.3.6 Loudness"
   ]
  },
  {
   "cell_type": "code",
   "execution_count": 41,
   "metadata": {},
   "outputs": [
    {
     "data": {
      "text/plain": [
       "<AxesSubplot:>"
      ]
     },
     "execution_count": 41,
     "metadata": {},
     "output_type": "execute_result"
    },
    {
     "data": {
      "image/png": "[encoded data removed]",
      "text/plain": [
       "<Figure size 432x288 with 1 Axes>"
      ]
     },
     "metadata": {
      "needs_background": "light"
     },
     "output_type": "display_data"
    }
   ],
   "source": [
    "cleared[\"loudness\"].hist(bins=16)"
   ]
  },
  {
   "cell_type": "code",
   "execution_count": 42,
   "metadata": {},
   "outputs": [
    {
     "data": {
      "text/plain": [
       "count    18835.000000\n",
       "mean        -7.447435\n",
       "std          3.827831\n",
       "min        -38.768000\n",
       "25%         -9.044000\n",
       "50%         -6.555000\n",
       "75%         -4.908000\n",
       "max          1.585000\n",
       "Name: loudness, dtype: float64"
      ]
     },
     "execution_count": 42,
     "metadata": {},
     "output_type": "execute_result"
    }
   ],
   "source": [
    "cleared[\"loudness\"].describe()"
   ]
  },
  {
   "cell_type": "markdown",
   "metadata": {},
   "source": [
    "#### 3.3.7 Speechiness"
   ]
  },
  {
   "cell_type": "code",
   "execution_count": 43,
   "metadata": {},
   "outputs": [
    {
     "data": {
      "text/plain": [
       "<AxesSubplot:>"
      ]
     },
     "execution_count": 43,
     "metadata": {},
     "output_type": "execute_result"
    },
    {
     "data": {
      "image/png": "[encoded data removed]",
      "text/plain": [
       "<Figure size 432x288 with 1 Axes>"
      ]
     },
     "metadata": {
      "needs_background": "light"
     },
     "output_type": "display_data"
    }
   ],
   "source": [
    "cleared[\"speechiness\"].hist(bins=16)"
   ]
  },
  {
   "cell_type": "code",
   "execution_count": 44,
   "metadata": {},
   "outputs": [
    {
     "data": {
      "text/plain": [
       "count    18835.000000\n",
       "mean         0.102099\n",
       "std          0.104378\n",
       "min          0.000000\n",
       "25%          0.037800\n",
       "50%          0.055500\n",
       "75%          0.119000\n",
       "max          0.941000\n",
       "Name: speechiness, dtype: float64"
      ]
     },
     "execution_count": 44,
     "metadata": {},
     "output_type": "execute_result"
    }
   ],
   "source": [
    "cleared[\"speechiness\"].describe()"
   ]
  },
  {
   "cell_type": "markdown",
   "metadata": {},
   "source": [
    "#### 3.3.8 Tempo"
   ]
  },
  {
   "cell_type": "code",
   "execution_count": 45,
   "metadata": {},
   "outputs": [
    {
     "data": {
      "text/plain": [
       "<AxesSubplot:>"
      ]
     },
     "execution_count": 45,
     "metadata": {},
     "output_type": "execute_result"
    },
    {
     "data": {
      "image/png": "[encoded data removed]",
      "text/plain": [
       "<Figure size 432x288 with 1 Axes>"
      ]
     },
     "metadata": {
      "needs_background": "light"
     },
     "output_type": "display_data"
    }
   ],
   "source": [
    "cleared[\"tempo\"].hist(range=[40, 240], bins=11)"
   ]
  },
  {
   "cell_type": "code",
   "execution_count": 46,
   "metadata": {},
   "outputs": [
    {
     "data": {
      "text/plain": [
       "count    18835.000000\n",
       "mean       121.073154\n",
       "std         28.714456\n",
       "min          0.000000\n",
       "25%         98.368000\n",
       "50%        120.013000\n",
       "75%        139.931000\n",
       "max        242.318000\n",
       "Name: tempo, dtype: float64"
      ]
     },
     "execution_count": 46,
     "metadata": {},
     "output_type": "execute_result"
    }
   ],
   "source": [
    "cleared[\"tempo\"].describe()"
   ]
  },
  {
   "cell_type": "markdown",
   "metadata": {},
   "source": [
    "#### 3.3.9 Audio Valence"
   ]
  },
  {
   "cell_type": "code",
   "execution_count": 47,
   "metadata": {},
   "outputs": [
    {
     "data": {
      "text/plain": [
       "<AxesSubplot:>"
      ]
     },
     "execution_count": 47,
     "metadata": {},
     "output_type": "execute_result"
    },
    {
     "data": {
      "image/png": "[encoded data removed]",
      "text/plain": [
       "<Figure size 432x288 with 1 Axes>"
      ]
     },
     "metadata": {
      "needs_background": "light"
     },
     "output_type": "display_data"
    }
   ],
   "source": [
    "cleared[\"audio_valence\"].hist()"
   ]
  },
  {
   "cell_type": "code",
   "execution_count": 48,
   "metadata": {},
   "outputs": [
    {
     "data": {
      "text/plain": [
       "count    18835.000000\n",
       "mean         0.527967\n",
       "std          0.244632\n",
       "min          0.000000\n",
       "25%          0.335000\n",
       "50%          0.527000\n",
       "75%          0.725000\n",
       "max          0.984000\n",
       "Name: audio_valence, dtype: float64"
      ]
     },
     "execution_count": 48,
     "metadata": {},
     "output_type": "execute_result"
    }
   ],
   "source": [
    "cleared[\"audio_valence\"].describe()"
   ]
  },
  {
   "cell_type": "markdown",
   "metadata": {},
   "source": [
    "## 3.4 Musikalische Eigenschaften (kategorisch) eines Liedes"
   ]
  },
  {
   "cell_type": "markdown",
   "metadata": {},
   "source": [
    "### 3.4.1 key (Tonart)"
   ]
  },
  {
   "cell_type": "code",
   "execution_count": 49,
   "metadata": {},
   "outputs": [
    {
     "data": {
      "text/plain": [
       "([<matplotlib.axis.XTick at 0x15c72f00b20>,\n",
       "  <matplotlib.axis.XTick at 0x15c72f00af0>,\n",
       "  <matplotlib.axis.XTick at 0x15c72f28250>,\n",
       "  <matplotlib.axis.XTick at 0x15c7330f910>,\n",
       "  <matplotlib.axis.XTick at 0x15c7330fe20>,\n",
       "  <matplotlib.axis.XTick at 0x15c7331b370>,\n",
       "  <matplotlib.axis.XTick at 0x15c7331b880>,\n",
       "  <matplotlib.axis.XTick at 0x15c7331bd90>,\n",
       "  <matplotlib.axis.XTick at 0x15c72efc6d0>,\n",
       "  <matplotlib.axis.XTick at 0x15c7331bac0>,\n",
       "  <matplotlib.axis.XTick at 0x15c7330fb50>,\n",
       "  <matplotlib.axis.XTick at 0x15c73321850>],\n",
       " [Text(0, 0, 'C'),\n",
       "  Text(1, 0, 'C#'),\n",
       "  Text(2, 0, 'D'),\n",
       "  Text(3, 0, 'D#'),\n",
       "  Text(4, 0, 'E'),\n",
       "  Text(5, 0, 'F'),\n",
       "  Text(6, 0, 'F#'),\n",
       "  Text(7, 0, 'G'),\n",
       "  Text(8, 0, 'G#'),\n",
       "  Text(9, 0, 'A'),\n",
       "  Text(10, 0, 'A#'),\n",
       "  Text(11, 0, 'B')])"
      ]
     },
     "execution_count": 49,
     "metadata": {},
     "output_type": "execute_result"
    },
    {
     "data": {
      "image/png": "[encoded data removed]",
      "text/plain": [
       "<Figure size 864x432 with 1 Axes>"
      ]
     },
     "metadata": {
      "needs_background": "light"
     },
     "output_type": "display_data"
    }
   ],
   "source": [
    "fig, ax = plt.subplots(figsize=(12, 6))\n",
    "cleared[\"key\"].value_counts().sort_index().plot.bar()\n",
    "\n",
    "plt.xticks(range(0, 12), labels=[\"C\", \"C#\", \"D\", \"D#\", \"E\", \"F\", \"F#\", \"G\", \"G#\", \"A\", \"A#\", \"B\"], rotation=0)"
   ]
  },
  {
   "cell_type": "code",
   "execution_count": 50,
   "metadata": {},
   "outputs": [
    {
     "data": {
      "text/plain": [
       "0     2182\n",
       "1     2164\n",
       "7     2032\n",
       "2     1715\n",
       "9     1698\n",
       "11    1600\n",
       "5     1574\n",
       "6     1351\n",
       "8     1349\n",
       "10    1331\n",
       "4     1327\n",
       "3      512\n",
       "Name: key, dtype: int64"
      ]
     },
     "execution_count": 50,
     "metadata": {},
     "output_type": "execute_result"
    }
   ],
   "source": [
    "cleared[\"key\"].value_counts()"
   ]
  },
  {
   "cell_type": "markdown",
   "metadata": {},
   "source": [
    "### 3.4.2 audio_mode (Modalität der Tonleiter)"
   ]
  },
  {
   "cell_type": "code",
   "execution_count": 51,
   "metadata": {},
   "outputs": [
    {
     "data": {
      "text/plain": [
       "([<matplotlib.axis.XTick at 0x15c734cf7c0>,\n",
       "  <matplotlib.axis.XTick at 0x15c734cf790>],\n",
       " [Text(0, 0, 'Moll'), Text(1, 0, 'Dur')])"
      ]
     },
     "execution_count": 51,
     "metadata": {},
     "output_type": "execute_result"
    },
    {
     "data": {
      "image/png": "[encoded data removed]",
      "text/plain": [
       "<Figure size 432x288 with 1 Axes>"
      ]
     },
     "metadata": {
      "needs_background": "light"
     },
     "output_type": "display_data"
    }
   ],
   "source": [
    "cleared[\"audio_mode\"].value_counts().sort_index().plot.bar()\n",
    "plt.xticks([0, 1], labels=[\"Moll\", \"Dur\"], rotation=0)"
   ]
  },
  {
   "cell_type": "markdown",
   "metadata": {},
   "source": [
    "### 3.4.3 time_signature (Taktangabe)\n",
    "\n",
    "Taktangabe (int 3-7), gibt Takt von 3/4 Takt bis 7/4 Takt an"
   ]
  },
  {
   "cell_type": "code",
   "execution_count": 52,
   "metadata": {},
   "outputs": [
    {
     "data": {
      "text/plain": [
       "([<matplotlib.axis.XTick at 0x15c7336b4f0>,\n",
       "  <matplotlib.axis.XTick at 0x15c7336b4c0>,\n",
       "  <matplotlib.axis.XTick at 0x15c7338a8e0>,\n",
       "  <matplotlib.axis.XTick at 0x15c73397b20>,\n",
       "  <matplotlib.axis.XTick at 0x15c733a4070>],\n",
       " [Text(0, 0, '3/4'),\n",
       "  Text(1, 0, '4/4'),\n",
       "  Text(2, 0, '5/4'),\n",
       "  Text(3, 0, '6/4'),\n",
       "  Text(4, 0, '7/4')])"
      ]
     },
     "execution_count": 52,
     "metadata": {},
     "output_type": "execute_result"
    },
    {
     "data": {
      "image/png": "[encoded data removed]",
      "text/plain": [
       "<Figure size 432x288 with 1 Axes>"
      ]
     },
     "metadata": {
      "needs_background": "light"
     },
     "output_type": "display_data"
    }
   ],
   "source": [
    "cleared[\"time_signature\"].value_counts().sort_index().plot.bar()\n",
    "plt.xticks(range(0, 5), labels=[\"3/4\", \"4/4\", \"5/4\", \"6/4\", \"7/4\"], rotation=0)\n",
    "\n",
    "# Irgendwas stimmt hier noch nicht 4/4 am häufigsten eig"
   ]
  },
  {
   "cell_type": "code",
   "execution_count": 53,
   "metadata": {},
   "outputs": [
    {
     "data": {
      "text/plain": [
       "count    18835.000000\n",
       "mean         3.959119\n",
       "std          0.298533\n",
       "min          0.000000\n",
       "25%          4.000000\n",
       "50%          4.000000\n",
       "75%          4.000000\n",
       "max          5.000000\n",
       "Name: time_signature, dtype: float64"
      ]
     },
     "execution_count": 53,
     "metadata": {},
     "output_type": "execute_result"
    }
   ],
   "source": [
    "cleared[\"time_signature\"].describe()"
   ]
  },
  {
   "cell_type": "markdown",
   "metadata": {},
   "source": [
    "## 3.5 Korrelationen zwischen den Datenwerten"
   ]
  },
  {
   "cell_type": "code",
   "execution_count": 54,
   "metadata": {},
   "outputs": [
    {
     "data": {
      "image/png": "[encoded data removed]",
      "text/plain": [
       "<Figure size 864x864 with 2 Axes>"
      ]
     },
     "metadata": {
      "needs_background": "light"
     },
     "output_type": "display_data"
    }
   ],
   "source": [
    "# Instrumentalness mit accousticness\n",
    "matrix = cleared.corr()\n",
    "fig, ax = plt.subplots(figsize=(12, 12))\n",
    "sns.heatmap(matrix, annot=True)\n",
    "plt.show()"
   ]
  },
  {
   "cell_type": "markdown",
   "metadata": {},
   "source": [
    "## 4 Datentransformation und Preprocessing"
   ]
  },
  {
   "cell_type": "markdown",
   "metadata": {},
   "source": [
    "Erste Ergebnisse waren sehr schlecht. R² Werte von 0.02 erhalten\n",
    "\n",
    "Normalisierung wird verwendet um Werte in ein festes Intervall zu überführen. Die meisten Werten nicht notwendig, da sie bereits in dem Intervall [0, 1] liegen."
   ]
  },
  {
   "cell_type": "markdown",
   "metadata": {},
   "source": [
    "### 4.1 Auswahl der Features"
   ]
  },
  {
   "cell_type": "code",
   "execution_count": 55,
   "metadata": {},
   "outputs": [],
   "source": [
    "X = cleared[[\"song_duration_ms\", \"acousticness\", \"danceability\", \"energy\", \"instrumentalness\", \"key\", \"liveness\", \"loudness\", \"audio_mode\", \"speechiness\", \"tempo\", \"time_signature\", \"audio_valence\"]]\n",
    "y = cleared[\"song_popularity\"]"
   ]
  },
  {
   "cell_type": "markdown",
   "metadata": {},
   "source": [
    "### 4.2 Trainings- und Testdatensatz Split"
   ]
  },
  {
   "cell_type": "code",
   "execution_count": 56,
   "metadata": {},
   "outputs": [
    {
     "name": "stdout",
     "output_type": "stream",
     "text": [
      "Trainingsdatensatz: 15068 Testdatensatz: 3767\n"
     ]
    },
    {
     "data": {
      "text/html": [
       "<div>\n",
       "<style scoped>\n",
       "    .dataframe tbody tr th:only-of-type {\n",
       "        vertical-align: middle;\n",
       "    }\n",
       "\n",
       "    .dataframe tbody tr th {\n",
       "        vertical-align: top;\n",
       "    }\n",
       "\n",
       "    .dataframe thead th {\n",
       "        text-align: right;\n",
       "    }\n",
       "</style>\n",
       "<table border=\"1\" class=\"dataframe\">\n",
       "  <thead>\n",
       "    <tr style=\"text-align: right;\">\n",
       "      <th></th>\n",
       "      <th>song_duration_ms</th>\n",
       "      <th>acousticness</th>\n",
       "      <th>danceability</th>\n",
       "      <th>energy</th>\n",
       "      <th>instrumentalness</th>\n",
       "      <th>key</th>\n",
       "      <th>liveness</th>\n",
       "      <th>loudness</th>\n",
       "      <th>audio_mode</th>\n",
       "      <th>speechiness</th>\n",
       "      <th>tempo</th>\n",
       "      <th>time_signature</th>\n",
       "      <th>audio_valence</th>\n",
       "    </tr>\n",
       "  </thead>\n",
       "  <tbody>\n",
       "    <tr>\n",
       "      <th>3101</th>\n",
       "      <td>157435</td>\n",
       "      <td>0.067500</td>\n",
       "      <td>0.708</td>\n",
       "      <td>0.729</td>\n",
       "      <td>0.00000</td>\n",
       "      <td>8</td>\n",
       "      <td>0.1650</td>\n",
       "      <td>-7.618</td>\n",
       "      <td>1</td>\n",
       "      <td>0.0311</td>\n",
       "      <td>117.003</td>\n",
       "      <td>4</td>\n",
       "      <td>0.562</td>\n",
       "    </tr>\n",
       "    <tr>\n",
       "      <th>7371</th>\n",
       "      <td>311866</td>\n",
       "      <td>0.007280</td>\n",
       "      <td>0.625</td>\n",
       "      <td>0.726</td>\n",
       "      <td>0.00000</td>\n",
       "      <td>10</td>\n",
       "      <td>0.3180</td>\n",
       "      <td>-7.731</td>\n",
       "      <td>0</td>\n",
       "      <td>0.1550</td>\n",
       "      <td>103.980</td>\n",
       "      <td>4</td>\n",
       "      <td>0.483</td>\n",
       "    </tr>\n",
       "    <tr>\n",
       "      <th>4484</th>\n",
       "      <td>166648</td>\n",
       "      <td>0.105000</td>\n",
       "      <td>0.772</td>\n",
       "      <td>0.423</td>\n",
       "      <td>0.87900</td>\n",
       "      <td>0</td>\n",
       "      <td>0.0797</td>\n",
       "      <td>-9.898</td>\n",
       "      <td>1</td>\n",
       "      <td>0.0748</td>\n",
       "      <td>90.008</td>\n",
       "      <td>4</td>\n",
       "      <td>0.381</td>\n",
       "    </tr>\n",
       "    <tr>\n",
       "      <th>11920</th>\n",
       "      <td>164905</td>\n",
       "      <td>0.101000</td>\n",
       "      <td>0.706</td>\n",
       "      <td>0.913</td>\n",
       "      <td>0.00029</td>\n",
       "      <td>4</td>\n",
       "      <td>0.1230</td>\n",
       "      <td>-3.892</td>\n",
       "      <td>1</td>\n",
       "      <td>0.0394</td>\n",
       "      <td>125.952</td>\n",
       "      <td>4</td>\n",
       "      <td>0.674</td>\n",
       "    </tr>\n",
       "    <tr>\n",
       "      <th>13814</th>\n",
       "      <td>240000</td>\n",
       "      <td>0.000076</td>\n",
       "      <td>0.737</td>\n",
       "      <td>0.662</td>\n",
       "      <td>0.20400</td>\n",
       "      <td>6</td>\n",
       "      <td>0.0496</td>\n",
       "      <td>-7.497</td>\n",
       "      <td>1</td>\n",
       "      <td>0.0441</td>\n",
       "      <td>128.005</td>\n",
       "      <td>4</td>\n",
       "      <td>0.888</td>\n",
       "    </tr>\n",
       "  </tbody>\n",
       "</table>\n",
       "</div>"
      ],
      "text/plain": [
       "       song_duration_ms  acousticness  danceability  energy  instrumentalness  \\\n",
       "3101             157435      0.067500         0.708   0.729           0.00000   \n",
       "7371             311866      0.007280         0.625   0.726           0.00000   \n",
       "4484             166648      0.105000         0.772   0.423           0.87900   \n",
       "11920            164905      0.101000         0.706   0.913           0.00029   \n",
       "13814            240000      0.000076         0.737   0.662           0.20400   \n",
       "\n",
       "       key  liveness  loudness  audio_mode  speechiness    tempo  \\\n",
       "3101     8    0.1650    -7.618           1       0.0311  117.003   \n",
       "7371    10    0.3180    -7.731           0       0.1550  103.980   \n",
       "4484     0    0.0797    -9.898           1       0.0748   90.008   \n",
       "11920    4    0.1230    -3.892           1       0.0394  125.952   \n",
       "13814    6    0.0496    -7.497           1       0.0441  128.005   \n",
       "\n",
       "       time_signature  audio_valence  \n",
       "3101                4          0.562  \n",
       "7371                4          0.483  \n",
       "4484                4          0.381  \n",
       "11920               4          0.674  \n",
       "13814               4          0.888  "
      ]
     },
     "execution_count": 56,
     "metadata": {},
     "output_type": "execute_result"
    }
   ],
   "source": [
    "X_train, X_test, y_train, y_test = train_test_split(X, y, random_state=7, test_size=0.2)\n",
    "\n",
    "print(\"Trainingsdatensatz:\", len(X_train), \"Testdatensatz:\", len(X_test))\n",
    "X_train.head()"
   ]
  },
  {
   "cell_type": "markdown",
   "metadata": {},
   "source": [
    "### 4.3 Normalisierung und Standardisierung der Features"
   ]
  },
  {
   "cell_type": "code",
   "execution_count": 57,
   "metadata": {},
   "outputs": [],
   "source": [
    "# scaler = RobustScaler()\n",
    "# scaler.fit(y_train[\"song_popularity\"])\n",
    "\n",
    "# y_train[\"song_popularity\"] = scaler.transform(y_train[[\"song_popularity\"]])\n",
    "# y_test[\"song_popularity\"] = scaler.transform(y_test[[\"song_popularity\"]])"
   ]
  },
  {
   "cell_type": "code",
   "execution_count": 58,
   "metadata": {},
   "outputs": [
    {
     "data": {
      "text/plain": [
       "3101     62\n",
       "7371     77\n",
       "4484     44\n",
       "11920    40\n",
       "13814    36\n",
       "Name: song_popularity, dtype: int64"
      ]
     },
     "execution_count": 58,
     "metadata": {},
     "output_type": "execute_result"
    }
   ],
   "source": [
    "y_train.head()"
   ]
  },
  {
   "cell_type": "markdown",
   "metadata": {},
   "source": [
    "Standardisierung der unabhängigen Features, zentriert Werte um 0 herum"
   ]
  },
  {
   "cell_type": "code",
   "execution_count": 59,
   "metadata": {},
   "outputs": [],
   "source": [
    "scaler = StandardScaler()\n",
    "scaler.fit(X_train)\n",
    "\n",
    "ct = ColumnTransformer([\n",
    "    (\"StandardScaler\", scaler, [\"song_duration_ms\", \"acousticness\", \"danceability\", \"energy\", \"instrumentalness\", \"liveness\", \"loudness\", \"speechiness\", \"tempo\", \"audio_valence\"])\n",
    "], remainder=\"passthrough\")\n",
    "\n",
    "X_train = pd.DataFrame(ct.fit_transform(X_train), index = X_train.index)\n",
    "X_test = pd.DataFrame(ct.fit_transform(X_test), index = X_test.index)\n",
    "\n",
    "#X_train = pd.DataFrame(scaler.transform(X_train), columns = X_train.columns, index = X_train.index) # diskrete Werte nicht skalieren\n",
    "#X_test = pd.DataFrame(scaler.transform(X_test), columns = X_test.columns, index = X_test.index)"
   ]
  },
  {
   "cell_type": "code",
   "execution_count": 60,
   "metadata": {},
   "outputs": [
    {
     "data": {
      "text/html": [
       "<div>\n",
       "<style scoped>\n",
       "    .dataframe tbody tr th:only-of-type {\n",
       "        vertical-align: middle;\n",
       "    }\n",
       "\n",
       "    .dataframe tbody tr th {\n",
       "        vertical-align: top;\n",
       "    }\n",
       "\n",
       "    .dataframe thead th {\n",
       "        text-align: right;\n",
       "    }\n",
       "</style>\n",
       "<table border=\"1\" class=\"dataframe\">\n",
       "  <thead>\n",
       "    <tr style=\"text-align: right;\">\n",
       "      <th></th>\n",
       "      <th>0</th>\n",
       "      <th>1</th>\n",
       "      <th>2</th>\n",
       "      <th>3</th>\n",
       "      <th>4</th>\n",
       "      <th>5</th>\n",
       "      <th>6</th>\n",
       "      <th>7</th>\n",
       "      <th>8</th>\n",
       "      <th>9</th>\n",
       "      <th>10</th>\n",
       "      <th>11</th>\n",
       "      <th>12</th>\n",
       "    </tr>\n",
       "  </thead>\n",
       "  <tbody>\n",
       "    <tr>\n",
       "      <th>3101</th>\n",
       "      <td>-1.007614</td>\n",
       "      <td>-0.665551</td>\n",
       "      <td>0.477703</td>\n",
       "      <td>0.391495</td>\n",
       "      <td>-0.354675</td>\n",
       "      <td>-0.103130</td>\n",
       "      <td>-0.046864</td>\n",
       "      <td>-0.679003</td>\n",
       "      <td>-0.145302</td>\n",
       "      <td>0.133768</td>\n",
       "      <td>8.0</td>\n",
       "      <td>1.0</td>\n",
       "      <td>4.0</td>\n",
       "    </tr>\n",
       "    <tr>\n",
       "      <th>7371</th>\n",
       "      <td>1.555473</td>\n",
       "      <td>-0.873536</td>\n",
       "      <td>-0.050379</td>\n",
       "      <td>0.377461</td>\n",
       "      <td>-0.354675</td>\n",
       "      <td>0.959561</td>\n",
       "      <td>-0.076396</td>\n",
       "      <td>0.514054</td>\n",
       "      <td>-0.597964</td>\n",
       "      <td>-0.189777</td>\n",
       "      <td>10.0</td>\n",
       "      <td>0.0</td>\n",
       "      <td>4.0</td>\n",
       "    </tr>\n",
       "    <tr>\n",
       "      <th>4484</th>\n",
       "      <td>-0.854706</td>\n",
       "      <td>-0.536035</td>\n",
       "      <td>0.884899</td>\n",
       "      <td>-1.039950</td>\n",
       "      <td>3.582252</td>\n",
       "      <td>-0.695597</td>\n",
       "      <td>-0.642731</td>\n",
       "      <td>-0.258207</td>\n",
       "      <td>-1.083612</td>\n",
       "      <td>-0.607519</td>\n",
       "      <td>0.0</td>\n",
       "      <td>1.0</td>\n",
       "      <td>4.0</td>\n",
       "    </tr>\n",
       "    <tr>\n",
       "      <th>11920</th>\n",
       "      <td>-0.883635</td>\n",
       "      <td>-0.549850</td>\n",
       "      <td>0.464978</td>\n",
       "      <td>1.252233</td>\n",
       "      <td>-0.353376</td>\n",
       "      <td>-0.394849</td>\n",
       "      <td>0.926908</td>\n",
       "      <td>-0.599081</td>\n",
       "      <td>0.165753</td>\n",
       "      <td>0.592466</td>\n",
       "      <td>4.0</td>\n",
       "      <td>1.0</td>\n",
       "      <td>4.0</td>\n",
       "    </tr>\n",
       "    <tr>\n",
       "      <th>13814</th>\n",
       "      <td>0.362715</td>\n",
       "      <td>-0.898416</td>\n",
       "      <td>0.662214</td>\n",
       "      <td>0.078074</td>\n",
       "      <td>0.559015</td>\n",
       "      <td>-0.904662</td>\n",
       "      <td>-0.015241</td>\n",
       "      <td>-0.553824</td>\n",
       "      <td>0.237113</td>\n",
       "      <td>1.468905</td>\n",
       "      <td>6.0</td>\n",
       "      <td>1.0</td>\n",
       "      <td>4.0</td>\n",
       "    </tr>\n",
       "  </tbody>\n",
       "</table>\n",
       "</div>"
      ],
      "text/plain": [
       "             0         1         2         3         4         5         6   \\\n",
       "3101  -1.007614 -0.665551  0.477703  0.391495 -0.354675 -0.103130 -0.046864   \n",
       "7371   1.555473 -0.873536 -0.050379  0.377461 -0.354675  0.959561 -0.076396   \n",
       "4484  -0.854706 -0.536035  0.884899 -1.039950  3.582252 -0.695597 -0.642731   \n",
       "11920 -0.883635 -0.549850  0.464978  1.252233 -0.353376 -0.394849  0.926908   \n",
       "13814  0.362715 -0.898416  0.662214  0.078074  0.559015 -0.904662 -0.015241   \n",
       "\n",
       "             7         8         9     10   11   12  \n",
       "3101  -0.679003 -0.145302  0.133768   8.0  1.0  4.0  \n",
       "7371   0.514054 -0.597964 -0.189777  10.0  0.0  4.0  \n",
       "4484  -0.258207 -1.083612 -0.607519   0.0  1.0  4.0  \n",
       "11920 -0.599081  0.165753  0.592466   4.0  1.0  4.0  \n",
       "13814 -0.553824  0.237113  1.468905   6.0  1.0  4.0  "
      ]
     },
     "execution_count": 60,
     "metadata": {},
     "output_type": "execute_result"
    }
   ],
   "source": [
    "X_train.head()"
   ]
  },
  {
   "cell_type": "code",
   "execution_count": 61,
   "metadata": {},
   "outputs": [],
   "source": [
    "y = y.apply(lambda x: x / 100)"
   ]
  },
  {
   "cell_type": "markdown",
   "metadata": {},
   "source": [
    "## 5 Maschinelles Lernen (Regression)"
   ]
  },
  {
   "cell_type": "markdown",
   "metadata": {},
   "source": [
    "### 5.1 Multiple lineare Regression"
   ]
  },
  {
   "cell_type": "markdown",
   "metadata": {},
   "source": []
  },
  {
   "cell_type": "code",
   "execution_count": 62,
   "metadata": {},
   "outputs": [
    {
     "name": "stdout",
     "output_type": "stream",
     "text": [
      "R² score: 0.04074930714455127\n",
      "RMSE error: 21.633149758955962\n",
      "Koeffizienten: [-0.36792145 -1.09000547  2.10613219 -2.11936952 -2.41772172 -0.59514514\n",
      "  2.45795075 -0.29380237 -0.3154533  -2.28479223 -0.07174733  0.09310985\n",
      "  1.27514655]\n"
     ]
    }
   ],
   "source": [
    "reg = LinearRegression()\n",
    "reg.fit(X_train, y_train)\n",
    "\n",
    "score = reg.score(X_test, y_test)\n",
    "mse = mean_squared_error(y_test, reg.predict(X_test), squared=False)\n",
    "\n",
    "print(\"R² score:\", score)\n",
    "print(\"RMSE error:\", mse)\n",
    "\n",
    "print(\"Koeffizienten:\", reg.coef_)\n",
    "\n",
    "# Multiple Variable Linear Regression (nicht robust)\n",
    "# Weder robust noch erfüllt es Anforderung, dass Ergebnisse in dem Interval liegen\n",
    "# Könnte trotzdem ersten Anhaltspunkt geben und vielleicht auch in den Erarbeitungsprozess gute Einblicke geben,"
   ]
  },
  {
   "cell_type": "markdown",
   "metadata": {},
   "source": [
    "Linare Regression ungeeignet, da abhängige Zielvariable p, die die Popularität eines Liedes angibt, folgende Eigenschaften besitzt:"
   ]
  },
  {
   "cell_type": "markdown",
   "metadata": {},
   "source": [
    "\\begin{align}\n",
    "p \\in \\{x\\in\\mathbb{N} | x >= 0 \\wedge x <= 100\\}\n",
    "\\end{align}"
   ]
  },
  {
   "cell_type": "markdown",
   "metadata": {},
   "source": [
    "Zudem könnten die Beziehungen nicht linear sein."
   ]
  },
  {
   "cell_type": "markdown",
   "metadata": {},
   "source": [
    "### 5.2 Lasso Regression"
   ]
  },
  {
   "cell_type": "markdown",
   "metadata": {},
   "source": [
    "Kreuzvalidierung um Hyperparameter bei Lasso-Regression zu optimieren"
   ]
  },
  {
   "cell_type": "code",
   "execution_count": 63,
   "metadata": {},
   "outputs": [
    {
     "name": "stdout",
     "output_type": "stream",
     "text": [
      "0.03668394372595554\n",
      "R² score: 0.04031668502339525\n",
      "RMSE error: 21.638027484986576\n"
     ]
    }
   ],
   "source": [
    "reg = LassoCV(cv=5, random_state=7, max_iter=10000)\n",
    "reg.fit(X_train, y_train)\n",
    "\n",
    "print(reg.alpha_)\n",
    "\n",
    "score = reg.score(X_test, y_test)\n",
    "mse = mean_squared_error(y_test, reg.predict(X_test), squared=False)\n",
    "\n",
    "print(\"R² score:\", score)\n",
    "print(\"RMSE error:\", mse)"
   ]
  },
  {
   "cell_type": "markdown",
   "metadata": {},
   "source": [
    "### 5.3 Random Forest Regression"
   ]
  },
  {
   "cell_type": "code",
   "execution_count": 64,
   "metadata": {},
   "outputs": [
    {
     "name": "stdout",
     "output_type": "stream",
     "text": [
      "R² score: 0.10787167970610478\n",
      "RMSE error: 20.862548487100838\n"
     ]
    }
   ],
   "source": [
    "rf = RandomForestRegressor(n_estimators=1000, random_state=7)\n",
    "rf.fit(X_train, y_train)\n",
    "\n",
    "score = rf.score(X_test, y_test)\n",
    "mse = mean_squared_error(y_test, rf.predict(X_test), squared=False)\n",
    "\n",
    "print(\"R² score:\", score)\n",
    "print(\"RMSE error:\", mse)"
   ]
  },
  {
   "cell_type": "markdown",
   "metadata": {},
   "source": [
    "### 5.4 Support Vector Regression"
   ]
  },
  {
   "cell_type": "code",
   "execution_count": 65,
   "metadata": {},
   "outputs": [
    {
     "name": "stdout",
     "output_type": "stream",
     "text": [
      "R² score: 0.04542342767060925\n",
      "RMSE error: 21.580379702343986\n"
     ]
    }
   ],
   "source": [
    "svr = SVR(kernel=\"rbf\")\n",
    "svr.fit(X_train, y_train)\n",
    "\n",
    "score = svr.score(X_test, y_test)\n",
    "mse = mean_squared_error(y_test, svr.predict(X_test), squared=False)\n",
    "\n",
    "print(\"R² score:\", score)\n",
    "print(\"RMSE error:\", mse)"
   ]
  },
  {
   "cell_type": "markdown",
   "metadata": {},
   "source": [
    "### 5.5 Polynomiale Regression"
   ]
  },
  {
   "cell_type": "code",
   "execution_count": 66,
   "metadata": {},
   "outputs": [],
   "source": [
    "# Evtl Kombination Logit\n",
    "\n",
    "# Beta Regression"
   ]
  },
  {
   "cell_type": "markdown",
   "metadata": {},
   "source": [
    "### 5.6 Gradient Boosting Regression"
   ]
  },
  {
   "cell_type": "code",
   "execution_count": 67,
   "metadata": {},
   "outputs": [
    {
     "name": "stdout",
     "output_type": "stream",
     "text": [
      "Fitting 5 folds for each of 100 candidates, totalling 500 fits\n"
     ]
    }
   ],
   "source": [
    "gbr = GradientBoostingRegressor()\n",
    "\n",
    "n_estimators = [int(x) for x in np.linspace(start = 1, stop = 1000, num = 1000)] # number of trees in the random forest\n",
    "max_features = ['auto', 'sqrt'] # number of features in consideration at every split\n",
    "max_depth = [int(x) for x in np.linspace(10, 120, num = 12)] # maximum number of levels allowed in each decision tree\n",
    "min_samples_split = [2, 6, 10] # minimum sample number to split a node\n",
    "min_samples_leaf = [1, 3, 4] # minimum sample number that can be stored in a leaf node\n",
    "\n",
    "random_grid = {\n",
    "    'n_estimators': n_estimators,\n",
    "    'max_features': max_features,\n",
    "    'max_depth': max_depth,\n",
    "    'min_samples_split': min_samples_split,\n",
    "    'min_samples_leaf': min_samples_leaf,\n",
    "}\n",
    "\n",
    "search = RandomizedSearchCV(estimator = gbr, param_distributions = random_grid, n_iter = 100, cv = 5, verbose=2, random_state=35, n_jobs = -1)\n",
    "\n",
    "\n",
    "search.fit(X_train, y_train)\n",
    "\n",
    "# print ('Random grid: ', random_grid, '\\n')\n",
    "\n",
    "# print the best parameters\n",
    "print ('Best Parameters: ', search.best_params_, ' \\n')\n"
   ]
  },
  {
   "cell_type": "code",
   "execution_count": null,
   "metadata": {},
   "outputs": [
    {
     "name": "stdout",
     "output_type": "stream",
     "text": [
      "21.97734603972498 0.009981977448671797\n"
     ]
    }
   ],
   "source": [
    "gbr = GradientBoostingRegressor(n_estimators=1, min_samples_split=6, min_samples_leaf=1, max_features=\"sqrt\", max_depth=10)\n",
    "gbr.fit(X_train, y_train)\n",
    "\n",
    "rmse = mean_squared_error(y_test, gbr.predict(X_test), squared=False)\n",
    "r2score = gbr.score(X_test, y_test)\n",
    "\n",
    "print(rmse, r2score)"
   ]
  },
  {
   "cell_type": "markdown",
   "metadata": {},
   "source": [
    "Ausreißer beachten, gibt robuste Regressionsalgorithmen"
   ]
  },
  {
   "cell_type": "markdown",
   "metadata": {},
   "source": [
    "Ist es egal, ob unsere Ergebnisse Kommazahlen von 0-100 oder Ganzzahlen von 0-100 sind? Wshl ja, weil man die Kommazahlen ja einfach runden könnte und dann aufs selbe hinauskommt. Bei Berechnungen kommt es wshl automatisch zu Kommazahlen"
   ]
  },
  {
   "cell_type": "markdown",
   "metadata": {},
   "source": [
    "## 6. Transformation des Regressionsproblems in ein Klassifikationsproblem"
   ]
  },
  {
   "cell_type": "code",
   "execution_count": null,
   "metadata": {},
   "outputs": [
    {
     "data": {
      "text/plain": [
       "[0.0, 40.0, 56.0, 69.0]"
      ]
     },
     "execution_count": 33,
     "metadata": {},
     "output_type": "execute_result"
    }
   ],
   "source": [
    "def get_bins(n, feature):\n",
    "    step, bins = 1 / n, []\n",
    "\n",
    "    for i in range(n):\n",
    "        q = feature.quantile(step * i)\n",
    "        bins.append(q)\n",
    "\n",
    "    return bins\n",
    "\n",
    "get_bins(4, cleared[\"song_popularity\"])"
   ]
  },
  {
   "cell_type": "markdown",
   "metadata": {},
   "source": [
    "Aufspaltung nach Quantile macht eigentlich weniger Sinn ???"
   ]
  },
  {
   "cell_type": "code",
   "execution_count": null,
   "metadata": {},
   "outputs": [
    {
     "name": "stdout",
     "output_type": "stream",
     "text": [
      "count    18835.000000\n",
      "mean        52.991877\n",
      "std         21.905654\n",
      "min          0.000000\n",
      "25%         40.000000\n",
      "50%         56.000000\n",
      "75%         69.000000\n",
      "max        100.000000\n",
      "Name: song_popularity, dtype: float64\n"
     ]
    },
    {
     "data": {
      "text/plain": [
       "3    7016\n",
       "2    3966\n",
       "4    2269\n",
       "1    1817\n",
       "dtype: int64"
      ]
     },
     "execution_count": 34,
     "metadata": {},
     "output_type": "execute_result"
    }
   ],
   "source": [
    "print(cleared[\"song_popularity\"].describe())\n",
    "#bins = get_bins(4, cleared[\"song_popularity\"])\n",
    "bins = [0, 25, 50, 75] # 4 Klassen\n",
    "\n",
    "y_train_class = np.digitize(y_train, bins)\n",
    "y_test_class = np.digitize(y_test, bins)\n",
    "\n",
    "df = pd.DataFrame(y_train_class)\n",
    "df.value_counts()\n",
    "\n",
    "# auf gleichverteilung bei klassifikation achten"
   ]
  },
  {
   "cell_type": "markdown",
   "metadata": {},
   "source": [
    "## 7. Maschinelles Lernen (Klassifikation)"
   ]
  },
  {
   "cell_type": "markdown",
   "metadata": {},
   "source": [
    "### 7.2 RandomForestClassifier"
   ]
  },
  {
   "cell_type": "code",
   "execution_count": null,
   "metadata": {},
   "outputs": [
    {
     "name": "stdout",
     "output_type": "stream",
     "text": [
      "Durchschnittliche Genauigkeit (accuracy): 0.5338465622511283\n"
     ]
    }
   ],
   "source": [
    "rf = RandomForestClassifier(n_estimators=1000, random_state=7)\n",
    "rf.fit(X_train, y_train_class)\n",
    "\n",
    "accuracy = rf.score(X_test, y_test_class)\n",
    "print(\"Durchschnittliche Genauigkeit (accuracy):\", accuracy)"
   ]
  },
  {
   "cell_type": "code",
   "execution_count": null,
   "metadata": {},
   "outputs": [
    {
     "name": "stdout",
     "output_type": "stream",
     "text": [
      "[[  25   84  354    1]\n",
      " [   2  291  693    4]\n",
      " [   5  157 1560    2]\n",
      " [   1   33  420  135]]\n"
     ]
    },
    {
     "data": {
      "image/png": "[encoded data removed]",
      "text/plain": [
       "<Figure size 1152x504 with 2 Axes>"
      ]
     },
     "metadata": {
      "needs_background": "light"
     },
     "output_type": "display_data"
    }
   ],
   "source": [
    "y_pred_test = rf.predict(X_test)\n",
    "matrix = confusion_matrix(y_test_class, y_pred_test)\n",
    "print(matrix)\n",
    "\n",
    "matrix = matrix.astype(\"float\") / matrix.sum(axis=1)[:, np.newaxis]\n",
    "\n",
    "# Build the plot\n",
    "plt.figure(figsize=(16,7))\n",
    "sns.heatmap(matrix, annot=True, annot_kws={\"size\":10}, cmap=plt.cm.Greens, linewidths=0.2)\n",
    "\n",
    "plt.xlabel(\"Vorhergesagte Klasse\")\n",
    "plt.ylabel(\"Annotierte Klasse\")\n",
    "plt.show()"
   ]
  },
  {
   "cell_type": "code",
   "execution_count": null,
   "metadata": {},
   "outputs": [],
   "source": [
    "# Logistische Regression\n",
    "\n",
    "# Random Forest\n",
    "\n",
    "# ..."
   ]
  },
  {
   "cell_type": "markdown",
   "metadata": {},
   "source": [
    "## 8 Diskussion"
   ]
  },
  {
   "cell_type": "markdown",
   "metadata": {},
   "source": [
    "- Auf welcher Basis wurden die 18.000 Lieder ausgewählt? Stichprobenverzerrung???\n",
    "- Datensatz wahrscheinlich aus 2018. Wie wirken sich Trends evtl. aus?\n",
    "- Was bedeutet Popularität?\n",
    "- Der Datensatz besteht nicht nur aus Musik, sondern auch aus Reden (bsp. Rede von Martin Luther King) und weiteren nicht musikalischen \n",
    "- Wie zuverlässig sind die Features? Sind die Ergebnisse statistisch signifikant?"
   ]
  },
  {
   "cell_type": "code",
   "execution_count": null,
   "metadata": {},
   "outputs": [],
   "source": []
  },
  {
   "cell_type": "markdown",
   "metadata": {},
   "source": [
    "WICHTIGE ENTDECKUNG:\n",
    "Wenn Redundanzen nicht entfernt werden, steigt der R²-Score bei der Random Forest Regression von 0.02 auf 0.38. Warum ist das so? Liegt es daran, dass 4.000 Redundanzen entfernt wurden (circa 25% des Datensatzes), diese auch zum Teil in den Testdaten "
   ]
  },
  {
   "cell_type": "markdown",
   "metadata": {},
   "source": [
    "Performance Unterschiedliche Modelle aus 5 vergleichen"
   ]
  },
  {
   "cell_type": "markdown",
   "metadata": {},
   "source": [
    "### 8.1 Limitationen"
   ]
  },
  {
   "cell_type": "markdown",
   "metadata": {},
   "source": [
    "- Es wurde auf bereits ermittelte Features zurükgegriffen \n",
    "- falsche Ergebnisse dort wirken sich auch unter Umständen auf die Modelle die im Rahmen dieser Ausarbeiten aufgestellt wurden aus"
   ]
  },
  {
   "cell_type": "markdown",
   "metadata": {},
   "source": [
    "### 8.2 Konklusion"
   ]
  },
  {
   "cell_type": "markdown",
   "metadata": {},
   "source": []
  },
  {
   "cell_type": "markdown",
   "metadata": {},
   "source": [
    "## Quellenverzeichnis\n"
   ]
  },
  {
   "cell_type": "markdown",
   "metadata": {},
   "source": []
  }
 ],
 "metadata": {
  "kernelspec": {
   "display_name": "Python 3.8.8 ('base')",
   "language": "python",
   "name": "python3"
  },
  "language_info": {
   "codemirror_mode": {
    "name": "ipython",
    "version": 3
   },
   "file_extension": ".py",
   "mimetype": "text/x-python",
   "name": "python",
   "nbconvert_exporter": "python",
   "pygments_lexer": "ipython3",
   "version": "3.8.8"
  },
  "orig_nbformat": 4,
  "vscode": {
   "interpreter": {
    "hash": "ec3b6344b8b3f6c3db1463248c46b8920f4fc68f6187e2c1e71f56a52299e245"
   }
  }
 },
 "nbformat": 4,
 "nbformat_minor": 2
}
